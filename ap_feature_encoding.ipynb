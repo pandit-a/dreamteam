{
 "cells": [
  {
   "cell_type": "code",
   "execution_count": 3,
   "id": "8c81a133",
   "metadata": {},
   "outputs": [],
   "source": [
    "##Generic imports\n",
    "\n",
    "import pandas as pd\n",
    "import numpy as np\n",
    "import matplotlib.pyplot as plt\n",
    "%matplotlib inline\n",
    "import seaborn as sns"
   ]
  },
  {
   "cell_type": "code",
   "execution_count": 4,
   "id": "1b47c6fd",
   "metadata": {},
   "outputs": [],
   "source": [
    "##Script specific imports for feature encoding\n",
    "\n",
    "from sklearn.preprocessing import OneHotEncoder, LabelBinarizer\n",
    "from sklearn.compose import ColumnTransformer\n",
    "from sklearn.pipeline import Pipeline\n",
    "from sklearn import set_config\n",
    "set_config(display='diagram')"
   ]
  },
  {
   "cell_type": "code",
   "execution_count": 59,
   "id": "85b7f79c",
   "metadata": {},
   "outputs": [],
   "source": [
    "file = r'/Users/anand/Documents/Sleep/WSC - variable cross-check_v1.xlsx'\n",
    "data = r'/Users/anand/Documents/Sleep/wsc-dataset-0.2.0.csv'"
   ]
  },
  {
   "cell_type": "code",
   "execution_count": 103,
   "id": "81f0fe17",
   "metadata": {},
   "outputs": [],
   "source": [
    "df = pd.read_excel(file)\n",
    "data_df = pd.read_csv(data)"
   ]
  },
  {
   "cell_type": "code",
   "execution_count": 104,
   "id": "c9a6ac8c",
   "metadata": {},
   "outputs": [],
   "source": [
    "deleted = df[df['Proposed Removal'] == 'R']\n",
    "deleted_cols = deleted.iloc[:, 0]\n",
    "#deleted_cols.to_list()"
   ]
  },
  {
   "cell_type": "code",
   "execution_count": 105,
   "id": "1b902f6f",
   "metadata": {},
   "outputs": [],
   "source": [
    "data_df = data_df.drop(deleted_cols.to_list(), axis=1)"
   ]
  },
  {
   "cell_type": "code",
   "execution_count": null,
   "id": "a2b6ac9c",
   "metadata": {},
   "outputs": [],
   "source": [
    "## Features to OHE = ?thyroid problem, hormone therapy\n",
    "## Features to binarise = all the _ynd, apnea, smoke, smoke_curr, sex, nondrinker, sleepiness, nasal_cong_none"
   ]
  },
  {
   "cell_type": "code",
   "execution_count": 107,
   "id": "a38519e7",
   "metadata": {},
   "outputs": [],
   "source": [
    "objlist = []\n",
    "\n",
    "for n in data_df.dtypes[data_df.dtypes == 'object'].index:\n",
    "    objlist.append(n)"
   ]
  },
  {
   "cell_type": "code",
   "execution_count": 108,
   "id": "6fdfa85b",
   "metadata": {
    "collapsed": true
   },
   "outputs": [
    {
     "name": "stdout",
     "output_type": "stream",
     "text": [
      "['M' 'F'] sex\n",
      "['N' 'Y' nan] nondrinker\n",
      "['N' 'Y'] smoke\n",
      "[nan 'N' 'Y'] smoke_curr\n",
      "['N' 'Y' nan] sleepiness\n",
      "['Y' nan] nasal_cong_none\n",
      "['N' 'Y'] coronary_ynd\n",
      "['N' 'Y' nan] angina_ynd\n",
      "['N' 'Y' nan] atheroscl_ynd\n",
      "['N' 'Y'] arrhythmia_ynd\n",
      "['N' 'Y' nan] heartattack_ynd\n",
      "['N' 'Y'] congestivehf_ynd\n",
      "['N' 'Y'] coronarybypass_ynd\n",
      "['N' 'Y' nan] hypertension_ynd\n",
      "['N' 'Y'] stroke_ynd\n",
      "['N' 'Y'] diabetes_ynd\n",
      "['N' 'Y'] asthma_ynd\n",
      "['N' 'Y'] thyroid_ynd\n",
      "['N' 'Y'] arthritis_ynd\n",
      "['N' 'Y'] emphysema_ynd\n",
      "['N' 'Y'] apnea\n",
      "['N' 'Y'] angioplasty_ynd\n",
      "['N' 'Y'] pacemaker_ynd\n",
      "['N' 'Y'] coronary_artery_stent_ynd\n"
     ]
    }
   ],
   "source": [
    "## Binariser -  should work if nans are present or not...\n",
    "\n",
    "for i,v in enumerate(objlist):\n",
    "    \n",
    "    ##columns with 2 variables eg. [N,Y] or [M,F]\n",
    "    \n",
    "    if len(data_df[v].unique()) == 2:\n",
    "        ##print(data_df[v].unique(),v)\n",
    "        data_df[objlist[i]].replace\\\n",
    "        ({data_df[objlist[i]].unique()[0]:0,data_df[objlist[i]].unique()[1]:1}, inplace=True)\n",
    "        \n",
    "    #### ALL columns with 3 variables - which appear like [N,Y,nan]\n",
    "    if len(data_df[v].unique()) == 3:\n",
    "        ##print(data_df[v].unique(),v)\n",
    "        data_df[objlist[i]].replace\\\n",
    "        ({'N':0,'Y':1}, inplace=True)"
   ]
  },
  {
   "cell_type": "code",
   "execution_count": 112,
   "id": "2d4ea9c3",
   "metadata": {},
   "outputs": [],
   "source": [
    "#### ONE HOT ENCODER SCRIPT\n",
    "\n",
    "ohe = OneHotEncoder(handle_unknown='ignore',sparse=False)\n",
    "\n",
    "\n",
    "## Only variables which need OHE\n",
    "X1 = data_df[['thyroid_problem']]\n",
    "X2 = data_df[['hormone_therapy']]\n",
    "\n",
    "##fit transform, extract column names, make dataframe with column names, drop nan row\n",
    "\n",
    "X1t = ohe.fit_transform(X1)\n",
    "colnames = list(ohe.get_feature_names())\n",
    "X1df = pd.DataFrame(X1t, columns = colnames)\n",
    "X1df.drop(columns = 'x0_nan', inplace=True)\n",
    "\n",
    "X2t = ohe.fit_transform(X2)\n",
    "colnames = list(ohe.get_feature_names())\n",
    "X2df = pd.DataFrame(X2t, columns = colnames)\n",
    "X2df.drop(columns = 'x0_nan', inplace=True)\n",
    "\n",
    "frames = [data_df, X1df, X2df]\n",
    "data_df1 = pd.concat(frames, axis = 1)\n",
    "\n",
    "##drop original row names\n",
    "\n",
    "data_df1.drop(columns = ['thyroid_problem','hormone_therapy'], inplace=True)"
   ]
  },
  {
   "cell_type": "code",
   "execution_count": null,
   "id": "f7c5fba1",
   "metadata": {},
   "outputs": [],
   "source": []
  },
  {
   "cell_type": "code",
   "execution_count": null,
   "id": "dc969ad7",
   "metadata": {},
   "outputs": [],
   "source": []
  }
 ],
 "metadata": {
  "kernelspec": {
   "display_name": "Python 3 (ipykernel)",
   "language": "python",
   "name": "python3"
  },
  "language_info": {
   "codemirror_mode": {
    "name": "ipython",
    "version": 3
   },
   "file_extension": ".py",
   "mimetype": "text/x-python",
   "name": "python",
   "nbconvert_exporter": "python",
   "pygments_lexer": "ipython3",
   "version": "3.8.6"
  },
  "toc": {
   "base_numbering": 1,
   "nav_menu": {},
   "number_sections": true,
   "sideBar": true,
   "skip_h1_title": false,
   "title_cell": "Table of Contents",
   "title_sidebar": "Contents",
   "toc_cell": false,
   "toc_position": {},
   "toc_section_display": true,
   "toc_window_display": false
  }
 },
 "nbformat": 4,
 "nbformat_minor": 5
}
