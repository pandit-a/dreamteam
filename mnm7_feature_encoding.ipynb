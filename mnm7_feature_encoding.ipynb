{
 "cells": [
  {
   "cell_type": "markdown",
   "id": "a7e3da05",
   "metadata": {},
   "source": [
    "# First Exploratory Notebook"
   ]
  },
  {
   "cell_type": "markdown",
   "id": "d607b5b0",
   "metadata": {},
   "source": [
    "## Data Preparation"
   ]
  },
  {
   "cell_type": "markdown",
   "id": "79a88f32",
   "metadata": {},
   "source": [
    "### Generic Imports and Preparation"
   ]
  },
  {
   "cell_type": "code",
   "execution_count": 1,
   "id": "8c81a133",
   "metadata": {},
   "outputs": [],
   "source": [
    "##Generic imports\n",
    "\n",
    "import pandas as pd\n",
    "import numpy as np\n",
    "import matplotlib.pyplot as plt\n",
    "%matplotlib inline\n",
    "import seaborn as sns"
   ]
  },
  {
   "cell_type": "code",
   "execution_count": 2,
   "id": "1b47c6fd",
   "metadata": {},
   "outputs": [],
   "source": [
    "##Script specific imports for feature encoding\n",
    "\n",
    "from sklearn.preprocessing import OneHotEncoder, LabelBinarizer\n",
    "from sklearn.compose import ColumnTransformer\n",
    "from sklearn.pipeline import Pipeline\n",
    "from sklearn import set_config\n",
    "set_config(display='diagram')"
   ]
  },
  {
   "cell_type": "code",
   "execution_count": 3,
   "id": "85b7f79c",
   "metadata": {},
   "outputs": [],
   "source": [
    "file = r'/home/mnm7/code/sandbox/WSC - variable cross-check_v1.csv'\n",
    "data = r'/home/mnm7/code/sandbox/wsc-dataset-0.2.0.csv'"
   ]
  },
  {
   "cell_type": "code",
   "execution_count": 4,
   "id": "81f0fe17",
   "metadata": {},
   "outputs": [],
   "source": [
    "df = pd.read_csv(file)\n",
    "data_df = pd.read_csv(data)"
   ]
  },
  {
   "cell_type": "code",
   "execution_count": 5,
   "id": "c9a6ac8c",
   "metadata": {},
   "outputs": [],
   "source": [
    "deleted = df[df['Proposed Removal'] == 'R']\n",
    "deleted_cols = deleted.iloc[:, 0]\n",
    "#deleted_cols.to_list()"
   ]
  },
  {
   "cell_type": "code",
   "execution_count": 6,
   "id": "1b902f6f",
   "metadata": {},
   "outputs": [],
   "source": [
    "data_df = data_df.drop(deleted_cols.to_list(), axis=1)"
   ]
  },
  {
   "cell_type": "code",
   "execution_count": 7,
   "id": "b27916c9",
   "metadata": {},
   "outputs": [
    {
     "data": {
      "text/plain": [
       "psg_oxygen         0.997665\n",
       "psg_cpap           0.935019\n",
       "cigars_day         0.919844\n",
       "bowls_day          0.917899\n",
       "thyroid_problem    0.867704\n",
       "                     ...   \n",
       "coronary_ynd       0.000000\n",
       "awake_freq         0.000000\n",
       "apnea_freq         0.000000\n",
       "choke_freq         0.000000\n",
       "waso               0.000000\n",
       "Length: 134, dtype: float64"
      ]
     },
     "execution_count": 7,
     "metadata": {},
     "output_type": "execute_result"
    }
   ],
   "source": [
    "data_df.isnull().sum().sort_values(ascending=False)/len(data_df)"
   ]
  },
  {
   "cell_type": "markdown",
   "id": "4555322b",
   "metadata": {},
   "source": [
    "### Imbalanced Classes"
   ]
  },
  {
   "cell_type": "code",
   "execution_count": 8,
   "id": "9dc33ef2",
   "metadata": {},
   "outputs": [],
   "source": [
    "balance_cutoff = 0.9\n",
    "imbalanced_classes = []\n",
    "for col in data_df.columns:\n",
    "    _ = data_df.columns.get_loc(col)\n",
    "    if data_df.iloc[:, _].value_counts(normalize=True).head(1).values > balance_cutoff:\n",
    "        imbalanced_classes.append((col, data_df.iloc[:, _].value_counts(normalize=True).head(1).values.astype(float)))"
   ]
  },
  {
   "cell_type": "code",
   "execution_count": 9,
   "id": "a9369a66",
   "metadata": {},
   "outputs": [
    {
     "data": {
      "text/plain": [
       "[('race', array([0.95836576])),\n",
       " ('nasal_cong_none', array([1.])),\n",
       " ('coronary_ynd', array([0.9233463])),\n",
       " ('angina_ynd', array([0.96730245])),\n",
       " ('atheroscl_ynd', array([0.9758661])),\n",
       " ('heartattack_ynd', array([0.95679253])),\n",
       " ('congestivehf_ynd', array([0.98871595])),\n",
       " ('coronarybypass_ynd', array([0.95525292])),\n",
       " ('stroke_ynd', array([0.97743191])),\n",
       " ('emphysema_ynd', array([0.97898833])),\n",
       " ('angioplasty_ynd', array([0.95758755])),\n",
       " ('pacemaker_ynd', array([0.99105058])),\n",
       " ('coronary_artery_stent_ynd', array([0.9766537])),\n",
       " ('asthma_med', array([0.92140078])),\n",
       " ('asthma_rescue_med', array([0.96031128])),\n",
       " ('asthma_control_med', array([0.93696498])),\n",
       " ('dep_maoi_med', array([0.99922179])),\n",
       " ('dep_tca_med', array([0.9766537])),\n",
       " ('htn_alpha_med', array([0.96264591])),\n",
       " ('htn_arb_med', array([0.93190661])),\n",
       " ('narcotics_med', array([0.9766537])),\n",
       " ('decongestants_med', array([0.95914397])),\n",
       " ('anxiety_med', array([0.92801556])),\n",
       " ('estrogen_med', array([0.93385214])),\n",
       " ('androgen_med', array([0.99688716])),\n",
       " ('progesterone_med', array([0.96614786])),\n",
       " ('sedative_med', array([0.90155642])),\n",
       " ('stimulants_med', array([0.9848249])),\n",
       " ('psg_cpap', array([0.97005988])),\n",
       " ('psg_oxygen', array([1.]))]"
      ]
     },
     "execution_count": 9,
     "metadata": {},
     "output_type": "execute_result"
    }
   ],
   "source": [
    "imbalanced_classes"
   ]
  },
  {
   "cell_type": "code",
   "execution_count": 10,
   "id": "a92b2429",
   "metadata": {},
   "outputs": [
    {
     "data": {
      "text/plain": [
       "30"
      ]
     },
     "execution_count": 10,
     "metadata": {},
     "output_type": "execute_result"
    }
   ],
   "source": [
    "len(imbalanced_classes)"
   ]
  },
  {
   "cell_type": "code",
   "execution_count": 11,
   "id": "91c61b76",
   "metadata": {},
   "outputs": [],
   "source": [
    "imbalanced_list = []\n",
    "for classes in imbalanced_classes:\n",
    "    imbalanced_list.append(classes[0])"
   ]
  },
  {
   "cell_type": "code",
   "execution_count": 12,
   "id": "1c464d8e",
   "metadata": {},
   "outputs": [
    {
     "data": {
      "text/plain": [
       "['race',\n",
       " 'nasal_cong_none',\n",
       " 'coronary_ynd',\n",
       " 'angina_ynd',\n",
       " 'atheroscl_ynd',\n",
       " 'heartattack_ynd',\n",
       " 'congestivehf_ynd',\n",
       " 'coronarybypass_ynd',\n",
       " 'stroke_ynd',\n",
       " 'emphysema_ynd',\n",
       " 'angioplasty_ynd',\n",
       " 'pacemaker_ynd',\n",
       " 'coronary_artery_stent_ynd',\n",
       " 'asthma_med',\n",
       " 'asthma_rescue_med',\n",
       " 'asthma_control_med',\n",
       " 'dep_maoi_med',\n",
       " 'dep_tca_med',\n",
       " 'htn_alpha_med',\n",
       " 'htn_arb_med',\n",
       " 'narcotics_med',\n",
       " 'decongestants_med',\n",
       " 'anxiety_med',\n",
       " 'estrogen_med',\n",
       " 'androgen_med',\n",
       " 'progesterone_med',\n",
       " 'sedative_med',\n",
       " 'stimulants_med',\n",
       " 'psg_cpap',\n",
       " 'psg_oxygen']"
      ]
     },
     "execution_count": 12,
     "metadata": {},
     "output_type": "execute_result"
    }
   ],
   "source": [
    "imbalanced_list"
   ]
  },
  {
   "cell_type": "code",
   "execution_count": null,
   "id": "f43904c3",
   "metadata": {},
   "outputs": [],
   "source": [
    "data_df.drop(imbalanced_list, axis=1, inplace=True)\n",
    "data_df.drop_duplicates('wsc_id', inplace=True)\n",
    "data_df.set_index('wsc_id', inplace=True)"
   ]
  },
  {
   "cell_type": "markdown",
   "id": "753e16ab",
   "metadata": {},
   "source": [
    "### OHE"
   ]
  },
  {
   "cell_type": "code",
   "execution_count": null,
   "id": "a2b6ac9c",
   "metadata": {},
   "outputs": [],
   "source": [
    "## Features to OHE = ?thyroid problem, hormone therapy\n",
    "## Features to binarise = all the _ynd, apnea, smoke, smoke_curr, sex, nondrinker, sleepiness, nasal_cong_none"
   ]
  },
  {
   "cell_type": "code",
   "execution_count": null,
   "id": "a38519e7",
   "metadata": {},
   "outputs": [],
   "source": [
    "objlist = []\n",
    "\n",
    "for n in data_df.dtypes[data_df.dtypes == 'object'].index:\n",
    "    objlist.append(n)"
   ]
  },
  {
   "cell_type": "code",
   "execution_count": null,
   "id": "6fdfa85b",
   "metadata": {},
   "outputs": [],
   "source": [
    "## Binariser -  should work if nans are present or not...\n",
    "\n",
    "for i,v in enumerate(objlist):\n",
    "    \n",
    "    ##columns with 2 variables eg. [N,Y] or [M,F]\n",
    "    \n",
    "    if len(data_df[v].unique()) == 2:\n",
    "        ##print(data_df[v].unique(),v)\n",
    "        data_df[objlist[i]].replace\\\n",
    "        ({data_df[objlist[i]].unique()[0]:0,data_df[objlist[i]].unique()[1]:1}, inplace=True)\n",
    "        \n",
    "    #### ALL columns with 3 variables - which appear like [N,Y,nan]\n",
    "    if len(data_df[v].unique()) == 3:\n",
    "        ##print(data_df[v].unique(),v)\n",
    "        data_df[objlist[i]].replace\\\n",
    "        ({'N':0,'Y':1}, inplace=True)"
   ]
  },
  {
   "cell_type": "code",
   "execution_count": null,
   "id": "2d4ea9c3",
   "metadata": {},
   "outputs": [],
   "source": [
    "#### ONE HOT ENCODER SCRIPT\n",
    "\n",
    "ohe = OneHotEncoder(handle_unknown='ignore',sparse=False)\n",
    "\n",
    "\n",
    "## Only variables which need OHE\n",
    "X1 = data_df[['thyroid_problem']]\n",
    "X2 = data_df[['hormone_therapy']]\n",
    "\n",
    "##fit transform, extract column names, make dataframe with column names, drop nan row\n",
    "\n",
    "X1t = ohe.fit_transform(X1)\n",
    "colnames = list(ohe.get_feature_names())\n",
    "X1df = pd.DataFrame(X1t, columns = colnames)\n",
    "X1df.drop(columns = 'x0_nan', inplace=True)\n",
    "\n",
    "X2t = ohe.fit_transform(X2)\n",
    "colnames = list(ohe.get_feature_names())\n",
    "X2df = pd.DataFrame(X2t, columns = colnames)\n",
    "X2df.drop(columns = 'x0_nan', inplace=True)\n",
    "\n",
    "frames = [data_df, X1df, X2df]\n",
    "data_df1 = pd.concat(frames, axis = 1)\n",
    "\n",
    "##drop original row names\n",
    "\n",
    "data_df1.drop(columns = ['thyroid_problem','hormone_therapy'], inplace=True)"
   ]
  },
  {
   "cell_type": "code",
   "execution_count": null,
   "id": "f7c5fba1",
   "metadata": {},
   "outputs": [],
   "source": [
    "data_df1"
   ]
  },
  {
   "cell_type": "markdown",
   "id": "3ee6b9bc",
   "metadata": {},
   "source": [
    "## Modelling"
   ]
  },
  {
   "cell_type": "code",
   "execution_count": null,
   "id": "88b02af2",
   "metadata": {},
   "outputs": [],
   "source": [
    "data_df1"
   ]
  },
  {
   "cell_type": "code",
   "execution_count": null,
   "id": "cbca5f80",
   "metadata": {},
   "outputs": [],
   "source": [
    "X = data_df1.drop('waso', 'tst', 'tso', 'se')\n",
    "X"
   ]
  },
  {
   "cell_type": "code",
   "execution_count": null,
   "id": "f7c77717",
   "metadata": {},
   "outputs": [],
   "source": [
    "from sklearn.model_selection import train_test_split\n",
    "X_split, X_val, y_split, y_val = train_test_split(X, y, test_size=0.1, random_state=42)"
   ]
  },
  {
   "cell_type": "code",
   "execution_count": null,
   "id": "e1c9ddb5",
   "metadata": {},
   "outputs": [],
   "source": []
  },
  {
   "cell_type": "code",
   "execution_count": null,
   "id": "5d14619a",
   "metadata": {},
   "outputs": [],
   "source": [
    "######## MACHINE LEARNING ########\n",
    "\n",
    "## FEATURE IMPORTANCE and PRINCIPAL COMPONENT ANALYSIS\n",
    "from sklearn.inspection import permutation_importance\n",
    "from sklearn.decomposition import PCA\n",
    "\n",
    "## METRICS\n",
    "#### REGRESSION METRICS\n",
    "from sklearn.metrics import r2_score\n",
    "#### CLASSIFICATION METRICS\n",
    "from sklearn.metrics import accuracy_score, recall_score, precision_score,f1_score\n",
    "from sklearn.metrics import precision_recall_curve, roc_curve, roc_auc_score\n",
    "from sklearn.metrics import classification_report, average_precision_score\n",
    "from sklearn.metrics import confusion_matrix, plot_confusion_matrix\n",
    "\n",
    "## HYPERPARAMETERS TUNING\n",
    "import itertools\n",
    "from sklearn.model_selection import GridSearchCV, RandomizedSearchCV\n",
    "\n",
    "## LINEAR MODELS\n",
    "from sklearn.linear_model import LinearRegression, LogisticRegression\n",
    "from sklearn.linear_model import Ridge, Lasso, ElasticNet\n",
    "from sklearn.linear_model import SGDRegressor, SGDClassifier\n",
    "from sklearn.datasets import make_regression\n",
    "\n",
    "## SUPPORT VECTOR MACHINES\n",
    "from sklearn.svm import SVC, LinearSVC, SVR\n",
    "\n",
    "## KMEANS\n",
    "from sklearn.cluster import KMeans\n",
    "\n",
    "## NEIGHBORS\n",
    "from sklearn.neighbors import KNeighborsRegressor, KNeighborsClassifier\n",
    "\n",
    "## ENSEMBLE METHODS\n",
    "from sklearn.tree import DecisionTreeRegressor, DecisionTreeClassifier\n",
    "from sklearn.ensemble import RandomForestRegressor, RandomForestClassifier\n",
    "from sklearn.ensemble import IsolationForest\n",
    "from sklearn.ensemble import BaggingRegressor, BaggingClassifier\n",
    "from sklearn.ensemble import AdaBoostRegressor, AdaBoostClassifier\n",
    "from sklearn.ensemble import VotingRegressor, VotingClassifier\n",
    "\n",
    "## XGBOOST\n",
    "\n",
    "from xgboost.sklearn import XGBClassifier\n",
    "from xgboost import plot_importance, to_graphviz"
   ]
  },
  {
   "cell_type": "code",
   "execution_count": null,
   "id": "c84daf3f",
   "metadata": {},
   "outputs": [],
   "source": []
  }
 ],
 "metadata": {
  "kernelspec": {
   "display_name": "Python 3 (ipykernel)",
   "language": "python",
   "name": "python3"
  },
  "language_info": {
   "codemirror_mode": {
    "name": "ipython",
    "version": 3
   },
   "file_extension": ".py",
   "mimetype": "text/x-python",
   "name": "python",
   "nbconvert_exporter": "python",
   "pygments_lexer": "ipython3",
   "version": "3.8.6"
  },
  "toc": {
   "base_numbering": 1,
   "nav_menu": {},
   "number_sections": true,
   "sideBar": true,
   "skip_h1_title": false,
   "title_cell": "Table of Contents",
   "title_sidebar": "Contents",
   "toc_cell": false,
   "toc_position": {},
   "toc_section_display": true,
   "toc_window_display": false
  }
 },
 "nbformat": 4,
 "nbformat_minor": 5
}
