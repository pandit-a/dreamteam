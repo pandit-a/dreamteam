{
 "cells": [
  {
   "cell_type": "code",
   "execution_count": 442,
   "id": "340d3779",
   "metadata": {},
   "outputs": [],
   "source": [
    "import pandas as pd\n",
    "import numpy as np\n",
    "from sklearn.preprocessing import StandardScaler\n",
    "import matplotlib.pyplot as plt\n",
    "%matplotlib inline\n",
    "import seaborn as sns"
   ]
  },
  {
   "cell_type": "code",
   "execution_count": 443,
   "id": "c065f5b7",
   "metadata": {},
   "outputs": [],
   "source": [
    "file = r'/Users/richard/Documents/WSC - variable cross-check_v1.xlsx'\n",
    "data = r'/Users/richard/Downloads/wsc-dataset-0.2.0.csv'"
   ]
  },
  {
   "cell_type": "code",
   "execution_count": 444,
   "id": "3b06988f",
   "metadata": {},
   "outputs": [],
   "source": [
    "# Had to add the nrows variable as the Excel was pulling in 1,000s of rows for some reason\n",
    "df = pd.read_excel(file)\n",
    "data_df = pd.read_csv(data)"
   ]
  },
  {
   "cell_type": "code",
   "execution_count": 445,
   "id": "84e0932c",
   "metadata": {
    "scrolled": true
   },
   "outputs": [
    {
     "data": {
      "text/html": [
       "<div>\n",
       "<style scoped>\n",
       "    .dataframe tbody tr th:only-of-type {\n",
       "        vertical-align: middle;\n",
       "    }\n",
       "\n",
       "    .dataframe tbody tr th {\n",
       "        vertical-align: top;\n",
       "    }\n",
       "\n",
       "    .dataframe thead th {\n",
       "        text-align: right;\n",
       "    }\n",
       "</style>\n",
       "<table border=\"1\" class=\"dataframe\">\n",
       "  <thead>\n",
       "    <tr style=\"text-align: right;\">\n",
       "      <th></th>\n",
       "      <th>Unnamed: 0</th>\n",
       "      <th>Check</th>\n",
       "      <th>Patient input</th>\n",
       "      <th>Dr Input</th>\n",
       "      <th>Calculated</th>\n",
       "      <th>Feature</th>\n",
       "      <th>Target</th>\n",
       "      <th>Proposed Removal</th>\n",
       "      <th>Action to take</th>\n",
       "      <th>Composite</th>\n",
       "      <th>Unnamed: 10</th>\n",
       "    </tr>\n",
       "  </thead>\n",
       "  <tbody>\n",
       "    <tr>\n",
       "      <th>234</th>\n",
       "      <td>se</td>\n",
       "      <td>NaN</td>\n",
       "      <td>NaN</td>\n",
       "      <td>NaN</td>\n",
       "      <td>NaN</td>\n",
       "      <td>NaN</td>\n",
       "      <td>T</td>\n",
       "      <td>NaN</td>\n",
       "      <td>NaN</td>\n",
       "      <td>NaN</td>\n",
       "      <td>NaN</td>\n",
       "    </tr>\n",
       "    <tr>\n",
       "      <th>235</th>\n",
       "      <td>waso</td>\n",
       "      <td>NaN</td>\n",
       "      <td>NaN</td>\n",
       "      <td>D</td>\n",
       "      <td>NaN</td>\n",
       "      <td>NaN</td>\n",
       "      <td>T</td>\n",
       "      <td>NaN</td>\n",
       "      <td>NaN</td>\n",
       "      <td>NaN</td>\n",
       "      <td>NaN</td>\n",
       "    </tr>\n",
       "    <tr>\n",
       "      <th>236</th>\n",
       "      <td>mean_desat_perc</td>\n",
       "      <td>NaN</td>\n",
       "      <td>NaN</td>\n",
       "      <td>NaN</td>\n",
       "      <td>NaN</td>\n",
       "      <td>NaN</td>\n",
       "      <td>NaN</td>\n",
       "      <td>R</td>\n",
       "      <td>NaN</td>\n",
       "      <td>NaN</td>\n",
       "      <td>NaN</td>\n",
       "    </tr>\n",
       "    <tr>\n",
       "      <th>237</th>\n",
       "      <td>mean_desat_dur</td>\n",
       "      <td>NaN</td>\n",
       "      <td>NaN</td>\n",
       "      <td>NaN</td>\n",
       "      <td>NaN</td>\n",
       "      <td>NaN</td>\n",
       "      <td>NaN</td>\n",
       "      <td>R</td>\n",
       "      <td>NaN</td>\n",
       "      <td>NaN</td>\n",
       "      <td>NaN</td>\n",
       "    </tr>\n",
       "    <tr>\n",
       "      <th>238</th>\n",
       "      <td>cvd_stroke_death</td>\n",
       "      <td>NaN</td>\n",
       "      <td>NaN</td>\n",
       "      <td>NaN</td>\n",
       "      <td>NaN</td>\n",
       "      <td>NaN</td>\n",
       "      <td>NaN</td>\n",
       "      <td>NaN</td>\n",
       "      <td>NaN</td>\n",
       "      <td>NaN</td>\n",
       "      <td>NaN</td>\n",
       "    </tr>\n",
       "  </tbody>\n",
       "</table>\n",
       "</div>"
      ],
      "text/plain": [
       "           Unnamed: 0 Check Patient input Dr Input Calculated Feature Target  \\\n",
       "234                se   NaN           NaN      NaN        NaN     NaN      T   \n",
       "235              waso   NaN           NaN        D        NaN     NaN      T   \n",
       "236   mean_desat_perc   NaN           NaN      NaN        NaN     NaN    NaN   \n",
       "237    mean_desat_dur   NaN           NaN      NaN        NaN     NaN    NaN   \n",
       "238  cvd_stroke_death   NaN           NaN      NaN        NaN     NaN    NaN   \n",
       "\n",
       "    Proposed Removal Action to take Composite Unnamed: 10  \n",
       "234              NaN            NaN       NaN         NaN  \n",
       "235              NaN            NaN       NaN         NaN  \n",
       "236                R            NaN       NaN         NaN  \n",
       "237                R            NaN       NaN         NaN  \n",
       "238              NaN            NaN       NaN         NaN  "
      ]
     },
     "execution_count": 445,
     "metadata": {},
     "output_type": "execute_result"
    }
   ],
   "source": [
    "df.tail()"
   ]
  },
  {
   "cell_type": "code",
   "execution_count": 446,
   "id": "088afa8c",
   "metadata": {},
   "outputs": [],
   "source": [
    "data_df.fillna(0, inplace=True)"
   ]
  },
  {
   "cell_type": "code",
   "execution_count": 450,
   "id": "0cc82ee8",
   "metadata": {},
   "outputs": [],
   "source": [
    "deleted = df[df['Proposed Removal'] == 'R']\n",
    "deleted_cols = deleted.iloc[:, 0]"
   ]
  },
  {
   "cell_type": "code",
   "execution_count": 451,
   "id": "3c61e93e",
   "metadata": {
    "scrolled": true
   },
   "outputs": [
    {
     "data": {
      "text/plain": [
       "['vst_year',\n",
       " 'arm_left1',\n",
       " 'arm_left2',\n",
       " 'arm_right1',\n",
       " 'arm_right2',\n",
       " 'ankle_left1',\n",
       " 'ankle_left2',\n",
       " 'ankle_right1',\n",
       " 'ankle_right2',\n",
       " 'sit_sys_repeat',\n",
       " 'sit_dia_repeat',\n",
       " 'arm_left_repeat',\n",
       " 'arm_right_repeat',\n",
       " 'ankle_left_repeat',\n",
       " 'ankle_right_repeat',\n",
       " 'sit_sys_repeat2',\n",
       " 'sit_dia_repeat2',\n",
       " 'arm_left_repeat2',\n",
       " 'arm_right_repeat2',\n",
       " 'ankle_left_repeat2',\n",
       " 'ankle_right_repeat2',\n",
       " 'ep1',\n",
       " 'ep2',\n",
       " 'ep3',\n",
       " 'ep4',\n",
       " 'ep5',\n",
       " 'ep6',\n",
       " 'ep7',\n",
       " 'ep8',\n",
       " 'zung1_scored',\n",
       " 'zung2_scored',\n",
       " 'zung3_scored',\n",
       " 'zung4_scored',\n",
       " 'zung5_scored',\n",
       " 'zung6_scored',\n",
       " 'zung7_scored',\n",
       " 'zung8_scored',\n",
       " 'zung9_scored',\n",
       " 'zung10_scored',\n",
       " 'zung11_scored',\n",
       " 'zung12_scored',\n",
       " 'zung13_scored',\n",
       " 'zung14_scored',\n",
       " 'zung15_scored',\n",
       " 'zung16_scored',\n",
       " 'zung17_scored',\n",
       " 'zung18_scored',\n",
       " 'zung19_scored',\n",
       " 'zung20_scored',\n",
       " 'smoker',\n",
       " 'totsleepnap',\n",
       " 'ps_diff',\n",
       " 'ps_backsleep',\n",
       " 'ps_wakerepeat',\n",
       " 'ps_tooearly',\n",
       " 'ps_notrested',\n",
       " 'ps_wakeup',\n",
       " 'ps_nightmare',\n",
       " 'ninsomnia',\n",
       " 'ninsomniadays',\n",
       " 'nasal_cong_today',\n",
       " 'nasal_cong_tonight',\n",
       " 'coronary_year',\n",
       " 'angina_year',\n",
       " 'atheroscl_year',\n",
       " 'arrhythmia_year',\n",
       " 'heartattack_year',\n",
       " 'congestivehf_year',\n",
       " 'hypertension_year',\n",
       " 'stroke_year',\n",
       " 'diabetes_year',\n",
       " 'asthma_year',\n",
       " 'thyroid_year',\n",
       " 'arthritis_year',\n",
       " 'emphysema_year',\n",
       " 'apnea_year',\n",
       " 'apnea_need',\n",
       " 'apnea_treated',\n",
       " 'apnea_treatment1',\n",
       " 'apnea_treatment2',\n",
       " 'apnea_treatment3',\n",
       " 'apnea_treatment_year',\n",
       " 'apnea_treatment_help',\n",
       " 'comp_nights_wk',\n",
       " 'comp_hrnight',\n",
       " 'other_heart_surg',\n",
       " 'other_heart_surg2',\n",
       " 'reproductive_surg',\n",
       " 'reproductive_surg_type',\n",
       " 'reproductive_surg_year',\n",
       " 'time_since_last_period',\n",
       " 'psg_source',\n",
       " 'remahi',\n",
       " 'nremahi',\n",
       " 'pcttststagen1',\n",
       " 'pcttststagen2',\n",
       " 'pcttststage12',\n",
       " 'pcttststage34',\n",
       " 'pcttstrem',\n",
       " 'avgo2sattst',\n",
       " 'sleep_latency',\n",
       " 'rem_latency',\n",
       " 'mean_desat_perc',\n",
       " 'mean_desat_dur']"
      ]
     },
     "execution_count": 451,
     "metadata": {},
     "output_type": "execute_result"
    }
   ],
   "source": [
    "deleted_cols.to_list()"
   ]
  },
  {
   "cell_type": "code",
   "execution_count": 452,
   "id": "d3f15a94",
   "metadata": {},
   "outputs": [],
   "source": [
    "data_df = data_df.drop(deleted_cols.to_list(), axis=1)"
   ]
  },
  {
   "cell_type": "code",
   "execution_count": 453,
   "id": "09c1a4b2",
   "metadata": {},
   "outputs": [
    {
     "data": {
      "text/plain": [
       "wsc_id               0.0\n",
       "stroke_ynd           0.0\n",
       "num_pregnancies      0.0\n",
       "hormone_therapy      0.0\n",
       "menopausal_status    0.0\n",
       "                    ... \n",
       "zung_index           0.0\n",
       "zung_score           0.0\n",
       "ess                  0.0\n",
       "sitdiam              0.0\n",
       "waso                 0.0\n",
       "Length: 134, dtype: float64"
      ]
     },
     "execution_count": 453,
     "metadata": {},
     "output_type": "execute_result"
    }
   ],
   "source": [
    "data_df.isnull().sum().sort_values(ascending=False)/len(data_df)"
   ]
  },
  {
   "cell_type": "code",
   "execution_count": 454,
   "id": "56c6dabd",
   "metadata": {},
   "outputs": [],
   "source": [
    "balance_cutoff = 0.9\n",
    "imbalanced_classes = []\n",
    "for col in data_df.columns:\n",
    "    _ = data_df.columns.get_loc(col)\n",
    "    if data_df.iloc[:, _].value_counts(normalize=True).head(1).values > balance_cutoff:\n",
    "        imbalanced_classes.append((col, data_df.iloc[:, _].value_counts(normalize=True).head(1).values.astype(float)))"
   ]
  },
  {
   "cell_type": "code",
   "execution_count": 455,
   "id": "5e9d9f52",
   "metadata": {},
   "outputs": [
    {
     "data": {
      "text/plain": [
       "[('race', array([0.95836576])),\n",
       " ('bowls_day', array([0.97003891])),\n",
       " ('cigars_day', array([0.97276265])),\n",
       " ('coronary_ynd', array([0.9233463])),\n",
       " ('angina_ynd', array([0.96692607])),\n",
       " ('atheroscl_ynd', array([0.97548638])),\n",
       " ('heartattack_ynd', array([0.95642023])),\n",
       " ('congestivehf_ynd', array([0.98871595])),\n",
       " ('coronarybypass_ynd', array([0.95525292])),\n",
       " ('stroke_ynd', array([0.97743191])),\n",
       " ('emphysema_ynd', array([0.97898833])),\n",
       " ('angioplasty_ynd', array([0.95758755])),\n",
       " ('pacemaker_ynd', array([0.99105058])),\n",
       " ('coronary_artery_stent_ynd', array([0.9766537])),\n",
       " ('asthma_med', array([0.92140078])),\n",
       " ('asthma_rescue_med', array([0.96031128])),\n",
       " ('asthma_control_med', array([0.93696498])),\n",
       " ('dep_maoi_med', array([0.99922179])),\n",
       " ('dep_tca_med', array([0.9766537])),\n",
       " ('htn_alpha_med', array([0.96264591])),\n",
       " ('htn_arb_med', array([0.93190661])),\n",
       " ('narcotics_med', array([0.9766537])),\n",
       " ('decongestants_med', array([0.95914397])),\n",
       " ('anxiety_med', array([0.92801556])),\n",
       " ('estrogen_med', array([0.93385214])),\n",
       " ('androgen_med', array([0.99688716])),\n",
       " ('progesterone_med', array([0.96614786])),\n",
       " ('sedative_med', array([0.90155642])),\n",
       " ('stimulants_med', array([0.9848249])),\n",
       " ('psg_cpap', array([0.93501946])),\n",
       " ('psg_oxygen', array([0.99766537]))]"
      ]
     },
     "execution_count": 455,
     "metadata": {},
     "output_type": "execute_result"
    }
   ],
   "source": [
    "imbalanced_classes"
   ]
  },
  {
   "cell_type": "code",
   "execution_count": 456,
   "id": "a515a35d",
   "metadata": {},
   "outputs": [
    {
     "data": {
      "text/plain": [
       "31"
      ]
     },
     "execution_count": 456,
     "metadata": {},
     "output_type": "execute_result"
    }
   ],
   "source": [
    "len(imbalanced_classes)"
   ]
  },
  {
   "cell_type": "code",
   "execution_count": 457,
   "id": "8bd52c21",
   "metadata": {},
   "outputs": [],
   "source": [
    "imbalanced_list = []\n",
    "for classes in imbalanced_classes:\n",
    "    imbalanced_list.append(classes[0])"
   ]
  },
  {
   "cell_type": "code",
   "execution_count": 458,
   "id": "1835d776",
   "metadata": {},
   "outputs": [
    {
     "data": {
      "text/plain": [
       "['race',\n",
       " 'bowls_day',\n",
       " 'cigars_day',\n",
       " 'coronary_ynd',\n",
       " 'angina_ynd',\n",
       " 'atheroscl_ynd',\n",
       " 'heartattack_ynd',\n",
       " 'congestivehf_ynd',\n",
       " 'coronarybypass_ynd',\n",
       " 'stroke_ynd',\n",
       " 'emphysema_ynd',\n",
       " 'angioplasty_ynd',\n",
       " 'pacemaker_ynd',\n",
       " 'coronary_artery_stent_ynd',\n",
       " 'asthma_med',\n",
       " 'asthma_rescue_med',\n",
       " 'asthma_control_med',\n",
       " 'dep_maoi_med',\n",
       " 'dep_tca_med',\n",
       " 'htn_alpha_med',\n",
       " 'htn_arb_med',\n",
       " 'narcotics_med',\n",
       " 'decongestants_med',\n",
       " 'anxiety_med',\n",
       " 'estrogen_med',\n",
       " 'androgen_med',\n",
       " 'progesterone_med',\n",
       " 'sedative_med',\n",
       " 'stimulants_med',\n",
       " 'psg_cpap',\n",
       " 'psg_oxygen']"
      ]
     },
     "execution_count": 458,
     "metadata": {},
     "output_type": "execute_result"
    }
   ],
   "source": [
    "imbalanced_list"
   ]
  },
  {
   "cell_type": "code",
   "execution_count": 459,
   "id": "b2ad7db9",
   "metadata": {},
   "outputs": [],
   "source": [
    "data_df.drop(imbalanced_list, axis=1, inplace=True)\n",
    "data_df.drop_duplicates('wsc_id', inplace=True)\n",
    "data_df.set_index('wsc_id', inplace=True)\n",
    "data_df.fillna(0, inplace=True)"
   ]
  }
 ],
 "metadata": {
  "kernelspec": {
   "display_name": "Python 3 (ipykernel)",
   "language": "python",
   "name": "python3"
  },
  "language_info": {
   "codemirror_mode": {
    "name": "ipython",
    "version": 3
   },
   "file_extension": ".py",
   "mimetype": "text/x-python",
   "name": "python",
   "nbconvert_exporter": "python",
   "pygments_lexer": "ipython3",
   "version": "3.8.6"
  },
  "toc": {
   "base_numbering": 1,
   "nav_menu": {},
   "number_sections": true,
   "sideBar": true,
   "skip_h1_title": false,
   "title_cell": "Table of Contents",
   "title_sidebar": "Contents",
   "toc_cell": false,
   "toc_position": {},
   "toc_section_display": true,
   "toc_window_display": false
  }
 },
 "nbformat": 4,
 "nbformat_minor": 5
}
