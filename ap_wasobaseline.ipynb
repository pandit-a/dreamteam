{
 "cells": [
  {
   "cell_type": "code",
   "execution_count": null,
   "id": "8a326916",
   "metadata": {},
   "outputs": [],
   "source": [
    "### Script for baseline OLS of WASO"
   ]
  },
  {
   "cell_type": "code",
   "execution_count": 84,
   "id": "69e71b85",
   "metadata": {},
   "outputs": [],
   "source": [
    "##Generic imports\n",
    "\n",
    "import pandas as pd\n",
    "import numpy as np\n",
    "import matplotlib.pyplot as plt\n",
    "%matplotlib inline\n",
    "import seaborn as sns"
   ]
  },
  {
   "cell_type": "code",
   "execution_count": 85,
   "id": "ad27b0e0",
   "metadata": {},
   "outputs": [],
   "source": [
    "##Script specific imports for feature encoding\n",
    "\n",
    "from sklearn.preprocessing import OneHotEncoder, LabelBinarizer\n",
    "from sklearn.compose import ColumnTransformer\n",
    "from sklearn.pipeline import Pipeline\n",
    "from sklearn import set_config\n",
    "set_config(display='diagram')"
   ]
  },
  {
   "cell_type": "code",
   "execution_count": 86,
   "id": "623fd720",
   "metadata": {},
   "outputs": [],
   "source": [
    "file = r'/Users/anand/Documents/Sleep/WSC - variable cross-check_v1.xlsx'\n",
    "data = r'/Users/anand/Documents/Sleep/wsc-dataset-0.2.0.csv'"
   ]
  },
  {
   "cell_type": "code",
   "execution_count": 149,
   "id": "5818dfa8",
   "metadata": {},
   "outputs": [],
   "source": [
    "df = pd.read_excel(file)\n",
    "data_df = pd.read_csv(data)"
   ]
  },
  {
   "cell_type": "code",
   "execution_count": 150,
   "id": "fa961f4c",
   "metadata": {},
   "outputs": [],
   "source": [
    "deleted = df[df['Proposed Removal'] == 'R']\n",
    "deleted_cols = deleted.iloc[:, 0]\n",
    "#deleted_cols.to_list()"
   ]
  },
  {
   "cell_type": "code",
   "execution_count": 151,
   "id": "6c7ca120",
   "metadata": {},
   "outputs": [],
   "source": [
    "data_df = data_df.drop(deleted_cols.to_list(), axis=1)"
   ]
  },
  {
   "cell_type": "code",
   "execution_count": 152,
   "id": "6102ea65",
   "metadata": {},
   "outputs": [],
   "source": [
    "## sort out nasal_cong_none\n",
    "data_df.nasal_cong_none.replace({np.nan:0,'Y':1}, inplace=True)"
   ]
  },
  {
   "cell_type": "code",
   "execution_count": 153,
   "id": "f79f4649",
   "metadata": {},
   "outputs": [],
   "source": [
    "balance_cutoff = 0.975\n",
    "imbalanced_classes = []\n",
    "for col in data_df.columns:\n",
    "    _ = data_df.columns.get_loc(col)\n",
    "    if data_df.iloc[:, _].value_counts(normalize=True).head(1).values > balance_cutoff:\n",
    "        imbalanced_classes.append((col, data_df.iloc[:, _].value_counts(normalize=True).head(1).values.astype(float)))"
   ]
  },
  {
   "cell_type": "code",
   "execution_count": 154,
   "id": "3d0f251a",
   "metadata": {},
   "outputs": [
    {
     "data": {
      "text/plain": [
       "[('atheroscl_ynd', array([0.9758661])),\n",
       " ('congestivehf_ynd', array([0.98871595])),\n",
       " ('stroke_ynd', array([0.97743191])),\n",
       " ('emphysema_ynd', array([0.97898833])),\n",
       " ('pacemaker_ynd', array([0.99105058])),\n",
       " ('coronary_artery_stent_ynd', array([0.9766537])),\n",
       " ('dep_maoi_med', array([0.99922179])),\n",
       " ('dep_tca_med', array([0.9766537])),\n",
       " ('narcotics_med', array([0.9766537])),\n",
       " ('androgen_med', array([0.99688716])),\n",
       " ('stimulants_med', array([0.9848249])),\n",
       " ('psg_oxygen', array([1.]))]"
      ]
     },
     "execution_count": 154,
     "metadata": {},
     "output_type": "execute_result"
    }
   ],
   "source": [
    "imbalanced_classes"
   ]
  },
  {
   "cell_type": "code",
   "execution_count": 155,
   "id": "5ca03394",
   "metadata": {},
   "outputs": [],
   "source": [
    "imbalanced_list = []\n",
    "for classes in imbalanced_classes:\n",
    "    imbalanced_list.append(classes[0])"
   ]
  },
  {
   "cell_type": "code",
   "execution_count": 156,
   "id": "290e2d18",
   "metadata": {},
   "outputs": [
    {
     "data": {
      "text/plain": [
       "['atheroscl_ynd',\n",
       " 'congestivehf_ynd',\n",
       " 'stroke_ynd',\n",
       " 'emphysema_ynd',\n",
       " 'pacemaker_ynd',\n",
       " 'coronary_artery_stent_ynd',\n",
       " 'dep_maoi_med',\n",
       " 'dep_tca_med',\n",
       " 'narcotics_med',\n",
       " 'androgen_med',\n",
       " 'stimulants_med',\n",
       " 'psg_oxygen']"
      ]
     },
     "execution_count": 156,
     "metadata": {},
     "output_type": "execute_result"
    }
   ],
   "source": [
    "imbalanced_list"
   ]
  },
  {
   "cell_type": "code",
   "execution_count": 157,
   "id": "413702b3",
   "metadata": {},
   "outputs": [],
   "source": [
    "data_df.drop(imbalanced_list, axis=1, inplace=True)\n",
    "data_df.drop_duplicates('wsc_id', inplace=True)\n",
    "data_df.set_index('wsc_id', inplace=True)\n",
    "#data_df.fillna(0, inplace=True)"
   ]
  },
  {
   "cell_type": "code",
   "execution_count": 158,
   "id": "ebc09e87",
   "metadata": {},
   "outputs": [],
   "source": [
    "objlist = []\n",
    "\n",
    "for n in data_df.dtypes[data_df.dtypes == 'object'].index:\n",
    "    objlist.append(n)"
   ]
  },
  {
   "cell_type": "code",
   "execution_count": 159,
   "id": "f7feb2b6",
   "metadata": {},
   "outputs": [],
   "source": [
    "## Binariser -  should work if nans are present or not...\n",
    "\n",
    "for i,v in enumerate(objlist):\n",
    "    \n",
    "    ##columns with 2 variables eg. [N,Y] or [M,F]\n",
    "    \n",
    "    if len(data_df[v].unique()) == 2:\n",
    "        ##print(data_df[v].unique(),v)\n",
    "        data_df[objlist[i]].replace\\\n",
    "        ({data_df[objlist[i]].unique()[0]:0,data_df[objlist[i]].unique()[1]:1}, inplace=True)\n",
    "        \n",
    "    #### ALL columns with 3 variables - which appear like [N,Y,nan]\n",
    "    if len(data_df[v].unique()) == 3:\n",
    "        ##print(data_df[v].unique(),v)\n",
    "        data_df[objlist[i]].replace\\\n",
    "        ({'N':0,'Y':1}, inplace=True)"
   ]
  },
  {
   "cell_type": "code",
   "execution_count": 160,
   "id": "604d3ada",
   "metadata": {},
   "outputs": [],
   "source": [
    "#### ONE HOT ENCODER SCRIPT\n",
    "\n",
    "ohe = OneHotEncoder(handle_unknown='ignore',sparse=False)\n",
    "\n",
    "\n",
    "## Only variables which need OHE\n",
    "X1 = data_df[['thyroid_problem']]\n",
    "X2 = data_df[['hormone_therapy']]\n",
    "\n",
    "##fit transform, extract column names, make dataframe with column names, drop nan row\n",
    "\n",
    "X1t = ohe.fit_transform(X1)\n",
    "colnames = list(ohe.get_feature_names())\n",
    "X1df = pd.DataFrame(X1t, columns = colnames)\n",
    "X1df.drop(columns = 'x0_nan', inplace=True)\n",
    "X1df.index = data_df.index\n",
    "\n",
    "X2t = ohe.fit_transform(X2)\n",
    "colnames = list(ohe.get_feature_names())\n",
    "X2df = pd.DataFrame(X2t, columns = colnames)\n",
    "X2df.drop(columns = 'x0_nan', inplace=True)\n",
    "X2df.index = data_df.index\n",
    "\n",
    "frames = [data_df, X1df, X2df]\n",
    "data_df = pd.concat(frames, axis = 1)\n",
    "\n",
    "##drop original row names\n",
    "\n",
    "data_df.drop(columns = ['thyroid_problem','hormone_therapy'], inplace=True)"
   ]
  },
  {
   "cell_type": "code",
   "execution_count": 220,
   "id": "d3c38487",
   "metadata": {},
   "outputs": [],
   "source": [
    "from sklearn.compose import ColumnTransformer\n",
    "from sklearn.pipeline import Pipeline\n",
    "from sklearn.impute import SimpleImputer\n",
    "from sklearn.preprocessing import StandardScaler\n",
    "from sklearn.model_selection import train_test_split, cross_validate\n",
    "from sklearn.linear_model import LinearRegression, Ridge, Lasso"
   ]
  },
  {
   "cell_type": "code",
   "execution_count": 162,
   "id": "937b1b94",
   "metadata": {},
   "outputs": [],
   "source": [
    "#### Keep main target (WAS0)\n",
    "y = data_df.waso"
   ]
  },
  {
   "cell_type": "code",
   "execution_count": 145,
   "id": "48a92241",
   "metadata": {},
   "outputs": [],
   "source": [
    "#### Other confounding targets to remove including target\n",
    "\n",
    "targs = ['tst', 'tst_rem', 'tst_nrem', 'tso', 'totsleep', 'ess','p_eval_sleep', 'a_eval_slept', 'a_eval_hour',\n",
    "       'a_eval_sleep', 'ps_eds','se', 'sleepiness']"
   ]
  },
  {
   "cell_type": "code",
   "execution_count": 164,
   "id": "82e2b570",
   "metadata": {},
   "outputs": [],
   "source": [
    "## Drop confounding targets\n",
    "\n",
    "X = data_df.drop(columns = targs)"
   ]
  },
  {
   "cell_type": "code",
   "execution_count": 166,
   "id": "b01823c4",
   "metadata": {},
   "outputs": [],
   "source": [
    "#### Scaling numerical features - categorical features and targets removed from this listt\n",
    "\n",
    "numeric_features = ['creatinine', 'glucose', 'hdl', 'ldl','total_cholesterol', 'triglycerides', 'uric_acid', 'weightkg', 'bmi',\n",
    "       'headcm', 'waist_girth1', 'waist_girth2', 'hip_girth1', 'hip_girth2',\n",
    "       'neck_girth1', 'neck_girth2', 'sit_sys1', 'sit_dia1', 'sit_sys2',\n",
    "       'sit_dia2', 'hipgirthm', 'neckgirthm', 'waistgirthm', 'waisthip',\n",
    "       'sitsysm', 'sitdiam', 'zung_score', 'zung_index', 'state',\n",
    "       'trait', 'beer_week', 'wine_week', 'hard_week', 'bowls_day', 'packs_week', 'cigars_day',\n",
    "       'smoke_years', 'pack_years','workday', 'weekend',\n",
    "       'naps', 'snore_freq',\n",
    "       'num_pregnancies', 'psg_cpap', 'ahi',\n",
    "       'minsao2tst', 'ptstl90', 'age', 'heightcm', 'cans_cola', 'cups_coffee',\n",
    "       'caffeine', 'alcohol_wk','eval_general', 'eval_life','eval_health', \n",
    "       'snore_vol', 'choke_freq',\n",
    "       'apnea_freq', 'awake_freq', 'ho_score']"
   ]
  },
  {
   "cell_type": "code",
   "execution_count": 167,
   "id": "2e88fbc1",
   "metadata": {},
   "outputs": [],
   "source": [
    "#### Ordinal variables to be aware of - should not be scaled\n",
    "ords = ['menopausal_status']\n"
   ]
  },
  {
   "cell_type": "code",
   "execution_count": 226,
   "id": "547a2eba",
   "metadata": {},
   "outputs": [],
   "source": [
    "numeric_transformer = Pipeline(steps=[\n",
    "    ('imputer', SimpleImputer(strategy='mean')),\n",
    "    ('scaler', StandardScaler())])"
   ]
  },
  {
   "cell_type": "code",
   "execution_count": 227,
   "id": "2907dcfd",
   "metadata": {},
   "outputs": [],
   "source": [
    "preprocessor = ColumnTransformer(\n",
    "    transformers=[\n",
    "        ('num', numeric_transformer, numeric_features)])"
   ]
  },
  {
   "cell_type": "code",
   "execution_count": 229,
   "id": "71d25649",
   "metadata": {},
   "outputs": [],
   "source": [
    "pipe = Pipeline(steps=[('preprocessor', preprocessor),('regression', LinearRegression())])\n"
   ]
  },
  {
   "cell_type": "code",
   "execution_count": 230,
   "id": "28fb1ae7",
   "metadata": {},
   "outputs": [],
   "source": [
    "X_train, X_test, y_train, y_test = train_test_split(X, y, test_size=0.2,\n",
    "                                                    random_state=42)"
   ]
  },
  {
   "cell_type": "code",
   "execution_count": 231,
   "id": "14e76cec",
   "metadata": {},
   "outputs": [
    {
     "data": {
      "text/plain": [
       "['fit_time', 'score_time', 'test_neg_mean_absolute_error', 'test_r2']"
      ]
     },
     "execution_count": 231,
     "metadata": {},
     "output_type": "execute_result"
    }
   ],
   "source": [
    "cv_results = cross_validate(pipe, X_train, y_train, cv=10, scoring=('r2','neg_mean_absolute_error'))\n",
    "sorted(cv_results.keys())"
   ]
  },
  {
   "cell_type": "code",
   "execution_count": 232,
   "id": "251fa443",
   "metadata": {},
   "outputs": [
    {
     "data": {
      "text/plain": [
       "-29.76890230103651"
      ]
     },
     "execution_count": 232,
     "metadata": {},
     "output_type": "execute_result"
    }
   ],
   "source": [
    "cv_results['test_neg_mean_absolute_error'].mean()"
   ]
  },
  {
   "cell_type": "code",
   "execution_count": 234,
   "id": "04e2670f",
   "metadata": {},
   "outputs": [
    {
     "data": {
      "text/plain": [
       "0.04916012571149275"
      ]
     },
     "execution_count": 234,
     "metadata": {},
     "output_type": "execute_result"
    }
   ],
   "source": [
    "cv_results['test_r2'].mean()"
   ]
  },
  {
   "cell_type": "code",
   "execution_count": 233,
   "id": "71235bad",
   "metadata": {},
   "outputs": [
    {
     "data": {
      "text/plain": [
       "(3.0, 291.5)"
      ]
     },
     "execution_count": 233,
     "metadata": {},
     "output_type": "execute_result"
    }
   ],
   "source": [
    "y_train.min(), y_train.max()"
   ]
  },
  {
   "cell_type": "code",
   "execution_count": null,
   "id": "2ca4e922",
   "metadata": {},
   "outputs": [],
   "source": []
  }
 ],
 "metadata": {
  "kernelspec": {
   "display_name": "Python 3 (ipykernel)",
   "language": "python",
   "name": "python3"
  },
  "language_info": {
   "codemirror_mode": {
    "name": "ipython",
    "version": 3
   },
   "file_extension": ".py",
   "mimetype": "text/x-python",
   "name": "python",
   "nbconvert_exporter": "python",
   "pygments_lexer": "ipython3",
   "version": "3.8.6"
  },
  "toc": {
   "base_numbering": 1,
   "nav_menu": {},
   "number_sections": true,
   "sideBar": true,
   "skip_h1_title": false,
   "title_cell": "Table of Contents",
   "title_sidebar": "Contents",
   "toc_cell": false,
   "toc_position": {},
   "toc_section_display": true,
   "toc_window_display": false
  }
 },
 "nbformat": 4,
 "nbformat_minor": 5
}
