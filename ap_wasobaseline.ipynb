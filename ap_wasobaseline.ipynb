{
 "cells": [
  {
   "cell_type": "code",
   "execution_count": null,
   "id": "8a326916",
   "metadata": {},
   "outputs": [],
   "source": [
    "### Script for baseline OLS of WASO"
   ]
  },
  {
   "cell_type": "code",
   "execution_count": 1,
   "id": "69e71b85",
   "metadata": {},
   "outputs": [],
   "source": [
    "##Generic imports\n",
    "\n",
    "import pandas as pd\n",
    "import numpy as np\n",
    "import matplotlib.pyplot as plt\n",
    "%matplotlib inline\n",
    "import seaborn as sns"
   ]
  },
  {
   "cell_type": "code",
   "execution_count": 2,
   "id": "ad27b0e0",
   "metadata": {},
   "outputs": [],
   "source": [
    "##Script specific imports for feature encoding\n",
    "\n",
    "from sklearn.preprocessing import OneHotEncoder, LabelBinarizer\n",
    "from sklearn.compose import ColumnTransformer\n",
    "from sklearn.pipeline import Pipeline\n",
    "from sklearn import set_config\n",
    "set_config(display='diagram')"
   ]
  },
  {
   "cell_type": "code",
   "execution_count": 3,
   "id": "623fd720",
   "metadata": {},
   "outputs": [],
   "source": [
    "file = r'/Users/anand/Documents/Sleep/WSC - variable cross-check_v1.xlsx'\n",
    "data = r'/Users/anand/Documents/Sleep/wsc-dataset-0.2.0.csv'"
   ]
  },
  {
   "cell_type": "code",
   "execution_count": 4,
   "id": "5818dfa8",
   "metadata": {},
   "outputs": [],
   "source": [
    "df = pd.read_excel(file)\n",
    "data_df = pd.read_csv(data)"
   ]
  },
  {
   "cell_type": "code",
   "execution_count": 5,
   "id": "fa961f4c",
   "metadata": {},
   "outputs": [],
   "source": [
    "deleted = df[df['Proposed Removal'] == 'R']\n",
    "deleted_cols = deleted.iloc[:, 0]\n",
    "#deleted_cols.to_list()"
   ]
  },
  {
   "cell_type": "code",
   "execution_count": 6,
   "id": "6c7ca120",
   "metadata": {},
   "outputs": [],
   "source": [
    "data_df = data_df.drop(deleted_cols.to_list(), axis=1)"
   ]
  },
  {
   "cell_type": "code",
   "execution_count": 11,
   "id": "90f48259",
   "metadata": {},
   "outputs": [
    {
     "data": {
      "text/plain": [
       "0         Y\n",
       "1         Y\n",
       "2       NaN\n",
       "3       NaN\n",
       "4         Y\n",
       "       ... \n",
       "2565      Y\n",
       "2566      Y\n",
       "2567      Y\n",
       "2568    NaN\n",
       "2569      Y\n",
       "Name: nasal_cong_none, Length: 2570, dtype: object"
      ]
     },
     "execution_count": 11,
     "metadata": {},
     "output_type": "execute_result"
    }
   ],
   "source": [
    "data_df.nasal_cong_none"
   ]
  },
  {
   "cell_type": "code",
   "execution_count": 9,
   "id": "f79f4649",
   "metadata": {},
   "outputs": [],
   "source": [
    "balance_cutoff = 0.9\n",
    "imbalanced_classes = []\n",
    "for col in data_df.columns:\n",
    "    _ = data_df.columns.get_loc(col)\n",
    "    if data_df.iloc[:, _].value_counts(normalize=True).head(1).values > balance_cutoff:\n",
    "        imbalanced_classes.append((col, data_df.iloc[:, _].value_counts(normalize=True).head(1).values.astype(float)))"
   ]
  },
  {
   "cell_type": "code",
   "execution_count": 10,
   "id": "3d0f251a",
   "metadata": {},
   "outputs": [
    {
     "data": {
      "text/plain": [
       "[('race', array([0.95836576])),\n",
       " ('nasal_cong_none', array([1.])),\n",
       " ('coronary_ynd', array([0.9233463])),\n",
       " ('angina_ynd', array([0.96730245])),\n",
       " ('atheroscl_ynd', array([0.9758661])),\n",
       " ('heartattack_ynd', array([0.95679253])),\n",
       " ('congestivehf_ynd', array([0.98871595])),\n",
       " ('coronarybypass_ynd', array([0.95525292])),\n",
       " ('stroke_ynd', array([0.97743191])),\n",
       " ('emphysema_ynd', array([0.97898833])),\n",
       " ('angioplasty_ynd', array([0.95758755])),\n",
       " ('pacemaker_ynd', array([0.99105058])),\n",
       " ('coronary_artery_stent_ynd', array([0.9766537])),\n",
       " ('asthma_med', array([0.92140078])),\n",
       " ('asthma_rescue_med', array([0.96031128])),\n",
       " ('asthma_control_med', array([0.93696498])),\n",
       " ('dep_maoi_med', array([0.99922179])),\n",
       " ('dep_tca_med', array([0.9766537])),\n",
       " ('htn_alpha_med', array([0.96264591])),\n",
       " ('htn_arb_med', array([0.93190661])),\n",
       " ('narcotics_med', array([0.9766537])),\n",
       " ('decongestants_med', array([0.95914397])),\n",
       " ('anxiety_med', array([0.92801556])),\n",
       " ('estrogen_med', array([0.93385214])),\n",
       " ('androgen_med', array([0.99688716])),\n",
       " ('progesterone_med', array([0.96614786])),\n",
       " ('sedative_med', array([0.90155642])),\n",
       " ('stimulants_med', array([0.9848249])),\n",
       " ('psg_cpap', array([0.97005988])),\n",
       " ('psg_oxygen', array([1.]))]"
      ]
     },
     "execution_count": 10,
     "metadata": {},
     "output_type": "execute_result"
    }
   ],
   "source": [
    "imbalanced_classes"
   ]
  },
  {
   "cell_type": "code",
   "execution_count": null,
   "id": "5ca03394",
   "metadata": {},
   "outputs": [],
   "source": [
    "imbalanced_list = []\n",
    "for classes in imbalanced_classes:\n",
    "    imbalanced_list.append(classes[0])"
   ]
  },
  {
   "cell_type": "code",
   "execution_count": null,
   "id": "290e2d18",
   "metadata": {},
   "outputs": [],
   "source": [
    "imbalanced_list"
   ]
  },
  {
   "cell_type": "code",
   "execution_count": null,
   "id": "413702b3",
   "metadata": {},
   "outputs": [],
   "source": [
    "data_df.drop(imbalanced_list, axis=1, inplace=True)\n",
    "data_df.drop_duplicates('wsc_id', inplace=True)\n",
    "data_df.set_index('wsc_id', inplace=True)\n",
    "data_df.fillna(0, inplace=True)"
   ]
  },
  {
   "cell_type": "code",
   "execution_count": null,
   "id": "ebc09e87",
   "metadata": {},
   "outputs": [],
   "source": [
    "objlist = []\n",
    "\n",
    "for n in data_df.dtypes[data_df.dtypes == 'object'].index:\n",
    "    objlist.append(n)"
   ]
  },
  {
   "cell_type": "code",
   "execution_count": null,
   "id": "f7feb2b6",
   "metadata": {},
   "outputs": [],
   "source": [
    "## Binariser -  should work if nans are present or not...\n",
    "\n",
    "for i,v in enumerate(objlist):\n",
    "    \n",
    "    ##columns with 2 variables eg. [N,Y] or [M,F]\n",
    "    \n",
    "    if len(data_df[v].unique()) == 2:\n",
    "        ##print(data_df[v].unique(),v)\n",
    "        data_df[objlist[i]].replace\\\n",
    "        ({data_df[objlist[i]].unique()[0]:0,data_df[objlist[i]].unique()[1]:1}, inplace=True)\n",
    "        \n",
    "    #### ALL columns with 3 variables - which appear like [N,Y,nan]\n",
    "    if len(data_df[v].unique()) == 3:\n",
    "        ##print(data_df[v].unique(),v)\n",
    "        data_df[objlist[i]].replace\\\n",
    "        ({'N':0,'Y':1}, inplace=True)"
   ]
  },
  {
   "cell_type": "code",
   "execution_count": null,
   "id": "604d3ada",
   "metadata": {},
   "outputs": [],
   "source": [
    "#### ONE HOT ENCODER SCRIPT\n",
    "\n",
    "ohe = OneHotEncoder(handle_unknown='ignore',sparse=False)\n",
    "\n",
    "\n",
    "## Only variables which need OHE\n",
    "X1 = data_df[['thyroid_problem']]\n",
    "X2 = data_df[['hormone_therapy']]\n",
    "\n",
    "##fit transform, extract column names, make dataframe with column names, drop nan row\n",
    "\n",
    "X1t = ohe.fit_transform(X1)\n",
    "colnames = list(ohe.get_feature_names())\n",
    "X1df = pd.DataFrame(X1t, columns = colnames)\n",
    "X1df.drop(columns = 'x0_nan', inplace=True)\n",
    "\n",
    "X2t = ohe.fit_transform(X2)\n",
    "colnames = list(ohe.get_feature_names())\n",
    "X2df = pd.DataFrame(X2t, columns = colnames)\n",
    "X2df.drop(columns = 'x0_nan', inplace=True)\n",
    "\n",
    "frames = [data_df, X1df, X2df]\n",
    "data_df = pd.concat(frames, axis = 1)\n",
    "\n",
    "##drop original row names\n",
    "\n",
    "data_df.drop(columns = ['thyroid_problem','hormone_therapy'], inplace=True)"
   ]
  }
 ],
 "metadata": {
  "kernelspec": {
   "display_name": "Python 3 (ipykernel)",
   "language": "python",
   "name": "python3"
  },
  "language_info": {
   "codemirror_mode": {
    "name": "ipython",
    "version": 3
   },
   "file_extension": ".py",
   "mimetype": "text/x-python",
   "name": "python",
   "nbconvert_exporter": "python",
   "pygments_lexer": "ipython3",
   "version": "3.8.6"
  },
  "toc": {
   "base_numbering": 1,
   "nav_menu": {},
   "number_sections": true,
   "sideBar": true,
   "skip_h1_title": false,
   "title_cell": "Table of Contents",
   "title_sidebar": "Contents",
   "toc_cell": false,
   "toc_position": {},
   "toc_section_display": true,
   "toc_window_display": false
  }
 },
 "nbformat": 4,
 "nbformat_minor": 5
}
