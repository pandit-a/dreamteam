{
 "cells": [
  {
   "cell_type": "code",
   "execution_count": 1,
   "id": "5fe98889",
   "metadata": {},
   "outputs": [],
   "source": [
    "##Generic imports\n",
    "\n",
    "import pandas as pd\n",
    "import numpy as np\n",
    "import matplotlib.pyplot as plt\n",
    "%matplotlib inline\n",
    "import seaborn as sns"
   ]
  },
  {
   "cell_type": "code",
   "execution_count": 2,
   "id": "4a0695c9",
   "metadata": {},
   "outputs": [],
   "source": [
    "##Script specific imports for feature encoding\n",
    "\n",
    "from sklearn.preprocessing import OneHotEncoder, LabelBinarizer\n",
    "from sklearn.compose import ColumnTransformer\n",
    "from sklearn.pipeline import Pipeline\n",
    "from sklearn import set_config\n",
    "set_config(display='diagram')"
   ]
  },
  {
   "cell_type": "code",
   "execution_count": 3,
   "id": "65d50a5e",
   "metadata": {},
   "outputs": [],
   "source": [
    "from sklearn.compose import ColumnTransformer\n",
    "from sklearn.pipeline import Pipeline\n",
    "from sklearn.impute import SimpleImputer\n",
    "from sklearn.preprocessing import StandardScaler, RobustScaler\n",
    "from sklearn.model_selection import train_test_split, cross_validate\n",
    "from sklearn.linear_model import LinearRegression, Ridge, Lasso"
   ]
  },
  {
   "cell_type": "code",
   "execution_count": 37,
   "id": "d5ac29ec",
   "metadata": {},
   "outputs": [],
   "source": [
    "import statsmodels.api as sm"
   ]
  },
  {
   "cell_type": "code",
   "execution_count": 1417,
   "id": "11846444",
   "metadata": {},
   "outputs": [],
   "source": [
    "file = r'/Users/anand/Documents/Sleep/WSC - variable cross-check_sparse.xlsx'\n",
    "data = r'/Users/anand/Documents/Sleep/wsc-dataset-0.2.0.csv'"
   ]
  },
  {
   "cell_type": "code",
   "execution_count": 1418,
   "id": "a793f666",
   "metadata": {},
   "outputs": [],
   "source": [
    "df = pd.read_excel(file)\n",
    "data_df = pd.read_csv(data)"
   ]
  },
  {
   "cell_type": "code",
   "execution_count": 1419,
   "id": "b8032524",
   "metadata": {},
   "outputs": [],
   "source": [
    "pd.set_option('display.max_columns', None)\n",
    "#data_df.head()"
   ]
  },
  {
   "cell_type": "code",
   "execution_count": 1420,
   "id": "d68f3fb9",
   "metadata": {},
   "outputs": [],
   "source": [
    "deleted = df[df['Proposed Removal'] == 'R']\n",
    "deleted_cols = deleted.iloc[:, 0]"
   ]
  },
  {
   "cell_type": "code",
   "execution_count": 1421,
   "id": "af9723cc",
   "metadata": {},
   "outputs": [],
   "source": [
    "data_df = data_df.drop(deleted_cols.to_list(), axis=1)"
   ]
  },
  {
   "cell_type": "code",
   "execution_count": 1422,
   "id": "e565357f",
   "metadata": {},
   "outputs": [],
   "source": [
    "# data_df.drop(imbalanced_list, axis=1, inplace=True)\n",
    "#data_df.drop_duplicates('wsc_id', inplace=True)\n",
    "data_df.set_index('wsc_id', inplace=True)\n",
    "##data_df.fillna(0, inplace=True)"
   ]
  },
  {
   "cell_type": "code",
   "execution_count": 1423,
   "id": "32223bf7",
   "metadata": {},
   "outputs": [],
   "source": [
    "data_df.nasal_cong_none.replace({np.nan:0,'Y':1}, inplace=True)"
   ]
  },
  {
   "cell_type": "code",
   "execution_count": 1424,
   "id": "c9afbc92",
   "metadata": {},
   "outputs": [],
   "source": [
    "data_df.num_pregnancies.replace({np.nan:0,'Y':1}, inplace=True)"
   ]
  },
  {
   "cell_type": "code",
   "execution_count": 1425,
   "id": "9aefa36c",
   "metadata": {},
   "outputs": [],
   "source": [
    "# balance_cutoff = 0.975\n",
    "# imbalanced_classes = []\n",
    "# for col in data_df.columns:\n",
    "#     _ = data_df.columns.get_loc(col)\n",
    "#     if data_df.iloc[:, _].value_counts(normalize=True).head(1).values > balance_cutoff:\n",
    "#         imbalanced_classes.append((col, data_df.iloc[:, _].value_counts(normalize=True).head(1).values.astype(float)))"
   ]
  },
  {
   "cell_type": "code",
   "execution_count": 1426,
   "id": "89ef4d1b",
   "metadata": {},
   "outputs": [],
   "source": [
    "# imbalanced_list = []\n",
    "# for classes in imbalanced_classes:\n",
    "#     imbalanced_list.append(classes[0])"
   ]
  },
  {
   "cell_type": "code",
   "execution_count": 1427,
   "id": "91b22957",
   "metadata": {},
   "outputs": [],
   "source": [
    "objlist = []\n",
    "\n",
    "for n in data_df.dtypes[data_df.dtypes == 'object'].index:\n",
    "    objlist.append(n)"
   ]
  },
  {
   "cell_type": "code",
   "execution_count": 1428,
   "id": "ec57d019",
   "metadata": {},
   "outputs": [],
   "source": [
    "## Binariser -  should work if nans are present or not...\n",
    "\n",
    "for i,v in enumerate(objlist):\n",
    "    \n",
    "    ##columns with 2 variables eg. [N,Y] or [M,F]\n",
    "    \n",
    "    if len(data_df[v].unique()) == 2:\n",
    "        ##print(data_df[v].unique(),v)\n",
    "        data_df[objlist[i]].replace\\\n",
    "        ({data_df[objlist[i]].unique()[0]:0,data_df[objlist[i]].unique()[1]:1}, inplace=True)\n",
    "        \n",
    "    #### ALL columns with 3 variables - which appear like [N,Y,nan]\n",
    "    if len(data_df[v].unique()) == 3:\n",
    "        ##print(data_df[v].unique(),v)\n",
    "        data_df[objlist[i]].replace\\\n",
    "        ({'N':0,'Y':1}, inplace=True)"
   ]
  },
  {
   "cell_type": "code",
   "execution_count": 1429,
   "id": "1375806b",
   "metadata": {},
   "outputs": [],
   "source": [
    "#### ONE HOT ENCODER SCRIPT\n",
    "\n",
    "ohe = OneHotEncoder(handle_unknown='ignore',sparse=False)\n",
    "\n",
    "\n",
    "## Only variables which need OHE\n",
    "X1 = data_df[['thyroid_problem']]\n",
    "X2 = data_df[['hormone_therapy']]\n",
    "\n",
    "##fit transform, extract column names, make dataframe with column names, drop nan row\n",
    "\n",
    "X1t = ohe.fit_transform(X1)\n",
    "colnames = list(ohe.get_feature_names())\n",
    "X1df = pd.DataFrame(X1t, columns = colnames)\n",
    "X1df.drop(columns = 'x0_nan', inplace=True)\n",
    "X1df.index = data_df.index\n",
    "\n",
    "X2t = ohe.fit_transform(X2)\n",
    "colnames = list(ohe.get_feature_names())\n",
    "X2df = pd.DataFrame(X2t, columns = colnames)\n",
    "X2df.drop(columns = 'x0_nan', inplace=True)\n",
    "X2df.index = data_df.index\n",
    "\n",
    "frames = [data_df, X1df, X2df]\n",
    "data_df = pd.concat(frames, axis = 1)\n",
    "\n",
    "##drop original row names\n",
    "\n",
    "data_df.drop(columns = ['thyroid_problem','hormone_therapy'], inplace=True)"
   ]
  },
  {
   "cell_type": "markdown",
   "id": "da0fc69a",
   "metadata": {},
   "source": [
    "# Process y"
   ]
  },
  {
   "cell_type": "code",
   "execution_count": 1430,
   "id": "57fd02a8",
   "metadata": {},
   "outputs": [],
   "source": [
    "targs = ['sleep_latency','tst', 'tst_rem', 'tst_nrem', 'tso', 'totsleep', 'ess','p_eval_sleep', 'a_eval_slept', 'a_eval_hour',\n",
    "       'a_eval_sleep', 'ps_eds','se', 'waso','sleepiness', 'workday', 'weekend', 'ps_diff', 'ps_diff', 'ps_backsleep','ps_wakerepeat','ps_wakeup','ps_eds']"
   ]
  },
  {
   "cell_type": "code",
   "execution_count": 1431,
   "id": "77c93230",
   "metadata": {},
   "outputs": [],
   "source": [
    "imputenum = SimpleImputer(strategy = 'mean')\n",
    "data_df[targs] = imputenum.fit_transform(data_df[targs])\n"
   ]
  },
  {
   "cell_type": "markdown",
   "id": "94cc5ccf",
   "metadata": {},
   "source": [
    "# process X"
   ]
  },
  {
   "cell_type": "code",
   "execution_count": 1432,
   "id": "bf6c3821",
   "metadata": {},
   "outputs": [
    {
     "data": {
      "text/plain": [
       "(2570, 65)"
      ]
     },
     "execution_count": 1432,
     "metadata": {},
     "output_type": "execute_result"
    }
   ],
   "source": [
    "X = data_df.drop(columns = targs)\n",
    "cols= X.columns\n",
    "X.shape"
   ]
  },
  {
   "cell_type": "code",
   "execution_count": 1433,
   "id": "33a4b07a",
   "metadata": {},
   "outputs": [],
   "source": [
    "# #### Scaling numerical features - categorical features and targets removed from this listt\n",
    "\n",
    "# numeric_features = ['creatinine', 'glucose', 'hdl', 'ldl','total_cholesterol', 'triglycerides', 'uric_acid', 'weightkg', 'bmi',\n",
    "#        'headcm', 'waist_girth1', 'waist_girth2', 'hip_girth1', 'hip_girth2',\n",
    "#        'neck_girth1', 'neck_girth2', 'sit_sys1', 'sit_dia1', 'sit_sys2',\n",
    "#        'sit_dia2', 'hipgirthm', 'neckgirthm', 'waistgirthm', 'waisthip',\n",
    "#        'sitsysm', 'sitdiam', 'zung_score', 'zung_index', 'state',\n",
    "#        'trait', 'beer_week', 'wine_week', 'hard_week', 'bowls_day', 'packs_week', 'cigars_day',\n",
    "#        'smoke_years', 'pack_years',\n",
    "#        'naps', 'snore_freq',\n",
    "#        'num_pregnancies', 'psg_cpap', 'ahi',\n",
    "#        'minsao2tst', 'ptstl90', 'age', 'heightcm', 'cans_cola', 'cups_coffee',\n",
    "#        'caffeine', 'alcohol_wk','eval_general', 'eval_life','eval_health', \n",
    "#        'snore_vol', 'choke_freq',\n",
    "#        'apnea_freq', 'awake_freq', 'ho_score']"
   ]
  },
  {
   "cell_type": "code",
   "execution_count": 1434,
   "id": "13e16a16",
   "metadata": {},
   "outputs": [],
   "source": [
    "#### Scaling numerical features - categorical features and targets removed from this listt\n",
    "\n",
    "numeric_features = ['hdl', 'ldl','total_cholesterol', 'triglycerides', 'weightkg',\n",
    "       'hipgirthm', 'neckgirthm', 'waistgirthm', 'waisthip',\n",
    "       'sitsysm', 'sitdiam','packs_week', 'pack_years',\n",
    "       'naps', 'snore_freq',\n",
    "       'num_pregnancies','age', 'heightcm',\n",
    "       'caffeine', 'alcohol_wk','eval_general', 'eval_life','eval_health', \n",
    "       'snore_vol', 'choke_freq',\n",
    "       'apnea_freq', 'awake_freq']"
   ]
  },
  {
   "cell_type": "code",
   "execution_count": 1435,
   "id": "bff8749a",
   "metadata": {},
   "outputs": [],
   "source": [
    "categoric = data_df.drop(columns = targs)\n",
    "categoric.drop(columns = numeric_features, inplace=True)\n",
    "#categoric.drop(columns =['waso', 'wsc_vst'], inplace=True)"
   ]
  },
  {
   "cell_type": "code",
   "execution_count": 1436,
   "id": "792d0445",
   "metadata": {},
   "outputs": [],
   "source": [
    "categorical_features = categoric.columns"
   ]
  },
  {
   "cell_type": "code",
   "execution_count": 1437,
   "id": "2a654ca7",
   "metadata": {},
   "outputs": [],
   "source": [
    "categorical_transformer = Pipeline(steps=[\n",
    "    ('imputer', SimpleImputer(strategy='median'))])"
   ]
  },
  {
   "cell_type": "code",
   "execution_count": 1438,
   "id": "45f30cb3",
   "metadata": {},
   "outputs": [],
   "source": [
    "numeric_transformer = Pipeline(steps=[\n",
    "    ('imputer', SimpleImputer(strategy='mean')),\n",
    "    ('scaler', RobustScaler())])"
   ]
  },
  {
   "cell_type": "code",
   "execution_count": 1439,
   "id": "d5f8089f",
   "metadata": {},
   "outputs": [],
   "source": [
    "preprocessor = ColumnTransformer(\n",
    "    transformers=[\n",
    "        ('num', numeric_transformer, numeric_features),\\\n",
    "        ('cat', categorical_transformer, categorical_features)])"
   ]
  },
  {
   "cell_type": "code",
   "execution_count": 1440,
   "id": "fa3ce0c3",
   "metadata": {},
   "outputs": [],
   "source": [
    "prepipe = Pipeline(steps=[('preprocessor', preprocessor)])"
   ]
  },
  {
   "cell_type": "code",
   "execution_count": 1441,
   "id": "0041b416",
   "metadata": {},
   "outputs": [],
   "source": [
    "pipe = Pipeline(steps=[('preprocessor', preprocessor),('regression', LinearRegression())])"
   ]
  },
  {
   "cell_type": "code",
   "execution_count": 1442,
   "id": "3ef7a9e4",
   "metadata": {},
   "outputs": [],
   "source": [
    "X = prepipe.fit_transform(X)"
   ]
  },
  {
   "cell_type": "code",
   "execution_count": 1443,
   "id": "9058710a",
   "metadata": {},
   "outputs": [
    {
     "data": {
      "text/plain": [
       "(2570, 65)"
      ]
     },
     "execution_count": 1443,
     "metadata": {},
     "output_type": "execute_result"
    }
   ],
   "source": [
    "X.shape"
   ]
  },
  {
   "cell_type": "code",
   "execution_count": 1451,
   "id": "667e2602",
   "metadata": {},
   "outputs": [],
   "source": [
    "X.drop(columns = ['wsc_vst'], inplace=True)"
   ]
  },
  {
   "cell_type": "code",
   "execution_count": 1445,
   "id": "dea22d52",
   "metadata": {},
   "outputs": [],
   "source": [
    "X = pd.DataFrame(X, columns = cols)"
   ]
  },
  {
   "cell_type": "code",
   "execution_count": 1452,
   "id": "aa15f3a2",
   "metadata": {},
   "outputs": [
    {
     "data": {
      "text/html": [
       "<div>\n",
       "<style scoped>\n",
       "    .dataframe tbody tr th:only-of-type {\n",
       "        vertical-align: middle;\n",
       "    }\n",
       "\n",
       "    .dataframe tbody tr th {\n",
       "        vertical-align: top;\n",
       "    }\n",
       "\n",
       "    .dataframe thead th {\n",
       "        text-align: right;\n",
       "    }\n",
       "</style>\n",
       "<table border=\"1\" class=\"dataframe\">\n",
       "  <thead>\n",
       "    <tr style=\"text-align: right;\">\n",
       "      <th></th>\n",
       "      <th>sex</th>\n",
       "      <th>age</th>\n",
       "      <th>race</th>\n",
       "      <th>education_survey1</th>\n",
       "      <th>hdl</th>\n",
       "      <th>ldl</th>\n",
       "      <th>total_cholesterol</th>\n",
       "      <th>triglycerides</th>\n",
       "      <th>heightcm</th>\n",
       "      <th>weightkg</th>\n",
       "      <th>hipgirthm</th>\n",
       "      <th>neckgirthm</th>\n",
       "      <th>waistgirthm</th>\n",
       "      <th>waisthip</th>\n",
       "      <th>sitsysm</th>\n",
       "      <th>sitdiam</th>\n",
       "      <th>cups_coffee</th>\n",
       "      <th>caffeine</th>\n",
       "      <th>alcohol_wk</th>\n",
       "      <th>packs_week</th>\n",
       "      <th>pack_years</th>\n",
       "      <th>eval_general</th>\n",
       "      <th>eval_life</th>\n",
       "      <th>eval_health</th>\n",
       "      <th>naps</th>\n",
       "      <th>snore_freq</th>\n",
       "      <th>snore_vol</th>\n",
       "      <th>choke_freq</th>\n",
       "      <th>apnea_freq</th>\n",
       "      <th>awake_freq</th>\n",
       "      <th>nasal_cong_none</th>\n",
       "      <th>any_cvd</th>\n",
       "      <th>hypertension_ynd</th>\n",
       "      <th>stroke_ynd</th>\n",
       "      <th>diabetes_ynd</th>\n",
       "      <th>asthma_ynd</th>\n",
       "      <th>thyroid_ynd</th>\n",
       "      <th>arthritis_ynd</th>\n",
       "      <th>emphysema_ynd</th>\n",
       "      <th>apnea</th>\n",
       "      <th>menopausal_status</th>\n",
       "      <th>num_pregnancies</th>\n",
       "      <th>asthma_med</th>\n",
       "      <th>cholesterol_med</th>\n",
       "      <th>depression_med</th>\n",
       "      <th>htn_med</th>\n",
       "      <th>narcotics_med</th>\n",
       "      <th>decongestants_med</th>\n",
       "      <th>antihistamines_med</th>\n",
       "      <th>anxiety_med</th>\n",
       "      <th>diabetes_med</th>\n",
       "      <th>androgen_med</th>\n",
       "      <th>sedative_med</th>\n",
       "      <th>stimulants_med</th>\n",
       "      <th>thyroid_med</th>\n",
       "      <th>x0_Hyperthyroid</th>\n",
       "      <th>x0_Hypothyroid</th>\n",
       "      <th>x0_Infection</th>\n",
       "      <th>x0_Nodule</th>\n",
       "      <th>x0_Thyroid Cancer</th>\n",
       "      <th>x0_Unknown</th>\n",
       "      <th>x0_C</th>\n",
       "      <th>x0_N</th>\n",
       "      <th>x0_P</th>\n",
       "    </tr>\n",
       "  </thead>\n",
       "  <tbody>\n",
       "    <tr>\n",
       "      <th>0</th>\n",
       "      <td>0.837209</td>\n",
       "      <td>0.688617</td>\n",
       "      <td>0.144578</td>\n",
       "      <td>-0.089286</td>\n",
       "      <td>-0.618182</td>\n",
       "      <td>0.188679</td>\n",
       "      <td>-0.364465</td>\n",
       "      <td>0.226920</td>\n",
       "      <td>-0.619048</td>\n",
       "      <td>0.153846</td>\n",
       "      <td>0.000000</td>\n",
       "      <td>0.000</td>\n",
       "      <td>-0.50</td>\n",
       "      <td>-0.666667</td>\n",
       "      <td>0.0</td>\n",
       "      <td>-0.666667</td>\n",
       "      <td>0.583333</td>\n",
       "      <td>0.666667</td>\n",
       "      <td>0.0</td>\n",
       "      <td>0.0</td>\n",
       "      <td>-1.0</td>\n",
       "      <td>-1.0</td>\n",
       "      <td>-0.333333</td>\n",
       "      <td>-0.125</td>\n",
       "      <td>0.0</td>\n",
       "      <td>0.0</td>\n",
       "      <td>1.0</td>\n",
       "      <td>0.0</td>\n",
       "      <td>5.0</td>\n",
       "      <td>6.0</td>\n",
       "      <td>3.0</td>\n",
       "      <td>1.0</td>\n",
       "      <td>0.0</td>\n",
       "      <td>0.0</td>\n",
       "      <td>0.0</td>\n",
       "      <td>0.0</td>\n",
       "      <td>0.0</td>\n",
       "      <td>0.0</td>\n",
       "      <td>0.0</td>\n",
       "      <td>0.0</td>\n",
       "      <td>0.0</td>\n",
       "      <td>2.0</td>\n",
       "      <td>0.0</td>\n",
       "      <td>0.0</td>\n",
       "      <td>0.0</td>\n",
       "      <td>0.0</td>\n",
       "      <td>0.0</td>\n",
       "      <td>0.0</td>\n",
       "      <td>0.0</td>\n",
       "      <td>0.0</td>\n",
       "      <td>0.0</td>\n",
       "      <td>0.0</td>\n",
       "      <td>0.0</td>\n",
       "      <td>0.0</td>\n",
       "      <td>0.0</td>\n",
       "      <td>0.0</td>\n",
       "      <td>0.0</td>\n",
       "      <td>0.0</td>\n",
       "      <td>0.0</td>\n",
       "      <td>0.0</td>\n",
       "      <td>0.0</td>\n",
       "      <td>0.0</td>\n",
       "      <td>0.0</td>\n",
       "      <td>0.0</td>\n",
       "    </tr>\n",
       "    <tr>\n",
       "      <th>1</th>\n",
       "      <td>0.720930</td>\n",
       "      <td>0.464127</td>\n",
       "      <td>0.734940</td>\n",
       "      <td>0.089286</td>\n",
       "      <td>-0.363636</td>\n",
       "      <td>0.094340</td>\n",
       "      <td>0.045558</td>\n",
       "      <td>0.581752</td>\n",
       "      <td>-0.380952</td>\n",
       "      <td>0.384615</td>\n",
       "      <td>0.000000</td>\n",
       "      <td>0.000</td>\n",
       "      <td>-0.50</td>\n",
       "      <td>-1.000000</td>\n",
       "      <td>0.0</td>\n",
       "      <td>-0.166667</td>\n",
       "      <td>0.750000</td>\n",
       "      <td>0.666667</td>\n",
       "      <td>0.2</td>\n",
       "      <td>0.0</td>\n",
       "      <td>-1.0</td>\n",
       "      <td>-1.0</td>\n",
       "      <td>-0.333333</td>\n",
       "      <td>-0.125</td>\n",
       "      <td>0.0</td>\n",
       "      <td>0.0</td>\n",
       "      <td>2.0</td>\n",
       "      <td>0.0</td>\n",
       "      <td>5.0</td>\n",
       "      <td>6.0</td>\n",
       "      <td>4.0</td>\n",
       "      <td>1.0</td>\n",
       "      <td>0.0</td>\n",
       "      <td>0.0</td>\n",
       "      <td>0.0</td>\n",
       "      <td>0.0</td>\n",
       "      <td>0.0</td>\n",
       "      <td>0.0</td>\n",
       "      <td>0.0</td>\n",
       "      <td>0.0</td>\n",
       "      <td>0.0</td>\n",
       "      <td>2.0</td>\n",
       "      <td>0.0</td>\n",
       "      <td>0.0</td>\n",
       "      <td>0.0</td>\n",
       "      <td>0.0</td>\n",
       "      <td>0.0</td>\n",
       "      <td>0.0</td>\n",
       "      <td>0.0</td>\n",
       "      <td>0.0</td>\n",
       "      <td>0.0</td>\n",
       "      <td>0.0</td>\n",
       "      <td>0.0</td>\n",
       "      <td>0.0</td>\n",
       "      <td>0.0</td>\n",
       "      <td>0.0</td>\n",
       "      <td>0.0</td>\n",
       "      <td>0.0</td>\n",
       "      <td>0.0</td>\n",
       "      <td>0.0</td>\n",
       "      <td>0.0</td>\n",
       "      <td>0.0</td>\n",
       "      <td>0.0</td>\n",
       "      <td>0.0</td>\n",
       "    </tr>\n",
       "    <tr>\n",
       "      <th>2</th>\n",
       "      <td>0.209302</td>\n",
       "      <td>0.566168</td>\n",
       "      <td>-0.096386</td>\n",
       "      <td>-0.535714</td>\n",
       "      <td>0.000000</td>\n",
       "      <td>-1.320755</td>\n",
       "      <td>-0.865604</td>\n",
       "      <td>-1.174345</td>\n",
       "      <td>0.238095</td>\n",
       "      <td>0.538462</td>\n",
       "      <td>0.000000</td>\n",
       "      <td>0.000</td>\n",
       "      <td>-0.50</td>\n",
       "      <td>-1.000000</td>\n",
       "      <td>0.0</td>\n",
       "      <td>-0.833333</td>\n",
       "      <td>0.083333</td>\n",
       "      <td>0.666667</td>\n",
       "      <td>-0.2</td>\n",
       "      <td>0.0</td>\n",
       "      <td>0.0</td>\n",
       "      <td>0.0</td>\n",
       "      <td>-0.333333</td>\n",
       "      <td>-0.125</td>\n",
       "      <td>0.0</td>\n",
       "      <td>0.0</td>\n",
       "      <td>1.0</td>\n",
       "      <td>1.0</td>\n",
       "      <td>5.0</td>\n",
       "      <td>5.0</td>\n",
       "      <td>0.0</td>\n",
       "      <td>0.0</td>\n",
       "      <td>0.0</td>\n",
       "      <td>0.0</td>\n",
       "      <td>0.0</td>\n",
       "      <td>0.0</td>\n",
       "      <td>0.0</td>\n",
       "      <td>0.0</td>\n",
       "      <td>0.0</td>\n",
       "      <td>0.0</td>\n",
       "      <td>0.0</td>\n",
       "      <td>0.0</td>\n",
       "      <td>0.0</td>\n",
       "      <td>0.0</td>\n",
       "      <td>0.0</td>\n",
       "      <td>0.0</td>\n",
       "      <td>0.0</td>\n",
       "      <td>0.0</td>\n",
       "      <td>1.0</td>\n",
       "      <td>0.0</td>\n",
       "      <td>0.0</td>\n",
       "      <td>0.0</td>\n",
       "      <td>0.0</td>\n",
       "      <td>0.0</td>\n",
       "      <td>0.0</td>\n",
       "      <td>0.0</td>\n",
       "      <td>0.0</td>\n",
       "      <td>0.0</td>\n",
       "      <td>0.0</td>\n",
       "      <td>0.0</td>\n",
       "      <td>0.0</td>\n",
       "      <td>0.0</td>\n",
       "      <td>1.0</td>\n",
       "      <td>0.0</td>\n",
       "    </tr>\n",
       "    <tr>\n",
       "      <th>3</th>\n",
       "      <td>1.441860</td>\n",
       "      <td>2.055964</td>\n",
       "      <td>-0.518072</td>\n",
       "      <td>-0.714286</td>\n",
       "      <td>-0.060606</td>\n",
       "      <td>-0.981132</td>\n",
       "      <td>-1.116173</td>\n",
       "      <td>-1.497380</td>\n",
       "      <td>-0.047619</td>\n",
       "      <td>0.538462</td>\n",
       "      <td>0.000000</td>\n",
       "      <td>0.000</td>\n",
       "      <td>-0.50</td>\n",
       "      <td>-1.000000</td>\n",
       "      <td>0.0</td>\n",
       "      <td>-0.583333</td>\n",
       "      <td>-0.083333</td>\n",
       "      <td>-0.333333</td>\n",
       "      <td>0.0</td>\n",
       "      <td>2.0</td>\n",
       "      <td>-1.0</td>\n",
       "      <td>0.0</td>\n",
       "      <td>1.000000</td>\n",
       "      <td>-0.125</td>\n",
       "      <td>0.0</td>\n",
       "      <td>0.0</td>\n",
       "      <td>2.0</td>\n",
       "      <td>1.0</td>\n",
       "      <td>5.0</td>\n",
       "      <td>5.0</td>\n",
       "      <td>0.0</td>\n",
       "      <td>0.0</td>\n",
       "      <td>0.0</td>\n",
       "      <td>0.0</td>\n",
       "      <td>0.0</td>\n",
       "      <td>0.0</td>\n",
       "      <td>0.0</td>\n",
       "      <td>0.0</td>\n",
       "      <td>0.0</td>\n",
       "      <td>0.0</td>\n",
       "      <td>0.0</td>\n",
       "      <td>2.0</td>\n",
       "      <td>0.0</td>\n",
       "      <td>0.0</td>\n",
       "      <td>0.0</td>\n",
       "      <td>0.0</td>\n",
       "      <td>0.0</td>\n",
       "      <td>0.0</td>\n",
       "      <td>1.0</td>\n",
       "      <td>0.0</td>\n",
       "      <td>0.0</td>\n",
       "      <td>0.0</td>\n",
       "      <td>0.0</td>\n",
       "      <td>0.0</td>\n",
       "      <td>0.0</td>\n",
       "      <td>0.0</td>\n",
       "      <td>0.0</td>\n",
       "      <td>0.0</td>\n",
       "      <td>0.0</td>\n",
       "      <td>0.0</td>\n",
       "      <td>0.0</td>\n",
       "      <td>0.0</td>\n",
       "      <td>1.0</td>\n",
       "      <td>0.0</td>\n",
       "    </tr>\n",
       "    <tr>\n",
       "      <th>4</th>\n",
       "      <td>0.767442</td>\n",
       "      <td>0.341678</td>\n",
       "      <td>-0.481928</td>\n",
       "      <td>0.982143</td>\n",
       "      <td>2.454545</td>\n",
       "      <td>0.188679</td>\n",
       "      <td>1.958998</td>\n",
       "      <td>0.361337</td>\n",
       "      <td>0.809524</td>\n",
       "      <td>1.000000</td>\n",
       "      <td>4.349169</td>\n",
       "      <td>4.125</td>\n",
       "      <td>0.00</td>\n",
       "      <td>1.666667</td>\n",
       "      <td>6.0</td>\n",
       "      <td>-0.250000</td>\n",
       "      <td>-1.000000</td>\n",
       "      <td>-0.666667</td>\n",
       "      <td>-0.4</td>\n",
       "      <td>0.0</td>\n",
       "      <td>-1.0</td>\n",
       "      <td>1.0</td>\n",
       "      <td>1.000000</td>\n",
       "      <td>-0.125</td>\n",
       "      <td>0.0</td>\n",
       "      <td>0.0</td>\n",
       "      <td>1.0</td>\n",
       "      <td>1.0</td>\n",
       "      <td>5.0</td>\n",
       "      <td>4.0</td>\n",
       "      <td>0.0</td>\n",
       "      <td>1.0</td>\n",
       "      <td>0.0</td>\n",
       "      <td>1.0</td>\n",
       "      <td>0.0</td>\n",
       "      <td>0.0</td>\n",
       "      <td>0.0</td>\n",
       "      <td>1.0</td>\n",
       "      <td>0.0</td>\n",
       "      <td>0.0</td>\n",
       "      <td>1.0</td>\n",
       "      <td>4.0</td>\n",
       "      <td>0.0</td>\n",
       "      <td>0.0</td>\n",
       "      <td>0.0</td>\n",
       "      <td>0.0</td>\n",
       "      <td>0.0</td>\n",
       "      <td>0.0</td>\n",
       "      <td>0.0</td>\n",
       "      <td>0.0</td>\n",
       "      <td>0.0</td>\n",
       "      <td>0.0</td>\n",
       "      <td>0.0</td>\n",
       "      <td>0.0</td>\n",
       "      <td>1.0</td>\n",
       "      <td>0.0</td>\n",
       "      <td>1.0</td>\n",
       "      <td>0.0</td>\n",
       "      <td>0.0</td>\n",
       "      <td>0.0</td>\n",
       "      <td>0.0</td>\n",
       "      <td>1.0</td>\n",
       "      <td>0.0</td>\n",
       "      <td>0.0</td>\n",
       "    </tr>\n",
       "    <tr>\n",
       "      <th>...</th>\n",
       "      <td>...</td>\n",
       "      <td>...</td>\n",
       "      <td>...</td>\n",
       "      <td>...</td>\n",
       "      <td>...</td>\n",
       "      <td>...</td>\n",
       "      <td>...</td>\n",
       "      <td>...</td>\n",
       "      <td>...</td>\n",
       "      <td>...</td>\n",
       "      <td>...</td>\n",
       "      <td>...</td>\n",
       "      <td>...</td>\n",
       "      <td>...</td>\n",
       "      <td>...</td>\n",
       "      <td>...</td>\n",
       "      <td>...</td>\n",
       "      <td>...</td>\n",
       "      <td>...</td>\n",
       "      <td>...</td>\n",
       "      <td>...</td>\n",
       "      <td>...</td>\n",
       "      <td>...</td>\n",
       "      <td>...</td>\n",
       "      <td>...</td>\n",
       "      <td>...</td>\n",
       "      <td>...</td>\n",
       "      <td>...</td>\n",
       "      <td>...</td>\n",
       "      <td>...</td>\n",
       "      <td>...</td>\n",
       "      <td>...</td>\n",
       "      <td>...</td>\n",
       "      <td>...</td>\n",
       "      <td>...</td>\n",
       "      <td>...</td>\n",
       "      <td>...</td>\n",
       "      <td>...</td>\n",
       "      <td>...</td>\n",
       "      <td>...</td>\n",
       "      <td>...</td>\n",
       "      <td>...</td>\n",
       "      <td>...</td>\n",
       "      <td>...</td>\n",
       "      <td>...</td>\n",
       "      <td>...</td>\n",
       "      <td>...</td>\n",
       "      <td>...</td>\n",
       "      <td>...</td>\n",
       "      <td>...</td>\n",
       "      <td>...</td>\n",
       "      <td>...</td>\n",
       "      <td>...</td>\n",
       "      <td>...</td>\n",
       "      <td>...</td>\n",
       "      <td>...</td>\n",
       "      <td>...</td>\n",
       "      <td>...</td>\n",
       "      <td>...</td>\n",
       "      <td>...</td>\n",
       "      <td>...</td>\n",
       "      <td>...</td>\n",
       "      <td>...</td>\n",
       "      <td>...</td>\n",
       "    </tr>\n",
       "    <tr>\n",
       "      <th>2565</th>\n",
       "      <td>0.000000</td>\n",
       "      <td>0.280453</td>\n",
       "      <td>0.879518</td>\n",
       "      <td>-0.946429</td>\n",
       "      <td>-0.727273</td>\n",
       "      <td>-0.283019</td>\n",
       "      <td>-0.820046</td>\n",
       "      <td>-0.406865</td>\n",
       "      <td>0.142857</td>\n",
       "      <td>0.153846</td>\n",
       "      <td>0.000000</td>\n",
       "      <td>0.000</td>\n",
       "      <td>-0.50</td>\n",
       "      <td>-1.000000</td>\n",
       "      <td>2.0</td>\n",
       "      <td>-0.250000</td>\n",
       "      <td>-0.750000</td>\n",
       "      <td>0.666667</td>\n",
       "      <td>-0.2</td>\n",
       "      <td>0.0</td>\n",
       "      <td>0.0</td>\n",
       "      <td>-1.0</td>\n",
       "      <td>-0.333333</td>\n",
       "      <td>-0.125</td>\n",
       "      <td>0.0</td>\n",
       "      <td>0.0</td>\n",
       "      <td>2.0</td>\n",
       "      <td>1.0</td>\n",
       "      <td>5.0</td>\n",
       "      <td>3.0</td>\n",
       "      <td>3.0</td>\n",
       "      <td>1.0</td>\n",
       "      <td>0.0</td>\n",
       "      <td>0.0</td>\n",
       "      <td>0.0</td>\n",
       "      <td>0.0</td>\n",
       "      <td>0.0</td>\n",
       "      <td>0.0</td>\n",
       "      <td>0.0</td>\n",
       "      <td>0.0</td>\n",
       "      <td>0.0</td>\n",
       "      <td>2.0</td>\n",
       "      <td>0.0</td>\n",
       "      <td>0.0</td>\n",
       "      <td>0.0</td>\n",
       "      <td>0.0</td>\n",
       "      <td>0.0</td>\n",
       "      <td>0.0</td>\n",
       "      <td>0.0</td>\n",
       "      <td>0.0</td>\n",
       "      <td>0.0</td>\n",
       "      <td>0.0</td>\n",
       "      <td>0.0</td>\n",
       "      <td>0.0</td>\n",
       "      <td>0.0</td>\n",
       "      <td>0.0</td>\n",
       "      <td>0.0</td>\n",
       "      <td>0.0</td>\n",
       "      <td>0.0</td>\n",
       "      <td>0.0</td>\n",
       "      <td>0.0</td>\n",
       "      <td>0.0</td>\n",
       "      <td>1.0</td>\n",
       "      <td>0.0</td>\n",
       "    </tr>\n",
       "    <tr>\n",
       "      <th>2566</th>\n",
       "      <td>0.348837</td>\n",
       "      <td>0.933515</td>\n",
       "      <td>1.554217</td>\n",
       "      <td>-0.821429</td>\n",
       "      <td>-0.515152</td>\n",
       "      <td>-0.566038</td>\n",
       "      <td>-0.523918</td>\n",
       "      <td>-0.151762</td>\n",
       "      <td>0.619048</td>\n",
       "      <td>0.384615</td>\n",
       "      <td>0.000000</td>\n",
       "      <td>0.000</td>\n",
       "      <td>-0.50</td>\n",
       "      <td>-1.000000</td>\n",
       "      <td>0.0</td>\n",
       "      <td>0.166667</td>\n",
       "      <td>-0.583333</td>\n",
       "      <td>0.333333</td>\n",
       "      <td>0.0</td>\n",
       "      <td>0.0</td>\n",
       "      <td>0.0</td>\n",
       "      <td>0.0</td>\n",
       "      <td>-0.333333</td>\n",
       "      <td>-0.125</td>\n",
       "      <td>0.0</td>\n",
       "      <td>0.0</td>\n",
       "      <td>3.0</td>\n",
       "      <td>1.0</td>\n",
       "      <td>5.0</td>\n",
       "      <td>3.0</td>\n",
       "      <td>2.0</td>\n",
       "      <td>1.0</td>\n",
       "      <td>0.0</td>\n",
       "      <td>1.0</td>\n",
       "      <td>0.0</td>\n",
       "      <td>0.0</td>\n",
       "      <td>0.0</td>\n",
       "      <td>0.0</td>\n",
       "      <td>0.0</td>\n",
       "      <td>0.0</td>\n",
       "      <td>0.0</td>\n",
       "      <td>2.0</td>\n",
       "      <td>0.0</td>\n",
       "      <td>0.0</td>\n",
       "      <td>0.0</td>\n",
       "      <td>1.0</td>\n",
       "      <td>0.0</td>\n",
       "      <td>0.0</td>\n",
       "      <td>0.0</td>\n",
       "      <td>0.0</td>\n",
       "      <td>0.0</td>\n",
       "      <td>0.0</td>\n",
       "      <td>0.0</td>\n",
       "      <td>0.0</td>\n",
       "      <td>0.0</td>\n",
       "      <td>0.0</td>\n",
       "      <td>0.0</td>\n",
       "      <td>0.0</td>\n",
       "      <td>0.0</td>\n",
       "      <td>0.0</td>\n",
       "      <td>0.0</td>\n",
       "      <td>0.0</td>\n",
       "      <td>0.0</td>\n",
       "      <td>0.0</td>\n",
       "    </tr>\n",
       "    <tr>\n",
       "      <th>2567</th>\n",
       "      <td>0.395349</td>\n",
       "      <td>0.525351</td>\n",
       "      <td>-0.433735</td>\n",
       "      <td>-0.928571</td>\n",
       "      <td>-1.133333</td>\n",
       "      <td>-0.660377</td>\n",
       "      <td>-0.774487</td>\n",
       "      <td>0.151762</td>\n",
       "      <td>-0.380952</td>\n",
       "      <td>-0.384615</td>\n",
       "      <td>-4.650831</td>\n",
       "      <td>0.875</td>\n",
       "      <td>-0.50</td>\n",
       "      <td>-0.666667</td>\n",
       "      <td>0.0</td>\n",
       "      <td>-0.750000</td>\n",
       "      <td>-0.333333</td>\n",
       "      <td>3.000000</td>\n",
       "      <td>-0.4</td>\n",
       "      <td>0.0</td>\n",
       "      <td>-1.0</td>\n",
       "      <td>0.0</td>\n",
       "      <td>-0.333333</td>\n",
       "      <td>-0.125</td>\n",
       "      <td>0.0</td>\n",
       "      <td>0.0</td>\n",
       "      <td>1.0</td>\n",
       "      <td>0.0</td>\n",
       "      <td>5.0</td>\n",
       "      <td>3.0</td>\n",
       "      <td>10.0</td>\n",
       "      <td>1.0</td>\n",
       "      <td>1.0</td>\n",
       "      <td>0.0</td>\n",
       "      <td>0.0</td>\n",
       "      <td>0.0</td>\n",
       "      <td>0.0</td>\n",
       "      <td>0.0</td>\n",
       "      <td>0.0</td>\n",
       "      <td>0.0</td>\n",
       "      <td>0.0</td>\n",
       "      <td>2.0</td>\n",
       "      <td>0.0</td>\n",
       "      <td>0.0</td>\n",
       "      <td>0.0</td>\n",
       "      <td>0.0</td>\n",
       "      <td>0.0</td>\n",
       "      <td>0.0</td>\n",
       "      <td>0.0</td>\n",
       "      <td>0.0</td>\n",
       "      <td>0.0</td>\n",
       "      <td>0.0</td>\n",
       "      <td>0.0</td>\n",
       "      <td>0.0</td>\n",
       "      <td>0.0</td>\n",
       "      <td>0.0</td>\n",
       "      <td>0.0</td>\n",
       "      <td>0.0</td>\n",
       "      <td>0.0</td>\n",
       "      <td>0.0</td>\n",
       "      <td>0.0</td>\n",
       "      <td>0.0</td>\n",
       "      <td>0.0</td>\n",
       "      <td>0.0</td>\n",
       "    </tr>\n",
       "    <tr>\n",
       "      <th>2568</th>\n",
       "      <td>0.511628</td>\n",
       "      <td>0.280453</td>\n",
       "      <td>-0.927711</td>\n",
       "      <td>-0.910714</td>\n",
       "      <td>-0.818182</td>\n",
       "      <td>-0.849057</td>\n",
       "      <td>-0.091116</td>\n",
       "      <td>0.929359</td>\n",
       "      <td>-0.523810</td>\n",
       "      <td>-0.230769</td>\n",
       "      <td>3.349169</td>\n",
       "      <td>5.000</td>\n",
       "      <td>1.75</td>\n",
       "      <td>-0.333333</td>\n",
       "      <td>0.0</td>\n",
       "      <td>-0.333333</td>\n",
       "      <td>-0.333333</td>\n",
       "      <td>-0.333333</td>\n",
       "      <td>-0.4</td>\n",
       "      <td>0.0</td>\n",
       "      <td>0.0</td>\n",
       "      <td>1.0</td>\n",
       "      <td>1.000000</td>\n",
       "      <td>0.875</td>\n",
       "      <td>1.0</td>\n",
       "      <td>0.0</td>\n",
       "      <td>2.0</td>\n",
       "      <td>0.0</td>\n",
       "      <td>5.0</td>\n",
       "      <td>3.0</td>\n",
       "      <td>0.0</td>\n",
       "      <td>0.0</td>\n",
       "      <td>0.0</td>\n",
       "      <td>0.0</td>\n",
       "      <td>0.0</td>\n",
       "      <td>0.0</td>\n",
       "      <td>0.0</td>\n",
       "      <td>0.0</td>\n",
       "      <td>1.0</td>\n",
       "      <td>0.0</td>\n",
       "      <td>0.0</td>\n",
       "      <td>2.0</td>\n",
       "      <td>1.0</td>\n",
       "      <td>0.0</td>\n",
       "      <td>0.0</td>\n",
       "      <td>0.0</td>\n",
       "      <td>0.0</td>\n",
       "      <td>0.0</td>\n",
       "      <td>0.0</td>\n",
       "      <td>0.0</td>\n",
       "      <td>0.0</td>\n",
       "      <td>0.0</td>\n",
       "      <td>0.0</td>\n",
       "      <td>0.0</td>\n",
       "      <td>0.0</td>\n",
       "      <td>0.0</td>\n",
       "      <td>0.0</td>\n",
       "      <td>0.0</td>\n",
       "      <td>0.0</td>\n",
       "      <td>0.0</td>\n",
       "      <td>0.0</td>\n",
       "      <td>0.0</td>\n",
       "      <td>0.0</td>\n",
       "      <td>0.0</td>\n",
       "    </tr>\n",
       "    <tr>\n",
       "      <th>2569</th>\n",
       "      <td>-0.046512</td>\n",
       "      <td>-0.311383</td>\n",
       "      <td>-0.590361</td>\n",
       "      <td>-0.892857</td>\n",
       "      <td>-0.969697</td>\n",
       "      <td>-0.471698</td>\n",
       "      <td>-0.669704</td>\n",
       "      <td>0.125023</td>\n",
       "      <td>-0.190476</td>\n",
       "      <td>-0.923077</td>\n",
       "      <td>2.349169</td>\n",
       "      <td>4.500</td>\n",
       "      <td>2.00</td>\n",
       "      <td>-1.000000</td>\n",
       "      <td>0.0</td>\n",
       "      <td>0.000000</td>\n",
       "      <td>-0.416667</td>\n",
       "      <td>1.333333</td>\n",
       "      <td>-0.4</td>\n",
       "      <td>0.0</td>\n",
       "      <td>0.0</td>\n",
       "      <td>1.0</td>\n",
       "      <td>-0.333333</td>\n",
       "      <td>-0.125</td>\n",
       "      <td>0.0</td>\n",
       "      <td>0.0</td>\n",
       "      <td>3.0</td>\n",
       "      <td>0.0</td>\n",
       "      <td>5.0</td>\n",
       "      <td>3.0</td>\n",
       "      <td>5.0</td>\n",
       "      <td>1.0</td>\n",
       "      <td>0.0</td>\n",
       "      <td>0.0</td>\n",
       "      <td>0.0</td>\n",
       "      <td>0.0</td>\n",
       "      <td>0.0</td>\n",
       "      <td>0.0</td>\n",
       "      <td>1.0</td>\n",
       "      <td>0.0</td>\n",
       "      <td>0.0</td>\n",
       "      <td>2.0</td>\n",
       "      <td>1.0</td>\n",
       "      <td>0.0</td>\n",
       "      <td>0.0</td>\n",
       "      <td>0.0</td>\n",
       "      <td>0.0</td>\n",
       "      <td>0.0</td>\n",
       "      <td>0.0</td>\n",
       "      <td>0.0</td>\n",
       "      <td>0.0</td>\n",
       "      <td>1.0</td>\n",
       "      <td>0.0</td>\n",
       "      <td>0.0</td>\n",
       "      <td>0.0</td>\n",
       "      <td>0.0</td>\n",
       "      <td>0.0</td>\n",
       "      <td>0.0</td>\n",
       "      <td>0.0</td>\n",
       "      <td>0.0</td>\n",
       "      <td>0.0</td>\n",
       "      <td>0.0</td>\n",
       "      <td>0.0</td>\n",
       "      <td>0.0</td>\n",
       "    </tr>\n",
       "  </tbody>\n",
       "</table>\n",
       "<p>2570 rows × 64 columns</p>\n",
       "</div>"
      ],
      "text/plain": [
       "           sex       age      race  education_survey1       hdl       ldl  \\\n",
       "0     0.837209  0.688617  0.144578          -0.089286 -0.618182  0.188679   \n",
       "1     0.720930  0.464127  0.734940           0.089286 -0.363636  0.094340   \n",
       "2     0.209302  0.566168 -0.096386          -0.535714  0.000000 -1.320755   \n",
       "3     1.441860  2.055964 -0.518072          -0.714286 -0.060606 -0.981132   \n",
       "4     0.767442  0.341678 -0.481928           0.982143  2.454545  0.188679   \n",
       "...        ...       ...       ...                ...       ...       ...   \n",
       "2565  0.000000  0.280453  0.879518          -0.946429 -0.727273 -0.283019   \n",
       "2566  0.348837  0.933515  1.554217          -0.821429 -0.515152 -0.566038   \n",
       "2567  0.395349  0.525351 -0.433735          -0.928571 -1.133333 -0.660377   \n",
       "2568  0.511628  0.280453 -0.927711          -0.910714 -0.818182 -0.849057   \n",
       "2569 -0.046512 -0.311383 -0.590361          -0.892857 -0.969697 -0.471698   \n",
       "\n",
       "      total_cholesterol  triglycerides  heightcm  weightkg  hipgirthm  \\\n",
       "0             -0.364465       0.226920 -0.619048  0.153846   0.000000   \n",
       "1              0.045558       0.581752 -0.380952  0.384615   0.000000   \n",
       "2             -0.865604      -1.174345  0.238095  0.538462   0.000000   \n",
       "3             -1.116173      -1.497380 -0.047619  0.538462   0.000000   \n",
       "4              1.958998       0.361337  0.809524  1.000000   4.349169   \n",
       "...                 ...            ...       ...       ...        ...   \n",
       "2565          -0.820046      -0.406865  0.142857  0.153846   0.000000   \n",
       "2566          -0.523918      -0.151762  0.619048  0.384615   0.000000   \n",
       "2567          -0.774487       0.151762 -0.380952 -0.384615  -4.650831   \n",
       "2568          -0.091116       0.929359 -0.523810 -0.230769   3.349169   \n",
       "2569          -0.669704       0.125023 -0.190476 -0.923077   2.349169   \n",
       "\n",
       "      neckgirthm  waistgirthm  waisthip  sitsysm   sitdiam  cups_coffee  \\\n",
       "0          0.000        -0.50 -0.666667      0.0 -0.666667     0.583333   \n",
       "1          0.000        -0.50 -1.000000      0.0 -0.166667     0.750000   \n",
       "2          0.000        -0.50 -1.000000      0.0 -0.833333     0.083333   \n",
       "3          0.000        -0.50 -1.000000      0.0 -0.583333    -0.083333   \n",
       "4          4.125         0.00  1.666667      6.0 -0.250000    -1.000000   \n",
       "...          ...          ...       ...      ...       ...          ...   \n",
       "2565       0.000        -0.50 -1.000000      2.0 -0.250000    -0.750000   \n",
       "2566       0.000        -0.50 -1.000000      0.0  0.166667    -0.583333   \n",
       "2567       0.875        -0.50 -0.666667      0.0 -0.750000    -0.333333   \n",
       "2568       5.000         1.75 -0.333333      0.0 -0.333333    -0.333333   \n",
       "2569       4.500         2.00 -1.000000      0.0  0.000000    -0.416667   \n",
       "\n",
       "      caffeine  alcohol_wk  packs_week  pack_years  eval_general  eval_life  \\\n",
       "0     0.666667         0.0         0.0        -1.0          -1.0  -0.333333   \n",
       "1     0.666667         0.2         0.0        -1.0          -1.0  -0.333333   \n",
       "2     0.666667        -0.2         0.0         0.0           0.0  -0.333333   \n",
       "3    -0.333333         0.0         2.0        -1.0           0.0   1.000000   \n",
       "4    -0.666667        -0.4         0.0        -1.0           1.0   1.000000   \n",
       "...        ...         ...         ...         ...           ...        ...   \n",
       "2565  0.666667        -0.2         0.0         0.0          -1.0  -0.333333   \n",
       "2566  0.333333         0.0         0.0         0.0           0.0  -0.333333   \n",
       "2567  3.000000        -0.4         0.0        -1.0           0.0  -0.333333   \n",
       "2568 -0.333333        -0.4         0.0         0.0           1.0   1.000000   \n",
       "2569  1.333333        -0.4         0.0         0.0           1.0  -0.333333   \n",
       "\n",
       "      eval_health  naps  snore_freq  snore_vol  choke_freq  apnea_freq  \\\n",
       "0          -0.125   0.0         0.0        1.0         0.0         5.0   \n",
       "1          -0.125   0.0         0.0        2.0         0.0         5.0   \n",
       "2          -0.125   0.0         0.0        1.0         1.0         5.0   \n",
       "3          -0.125   0.0         0.0        2.0         1.0         5.0   \n",
       "4          -0.125   0.0         0.0        1.0         1.0         5.0   \n",
       "...           ...   ...         ...        ...         ...         ...   \n",
       "2565       -0.125   0.0         0.0        2.0         1.0         5.0   \n",
       "2566       -0.125   0.0         0.0        3.0         1.0         5.0   \n",
       "2567       -0.125   0.0         0.0        1.0         0.0         5.0   \n",
       "2568        0.875   1.0         0.0        2.0         0.0         5.0   \n",
       "2569       -0.125   0.0         0.0        3.0         0.0         5.0   \n",
       "\n",
       "      awake_freq  nasal_cong_none  any_cvd  hypertension_ynd  stroke_ynd  \\\n",
       "0            6.0              3.0      1.0               0.0         0.0   \n",
       "1            6.0              4.0      1.0               0.0         0.0   \n",
       "2            5.0              0.0      0.0               0.0         0.0   \n",
       "3            5.0              0.0      0.0               0.0         0.0   \n",
       "4            4.0              0.0      1.0               0.0         1.0   \n",
       "...          ...              ...      ...               ...         ...   \n",
       "2565         3.0              3.0      1.0               0.0         0.0   \n",
       "2566         3.0              2.0      1.0               0.0         1.0   \n",
       "2567         3.0             10.0      1.0               1.0         0.0   \n",
       "2568         3.0              0.0      0.0               0.0         0.0   \n",
       "2569         3.0              5.0      1.0               0.0         0.0   \n",
       "\n",
       "      diabetes_ynd  asthma_ynd  thyroid_ynd  arthritis_ynd  emphysema_ynd  \\\n",
       "0              0.0         0.0          0.0            0.0            0.0   \n",
       "1              0.0         0.0          0.0            0.0            0.0   \n",
       "2              0.0         0.0          0.0            0.0            0.0   \n",
       "3              0.0         0.0          0.0            0.0            0.0   \n",
       "4              0.0         0.0          0.0            1.0            0.0   \n",
       "...            ...         ...          ...            ...            ...   \n",
       "2565           0.0         0.0          0.0            0.0            0.0   \n",
       "2566           0.0         0.0          0.0            0.0            0.0   \n",
       "2567           0.0         0.0          0.0            0.0            0.0   \n",
       "2568           0.0         0.0          0.0            0.0            1.0   \n",
       "2569           0.0         0.0          0.0            0.0            1.0   \n",
       "\n",
       "      apnea  menopausal_status  num_pregnancies  asthma_med  cholesterol_med  \\\n",
       "0       0.0                0.0              2.0         0.0              0.0   \n",
       "1       0.0                0.0              2.0         0.0              0.0   \n",
       "2       0.0                0.0              0.0         0.0              0.0   \n",
       "3       0.0                0.0              2.0         0.0              0.0   \n",
       "4       0.0                1.0              4.0         0.0              0.0   \n",
       "...     ...                ...              ...         ...              ...   \n",
       "2565    0.0                0.0              2.0         0.0              0.0   \n",
       "2566    0.0                0.0              2.0         0.0              0.0   \n",
       "2567    0.0                0.0              2.0         0.0              0.0   \n",
       "2568    0.0                0.0              2.0         1.0              0.0   \n",
       "2569    0.0                0.0              2.0         1.0              0.0   \n",
       "\n",
       "      depression_med  htn_med  narcotics_med  decongestants_med  \\\n",
       "0                0.0      0.0            0.0                0.0   \n",
       "1                0.0      0.0            0.0                0.0   \n",
       "2                0.0      0.0            0.0                0.0   \n",
       "3                0.0      0.0            0.0                0.0   \n",
       "4                0.0      0.0            0.0                0.0   \n",
       "...              ...      ...            ...                ...   \n",
       "2565             0.0      0.0            0.0                0.0   \n",
       "2566             0.0      1.0            0.0                0.0   \n",
       "2567             0.0      0.0            0.0                0.0   \n",
       "2568             0.0      0.0            0.0                0.0   \n",
       "2569             0.0      0.0            0.0                0.0   \n",
       "\n",
       "      antihistamines_med  anxiety_med  diabetes_med  androgen_med  \\\n",
       "0                    0.0          0.0           0.0           0.0   \n",
       "1                    0.0          0.0           0.0           0.0   \n",
       "2                    1.0          0.0           0.0           0.0   \n",
       "3                    1.0          0.0           0.0           0.0   \n",
       "4                    0.0          0.0           0.0           0.0   \n",
       "...                  ...          ...           ...           ...   \n",
       "2565                 0.0          0.0           0.0           0.0   \n",
       "2566                 0.0          0.0           0.0           0.0   \n",
       "2567                 0.0          0.0           0.0           0.0   \n",
       "2568                 0.0          0.0           0.0           0.0   \n",
       "2569                 0.0          0.0           0.0           1.0   \n",
       "\n",
       "      sedative_med  stimulants_med  thyroid_med  x0_Hyperthyroid  \\\n",
       "0              0.0             0.0          0.0              0.0   \n",
       "1              0.0             0.0          0.0              0.0   \n",
       "2              0.0             0.0          0.0              0.0   \n",
       "3              0.0             0.0          0.0              0.0   \n",
       "4              0.0             0.0          1.0              0.0   \n",
       "...            ...             ...          ...              ...   \n",
       "2565           0.0             0.0          0.0              0.0   \n",
       "2566           0.0             0.0          0.0              0.0   \n",
       "2567           0.0             0.0          0.0              0.0   \n",
       "2568           0.0             0.0          0.0              0.0   \n",
       "2569           0.0             0.0          0.0              0.0   \n",
       "\n",
       "      x0_Hypothyroid  x0_Infection  x0_Nodule  x0_Thyroid Cancer  x0_Unknown  \\\n",
       "0                0.0           0.0        0.0                0.0         0.0   \n",
       "1                0.0           0.0        0.0                0.0         0.0   \n",
       "2                0.0           0.0        0.0                0.0         0.0   \n",
       "3                0.0           0.0        0.0                0.0         0.0   \n",
       "4                1.0           0.0        0.0                0.0         0.0   \n",
       "...              ...           ...        ...                ...         ...   \n",
       "2565             0.0           0.0        0.0                0.0         0.0   \n",
       "2566             0.0           0.0        0.0                0.0         0.0   \n",
       "2567             0.0           0.0        0.0                0.0         0.0   \n",
       "2568             0.0           0.0        0.0                0.0         0.0   \n",
       "2569             0.0           0.0        0.0                0.0         0.0   \n",
       "\n",
       "      x0_C  x0_N  x0_P  \n",
       "0      0.0   0.0   0.0  \n",
       "1      0.0   0.0   0.0  \n",
       "2      0.0   1.0   0.0  \n",
       "3      0.0   1.0   0.0  \n",
       "4      1.0   0.0   0.0  \n",
       "...    ...   ...   ...  \n",
       "2565   0.0   1.0   0.0  \n",
       "2566   0.0   0.0   0.0  \n",
       "2567   0.0   0.0   0.0  \n",
       "2568   0.0   0.0   0.0  \n",
       "2569   0.0   0.0   0.0  \n",
       "\n",
       "[2570 rows x 64 columns]"
      ]
     },
     "execution_count": 1452,
     "metadata": {},
     "output_type": "execute_result"
    }
   ],
   "source": [
    "X"
   ]
  },
  {
   "cell_type": "code",
   "execution_count": 1398,
   "id": "c97024ac",
   "metadata": {},
   "outputs": [],
   "source": [
    "#targs = ['tst', 'tst_rem', 'tst_nrem', 'tso', 'totsleep', 'ess','p_eval_sleep', 'a_eval_slept', 'a_eval_hour',\n",
    "     ##  'a_eval_sleep', 'ps_eds','se', 'waso','sleepiness', 'workday', 'weekend', 'ps_diff', 'ps_diff', 'ps_backsleep','ps_wakerepeat','ps_wakeup','ps_eds']"
   ]
  },
  {
   "cell_type": "code",
   "execution_count": 1453,
   "id": "d617be14",
   "metadata": {},
   "outputs": [
    {
     "data": {
      "text/plain": [
       "<AxesSubplot:>"
      ]
     },
     "execution_count": 1453,
     "metadata": {},
     "output_type": "execute_result"
    },
    {
     "data": {
      "image/png": "[encoded data removed]",
      "text/plain": [
       "<Figure size 432x288 with 1 Axes>"
      ]
     },
     "metadata": {
      "needs_background": "light"
     },
     "output_type": "display_data"
    }
   ],
   "source": [
    "waso.hist()"
   ]
  },
  {
   "cell_type": "code",
   "execution_count": 1521,
   "id": "0a2c41d3",
   "metadata": {},
   "outputs": [],
   "source": [
    "waso = data_df.waso\n",
    "waso = waso.reset_index(drop=True)\n",
    "waso[(waso <= 53)] = 0\n",
    "waso[(waso > 53)] = 1\n"
   ]
  },
  {
   "cell_type": "code",
   "execution_count": 1455,
   "id": "eb18f019",
   "metadata": {},
   "outputs": [],
   "source": [
    "se = data_df.se\n",
    "se = se.reset_index(drop=True)\n",
    "\n",
    "a = 85\n",
    "b = 95\n",
    "\n",
    "se[(se < a) | (se > b)] = 1\n",
    "se[(se >= a) & (se <= b)] = 0"
   ]
  },
  {
   "cell_type": "code",
   "execution_count": 1502,
   "id": "5ee580e7",
   "metadata": {},
   "outputs": [],
   "source": [
    "tst = data_df.tst\n",
    "tst = tst.reset_index(drop=True)\n",
    "a = 370\n",
    "b = 410\n",
    "\n",
    "tst[(tst < a) | (tst > b)] = 1\n",
    "tst[(tst >= a) & (tst <= b)] = 0"
   ]
  },
  {
   "cell_type": "code",
   "execution_count": 1530,
   "id": "57eacf28",
   "metadata": {},
   "outputs": [],
   "source": [
    "tso = data_df.tso\n",
    "tso = tso.reset_index(drop=True)\n",
    "\n",
    "a = 14\n",
    "b = 17\n",
    "\n",
    "tso[(tso < a) | (tso > b)] = 1\n",
    "tso[(tso >= a) & (tso <= b)] = 0"
   ]
  },
  {
   "cell_type": "code",
   "execution_count": 1531,
   "id": "1752771b",
   "metadata": {},
   "outputs": [
    {
     "data": {
      "text/plain": [
       "((2570,), <AxesSubplot:>)"
      ]
     },
     "execution_count": 1531,
     "metadata": {},
     "output_type": "execute_result"
    },
    {
     "data": {
      "image/png": "[encoded data removed]",
      "text/plain": [
       "<Figure size 432x288 with 1 Axes>"
      ]
     },
     "metadata": {
      "needs_background": "light"
     },
     "output_type": "display_data"
    }
   ],
   "source": [
    "y = tso\n",
    "y = y.reset_index(drop=True)\n",
    "y.shape, y.hist()"
   ]
  },
  {
   "cell_type": "code",
   "execution_count": 1532,
   "id": "e3cd06db",
   "metadata": {},
   "outputs": [],
   "source": [
    "X_train, X_test, y_train, y_test = train_test_split(X, y, test_size=0.15,\n",
    "                                                    random_state=42)"
   ]
  },
  {
   "cell_type": "code",
   "execution_count": 1533,
   "id": "b33fe161",
   "metadata": {},
   "outputs": [],
   "source": [
    "y_train = y_train.astype('int')"
   ]
  },
  {
   "cell_type": "code",
   "execution_count": 1534,
   "id": "d7e86d7c",
   "metadata": {},
   "outputs": [
    {
     "data": {
      "text/plain": [
       "1    1819\n",
       "0     365\n",
       "Name: tso, dtype: int64"
      ]
     },
     "execution_count": 1534,
     "metadata": {},
     "output_type": "execute_result"
    }
   ],
   "source": [
    "y_train.value_counts()"
   ]
  },
  {
   "cell_type": "code",
   "execution_count": 1535,
   "id": "aac10b1d",
   "metadata": {},
   "outputs": [],
   "source": [
    "#model1 = LogisticRegression(penalty = 'l1', solver = 'liblinear')\n",
    "model1 = LogisticRegression()"
   ]
  },
  {
   "cell_type": "code",
   "execution_count": 1536,
   "id": "e752e299",
   "metadata": {},
   "outputs": [],
   "source": [
    "from sklearn.ensemble import RandomForestClassifier\n",
    "from sklearn.datasets import make_classification"
   ]
  },
  {
   "cell_type": "code",
   "execution_count": 1537,
   "id": "a260e869",
   "metadata": {},
   "outputs": [],
   "source": [
    "model1 = RandomForestClassifier()"
   ]
  },
  {
   "cell_type": "code",
   "execution_count": 1539,
   "id": "00ee98bb",
   "metadata": {},
   "outputs": [
    {
     "data": {
      "text/plain": [
       "(0.8333340331282933, 1.0, 0.8332581077882111)"
      ]
     },
     "execution_count": 1539,
     "metadata": {},
     "output_type": "execute_result"
    }
   ],
   "source": [
    "cv_results = cross_validate(model1, X_train, y_train, cv=5, scoring=['accuracy', 'recall', 'precision'])\n",
    "sorted(cv_results.keys())\n",
    "cv_results['test_accuracy'].mean(), cv_results['test_recall'].mean(), cv_results['test_precision'].mean()"
   ]
  },
  {
   "cell_type": "code",
   "execution_count": 1412,
   "id": "9bdbaf6b",
   "metadata": {},
   "outputs": [],
   "source": [
    "from sklearn.dummy import DummyClassifier\n",
    "from sklearn.metrics import mean_absolute_error, accuracy_score, recall_score"
   ]
  },
  {
   "cell_type": "code",
   "execution_count": 1493,
   "id": "18d3edac",
   "metadata": {},
   "outputs": [
    {
     "data": {
      "text/plain": [
       "(0.6709844559585493, 0.8991596638655462)"
      ]
     },
     "execution_count": 1493,
     "metadata": {},
     "output_type": "execute_result"
    }
   ],
   "source": [
    "model1.fit(X_train, y_train)\n",
    "accuracy_score(y_test, model1.predict(X_test)), recall_score(y_test, model1.predict(X_test))"
   ]
  },
  {
   "cell_type": "code",
   "execution_count": 1414,
   "id": "89729af0",
   "metadata": {},
   "outputs": [
    {
     "data": {
      "text/html": [
       "<style>#sk-6022d5c4-be4f-470f-88a8-51d7e4d3bdaf {color: black;background-color: white;}#sk-6022d5c4-be4f-470f-88a8-51d7e4d3bdaf pre{padding: 0;}#sk-6022d5c4-be4f-470f-88a8-51d7e4d3bdaf div.sk-toggleable {background-color: white;}#sk-6022d5c4-be4f-470f-88a8-51d7e4d3bdaf label.sk-toggleable__label {cursor: pointer;display: block;width: 100%;margin-bottom: 0;padding: 0.2em 0.3em;box-sizing: border-box;text-align: center;}#sk-6022d5c4-be4f-470f-88a8-51d7e4d3bdaf div.sk-toggleable__content {max-height: 0;max-width: 0;overflow: hidden;text-align: left;background-color: #f0f8ff;}#sk-6022d5c4-be4f-470f-88a8-51d7e4d3bdaf div.sk-toggleable__content pre {margin: 0.2em;color: black;border-radius: 0.25em;background-color: #f0f8ff;}#sk-6022d5c4-be4f-470f-88a8-51d7e4d3bdaf input.sk-toggleable__control:checked~div.sk-toggleable__content {max-height: 200px;max-width: 100%;overflow: auto;}#sk-6022d5c4-be4f-470f-88a8-51d7e4d3bdaf div.sk-estimator input.sk-toggleable__control:checked~label.sk-toggleable__label {background-color: #d4ebff;}#sk-6022d5c4-be4f-470f-88a8-51d7e4d3bdaf div.sk-label input.sk-toggleable__control:checked~label.sk-toggleable__label {background-color: #d4ebff;}#sk-6022d5c4-be4f-470f-88a8-51d7e4d3bdaf input.sk-hidden--visually {border: 0;clip: rect(1px 1px 1px 1px);clip: rect(1px, 1px, 1px, 1px);height: 1px;margin: -1px;overflow: hidden;padding: 0;position: absolute;width: 1px;}#sk-6022d5c4-be4f-470f-88a8-51d7e4d3bdaf div.sk-estimator {font-family: monospace;background-color: #f0f8ff;margin: 0.25em 0.25em;border: 1px dotted black;border-radius: 0.25em;box-sizing: border-box;}#sk-6022d5c4-be4f-470f-88a8-51d7e4d3bdaf div.sk-estimator:hover {background-color: #d4ebff;}#sk-6022d5c4-be4f-470f-88a8-51d7e4d3bdaf div.sk-parallel-item::after {content: \"\";width: 100%;border-bottom: 1px solid gray;flex-grow: 1;}#sk-6022d5c4-be4f-470f-88a8-51d7e4d3bdaf div.sk-label:hover label.sk-toggleable__label {background-color: #d4ebff;}#sk-6022d5c4-be4f-470f-88a8-51d7e4d3bdaf div.sk-serial::before {content: \"\";position: absolute;border-left: 1px solid gray;box-sizing: border-box;top: 2em;bottom: 0;left: 50%;}#sk-6022d5c4-be4f-470f-88a8-51d7e4d3bdaf div.sk-serial {display: flex;flex-direction: column;align-items: center;background-color: white;}#sk-6022d5c4-be4f-470f-88a8-51d7e4d3bdaf div.sk-item {z-index: 1;}#sk-6022d5c4-be4f-470f-88a8-51d7e4d3bdaf div.sk-parallel {display: flex;align-items: stretch;justify-content: center;background-color: white;}#sk-6022d5c4-be4f-470f-88a8-51d7e4d3bdaf div.sk-parallel-item {display: flex;flex-direction: column;position: relative;background-color: white;}#sk-6022d5c4-be4f-470f-88a8-51d7e4d3bdaf div.sk-parallel-item:first-child::after {align-self: flex-end;width: 50%;}#sk-6022d5c4-be4f-470f-88a8-51d7e4d3bdaf div.sk-parallel-item:last-child::after {align-self: flex-start;width: 50%;}#sk-6022d5c4-be4f-470f-88a8-51d7e4d3bdaf div.sk-parallel-item:only-child::after {width: 0;}#sk-6022d5c4-be4f-470f-88a8-51d7e4d3bdaf div.sk-dashed-wrapped {border: 1px dashed gray;margin: 0.2em;box-sizing: border-box;padding-bottom: 0.1em;background-color: white;position: relative;}#sk-6022d5c4-be4f-470f-88a8-51d7e4d3bdaf div.sk-label label {font-family: monospace;font-weight: bold;background-color: white;display: inline-block;line-height: 1.2em;}#sk-6022d5c4-be4f-470f-88a8-51d7e4d3bdaf div.sk-label-container {position: relative;z-index: 2;text-align: center;}#sk-6022d5c4-be4f-470f-88a8-51d7e4d3bdaf div.sk-container {display: inline-block;position: relative;}</style><div id=\"sk-6022d5c4-be4f-470f-88a8-51d7e4d3bdaf\" class\"sk-top-container\"><div class=\"sk-container\"><div class=\"sk-item\"><div class=\"sk-estimator sk-toggleable\"><input class=\"sk-toggleable__control sk-hidden--visually\" id=\"6a69026c-494b-4be4-a894-84dc8d336fa7\" type=\"checkbox\" checked><label class=\"sk-toggleable__label\" for=\"6a69026c-494b-4be4-a894-84dc8d336fa7\">DummyClassifier</label><div class=\"sk-toggleable__content\"><pre>DummyClassifier()</pre></div></div></div></div></div>"
      ],
      "text/plain": [
       "DummyClassifier()"
      ]
     },
     "execution_count": 1414,
     "metadata": {},
     "output_type": "execute_result"
    }
   ],
   "source": [
    "dummy = DummyClassifier(strategy = \"prior\")\n",
    "dummy.fit(X_train, y_train)\n"
   ]
  },
  {
   "cell_type": "code",
   "execution_count": 1415,
   "id": "4911ed2e",
   "metadata": {},
   "outputs": [
    {
     "data": {
      "text/plain": [
       "(0.7928994082840237, 1.0)"
      ]
     },
     "execution_count": 1415,
     "metadata": {},
     "output_type": "execute_result"
    }
   ],
   "source": [
    "accuracy_score(y_test, dummy.predict(X_test)), recall_score(y_test, dummy.predict(X_test))"
   ]
  },
  {
   "cell_type": "code",
   "execution_count": 1416,
   "id": "4cff49de",
   "metadata": {},
   "outputs": [
    {
     "data": {
      "text/plain": [
       "['wsc_vst',\n",
       " 'sex',\n",
       " 'age',\n",
       " 'race',\n",
       " 'education_survey1',\n",
       " 'hdl',\n",
       " 'ldl',\n",
       " 'total_cholesterol',\n",
       " 'triglycerides',\n",
       " 'heightcm',\n",
       " 'weightkg',\n",
       " 'hipgirthm',\n",
       " 'neckgirthm',\n",
       " 'waistgirthm',\n",
       " 'waisthip',\n",
       " 'sitsysm',\n",
       " 'sitdiam',\n",
       " 'cups_coffee',\n",
       " 'caffeine',\n",
       " 'alcohol_wk',\n",
       " 'packs_week',\n",
       " 'pack_years',\n",
       " 'eval_general',\n",
       " 'eval_life',\n",
       " 'eval_health',\n",
       " 'naps',\n",
       " 'snore_freq',\n",
       " 'snore_vol',\n",
       " 'choke_freq',\n",
       " 'apnea_freq',\n",
       " 'awake_freq',\n",
       " 'nasal_cong_none',\n",
       " 'any_cvd',\n",
       " 'hypertension_ynd',\n",
       " 'stroke_ynd',\n",
       " 'diabetes_ynd',\n",
       " 'asthma_ynd',\n",
       " 'thyroid_ynd',\n",
       " 'arthritis_ynd',\n",
       " 'emphysema_ynd',\n",
       " 'apnea',\n",
       " 'menopausal_status',\n",
       " 'num_pregnancies',\n",
       " 'asthma_med',\n",
       " 'cholesterol_med',\n",
       " 'depression_med',\n",
       " 'htn_med',\n",
       " 'narcotics_med',\n",
       " 'decongestants_med',\n",
       " 'antihistamines_med',\n",
       " 'anxiety_med',\n",
       " 'diabetes_med',\n",
       " 'androgen_med',\n",
       " 'sedative_med',\n",
       " 'stimulants_med',\n",
       " 'thyroid_med',\n",
       " 'x0_Hyperthyroid',\n",
       " 'x0_Hypothyroid',\n",
       " 'x0_Nodule',\n",
       " 'x0_Thyroid Cancer',\n",
       " 'x0_Unknown',\n",
       " 'x0_C',\n",
       " 'x0_N',\n",
       " 'x0_P']"
      ]
     },
     "execution_count": 1416,
     "metadata": {},
     "output_type": "execute_result"
    }
   ],
   "source": [
    "X_train.columns.to_list()"
   ]
  },
  {
   "cell_type": "markdown",
   "id": "7d24844a",
   "metadata": {},
   "source": [
    "# Modelling"
   ]
  },
  {
   "cell_type": "code",
   "execution_count": 681,
   "id": "4d5b6076",
   "metadata": {},
   "outputs": [
    {
     "data": {
      "text/plain": [
       "<AxesSubplot:>"
      ]
     },
     "execution_count": 681,
     "metadata": {},
     "output_type": "execute_result"
    },
    {
     "data": {
      "image/png": "[encoded data removed]",
      "text/plain": [
       "<Figure size 432x288 with 1 Axes>"
      ]
     },
     "metadata": {
      "needs_background": "light"
     },
     "output_type": "display_data"
    }
   ],
   "source": [
    "y_train.hist()"
   ]
  },
  {
   "cell_type": "code",
   "execution_count": 682,
   "id": "a6ec4b04",
   "metadata": {},
   "outputs": [],
   "source": [
    "Xtrain, Xval, ytrain, yval = train_test_split(X_train, y_train, test_size=0.33)"
   ]
  },
  {
   "cell_type": "code",
   "execution_count": 683,
   "id": "a2446fe1",
   "metadata": {},
   "outputs": [],
   "source": [
    "from sklearn.preprocessing import KBinsDiscretizer\n",
    "from sklearn.linear_model import LogisticRegression\n",
    "from sklearn.model_selection import cross_val_score\n",
    "from sklearn.metrics import f1_score\n",
    "##, recall_score, precision_score, accuracy_score"
   ]
  },
  {
   "cell_type": "code",
   "execution_count": 698,
   "id": "63f07714",
   "metadata": {},
   "outputs": [],
   "source": []
  },
  {
   "cell_type": "code",
   "execution_count": 685,
   "id": "454058b0",
   "metadata": {},
   "outputs": [
    {
     "data": {
      "text/plain": [
       "['fit_time', 'score_time', 'test_neg_mean_absolute_error']"
      ]
     },
     "execution_count": 685,
     "metadata": {},
     "output_type": "execute_result"
    }
   ],
   "source": [
    "cv_results = cross_validate(model1, Xtrain, ytrain, cv=5, scoring=['neg_mean_absolute_error'])\n",
    "sorted(cv_results.keys())"
   ]
  },
  {
   "cell_type": "code",
   "execution_count": 686,
   "id": "fa64c0e5",
   "metadata": {},
   "outputs": [
    {
     "data": {
      "text/plain": [
       "-0.7982318017472406"
      ]
     },
     "execution_count": 686,
     "metadata": {},
     "output_type": "execute_result"
    }
   ],
   "source": [
    "cv_results['test_neg_mean_absolute_error'].mean()"
   ]
  },
  {
   "cell_type": "code",
   "execution_count": null,
   "id": "a6283e10",
   "metadata": {},
   "outputs": [],
   "source": []
  },
  {
   "cell_type": "code",
   "execution_count": null,
   "id": "4f6647c1",
   "metadata": {},
   "outputs": [],
   "source": []
  },
  {
   "cell_type": "code",
   "execution_count": null,
   "id": "c471dfb4",
   "metadata": {},
   "outputs": [],
   "source": []
  },
  {
   "cell_type": "code",
   "execution_count": null,
   "id": "72e7cf1a",
   "metadata": {},
   "outputs": [],
   "source": []
  },
  {
   "cell_type": "code",
   "execution_count": null,
   "id": "59ace3f5",
   "metadata": {},
   "outputs": [],
   "source": []
  },
  {
   "cell_type": "code",
   "execution_count": null,
   "id": "023446a7",
   "metadata": {},
   "outputs": [],
   "source": []
  },
  {
   "cell_type": "code",
   "execution_count": null,
   "id": "e85c1317",
   "metadata": {},
   "outputs": [],
   "source": [
    "model = LogisticRegression(multi_class='ovr', max_iter = 1000)"
   ]
  },
  {
   "cell_type": "code",
   "execution_count": null,
   "id": "2f8ef931",
   "metadata": {},
   "outputs": [],
   "source": [
    "model.fit(Xtrain_tr, ytrainbin_tr)\n",
    "ypred = model.predict(Xtrain_te)"
   ]
  },
  {
   "cell_type": "code",
   "execution_count": null,
   "id": "281c2352",
   "metadata": {},
   "outputs": [],
   "source": []
  },
  {
   "cell_type": "code",
   "execution_count": null,
   "id": "aa3ac086",
   "metadata": {},
   "outputs": [],
   "source": []
  },
  {
   "cell_type": "code",
   "execution_count": 117,
   "id": "86793cd3",
   "metadata": {},
   "outputs": [],
   "source": []
  },
  {
   "cell_type": "code",
   "execution_count": 118,
   "id": "b5346be1",
   "metadata": {},
   "outputs": [],
   "source": [
    "dummy = DummyRegressor(strategy='mean')"
   ]
  },
  {
   "cell_type": "code",
   "execution_count": 119,
   "id": "f60716c3",
   "metadata": {},
   "outputs": [
    {
     "data": {
      "text/html": [
       "<style>#sk-ce1fe6ab-427b-470e-acd9-f4c454110f7c {color: black;background-color: white;}#sk-ce1fe6ab-427b-470e-acd9-f4c454110f7c pre{padding: 0;}#sk-ce1fe6ab-427b-470e-acd9-f4c454110f7c div.sk-toggleable {background-color: white;}#sk-ce1fe6ab-427b-470e-acd9-f4c454110f7c label.sk-toggleable__label {cursor: pointer;display: block;width: 100%;margin-bottom: 0;padding: 0.2em 0.3em;box-sizing: border-box;text-align: center;}#sk-ce1fe6ab-427b-470e-acd9-f4c454110f7c div.sk-toggleable__content {max-height: 0;max-width: 0;overflow: hidden;text-align: left;background-color: #f0f8ff;}#sk-ce1fe6ab-427b-470e-acd9-f4c454110f7c div.sk-toggleable__content pre {margin: 0.2em;color: black;border-radius: 0.25em;background-color: #f0f8ff;}#sk-ce1fe6ab-427b-470e-acd9-f4c454110f7c input.sk-toggleable__control:checked~div.sk-toggleable__content {max-height: 200px;max-width: 100%;overflow: auto;}#sk-ce1fe6ab-427b-470e-acd9-f4c454110f7c div.sk-estimator input.sk-toggleable__control:checked~label.sk-toggleable__label {background-color: #d4ebff;}#sk-ce1fe6ab-427b-470e-acd9-f4c454110f7c div.sk-label input.sk-toggleable__control:checked~label.sk-toggleable__label {background-color: #d4ebff;}#sk-ce1fe6ab-427b-470e-acd9-f4c454110f7c input.sk-hidden--visually {border: 0;clip: rect(1px 1px 1px 1px);clip: rect(1px, 1px, 1px, 1px);height: 1px;margin: -1px;overflow: hidden;padding: 0;position: absolute;width: 1px;}#sk-ce1fe6ab-427b-470e-acd9-f4c454110f7c div.sk-estimator {font-family: monospace;background-color: #f0f8ff;margin: 0.25em 0.25em;border: 1px dotted black;border-radius: 0.25em;box-sizing: border-box;}#sk-ce1fe6ab-427b-470e-acd9-f4c454110f7c div.sk-estimator:hover {background-color: #d4ebff;}#sk-ce1fe6ab-427b-470e-acd9-f4c454110f7c div.sk-parallel-item::after {content: \"\";width: 100%;border-bottom: 1px solid gray;flex-grow: 1;}#sk-ce1fe6ab-427b-470e-acd9-f4c454110f7c div.sk-label:hover label.sk-toggleable__label {background-color: #d4ebff;}#sk-ce1fe6ab-427b-470e-acd9-f4c454110f7c div.sk-serial::before {content: \"\";position: absolute;border-left: 1px solid gray;box-sizing: border-box;top: 2em;bottom: 0;left: 50%;}#sk-ce1fe6ab-427b-470e-acd9-f4c454110f7c div.sk-serial {display: flex;flex-direction: column;align-items: center;background-color: white;}#sk-ce1fe6ab-427b-470e-acd9-f4c454110f7c div.sk-item {z-index: 1;}#sk-ce1fe6ab-427b-470e-acd9-f4c454110f7c div.sk-parallel {display: flex;align-items: stretch;justify-content: center;background-color: white;}#sk-ce1fe6ab-427b-470e-acd9-f4c454110f7c div.sk-parallel-item {display: flex;flex-direction: column;position: relative;background-color: white;}#sk-ce1fe6ab-427b-470e-acd9-f4c454110f7c div.sk-parallel-item:first-child::after {align-self: flex-end;width: 50%;}#sk-ce1fe6ab-427b-470e-acd9-f4c454110f7c div.sk-parallel-item:last-child::after {align-self: flex-start;width: 50%;}#sk-ce1fe6ab-427b-470e-acd9-f4c454110f7c div.sk-parallel-item:only-child::after {width: 0;}#sk-ce1fe6ab-427b-470e-acd9-f4c454110f7c div.sk-dashed-wrapped {border: 1px dashed gray;margin: 0.2em;box-sizing: border-box;padding-bottom: 0.1em;background-color: white;position: relative;}#sk-ce1fe6ab-427b-470e-acd9-f4c454110f7c div.sk-label label {font-family: monospace;font-weight: bold;background-color: white;display: inline-block;line-height: 1.2em;}#sk-ce1fe6ab-427b-470e-acd9-f4c454110f7c div.sk-label-container {position: relative;z-index: 2;text-align: center;}#sk-ce1fe6ab-427b-470e-acd9-f4c454110f7c div.sk-container {display: inline-block;position: relative;}</style><div id=\"sk-ce1fe6ab-427b-470e-acd9-f4c454110f7c\" class\"sk-top-container\"><div class=\"sk-container\"><div class=\"sk-item\"><div class=\"sk-estimator sk-toggleable\"><input class=\"sk-toggleable__control sk-hidden--visually\" id=\"b940e329-0934-4332-aea6-735a3d0a8b7b\" type=\"checkbox\" checked><label class=\"sk-toggleable__label\" for=\"b940e329-0934-4332-aea6-735a3d0a8b7b\">DummyRegressor</label><div class=\"sk-toggleable__content\"><pre>DummyRegressor()</pre></div></div></div></div></div>"
      ],
      "text/plain": [
       "DummyRegressor()"
      ]
     },
     "execution_count": 119,
     "metadata": {},
     "output_type": "execute_result"
    }
   ],
   "source": [
    "dummy.fit(Xtrain, ytrain)"
   ]
  },
  {
   "cell_type": "code",
   "execution_count": 120,
   "id": "a30bf5cc",
   "metadata": {},
   "outputs": [
    {
     "data": {
      "text/plain": [
       "-0.0036763961072932005"
      ]
     },
     "execution_count": 120,
     "metadata": {},
     "output_type": "execute_result"
    }
   ],
   "source": [
    "dummy.score(Xval, yval)"
   ]
  },
  {
   "cell_type": "code",
   "execution_count": 121,
   "id": "5f04ddf2",
   "metadata": {},
   "outputs": [
    {
     "data": {
      "text/plain": [
       "47.29975706088383"
      ]
     },
     "execution_count": 121,
     "metadata": {},
     "output_type": "execute_result"
    }
   ],
   "source": [
    "mean_absolute_error(yval, dummy.predict(Xval))"
   ]
  },
  {
   "cell_type": "code",
   "execution_count": 89,
   "id": "197b95c7",
   "metadata": {},
   "outputs": [
    {
     "data": {
      "text/plain": [
       "(315, 111)"
      ]
     },
     "execution_count": 89,
     "metadata": {},
     "output_type": "execute_result"
    }
   ],
   "source": []
  },
  {
   "cell_type": "code",
   "execution_count": null,
   "id": "bf0d5073",
   "metadata": {},
   "outputs": [],
   "source": []
  },
  {
   "cell_type": "code",
   "execution_count": null,
   "id": "765c7532",
   "metadata": {},
   "outputs": [],
   "source": []
  },
  {
   "cell_type": "code",
   "execution_count": null,
   "id": "4ac4ace2",
   "metadata": {},
   "outputs": [],
   "source": []
  }
 ],
 "metadata": {
  "kernelspec": {
   "display_name": "Python 3 (ipykernel)",
   "language": "python",
   "name": "python3"
  },
  "language_info": {
   "codemirror_mode": {
    "name": "ipython",
    "version": 3
   },
   "file_extension": ".py",
   "mimetype": "text/x-python",
   "name": "python",
   "nbconvert_exporter": "python",
   "pygments_lexer": "ipython3",
   "version": "3.8.6"
  },
  "toc": {
   "base_numbering": 1,
   "nav_menu": {},
   "number_sections": true,
   "sideBar": true,
   "skip_h1_title": false,
   "title_cell": "Table of Contents",
   "title_sidebar": "Contents",
   "toc_cell": false,
   "toc_position": {},
   "toc_section_display": true,
   "toc_window_display": false
  }
 },
 "nbformat": 4,
 "nbformat_minor": 5
}
