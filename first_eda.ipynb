{
 "cells": [
  {
   "cell_type": "code",
   "execution_count": 177,
   "id": "f44c4a0a",
   "metadata": {},
   "outputs": [],
   "source": [
    "import pandas as pd\n",
    "import numpy as np\n",
    "from sklearn.preprocessing import StandardScaler\n",
    "import matplotlib.pyplot as plt\n",
    "%matplotlib inline\n",
    "import seaborn as sns"
   ]
  },
  {
   "cell_type": "code",
   "execution_count": 178,
   "id": "41cea4cc",
   "metadata": {},
   "outputs": [],
   "source": [
    "file = r'/Users/richard/Documents/WSC - variable cross-check_v1.xlsx'\n",
    "data = r'/Users/richard/Downloads/wsc-dataset-0.2.0.csv'"
   ]
  },
  {
   "cell_type": "code",
   "execution_count": 179,
   "id": "3cd36673",
   "metadata": {},
   "outputs": [],
   "source": [
    "# Had to add the nrows variable as the Excel was pulling in 1,000s of rows for some reason\n",
    "df = pd.read_excel(file)\n",
    "data_df = pd.read_csv(data)"
   ]
  },
  {
   "cell_type": "code",
   "execution_count": 180,
   "id": "58a68280",
   "metadata": {
    "scrolled": true
   },
   "outputs": [
    {
     "data": {
      "text/html": [
       "<div>\n",
       "<style scoped>\n",
       "    .dataframe tbody tr th:only-of-type {\n",
       "        vertical-align: middle;\n",
       "    }\n",
       "\n",
       "    .dataframe tbody tr th {\n",
       "        vertical-align: top;\n",
       "    }\n",
       "\n",
       "    .dataframe thead th {\n",
       "        text-align: right;\n",
       "    }\n",
       "</style>\n",
       "<table border=\"1\" class=\"dataframe\">\n",
       "  <thead>\n",
       "    <tr style=\"text-align: right;\">\n",
       "      <th></th>\n",
       "      <th>Unnamed: 0</th>\n",
       "      <th>Check</th>\n",
       "      <th>Patient input</th>\n",
       "      <th>Dr Input</th>\n",
       "      <th>Calculated</th>\n",
       "      <th>Feature</th>\n",
       "      <th>Target</th>\n",
       "      <th>Proposed Removal</th>\n",
       "      <th>Action to take</th>\n",
       "      <th>Composite</th>\n",
       "      <th>Unnamed: 10</th>\n",
       "    </tr>\n",
       "  </thead>\n",
       "  <tbody>\n",
       "    <tr>\n",
       "      <th>234</th>\n",
       "      <td>se</td>\n",
       "      <td>NaN</td>\n",
       "      <td>NaN</td>\n",
       "      <td>NaN</td>\n",
       "      <td>NaN</td>\n",
       "      <td>NaN</td>\n",
       "      <td>T</td>\n",
       "      <td>NaN</td>\n",
       "      <td>NaN</td>\n",
       "      <td>NaN</td>\n",
       "      <td>NaN</td>\n",
       "    </tr>\n",
       "    <tr>\n",
       "      <th>235</th>\n",
       "      <td>waso</td>\n",
       "      <td>NaN</td>\n",
       "      <td>NaN</td>\n",
       "      <td>D</td>\n",
       "      <td>NaN</td>\n",
       "      <td>NaN</td>\n",
       "      <td>T</td>\n",
       "      <td>NaN</td>\n",
       "      <td>NaN</td>\n",
       "      <td>NaN</td>\n",
       "      <td>NaN</td>\n",
       "    </tr>\n",
       "    <tr>\n",
       "      <th>236</th>\n",
       "      <td>mean_desat_perc</td>\n",
       "      <td>NaN</td>\n",
       "      <td>NaN</td>\n",
       "      <td>NaN</td>\n",
       "      <td>NaN</td>\n",
       "      <td>NaN</td>\n",
       "      <td>NaN</td>\n",
       "      <td>R</td>\n",
       "      <td>NaN</td>\n",
       "      <td>NaN</td>\n",
       "      <td>NaN</td>\n",
       "    </tr>\n",
       "    <tr>\n",
       "      <th>237</th>\n",
       "      <td>mean_desat_dur</td>\n",
       "      <td>NaN</td>\n",
       "      <td>NaN</td>\n",
       "      <td>NaN</td>\n",
       "      <td>NaN</td>\n",
       "      <td>NaN</td>\n",
       "      <td>NaN</td>\n",
       "      <td>R</td>\n",
       "      <td>NaN</td>\n",
       "      <td>NaN</td>\n",
       "      <td>NaN</td>\n",
       "    </tr>\n",
       "    <tr>\n",
       "      <th>238</th>\n",
       "      <td>cvd_stroke_death</td>\n",
       "      <td>NaN</td>\n",
       "      <td>NaN</td>\n",
       "      <td>NaN</td>\n",
       "      <td>NaN</td>\n",
       "      <td>NaN</td>\n",
       "      <td>NaN</td>\n",
       "      <td>NaN</td>\n",
       "      <td>NaN</td>\n",
       "      <td>NaN</td>\n",
       "      <td>NaN</td>\n",
       "    </tr>\n",
       "  </tbody>\n",
       "</table>\n",
       "</div>"
      ],
      "text/plain": [
       "           Unnamed: 0 Check Patient input Dr Input Calculated Feature Target  \\\n",
       "234                se   NaN           NaN      NaN        NaN     NaN      T   \n",
       "235              waso   NaN           NaN        D        NaN     NaN      T   \n",
       "236   mean_desat_perc   NaN           NaN      NaN        NaN     NaN    NaN   \n",
       "237    mean_desat_dur   NaN           NaN      NaN        NaN     NaN    NaN   \n",
       "238  cvd_stroke_death   NaN           NaN      NaN        NaN     NaN    NaN   \n",
       "\n",
       "    Proposed Removal Action to take Composite Unnamed: 10  \n",
       "234              NaN            NaN       NaN         NaN  \n",
       "235              NaN            NaN       NaN         NaN  \n",
       "236                R            NaN       NaN         NaN  \n",
       "237                R            NaN       NaN         NaN  \n",
       "238              NaN            NaN       NaN         NaN  "
      ]
     },
     "execution_count": 180,
     "metadata": {},
     "output_type": "execute_result"
    }
   ],
   "source": [
    "df.tail()"
   ]
  },
  {
   "cell_type": "code",
   "execution_count": 181,
   "id": "8b50126c",
   "metadata": {},
   "outputs": [
    {
     "data": {
      "text/html": [
       "<div>\n",
       "<style scoped>\n",
       "    .dataframe tbody tr th:only-of-type {\n",
       "        vertical-align: middle;\n",
       "    }\n",
       "\n",
       "    .dataframe tbody tr th {\n",
       "        vertical-align: top;\n",
       "    }\n",
       "\n",
       "    .dataframe thead th {\n",
       "        text-align: right;\n",
       "    }\n",
       "</style>\n",
       "<table border=\"1\" class=\"dataframe\">\n",
       "  <thead>\n",
       "    <tr style=\"text-align: right;\">\n",
       "      <th></th>\n",
       "      <th>wsc_id</th>\n",
       "      <th>wsc_vst</th>\n",
       "      <th>vst_year</th>\n",
       "      <th>sex</th>\n",
       "      <th>age</th>\n",
       "      <th>race</th>\n",
       "      <th>education_survey1</th>\n",
       "      <th>creatinine</th>\n",
       "      <th>glucose</th>\n",
       "      <th>hdl</th>\n",
       "      <th>...</th>\n",
       "      <th>pcttstrem</th>\n",
       "      <th>avgo2sattst</th>\n",
       "      <th>minsao2tst</th>\n",
       "      <th>ptstl90</th>\n",
       "      <th>sleep_latency</th>\n",
       "      <th>rem_latency</th>\n",
       "      <th>se</th>\n",
       "      <th>waso</th>\n",
       "      <th>mean_desat_perc</th>\n",
       "      <th>mean_desat_dur</th>\n",
       "    </tr>\n",
       "  </thead>\n",
       "  <tbody>\n",
       "    <tr>\n",
       "      <th>0</th>\n",
       "      <td>10119</td>\n",
       "      <td>1</td>\n",
       "      <td>2003</td>\n",
       "      <td>M</td>\n",
       "      <td>52</td>\n",
       "      <td>5</td>\n",
       "      <td>6.0</td>\n",
       "      <td>0.9</td>\n",
       "      <td>89.0</td>\n",
       "      <td>52.0</td>\n",
       "      <td>...</td>\n",
       "      <td>10.5</td>\n",
       "      <td>96.7</td>\n",
       "      <td>93.8</td>\n",
       "      <td>0.0</td>\n",
       "      <td>7.0</td>\n",
       "      <td>87.0</td>\n",
       "      <td>83.0</td>\n",
       "      <td>65.0</td>\n",
       "      <td>3.42</td>\n",
       "      <td>27.4</td>\n",
       "    </tr>\n",
       "    <tr>\n",
       "      <th>1</th>\n",
       "      <td>10119</td>\n",
       "      <td>2</td>\n",
       "      <td>2008</td>\n",
       "      <td>M</td>\n",
       "      <td>58</td>\n",
       "      <td>5</td>\n",
       "      <td>6.0</td>\n",
       "      <td>0.8</td>\n",
       "      <td>95.0</td>\n",
       "      <td>36.0</td>\n",
       "      <td>...</td>\n",
       "      <td>10.8</td>\n",
       "      <td>96.9</td>\n",
       "      <td>86.4</td>\n",
       "      <td>0.0</td>\n",
       "      <td>4.0</td>\n",
       "      <td>145.5</td>\n",
       "      <td>93.3</td>\n",
       "      <td>27.0</td>\n",
       "      <td>3.65</td>\n",
       "      <td>31.0</td>\n",
       "    </tr>\n",
       "    <tr>\n",
       "      <th>2</th>\n",
       "      <td>10191</td>\n",
       "      <td>1</td>\n",
       "      <td>2001</td>\n",
       "      <td>F</td>\n",
       "      <td>50</td>\n",
       "      <td>5</td>\n",
       "      <td>5.0</td>\n",
       "      <td>0.8</td>\n",
       "      <td>96.0</td>\n",
       "      <td>77.0</td>\n",
       "      <td>...</td>\n",
       "      <td>30.8</td>\n",
       "      <td>97.2</td>\n",
       "      <td>94.2</td>\n",
       "      <td>0.0</td>\n",
       "      <td>7.0</td>\n",
       "      <td>117.0</td>\n",
       "      <td>87.1</td>\n",
       "      <td>44.0</td>\n",
       "      <td>3.70</td>\n",
       "      <td>29.1</td>\n",
       "    </tr>\n",
       "    <tr>\n",
       "      <th>3</th>\n",
       "      <td>10191</td>\n",
       "      <td>2</td>\n",
       "      <td>2004</td>\n",
       "      <td>F</td>\n",
       "      <td>53</td>\n",
       "      <td>5</td>\n",
       "      <td>5.0</td>\n",
       "      <td>0.7</td>\n",
       "      <td>74.0</td>\n",
       "      <td>104.0</td>\n",
       "      <td>...</td>\n",
       "      <td>22.5</td>\n",
       "      <td>96.6</td>\n",
       "      <td>85.9</td>\n",
       "      <td>0.0</td>\n",
       "      <td>5.0</td>\n",
       "      <td>95.0</td>\n",
       "      <td>85.4</td>\n",
       "      <td>62.5</td>\n",
       "      <td>3.62</td>\n",
       "      <td>37.9</td>\n",
       "    </tr>\n",
       "    <tr>\n",
       "      <th>4</th>\n",
       "      <td>10198</td>\n",
       "      <td>1</td>\n",
       "      <td>2003</td>\n",
       "      <td>F</td>\n",
       "      <td>57</td>\n",
       "      <td>5</td>\n",
       "      <td>4.0</td>\n",
       "      <td>0.9</td>\n",
       "      <td>103.0</td>\n",
       "      <td>48.0</td>\n",
       "      <td>...</td>\n",
       "      <td>18.1</td>\n",
       "      <td>95.3</td>\n",
       "      <td>87.2</td>\n",
       "      <td>0.7</td>\n",
       "      <td>7.0</td>\n",
       "      <td>109.5</td>\n",
       "      <td>83.7</td>\n",
       "      <td>58.0</td>\n",
       "      <td>4.12</td>\n",
       "      <td>37.0</td>\n",
       "    </tr>\n",
       "  </tbody>\n",
       "</table>\n",
       "<p>5 rows × 238 columns</p>\n",
       "</div>"
      ],
      "text/plain": [
       "   wsc_id  wsc_vst  vst_year sex  age  race  education_survey1  creatinine  \\\n",
       "0   10119        1      2003   M   52     5                6.0         0.9   \n",
       "1   10119        2      2008   M   58     5                6.0         0.8   \n",
       "2   10191        1      2001   F   50     5                5.0         0.8   \n",
       "3   10191        2      2004   F   53     5                5.0         0.7   \n",
       "4   10198        1      2003   F   57     5                4.0         0.9   \n",
       "\n",
       "   glucose    hdl  ...  pcttstrem  avgo2sattst  minsao2tst  ptstl90  \\\n",
       "0     89.0   52.0  ...       10.5         96.7        93.8      0.0   \n",
       "1     95.0   36.0  ...       10.8         96.9        86.4      0.0   \n",
       "2     96.0   77.0  ...       30.8         97.2        94.2      0.0   \n",
       "3     74.0  104.0  ...       22.5         96.6        85.9      0.0   \n",
       "4    103.0   48.0  ...       18.1         95.3        87.2      0.7   \n",
       "\n",
       "   sleep_latency  rem_latency    se  waso  mean_desat_perc  mean_desat_dur  \n",
       "0            7.0         87.0  83.0  65.0             3.42            27.4  \n",
       "1            4.0        145.5  93.3  27.0             3.65            31.0  \n",
       "2            7.0        117.0  87.1  44.0             3.70            29.1  \n",
       "3            5.0         95.0  85.4  62.5             3.62            37.9  \n",
       "4            7.0        109.5  83.7  58.0             4.12            37.0  \n",
       "\n",
       "[5 rows x 238 columns]"
      ]
     },
     "execution_count": 181,
     "metadata": {},
     "output_type": "execute_result"
    }
   ],
   "source": [
    "data_df.head()"
   ]
  },
  {
   "cell_type": "code",
   "execution_count": 182,
   "id": "d8fff690",
   "metadata": {},
   "outputs": [],
   "source": [
    "deleted = df[df['Proposed Removal'] == 'R']\n",
    "deleted_cols = deleted.iloc[:, 0]"
   ]
  },
  {
   "cell_type": "code",
   "execution_count": 183,
   "id": "52b6866c",
   "metadata": {
    "scrolled": true
   },
   "outputs": [
    {
     "data": {
      "text/plain": [
       "['vst_year',\n",
       " 'arm_left1',\n",
       " 'arm_left2',\n",
       " 'arm_right1',\n",
       " 'arm_right2',\n",
       " 'ankle_left1',\n",
       " 'ankle_left2',\n",
       " 'ankle_right1',\n",
       " 'ankle_right2',\n",
       " 'sit_sys_repeat',\n",
       " 'sit_dia_repeat',\n",
       " 'arm_left_repeat',\n",
       " 'arm_right_repeat',\n",
       " 'ankle_left_repeat',\n",
       " 'ankle_right_repeat',\n",
       " 'sit_sys_repeat2',\n",
       " 'sit_dia_repeat2',\n",
       " 'arm_left_repeat2',\n",
       " 'arm_right_repeat2',\n",
       " 'ankle_left_repeat2',\n",
       " 'ankle_right_repeat2',\n",
       " 'ep1',\n",
       " 'ep2',\n",
       " 'ep3',\n",
       " 'ep4',\n",
       " 'ep5',\n",
       " 'ep6',\n",
       " 'ep7',\n",
       " 'ep8',\n",
       " 'zung1_scored',\n",
       " 'zung2_scored',\n",
       " 'zung3_scored',\n",
       " 'zung4_scored',\n",
       " 'zung5_scored',\n",
       " 'zung6_scored',\n",
       " 'zung7_scored',\n",
       " 'zung8_scored',\n",
       " 'zung9_scored',\n",
       " 'zung10_scored',\n",
       " 'zung11_scored',\n",
       " 'zung12_scored',\n",
       " 'zung13_scored',\n",
       " 'zung14_scored',\n",
       " 'zung15_scored',\n",
       " 'zung16_scored',\n",
       " 'zung17_scored',\n",
       " 'zung18_scored',\n",
       " 'zung19_scored',\n",
       " 'zung20_scored',\n",
       " 'smoker',\n",
       " 'totsleepnap',\n",
       " 'ps_diff',\n",
       " 'ps_backsleep',\n",
       " 'ps_wakerepeat',\n",
       " 'ps_tooearly',\n",
       " 'ps_notrested',\n",
       " 'ps_wakeup',\n",
       " 'ps_nightmare',\n",
       " 'ninsomnia',\n",
       " 'ninsomniadays',\n",
       " 'nasal_cong_today',\n",
       " 'nasal_cong_tonight',\n",
       " 'coronary_year',\n",
       " 'angina_year',\n",
       " 'atheroscl_year',\n",
       " 'arrhythmia_year',\n",
       " 'heartattack_year',\n",
       " 'congestivehf_year',\n",
       " 'hypertension_year',\n",
       " 'stroke_year',\n",
       " 'diabetes_year',\n",
       " 'asthma_year',\n",
       " 'thyroid_year',\n",
       " 'arthritis_year',\n",
       " 'emphysema_year',\n",
       " 'apnea_year',\n",
       " 'apnea_need',\n",
       " 'apnea_treated',\n",
       " 'apnea_treatment1',\n",
       " 'apnea_treatment2',\n",
       " 'apnea_treatment3',\n",
       " 'apnea_treatment_year',\n",
       " 'apnea_treatment_help',\n",
       " 'comp_nights_wk',\n",
       " 'comp_hrnight',\n",
       " 'other_heart_surg',\n",
       " 'other_heart_surg2',\n",
       " 'reproductive_surg',\n",
       " 'reproductive_surg_type',\n",
       " 'reproductive_surg_year',\n",
       " 'time_since_last_period',\n",
       " 'psg_source',\n",
       " 'remahi',\n",
       " 'nremahi',\n",
       " 'pcttststagen1',\n",
       " 'pcttststagen2',\n",
       " 'pcttststage12',\n",
       " 'pcttststage34',\n",
       " 'pcttstrem',\n",
       " 'avgo2sattst',\n",
       " 'sleep_latency',\n",
       " 'rem_latency',\n",
       " 'mean_desat_perc',\n",
       " 'mean_desat_dur']"
      ]
     },
     "execution_count": 183,
     "metadata": {},
     "output_type": "execute_result"
    }
   ],
   "source": [
    "deleted_cols.to_list()"
   ]
  },
  {
   "cell_type": "code",
   "execution_count": 184,
   "id": "bce7ace5",
   "metadata": {},
   "outputs": [],
   "source": [
    "data_df = data_df.drop(deleted_cols.to_list(), axis=1)"
   ]
  },
  {
   "cell_type": "code",
   "execution_count": 185,
   "id": "324cc240",
   "metadata": {},
   "outputs": [
    {
     "data": {
      "text/plain": [
       "psg_oxygen         0.997665\n",
       "psg_cpap           0.935019\n",
       "cigars_day         0.919844\n",
       "bowls_day          0.917899\n",
       "thyroid_problem    0.867704\n",
       "                     ...   \n",
       "coronary_ynd       0.000000\n",
       "awake_freq         0.000000\n",
       "apnea_freq         0.000000\n",
       "choke_freq         0.000000\n",
       "waso               0.000000\n",
       "Length: 134, dtype: float64"
      ]
     },
     "execution_count": 185,
     "metadata": {},
     "output_type": "execute_result"
    }
   ],
   "source": [
    "data_df.isnull().sum().sort_values(ascending=False)/len(data_df)"
   ]
  },
  {
   "cell_type": "code",
   "execution_count": 186,
   "id": "e3be0ef2",
   "metadata": {},
   "outputs": [],
   "source": [
    "numerical_types = ['float64', 'int64']"
   ]
  },
  {
   "cell_type": "code",
   "execution_count": null,
   "id": "3960c613",
   "metadata": {},
   "outputs": [
    {
     "name": "stdout",
     "output_type": "stream",
     "text": [
      "wsc_id\n"
     ]
    },
    {
     "data": {
      "image/png": "[encoded data removed]",
      "text/plain": [
       "<Figure size 432x288 with 1 Axes>"
      ]
     },
     "metadata": {
      "needs_background": "light"
     },
     "output_type": "display_data"
    },
    {
     "name": "stdout",
     "output_type": "stream",
     "text": [
      "wsc_vst\n"
     ]
    },
    {
     "data": {
      "image/png": "[encoded data removed]",
      "text/plain": [
       "<Figure size 432x288 with 1 Axes>"
      ]
     },
     "metadata": {
      "needs_background": "light"
     },
     "output_type": "display_data"
    },
    {
     "name": "stdout",
     "output_type": "stream",
     "text": [
      "age\n"
     ]
    },
    {
     "data": {
      "image/png": "[encoded data removed]",
      "text/plain": [
       "<Figure size 432x288 with 1 Axes>"
      ]
     },
     "metadata": {
      "needs_background": "light"
     },
     "output_type": "display_data"
    },
    {
     "name": "stdout",
     "output_type": "stream",
     "text": [
      "race\n"
     ]
    },
    {
     "data": {
      "image/png": "[encoded data removed]",
      "text/plain": [
       "<Figure size 432x288 with 1 Axes>"
      ]
     },
     "metadata": {
      "needs_background": "light"
     },
     "output_type": "display_data"
    },
    {
     "name": "stdout",
     "output_type": "stream",
     "text": [
      "education_survey1\n"
     ]
    },
    {
     "data": {
      "image/png": "[encoded data removed]",
      "text/plain": [
       "<Figure size 432x288 with 1 Axes>"
      ]
     },
     "metadata": {
      "needs_background": "light"
     },
     "output_type": "display_data"
    },
    {
     "name": "stdout",
     "output_type": "stream",
     "text": [
      "creatinine\n"
     ]
    },
    {
     "data": {
      "image/png": "[encoded data removed]",
      "text/plain": [
       "<Figure size 432x288 with 1 Axes>"
      ]
     },
     "metadata": {
      "needs_background": "light"
     },
     "output_type": "display_data"
    },
    {
     "name": "stdout",
     "output_type": "stream",
     "text": [
      "glucose\n"
     ]
    },
    {
     "data": {
      "image/png": "[encoded data removed]",
      "text/plain": [
       "<Figure size 432x288 with 1 Axes>"
      ]
     },
     "metadata": {
      "needs_background": "light"
     },
     "output_type": "display_data"
    }
   ],
   "source": [
    "for col in data_df.select_dtypes(include=np.number):\n",
    "    print(col)\n",
    "    plt.hist(data_df[col])\n",
    "    plt.show();"
   ]
  },
  {
   "cell_type": "code",
   "execution_count": null,
   "id": "6355c61f",
   "metadata": {},
   "outputs": [],
   "source": [
    "imbalanced_classes = []\n",
    "for col in data_df.columns:\n",
    "    _ = data_df.columns.get_loc(col)\n",
    "    if data_df.iloc[:, _].value_counts(normalize=True).head(1).values > 0.9:\n",
    "        imbalanced_classes.append((col, data_df.iloc[:, _].value_counts(normalize=True).head(1).values.astype(float)))"
   ]
  },
  {
   "cell_type": "code",
   "execution_count": null,
   "id": "d258ae7b",
   "metadata": {},
   "outputs": [],
   "source": [
    "imbalanced_classes"
   ]
  },
  {
   "cell_type": "code",
   "execution_count": null,
   "id": "f7d575ce",
   "metadata": {},
   "outputs": [],
   "source": [
    "for col in imbalanced_classes:\n",
    "    print(col[0])\n",
    "    plt.hist(data_df[col[0]])\n",
    "    plt.show();"
   ]
  },
  {
   "cell_type": "code",
   "execution_count": null,
   "id": "a57c1a8f",
   "metadata": {},
   "outputs": [],
   "source": [
    "for col in imbalanced_classes:\n",
    "    print(col[0])"
   ]
  }
 ],
 "metadata": {
  "kernelspec": {
   "display_name": "Python 3 (ipykernel)",
   "language": "python",
   "name": "python3"
  },
  "language_info": {
   "codemirror_mode": {
    "name": "ipython",
    "version": 3
   },
   "file_extension": ".py",
   "mimetype": "text/x-python",
   "name": "python",
   "nbconvert_exporter": "python",
   "pygments_lexer": "ipython3",
   "version": "3.8.6"
  },
  "toc": {
   "base_numbering": 1,
   "nav_menu": {},
   "number_sections": true,
   "sideBar": true,
   "skip_h1_title": false,
   "title_cell": "Table of Contents",
   "title_sidebar": "Contents",
   "toc_cell": false,
   "toc_position": {},
   "toc_section_display": true,
   "toc_window_display": false
  }
 },
 "nbformat": 4,
 "nbformat_minor": 5
}
