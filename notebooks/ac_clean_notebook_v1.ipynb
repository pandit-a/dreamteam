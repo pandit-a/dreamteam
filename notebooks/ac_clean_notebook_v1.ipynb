{
 "cells": [
  {
   "cell_type": "code",
   "execution_count": 205,
   "id": "340d3779",
   "metadata": {},
   "outputs": [],
   "source": [
    "import pandas as pd\n",
    "import numpy as np\n",
    "from sklearn.preprocessing import StandardScaler, RobustScaler, MinMaxScaler\n",
    "import matplotlib.pyplot as plt\n",
    "%matplotlib inline\n",
    "import seaborn as sns\n",
    "\n",
    "##Script specific imports for feature encoding\n",
    "\n",
    "from sklearn.preprocessing import OneHotEncoder, LabelBinarizer\n",
    "from sklearn.compose import ColumnTransformer\n",
    "from sklearn.pipeline import Pipeline\n",
    "from sklearn.model_selection import cross_validate\n",
    "from sklearn import set_config\n",
    "from sklearn.metrics import mean_squared_error\n",
    "set_config(display='diagram')\n",
    "\n",
    "from sklearn.model_selection import train_test_split\n",
    "from sklearn.linear_model import LinearRegression"
   ]
  },
  {
   "cell_type": "code",
   "execution_count": 2,
   "id": "c065f5b7",
   "metadata": {},
   "outputs": [],
   "source": [
    "file = r'/home/alcatto/code/Al-Catto/project_sandbox/raw_data/WSC-variable_cross-check_v1.xlsx'\n",
    "data = r'/home/alcatto/code/Al-Catto/project_sandbox/raw_data/wsc-dataset-0.2.0.csv'"
   ]
  },
  {
   "cell_type": "code",
   "execution_count": 3,
   "id": "3b06988f",
   "metadata": {},
   "outputs": [],
   "source": [
    "df = pd.read_excel(file)\n",
    "data_df = pd.read_csv(data)"
   ]
  },
  {
   "cell_type": "code",
   "execution_count": 4,
   "id": "de2e5ecd",
   "metadata": {},
   "outputs": [],
   "source": [
    "data_df['nasal_cong_none'].fillna(0, inplace=True)"
   ]
  },
  {
   "cell_type": "code",
   "execution_count": 5,
   "id": "0cc82ee8",
   "metadata": {},
   "outputs": [],
   "source": [
    "deleted = df[df['Proposed Removal'] == 'R']\n",
    "deleted_cols = deleted.iloc[:, 0]"
   ]
  },
  {
   "cell_type": "code",
   "execution_count": 6,
   "id": "d3f15a94",
   "metadata": {},
   "outputs": [],
   "source": [
    "data_df = data_df.drop(deleted_cols.to_list(), axis=1)"
   ]
  },
  {
   "cell_type": "code",
   "execution_count": 7,
   "id": "09c1a4b2",
   "metadata": {},
   "outputs": [
    {
     "data": {
      "text/plain": [
       "psg_oxygen         0.997665\n",
       "psg_cpap           0.935019\n",
       "cigars_day         0.919844\n",
       "bowls_day          0.917899\n",
       "thyroid_problem    0.867704\n",
       "                     ...   \n",
       "nasal_cong_none    0.000000\n",
       "awake_freq         0.000000\n",
       "apnea_freq         0.000000\n",
       "choke_freq         0.000000\n",
       "waso               0.000000\n",
       "Length: 134, dtype: float64"
      ]
     },
     "execution_count": 7,
     "metadata": {},
     "output_type": "execute_result"
    }
   ],
   "source": [
    "data_df.isnull().sum().sort_values(ascending=False)/len(data_df)"
   ]
  },
  {
   "cell_type": "code",
   "execution_count": 8,
   "id": "56c6dabd",
   "metadata": {},
   "outputs": [],
   "source": [
    "balance_cutoff = 0.9\n",
    "imbalanced_classes = []\n",
    "for col in data_df.columns:\n",
    "    _ = data_df.columns.get_loc(col)\n",
    "    if data_df.iloc[:, _].value_counts(normalize=True).head(1).values > balance_cutoff:\n",
    "        imbalanced_classes.append((col, data_df.iloc[:, _].value_counts(normalize=True).head(1).values.astype(float)))"
   ]
  },
  {
   "cell_type": "code",
   "execution_count": 9,
   "id": "5e9d9f52",
   "metadata": {},
   "outputs": [
    {
     "data": {
      "text/plain": [
       "[('race', array([0.95836576])),\n",
       " ('coronary_ynd', array([0.9233463])),\n",
       " ('angina_ynd', array([0.96730245])),\n",
       " ('atheroscl_ynd', array([0.9758661])),\n",
       " ('heartattack_ynd', array([0.95679253])),\n",
       " ('congestivehf_ynd', array([0.98871595])),\n",
       " ('coronarybypass_ynd', array([0.95525292])),\n",
       " ('stroke_ynd', array([0.97743191])),\n",
       " ('emphysema_ynd', array([0.97898833])),\n",
       " ('angioplasty_ynd', array([0.95758755])),\n",
       " ('pacemaker_ynd', array([0.99105058])),\n",
       " ('coronary_artery_stent_ynd', array([0.9766537])),\n",
       " ('asthma_med', array([0.92140078])),\n",
       " ('asthma_rescue_med', array([0.96031128])),\n",
       " ('asthma_control_med', array([0.93696498])),\n",
       " ('dep_maoi_med', array([0.99922179])),\n",
       " ('dep_tca_med', array([0.9766537])),\n",
       " ('htn_alpha_med', array([0.96264591])),\n",
       " ('htn_arb_med', array([0.93190661])),\n",
       " ('narcotics_med', array([0.9766537])),\n",
       " ('decongestants_med', array([0.95914397])),\n",
       " ('anxiety_med', array([0.92801556])),\n",
       " ('estrogen_med', array([0.93385214])),\n",
       " ('androgen_med', array([0.99688716])),\n",
       " ('progesterone_med', array([0.96614786])),\n",
       " ('sedative_med', array([0.90155642])),\n",
       " ('stimulants_med', array([0.9848249])),\n",
       " ('psg_cpap', array([0.97005988])),\n",
       " ('psg_oxygen', array([1.]))]"
      ]
     },
     "execution_count": 9,
     "metadata": {},
     "output_type": "execute_result"
    }
   ],
   "source": [
    "imbalanced_classes"
   ]
  },
  {
   "cell_type": "code",
   "execution_count": 10,
   "id": "a515a35d",
   "metadata": {},
   "outputs": [
    {
     "data": {
      "text/plain": [
       "29"
      ]
     },
     "execution_count": 10,
     "metadata": {},
     "output_type": "execute_result"
    }
   ],
   "source": [
    "len(imbalanced_classes)"
   ]
  },
  {
   "cell_type": "code",
   "execution_count": 11,
   "id": "8bd52c21",
   "metadata": {},
   "outputs": [],
   "source": [
    "imbalanced_list = []\n",
    "for classes in imbalanced_classes:\n",
    "    imbalanced_list.append(classes[0])"
   ]
  },
  {
   "cell_type": "code",
   "execution_count": 12,
   "id": "b2ad7db9",
   "metadata": {},
   "outputs": [],
   "source": [
    "data_df.drop(imbalanced_list, axis=1, inplace=True)\n",
    "data_df.drop_duplicates('wsc_id', inplace=True)\n",
    "data_df.set_index('wsc_id', inplace=True)"
   ]
  },
  {
   "cell_type": "code",
   "execution_count": 13,
   "id": "8a2bb0fb",
   "metadata": {},
   "outputs": [],
   "source": [
    "objlist = []\n",
    "\n",
    "for n in data_df.dtypes[data_df.dtypes == 'object'].index:\n",
    "    objlist.append(n)"
   ]
  },
  {
   "cell_type": "code",
   "execution_count": 14,
   "id": "1308bdbe",
   "metadata": {},
   "outputs": [],
   "source": [
    "## Binariser -  should work if nans are present or not...\n",
    "\n",
    "for i,v in enumerate(objlist):\n",
    "    \n",
    "    ##columns with 2 variables eg. [N,Y] or [M,F]\n",
    "    \n",
    "    if len(data_df[v].unique()) == 2:\n",
    "        ##print(data_df[v].unique(),v)\n",
    "        data_df[objlist[i]].replace\\\n",
    "        ({data_df[objlist[i]].unique()[0]:0,data_df[objlist[i]].unique()[1]:1}, inplace=True)\n",
    "        \n",
    "    #### ALL columns with 3 variables - which appear like [N,Y,nan]\n",
    "    if len(data_df[v].unique()) == 3:\n",
    "        ##print(data_df[v].unique(),v)\n",
    "        data_df[objlist[i]].replace\\\n",
    "        ({'N':0,'Y':1}, inplace=True)"
   ]
  },
  {
   "cell_type": "code",
   "execution_count": 15,
   "id": "88caaad9",
   "metadata": {},
   "outputs": [],
   "source": [
    "#### ONE HOT ENCODER SCRIPT\n",
    "\n",
    "ohe = OneHotEncoder(handle_unknown='ignore',sparse=False)\n",
    "\n",
    "\n",
    "## Only variables which need OHE\n",
    "X1 = data_df[['thyroid_problem']]\n",
    "X2 = data_df[['hormone_therapy']]\n",
    "\n",
    "##fit transform, extract column names, make dataframe with column names, drop nan row\n",
    "\n",
    "X1t = ohe.fit_transform(X1)\n",
    "colnames = list(ohe.get_feature_names())\n",
    "X1df = pd.DataFrame(X1t, columns = colnames)\n",
    "X1df.drop(columns = 'x0_nan', inplace=True)\n",
    "X1df.index = data_df.index\n",
    "\n",
    "X2t = ohe.fit_transform(X2)\n",
    "colnames = list(ohe.get_feature_names())\n",
    "X2df = pd.DataFrame(X2t, columns = colnames)\n",
    "X2df.drop(columns = 'x0_nan', inplace=True)\n",
    "X2df.index = data_df.index\n",
    "\n",
    "frames = [data_df, X1df, X2df]\n",
    "data_df1 = pd.concat(frames, axis = 1, verify_integrity=True)\n",
    "\n",
    "##drop original row names\n",
    "\n",
    "data_df1.drop(columns = ['thyroid_problem','hormone_therapy'], inplace=True)"
   ]
  },
  {
   "cell_type": "code",
   "execution_count": 16,
   "id": "5ed470b6",
   "metadata": {},
   "outputs": [
    {
     "data": {
      "text/html": [
       "<div>\n",
       "<style scoped>\n",
       "    .dataframe tbody tr th:only-of-type {\n",
       "        vertical-align: middle;\n",
       "    }\n",
       "\n",
       "    .dataframe tbody tr th {\n",
       "        vertical-align: top;\n",
       "    }\n",
       "\n",
       "    .dataframe thead th {\n",
       "        text-align: right;\n",
       "    }\n",
       "</style>\n",
       "<table border=\"1\" class=\"dataframe\">\n",
       "  <thead>\n",
       "    <tr style=\"text-align: right;\">\n",
       "      <th></th>\n",
       "      <th>wsc_vst</th>\n",
       "      <th>sex</th>\n",
       "      <th>age</th>\n",
       "      <th>education_survey1</th>\n",
       "      <th>creatinine</th>\n",
       "      <th>glucose</th>\n",
       "      <th>hdl</th>\n",
       "      <th>ldl</th>\n",
       "      <th>total_cholesterol</th>\n",
       "      <th>triglycerides</th>\n",
       "      <th>...</th>\n",
       "      <th>se</th>\n",
       "      <th>waso</th>\n",
       "      <th>x0_Hyperthyroid</th>\n",
       "      <th>x0_Hypothyroid</th>\n",
       "      <th>x0_Nodule</th>\n",
       "      <th>x0_Thyroid Cancer</th>\n",
       "      <th>x0_Unknown</th>\n",
       "      <th>x0_C</th>\n",
       "      <th>x0_N</th>\n",
       "      <th>x0_P</th>\n",
       "    </tr>\n",
       "    <tr>\n",
       "      <th>wsc_id</th>\n",
       "      <th></th>\n",
       "      <th></th>\n",
       "      <th></th>\n",
       "      <th></th>\n",
       "      <th></th>\n",
       "      <th></th>\n",
       "      <th></th>\n",
       "      <th></th>\n",
       "      <th></th>\n",
       "      <th></th>\n",
       "      <th></th>\n",
       "      <th></th>\n",
       "      <th></th>\n",
       "      <th></th>\n",
       "      <th></th>\n",
       "      <th></th>\n",
       "      <th></th>\n",
       "      <th></th>\n",
       "      <th></th>\n",
       "      <th></th>\n",
       "      <th></th>\n",
       "    </tr>\n",
       "  </thead>\n",
       "  <tbody>\n",
       "    <tr>\n",
       "      <th>10119</th>\n",
       "      <td>1</td>\n",
       "      <td>0</td>\n",
       "      <td>52</td>\n",
       "      <td>6.0</td>\n",
       "      <td>0.90</td>\n",
       "      <td>89.0</td>\n",
       "      <td>52.0</td>\n",
       "      <td>149.0</td>\n",
       "      <td>228.0</td>\n",
       "      <td>137.0</td>\n",
       "      <td>...</td>\n",
       "      <td>83.0</td>\n",
       "      <td>65.0</td>\n",
       "      <td>0.0</td>\n",
       "      <td>0.0</td>\n",
       "      <td>0.0</td>\n",
       "      <td>0.0</td>\n",
       "      <td>0.0</td>\n",
       "      <td>0.0</td>\n",
       "      <td>0.0</td>\n",
       "      <td>0.0</td>\n",
       "    </tr>\n",
       "    <tr>\n",
       "      <th>10191</th>\n",
       "      <td>1</td>\n",
       "      <td>1</td>\n",
       "      <td>50</td>\n",
       "      <td>5.0</td>\n",
       "      <td>0.80</td>\n",
       "      <td>96.0</td>\n",
       "      <td>77.0</td>\n",
       "      <td>122.0</td>\n",
       "      <td>222.0</td>\n",
       "      <td>117.0</td>\n",
       "      <td>...</td>\n",
       "      <td>87.1</td>\n",
       "      <td>44.0</td>\n",
       "      <td>0.0</td>\n",
       "      <td>0.0</td>\n",
       "      <td>0.0</td>\n",
       "      <td>0.0</td>\n",
       "      <td>0.0</td>\n",
       "      <td>0.0</td>\n",
       "      <td>1.0</td>\n",
       "      <td>0.0</td>\n",
       "    </tr>\n",
       "    <tr>\n",
       "      <th>10198</th>\n",
       "      <td>1</td>\n",
       "      <td>1</td>\n",
       "      <td>57</td>\n",
       "      <td>4.0</td>\n",
       "      <td>0.90</td>\n",
       "      <td>103.0</td>\n",
       "      <td>48.0</td>\n",
       "      <td>146.0</td>\n",
       "      <td>211.0</td>\n",
       "      <td>85.0</td>\n",
       "      <td>...</td>\n",
       "      <td>83.7</td>\n",
       "      <td>58.0</td>\n",
       "      <td>0.0</td>\n",
       "      <td>1.0</td>\n",
       "      <td>0.0</td>\n",
       "      <td>0.0</td>\n",
       "      <td>0.0</td>\n",
       "      <td>1.0</td>\n",
       "      <td>0.0</td>\n",
       "      <td>0.0</td>\n",
       "    </tr>\n",
       "    <tr>\n",
       "      <th>10226</th>\n",
       "      <td>1</td>\n",
       "      <td>0</td>\n",
       "      <td>55</td>\n",
       "      <td>4.0</td>\n",
       "      <td>1.40</td>\n",
       "      <td>131.0</td>\n",
       "      <td>39.0</td>\n",
       "      <td>107.0</td>\n",
       "      <td>173.0</td>\n",
       "      <td>135.0</td>\n",
       "      <td>...</td>\n",
       "      <td>71.4</td>\n",
       "      <td>91.0</td>\n",
       "      <td>0.0</td>\n",
       "      <td>0.0</td>\n",
       "      <td>0.0</td>\n",
       "      <td>0.0</td>\n",
       "      <td>0.0</td>\n",
       "      <td>0.0</td>\n",
       "      <td>0.0</td>\n",
       "      <td>0.0</td>\n",
       "    </tr>\n",
       "    <tr>\n",
       "      <th>10241</th>\n",
       "      <td>1</td>\n",
       "      <td>1</td>\n",
       "      <td>51</td>\n",
       "      <td>4.0</td>\n",
       "      <td>0.90</td>\n",
       "      <td>102.0</td>\n",
       "      <td>37.0</td>\n",
       "      <td>135.0</td>\n",
       "      <td>228.0</td>\n",
       "      <td>281.0</td>\n",
       "      <td>...</td>\n",
       "      <td>81.6</td>\n",
       "      <td>66.5</td>\n",
       "      <td>0.0</td>\n",
       "      <td>0.0</td>\n",
       "      <td>0.0</td>\n",
       "      <td>0.0</td>\n",
       "      <td>0.0</td>\n",
       "      <td>0.0</td>\n",
       "      <td>1.0</td>\n",
       "      <td>0.0</td>\n",
       "    </tr>\n",
       "    <tr>\n",
       "      <th>...</th>\n",
       "      <td>...</td>\n",
       "      <td>...</td>\n",
       "      <td>...</td>\n",
       "      <td>...</td>\n",
       "      <td>...</td>\n",
       "      <td>...</td>\n",
       "      <td>...</td>\n",
       "      <td>...</td>\n",
       "      <td>...</td>\n",
       "      <td>...</td>\n",
       "      <td>...</td>\n",
       "      <td>...</td>\n",
       "      <td>...</td>\n",
       "      <td>...</td>\n",
       "      <td>...</td>\n",
       "      <td>...</td>\n",
       "      <td>...</td>\n",
       "      <td>...</td>\n",
       "      <td>...</td>\n",
       "      <td>...</td>\n",
       "      <td>...</td>\n",
       "    </tr>\n",
       "    <tr>\n",
       "      <th>99481</th>\n",
       "      <td>1</td>\n",
       "      <td>0</td>\n",
       "      <td>60</td>\n",
       "      <td>5.0</td>\n",
       "      <td>1.12</td>\n",
       "      <td>99.0</td>\n",
       "      <td>57.0</td>\n",
       "      <td>116.0</td>\n",
       "      <td>193.0</td>\n",
       "      <td>99.0</td>\n",
       "      <td>...</td>\n",
       "      <td>78.0</td>\n",
       "      <td>95.7</td>\n",
       "      <td>0.0</td>\n",
       "      <td>0.0</td>\n",
       "      <td>0.0</td>\n",
       "      <td>0.0</td>\n",
       "      <td>0.0</td>\n",
       "      <td>0.0</td>\n",
       "      <td>0.0</td>\n",
       "      <td>0.0</td>\n",
       "    </tr>\n",
       "    <tr>\n",
       "      <th>99651</th>\n",
       "      <td>1</td>\n",
       "      <td>0</td>\n",
       "      <td>69</td>\n",
       "      <td>5.0</td>\n",
       "      <td>1.40</td>\n",
       "      <td>206.0</td>\n",
       "      <td>36.0</td>\n",
       "      <td>112.0</td>\n",
       "      <td>184.0</td>\n",
       "      <td>181.0</td>\n",
       "      <td>...</td>\n",
       "      <td>87.5</td>\n",
       "      <td>47.0</td>\n",
       "      <td>0.0</td>\n",
       "      <td>0.0</td>\n",
       "      <td>0.0</td>\n",
       "      <td>0.0</td>\n",
       "      <td>0.0</td>\n",
       "      <td>0.0</td>\n",
       "      <td>0.0</td>\n",
       "      <td>0.0</td>\n",
       "    </tr>\n",
       "    <tr>\n",
       "      <th>99761</th>\n",
       "      <td>1</td>\n",
       "      <td>1</td>\n",
       "      <td>71</td>\n",
       "      <td>3.0</td>\n",
       "      <td>0.80</td>\n",
       "      <td>122.0</td>\n",
       "      <td>73.0</td>\n",
       "      <td>125.0</td>\n",
       "      <td>234.0</td>\n",
       "      <td>178.0</td>\n",
       "      <td>...</td>\n",
       "      <td>84.6</td>\n",
       "      <td>44.5</td>\n",
       "      <td>0.0</td>\n",
       "      <td>0.0</td>\n",
       "      <td>0.0</td>\n",
       "      <td>0.0</td>\n",
       "      <td>0.0</td>\n",
       "      <td>0.0</td>\n",
       "      <td>1.0</td>\n",
       "      <td>0.0</td>\n",
       "    </tr>\n",
       "    <tr>\n",
       "      <th>99782</th>\n",
       "      <td>1</td>\n",
       "      <td>1</td>\n",
       "      <td>52</td>\n",
       "      <td>3.0</td>\n",
       "      <td>0.80</td>\n",
       "      <td>89.0</td>\n",
       "      <td>68.0</td>\n",
       "      <td>112.0</td>\n",
       "      <td>202.0</td>\n",
       "      <td>109.0</td>\n",
       "      <td>...</td>\n",
       "      <td>83.2</td>\n",
       "      <td>47.5</td>\n",
       "      <td>0.0</td>\n",
       "      <td>0.0</td>\n",
       "      <td>0.0</td>\n",
       "      <td>0.0</td>\n",
       "      <td>0.0</td>\n",
       "      <td>0.0</td>\n",
       "      <td>1.0</td>\n",
       "      <td>0.0</td>\n",
       "    </tr>\n",
       "    <tr>\n",
       "      <th>99883</th>\n",
       "      <td>1</td>\n",
       "      <td>0</td>\n",
       "      <td>51</td>\n",
       "      <td>3.0</td>\n",
       "      <td>0.90</td>\n",
       "      <td>95.0</td>\n",
       "      <td>72.0</td>\n",
       "      <td>130.0</td>\n",
       "      <td>220.0</td>\n",
       "      <td>89.0</td>\n",
       "      <td>...</td>\n",
       "      <td>90.1</td>\n",
       "      <td>45.0</td>\n",
       "      <td>0.0</td>\n",
       "      <td>0.0</td>\n",
       "      <td>0.0</td>\n",
       "      <td>0.0</td>\n",
       "      <td>0.0</td>\n",
       "      <td>0.0</td>\n",
       "      <td>0.0</td>\n",
       "      <td>0.0</td>\n",
       "    </tr>\n",
       "  </tbody>\n",
       "</table>\n",
       "<p>1123 rows × 110 columns</p>\n",
       "</div>"
      ],
      "text/plain": [
       "        wsc_vst  sex  age  education_survey1  creatinine  glucose   hdl  \\\n",
       "wsc_id                                                                    \n",
       "10119         1    0   52                6.0        0.90     89.0  52.0   \n",
       "10191         1    1   50                5.0        0.80     96.0  77.0   \n",
       "10198         1    1   57                4.0        0.90    103.0  48.0   \n",
       "10226         1    0   55                4.0        1.40    131.0  39.0   \n",
       "10241         1    1   51                4.0        0.90    102.0  37.0   \n",
       "...         ...  ...  ...                ...         ...      ...   ...   \n",
       "99481         1    0   60                5.0        1.12     99.0  57.0   \n",
       "99651         1    0   69                5.0        1.40    206.0  36.0   \n",
       "99761         1    1   71                3.0        0.80    122.0  73.0   \n",
       "99782         1    1   52                3.0        0.80     89.0  68.0   \n",
       "99883         1    0   51                3.0        0.90     95.0  72.0   \n",
       "\n",
       "          ldl  total_cholesterol  triglycerides  ...    se  waso  \\\n",
       "wsc_id                                           ...               \n",
       "10119   149.0              228.0          137.0  ...  83.0  65.0   \n",
       "10191   122.0              222.0          117.0  ...  87.1  44.0   \n",
       "10198   146.0              211.0           85.0  ...  83.7  58.0   \n",
       "10226   107.0              173.0          135.0  ...  71.4  91.0   \n",
       "10241   135.0              228.0          281.0  ...  81.6  66.5   \n",
       "...       ...                ...            ...  ...   ...   ...   \n",
       "99481   116.0              193.0           99.0  ...  78.0  95.7   \n",
       "99651   112.0              184.0          181.0  ...  87.5  47.0   \n",
       "99761   125.0              234.0          178.0  ...  84.6  44.5   \n",
       "99782   112.0              202.0          109.0  ...  83.2  47.5   \n",
       "99883   130.0              220.0           89.0  ...  90.1  45.0   \n",
       "\n",
       "        x0_Hyperthyroid  x0_Hypothyroid  x0_Nodule  x0_Thyroid Cancer  \\\n",
       "wsc_id                                                                  \n",
       "10119               0.0             0.0        0.0                0.0   \n",
       "10191               0.0             0.0        0.0                0.0   \n",
       "10198               0.0             1.0        0.0                0.0   \n",
       "10226               0.0             0.0        0.0                0.0   \n",
       "10241               0.0             0.0        0.0                0.0   \n",
       "...                 ...             ...        ...                ...   \n",
       "99481               0.0             0.0        0.0                0.0   \n",
       "99651               0.0             0.0        0.0                0.0   \n",
       "99761               0.0             0.0        0.0                0.0   \n",
       "99782               0.0             0.0        0.0                0.0   \n",
       "99883               0.0             0.0        0.0                0.0   \n",
       "\n",
       "        x0_Unknown  x0_C  x0_N  x0_P  \n",
       "wsc_id                                \n",
       "10119          0.0   0.0   0.0   0.0  \n",
       "10191          0.0   0.0   1.0   0.0  \n",
       "10198          0.0   1.0   0.0   0.0  \n",
       "10226          0.0   0.0   0.0   0.0  \n",
       "10241          0.0   0.0   1.0   0.0  \n",
       "...            ...   ...   ...   ...  \n",
       "99481          0.0   0.0   0.0   0.0  \n",
       "99651          0.0   0.0   0.0   0.0  \n",
       "99761          0.0   0.0   1.0   0.0  \n",
       "99782          0.0   0.0   1.0   0.0  \n",
       "99883          0.0   0.0   0.0   0.0  \n",
       "\n",
       "[1123 rows x 110 columns]"
      ]
     },
     "execution_count": 16,
     "metadata": {},
     "output_type": "execute_result"
    }
   ],
   "source": [
    "data_df1"
   ]
  },
  {
   "cell_type": "code",
   "execution_count": 17,
   "id": "2922595c",
   "metadata": {},
   "outputs": [],
   "source": [
    "#y = data_df1.se\n",
    "#X = data_df1.drop('se', axis=1)"
   ]
  },
  {
   "cell_type": "code",
   "execution_count": 18,
   "id": "b6994450",
   "metadata": {},
   "outputs": [],
   "source": [
    "# X"
   ]
  },
  {
   "cell_type": "markdown",
   "id": "a4a65695",
   "metadata": {},
   "source": [
    "## exploration of TSO target"
   ]
  },
  {
   "cell_type": "code",
   "execution_count": 19,
   "id": "0285ec1f",
   "metadata": {},
   "outputs": [
    {
     "data": {
      "text/plain": [
       "(array([610., 343., 116.,  22.,  18.,   2.,   4.,   0.,   3.,   2.]),\n",
       " array([  0.,  15.,  30.,  45.,  60.,  75.,  90., 105., 120., 135., 150.]),\n",
       " <BarContainer object of 10 artists>)"
      ]
     },
     "execution_count": 19,
     "metadata": {},
     "output_type": "execute_result"
    },
    {
     "data": {
      "image/png": "[encoded data removed]",
      "text/plain": [
       "<Figure size 432x288 with 1 Axes>"
      ]
     },
     "metadata": {
      "needs_background": "light"
     },
     "output_type": "display_data"
    }
   ],
   "source": [
    "plt.hist(data_df1['tso'])"
   ]
  },
  {
   "cell_type": "markdown",
   "id": "3019d4b8",
   "metadata": {},
   "source": [
    "## "
   ]
  },
  {
   "cell_type": "markdown",
   "id": "e0e1a10e",
   "metadata": {},
   "source": [
    "## sorting categoricals & targets"
   ]
  },
  {
   "cell_type": "code",
   "execution_count": 20,
   "id": "9bea260e",
   "metadata": {},
   "outputs": [],
   "source": [
    "targets = ['tst', 'tst_rem', 'tst_nrem', 'tso', 'totsleep', 'ess','p_eval_sleep', 'a_eval_slept', 'a_eval_hour',\n",
    "       'a_eval_sleep', 'ps_eds', 'waso', 'se', 'sleepiness'\n",
    "          ]"
   ]
  },
  {
   "cell_type": "code",
   "execution_count": 21,
   "id": "ed643d97",
   "metadata": {},
   "outputs": [],
   "source": [
    "numerics = ['creatinine', 'glucose', 'hdl', 'ldl','total_cholesterol', 'triglycerides', 'uric_acid', 'weightkg', 'bmi',\n",
    "       'headcm', 'waist_girth1', 'waist_girth2', 'hip_girth1', 'hip_girth2',\n",
    "       'neck_girth1', 'neck_girth2', 'sit_sys1', 'sit_dia1', 'sit_sys2',\n",
    "       'sit_dia2', 'hipgirthm', 'neckgirthm', 'waistgirthm', 'waisthip',\n",
    "       'sitsysm', 'sitdiam', 'zung_score', 'zung_index', 'state',\n",
    "       'trait', 'beer_week', 'wine_week', 'hard_week', 'bowls_day', 'packs_week', 'cigars_day',\n",
    "       'smoke_years', 'pack_years','workday', 'weekend',\n",
    "       'naps', 'snore_freq',\n",
    "       'num_pregnancies', 'ahi',\n",
    "       'minsao2tst', 'ptstl90', 'age', 'heightcm', 'cans_cola', 'cups_coffee',\n",
    "       'caffeine', 'alcohol_wk','eval_general', 'eval_life','eval_health', \n",
    "       'snore_vol', 'choke_freq',\n",
    "       'apnea_freq', 'awake_freq', 'ho_score'\n",
    "           ]"
   ]
  },
  {
   "cell_type": "code",
   "execution_count": 22,
   "id": "62ee6560",
   "metadata": {},
   "outputs": [],
   "source": [
    "categoricals = data_df1.drop(columns = numerics)\n",
    "#categoricals = data_df1.drop(columns = targets)"
   ]
  },
  {
   "cell_type": "code",
   "execution_count": 23,
   "id": "f519528a",
   "metadata": {},
   "outputs": [],
   "source": [
    "ordinals = ['menopausal_status']"
   ]
  },
  {
   "cell_type": "code",
   "execution_count": 24,
   "id": "f7442279",
   "metadata": {},
   "outputs": [],
   "source": [
    "high_val_features = ['age',\n",
    " 'weightkg',\n",
    " 'bmi',\n",
    " 'neck_girth1',\n",
    " 'sit_sys1',\n",
    " 'sit_dia1',\n",
    " 'zung_score',\n",
    " 'zung_index',\n",
    " 'state',\n",
    " 'trait',\n",
    " 'caffeine',\n",
    " 'hard_week',\n",
    " 'alcohol_wk',\n",
    " 'bowls_day',\n",
    " 'packs_week',\n",
    " 'cigars_day',\n",
    " 'smoke_years',\n",
    " 'pack_years',\n",
    " 'eval_general',\n",
    " 'eval_life',\n",
    " 'eval_health',\n",
    " 'workday',\n",
    " 'weekend',\n",
    " 'snore_freq',\n",
    " 'snore_vol',\n",
    " 'choke_freq',\n",
    " 'apnea_freq']"
   ]
  },
  {
   "cell_type": "code",
   "execution_count": 25,
   "id": "9d0b98e1",
   "metadata": {},
   "outputs": [
    {
     "data": {
      "text/html": [
       "<div>\n",
       "<style scoped>\n",
       "    .dataframe tbody tr th:only-of-type {\n",
       "        vertical-align: middle;\n",
       "    }\n",
       "\n",
       "    .dataframe tbody tr th {\n",
       "        vertical-align: top;\n",
       "    }\n",
       "\n",
       "    .dataframe thead th {\n",
       "        text-align: right;\n",
       "    }\n",
       "</style>\n",
       "<table border=\"1\" class=\"dataframe\">\n",
       "  <thead>\n",
       "    <tr style=\"text-align: right;\">\n",
       "      <th></th>\n",
       "      <th>age</th>\n",
       "      <th>weightkg</th>\n",
       "      <th>bmi</th>\n",
       "      <th>neck_girth1</th>\n",
       "      <th>sit_sys1</th>\n",
       "      <th>sit_dia1</th>\n",
       "      <th>zung_score</th>\n",
       "      <th>zung_index</th>\n",
       "      <th>state</th>\n",
       "      <th>trait</th>\n",
       "      <th>...</th>\n",
       "      <th>pack_years</th>\n",
       "      <th>eval_general</th>\n",
       "      <th>eval_life</th>\n",
       "      <th>eval_health</th>\n",
       "      <th>workday</th>\n",
       "      <th>weekend</th>\n",
       "      <th>snore_freq</th>\n",
       "      <th>snore_vol</th>\n",
       "      <th>choke_freq</th>\n",
       "      <th>apnea_freq</th>\n",
       "    </tr>\n",
       "    <tr>\n",
       "      <th>wsc_id</th>\n",
       "      <th></th>\n",
       "      <th></th>\n",
       "      <th></th>\n",
       "      <th></th>\n",
       "      <th></th>\n",
       "      <th></th>\n",
       "      <th></th>\n",
       "      <th></th>\n",
       "      <th></th>\n",
       "      <th></th>\n",
       "      <th></th>\n",
       "      <th></th>\n",
       "      <th></th>\n",
       "      <th></th>\n",
       "      <th></th>\n",
       "      <th></th>\n",
       "      <th></th>\n",
       "      <th></th>\n",
       "      <th></th>\n",
       "      <th></th>\n",
       "      <th></th>\n",
       "    </tr>\n",
       "  </thead>\n",
       "  <tbody>\n",
       "    <tr>\n",
       "      <th>10119</th>\n",
       "      <td>52</td>\n",
       "      <td>85.5</td>\n",
       "      <td>27.6</td>\n",
       "      <td>39.5</td>\n",
       "      <td>112.0</td>\n",
       "      <td>78.0</td>\n",
       "      <td>24.0</td>\n",
       "      <td>30.00</td>\n",
       "      <td>20.0</td>\n",
       "      <td>24.0</td>\n",
       "      <td>...</td>\n",
       "      <td>0.000000</td>\n",
       "      <td>1</td>\n",
       "      <td>1</td>\n",
       "      <td>1</td>\n",
       "      <td>7.5</td>\n",
       "      <td>8.0</td>\n",
       "      <td>2.0</td>\n",
       "      <td>1</td>\n",
       "      <td>1</td>\n",
       "      <td>1</td>\n",
       "    </tr>\n",
       "    <tr>\n",
       "      <th>10191</th>\n",
       "      <td>50</td>\n",
       "      <td>73.0</td>\n",
       "      <td>25.3</td>\n",
       "      <td>31.5</td>\n",
       "      <td>132.0</td>\n",
       "      <td>84.0</td>\n",
       "      <td>31.0</td>\n",
       "      <td>38.75</td>\n",
       "      <td>27.4</td>\n",
       "      <td>24.0</td>\n",
       "      <td>...</td>\n",
       "      <td>0.000000</td>\n",
       "      <td>1</td>\n",
       "      <td>2</td>\n",
       "      <td>2</td>\n",
       "      <td>6.5</td>\n",
       "      <td>10.5</td>\n",
       "      <td>1.0</td>\n",
       "      <td>1</td>\n",
       "      <td>1</td>\n",
       "      <td>1</td>\n",
       "    </tr>\n",
       "    <tr>\n",
       "      <th>10198</th>\n",
       "      <td>57</td>\n",
       "      <td>115.5</td>\n",
       "      <td>46.9</td>\n",
       "      <td>39.5</td>\n",
       "      <td>142.0</td>\n",
       "      <td>88.0</td>\n",
       "      <td>30.0</td>\n",
       "      <td>37.50</td>\n",
       "      <td>25.3</td>\n",
       "      <td>28.0</td>\n",
       "      <td>...</td>\n",
       "      <td>47.142857</td>\n",
       "      <td>1</td>\n",
       "      <td>1</td>\n",
       "      <td>3</td>\n",
       "      <td>6.5</td>\n",
       "      <td>9.0</td>\n",
       "      <td>9.0</td>\n",
       "      <td>9</td>\n",
       "      <td>1</td>\n",
       "      <td>1</td>\n",
       "    </tr>\n",
       "    <tr>\n",
       "      <th>10226</th>\n",
       "      <td>55</td>\n",
       "      <td>79.2</td>\n",
       "      <td>26.5</td>\n",
       "      <td>39.5</td>\n",
       "      <td>128.0</td>\n",
       "      <td>76.0</td>\n",
       "      <td>34.0</td>\n",
       "      <td>42.50</td>\n",
       "      <td>37.9</td>\n",
       "      <td>36.0</td>\n",
       "      <td>...</td>\n",
       "      <td>78.000000</td>\n",
       "      <td>1</td>\n",
       "      <td>3</td>\n",
       "      <td>3</td>\n",
       "      <td>7.0</td>\n",
       "      <td>9.0</td>\n",
       "      <td>5.0</td>\n",
       "      <td>4</td>\n",
       "      <td>2</td>\n",
       "      <td>9</td>\n",
       "    </tr>\n",
       "    <tr>\n",
       "      <th>10241</th>\n",
       "      <td>51</td>\n",
       "      <td>100.6</td>\n",
       "      <td>34.4</td>\n",
       "      <td>42.0</td>\n",
       "      <td>140.0</td>\n",
       "      <td>88.0</td>\n",
       "      <td>31.0</td>\n",
       "      <td>38.75</td>\n",
       "      <td>21.1</td>\n",
       "      <td>25.0</td>\n",
       "      <td>...</td>\n",
       "      <td>1.142857</td>\n",
       "      <td>2</td>\n",
       "      <td>1</td>\n",
       "      <td>5</td>\n",
       "      <td>5.5</td>\n",
       "      <td>6.5</td>\n",
       "      <td>4.0</td>\n",
       "      <td>2</td>\n",
       "      <td>9</td>\n",
       "      <td>9</td>\n",
       "    </tr>\n",
       "    <tr>\n",
       "      <th>...</th>\n",
       "      <td>...</td>\n",
       "      <td>...</td>\n",
       "      <td>...</td>\n",
       "      <td>...</td>\n",
       "      <td>...</td>\n",
       "      <td>...</td>\n",
       "      <td>...</td>\n",
       "      <td>...</td>\n",
       "      <td>...</td>\n",
       "      <td>...</td>\n",
       "      <td>...</td>\n",
       "      <td>...</td>\n",
       "      <td>...</td>\n",
       "      <td>...</td>\n",
       "      <td>...</td>\n",
       "      <td>...</td>\n",
       "      <td>...</td>\n",
       "      <td>...</td>\n",
       "      <td>...</td>\n",
       "      <td>...</td>\n",
       "      <td>...</td>\n",
       "    </tr>\n",
       "    <tr>\n",
       "      <th>99481</th>\n",
       "      <td>60</td>\n",
       "      <td>84.0</td>\n",
       "      <td>25.6</td>\n",
       "      <td>40.0</td>\n",
       "      <td>118.0</td>\n",
       "      <td>77.0</td>\n",
       "      <td>22.0</td>\n",
       "      <td>27.50</td>\n",
       "      <td>20.0</td>\n",
       "      <td>21.0</td>\n",
       "      <td>...</td>\n",
       "      <td>0.000000</td>\n",
       "      <td>1</td>\n",
       "      <td>1</td>\n",
       "      <td>2</td>\n",
       "      <td>6.0</td>\n",
       "      <td>8.0</td>\n",
       "      <td>2.0</td>\n",
       "      <td>2</td>\n",
       "      <td>1</td>\n",
       "      <td>1</td>\n",
       "    </tr>\n",
       "    <tr>\n",
       "      <th>99651</th>\n",
       "      <td>69</td>\n",
       "      <td>102.5</td>\n",
       "      <td>35.1</td>\n",
       "      <td>46.0</td>\n",
       "      <td>154.0</td>\n",
       "      <td>106.0</td>\n",
       "      <td>28.0</td>\n",
       "      <td>35.00</td>\n",
       "      <td>20.0</td>\n",
       "      <td>22.0</td>\n",
       "      <td>...</td>\n",
       "      <td>2.857143</td>\n",
       "      <td>1</td>\n",
       "      <td>1</td>\n",
       "      <td>2</td>\n",
       "      <td>7.0</td>\n",
       "      <td>7.0</td>\n",
       "      <td>5.0</td>\n",
       "      <td>4</td>\n",
       "      <td>9</td>\n",
       "      <td>9</td>\n",
       "    </tr>\n",
       "    <tr>\n",
       "      <th>99761</th>\n",
       "      <td>71</td>\n",
       "      <td>94.0</td>\n",
       "      <td>40.7</td>\n",
       "      <td>35.5</td>\n",
       "      <td>160.0</td>\n",
       "      <td>88.0</td>\n",
       "      <td>33.0</td>\n",
       "      <td>41.25</td>\n",
       "      <td>32.6</td>\n",
       "      <td>30.0</td>\n",
       "      <td>...</td>\n",
       "      <td>0.000000</td>\n",
       "      <td>1</td>\n",
       "      <td>1</td>\n",
       "      <td>2</td>\n",
       "      <td>7.5</td>\n",
       "      <td>9.0</td>\n",
       "      <td>5.0</td>\n",
       "      <td>3</td>\n",
       "      <td>9</td>\n",
       "      <td>9</td>\n",
       "    </tr>\n",
       "    <tr>\n",
       "      <th>99782</th>\n",
       "      <td>52</td>\n",
       "      <td>63.5</td>\n",
       "      <td>24.8</td>\n",
       "      <td>36.0</td>\n",
       "      <td>132.0</td>\n",
       "      <td>80.0</td>\n",
       "      <td>29.0</td>\n",
       "      <td>36.25</td>\n",
       "      <td>24.2</td>\n",
       "      <td>30.0</td>\n",
       "      <td>...</td>\n",
       "      <td>0.000000</td>\n",
       "      <td>1</td>\n",
       "      <td>2</td>\n",
       "      <td>1</td>\n",
       "      <td>8.0</td>\n",
       "      <td>8.0</td>\n",
       "      <td>1.0</td>\n",
       "      <td>9</td>\n",
       "      <td>1</td>\n",
       "      <td>1</td>\n",
       "    </tr>\n",
       "    <tr>\n",
       "      <th>99883</th>\n",
       "      <td>51</td>\n",
       "      <td>62.0</td>\n",
       "      <td>22.8</td>\n",
       "      <td>35.0</td>\n",
       "      <td>120.0</td>\n",
       "      <td>72.0</td>\n",
       "      <td>23.0</td>\n",
       "      <td>28.75</td>\n",
       "      <td>29.5</td>\n",
       "      <td>30.0</td>\n",
       "      <td>...</td>\n",
       "      <td>10.000000</td>\n",
       "      <td>1</td>\n",
       "      <td>1</td>\n",
       "      <td>2</td>\n",
       "      <td>7.0</td>\n",
       "      <td>7.0</td>\n",
       "      <td>2.0</td>\n",
       "      <td>1</td>\n",
       "      <td>1</td>\n",
       "      <td>1</td>\n",
       "    </tr>\n",
       "  </tbody>\n",
       "</table>\n",
       "<p>1123 rows × 27 columns</p>\n",
       "</div>"
      ],
      "text/plain": [
       "        age  weightkg   bmi  neck_girth1  sit_sys1  sit_dia1  zung_score  \\\n",
       "wsc_id                                                                     \n",
       "10119    52      85.5  27.6         39.5     112.0      78.0        24.0   \n",
       "10191    50      73.0  25.3         31.5     132.0      84.0        31.0   \n",
       "10198    57     115.5  46.9         39.5     142.0      88.0        30.0   \n",
       "10226    55      79.2  26.5         39.5     128.0      76.0        34.0   \n",
       "10241    51     100.6  34.4         42.0     140.0      88.0        31.0   \n",
       "...     ...       ...   ...          ...       ...       ...         ...   \n",
       "99481    60      84.0  25.6         40.0     118.0      77.0        22.0   \n",
       "99651    69     102.5  35.1         46.0     154.0     106.0        28.0   \n",
       "99761    71      94.0  40.7         35.5     160.0      88.0        33.0   \n",
       "99782    52      63.5  24.8         36.0     132.0      80.0        29.0   \n",
       "99883    51      62.0  22.8         35.0     120.0      72.0        23.0   \n",
       "\n",
       "        zung_index  state  trait  ...  pack_years  eval_general  eval_life  \\\n",
       "wsc_id                            ...                                        \n",
       "10119        30.00   20.0   24.0  ...    0.000000             1          1   \n",
       "10191        38.75   27.4   24.0  ...    0.000000             1          2   \n",
       "10198        37.50   25.3   28.0  ...   47.142857             1          1   \n",
       "10226        42.50   37.9   36.0  ...   78.000000             1          3   \n",
       "10241        38.75   21.1   25.0  ...    1.142857             2          1   \n",
       "...            ...    ...    ...  ...         ...           ...        ...   \n",
       "99481        27.50   20.0   21.0  ...    0.000000             1          1   \n",
       "99651        35.00   20.0   22.0  ...    2.857143             1          1   \n",
       "99761        41.25   32.6   30.0  ...    0.000000             1          1   \n",
       "99782        36.25   24.2   30.0  ...    0.000000             1          2   \n",
       "99883        28.75   29.5   30.0  ...   10.000000             1          1   \n",
       "\n",
       "        eval_health  workday  weekend  snore_freq  snore_vol  choke_freq  \\\n",
       "wsc_id                                                                     \n",
       "10119             1      7.5      8.0         2.0          1           1   \n",
       "10191             2      6.5     10.5         1.0          1           1   \n",
       "10198             3      6.5      9.0         9.0          9           1   \n",
       "10226             3      7.0      9.0         5.0          4           2   \n",
       "10241             5      5.5      6.5         4.0          2           9   \n",
       "...             ...      ...      ...         ...        ...         ...   \n",
       "99481             2      6.0      8.0         2.0          2           1   \n",
       "99651             2      7.0      7.0         5.0          4           9   \n",
       "99761             2      7.5      9.0         5.0          3           9   \n",
       "99782             1      8.0      8.0         1.0          9           1   \n",
       "99883             2      7.0      7.0         2.0          1           1   \n",
       "\n",
       "        apnea_freq  \n",
       "wsc_id              \n",
       "10119            1  \n",
       "10191            1  \n",
       "10198            1  \n",
       "10226            9  \n",
       "10241            9  \n",
       "...            ...  \n",
       "99481            1  \n",
       "99651            9  \n",
       "99761            9  \n",
       "99782            1  \n",
       "99883            1  \n",
       "\n",
       "[1123 rows x 27 columns]"
      ]
     },
     "execution_count": 25,
     "metadata": {},
     "output_type": "execute_result"
    }
   ],
   "source": [
    "#cross check high_val_features\n",
    "data_df1[high_val_features]"
   ]
  },
  {
   "cell_type": "markdown",
   "id": "fdda79ac",
   "metadata": {},
   "source": [
    "## ac - TSO Linear Regression w/ Pipe"
   ]
  },
  {
   "cell_type": "code",
   "execution_count": 64,
   "id": "120d14fa",
   "metadata": {},
   "outputs": [],
   "source": [
    "data_df1 = data_df1.fillna(0)"
   ]
  },
  {
   "cell_type": "code",
   "execution_count": 65,
   "id": "21263be6",
   "metadata": {},
   "outputs": [],
   "source": [
    "y = data_df1.tso\n",
    "X = data_df1.drop(targets, axis=1)\n",
    "X = data_df1.drop(categoricals, axis=1)"
   ]
  },
  {
   "cell_type": "code",
   "execution_count": 66,
   "id": "0ae059c0",
   "metadata": {},
   "outputs": [],
   "source": [
    "#X = data_df1[['snore_vol', 'choke_freq', 'apnea_freq', 'awake_freq']]"
   ]
  },
  {
   "cell_type": "code",
   "execution_count": 67,
   "id": "7b1153e5",
   "metadata": {},
   "outputs": [],
   "source": [
    "#X['target'] = y"
   ]
  },
  {
   "cell_type": "code",
   "execution_count": 68,
   "id": "0d9585d4",
   "metadata": {},
   "outputs": [],
   "source": [
    "#X.corr()"
   ]
  },
  {
   "cell_type": "code",
   "execution_count": 69,
   "id": "3ce6ab11",
   "metadata": {},
   "outputs": [
    {
     "data": {
      "text/plain": [
       "0"
      ]
     },
     "execution_count": 69,
     "metadata": {},
     "output_type": "execute_result"
    }
   ],
   "source": [
    "y.isna().sum().sum()"
   ]
  },
  {
   "cell_type": "code",
   "execution_count": 70,
   "id": "97aeb6ad",
   "metadata": {},
   "outputs": [],
   "source": [
    "X_train, X_test, y_train, y_test = train_test_split(X,y, test_size=0.25, random_state=1)"
   ]
  },
  {
   "cell_type": "code",
   "execution_count": 71,
   "id": "67ebb12d",
   "metadata": {},
   "outputs": [],
   "source": [
    "scaler = RobustScaler()"
   ]
  },
  {
   "cell_type": "code",
   "execution_count": 72,
   "id": "40d0b9ae",
   "metadata": {},
   "outputs": [],
   "source": [
    "linreg = LinearRegression()"
   ]
  },
  {
   "cell_type": "code",
   "execution_count": 73,
   "id": "4c4bf51a",
   "metadata": {},
   "outputs": [],
   "source": [
    "pipe = Pipeline([('scaler', scaler),\n",
    "                ('linereg', linreg)])"
   ]
  },
  {
   "cell_type": "code",
   "execution_count": 74,
   "id": "94a96a8f",
   "metadata": {},
   "outputs": [],
   "source": [
    "tso_lin_Reg = pipe.fit(X_train, y_train)"
   ]
  },
  {
   "cell_type": "code",
   "execution_count": 75,
   "id": "a4ea30b4",
   "metadata": {},
   "outputs": [
    {
     "data": {
      "text/plain": [
       "-3.3048764264477786"
      ]
     },
     "execution_count": 75,
     "metadata": {},
     "output_type": "execute_result"
    }
   ],
   "source": [
    "pipe.score(X_test, y_test,)"
   ]
  },
  {
   "cell_type": "markdown",
   "id": "8501e9fd",
   "metadata": {},
   "source": [
    "### Baseline with mean - using dummy regressor"
   ]
  },
  {
   "cell_type": "code",
   "execution_count": 264,
   "id": "8b2d6acf",
   "metadata": {},
   "outputs": [],
   "source": [
    "data_df1 = data_df1[data_df1.tso < 80]\n",
    "y = data_df1.tso\n",
    "#X = data_df1.drop(targets, axis=1)\n",
    "#X = data_df1.drop(categoricals, axis=1)"
   ]
  },
  {
   "cell_type": "code",
   "execution_count": 265,
   "id": "7f160dc2",
   "metadata": {},
   "outputs": [],
   "source": [
    "X_train, X_test, y_train, y_test = train_test_split(X,y, test_size=0.25, random_state=1)"
   ]
  },
  {
   "cell_type": "code",
   "execution_count": 266,
   "id": "a457acfe",
   "metadata": {},
   "outputs": [],
   "source": [
    "y_pred = y_train.mean()"
   ]
  },
  {
   "cell_type": "code",
   "execution_count": 267,
   "id": "0cbb54d9",
   "metadata": {},
   "outputs": [],
   "source": [
    "from sklearn.dummy import DummyRegressor\n",
    "from sklearn.metrics import mean_absolute_error"
   ]
  },
  {
   "cell_type": "code",
   "execution_count": 268,
   "id": "d5896d72",
   "metadata": {},
   "outputs": [],
   "source": [
    "dummyr = DummyRegressor(strategy='mean')"
   ]
  },
  {
   "cell_type": "code",
   "execution_count": 269,
   "id": "860a79b2",
   "metadata": {},
   "outputs": [
    {
     "data": {
      "text/html": [
       "<style>#sk-2b9a2ed2-a39d-4101-ac74-15ab908f887c {color: black;background-color: white;}#sk-2b9a2ed2-a39d-4101-ac74-15ab908f887c pre{padding: 0;}#sk-2b9a2ed2-a39d-4101-ac74-15ab908f887c div.sk-toggleable {background-color: white;}#sk-2b9a2ed2-a39d-4101-ac74-15ab908f887c label.sk-toggleable__label {cursor: pointer;display: block;width: 100%;margin-bottom: 0;padding: 0.2em 0.3em;box-sizing: border-box;text-align: center;}#sk-2b9a2ed2-a39d-4101-ac74-15ab908f887c div.sk-toggleable__content {max-height: 0;max-width: 0;overflow: hidden;text-align: left;background-color: #f0f8ff;}#sk-2b9a2ed2-a39d-4101-ac74-15ab908f887c div.sk-toggleable__content pre {margin: 0.2em;color: black;border-radius: 0.25em;background-color: #f0f8ff;}#sk-2b9a2ed2-a39d-4101-ac74-15ab908f887c input.sk-toggleable__control:checked~div.sk-toggleable__content {max-height: 200px;max-width: 100%;overflow: auto;}#sk-2b9a2ed2-a39d-4101-ac74-15ab908f887c div.sk-estimator input.sk-toggleable__control:checked~label.sk-toggleable__label {background-color: #d4ebff;}#sk-2b9a2ed2-a39d-4101-ac74-15ab908f887c div.sk-label input.sk-toggleable__control:checked~label.sk-toggleable__label {background-color: #d4ebff;}#sk-2b9a2ed2-a39d-4101-ac74-15ab908f887c input.sk-hidden--visually {border: 0;clip: rect(1px 1px 1px 1px);clip: rect(1px, 1px, 1px, 1px);height: 1px;margin: -1px;overflow: hidden;padding: 0;position: absolute;width: 1px;}#sk-2b9a2ed2-a39d-4101-ac74-15ab908f887c div.sk-estimator {font-family: monospace;background-color: #f0f8ff;margin: 0.25em 0.25em;border: 1px dotted black;border-radius: 0.25em;box-sizing: border-box;}#sk-2b9a2ed2-a39d-4101-ac74-15ab908f887c div.sk-estimator:hover {background-color: #d4ebff;}#sk-2b9a2ed2-a39d-4101-ac74-15ab908f887c div.sk-parallel-item::after {content: \"\";width: 100%;border-bottom: 1px solid gray;flex-grow: 1;}#sk-2b9a2ed2-a39d-4101-ac74-15ab908f887c div.sk-label:hover label.sk-toggleable__label {background-color: #d4ebff;}#sk-2b9a2ed2-a39d-4101-ac74-15ab908f887c div.sk-serial::before {content: \"\";position: absolute;border-left: 1px solid gray;box-sizing: border-box;top: 2em;bottom: 0;left: 50%;}#sk-2b9a2ed2-a39d-4101-ac74-15ab908f887c div.sk-serial {display: flex;flex-direction: column;align-items: center;background-color: white;}#sk-2b9a2ed2-a39d-4101-ac74-15ab908f887c div.sk-item {z-index: 1;}#sk-2b9a2ed2-a39d-4101-ac74-15ab908f887c div.sk-parallel {display: flex;align-items: stretch;justify-content: center;background-color: white;}#sk-2b9a2ed2-a39d-4101-ac74-15ab908f887c div.sk-parallel-item {display: flex;flex-direction: column;position: relative;background-color: white;}#sk-2b9a2ed2-a39d-4101-ac74-15ab908f887c div.sk-parallel-item:first-child::after {align-self: flex-end;width: 50%;}#sk-2b9a2ed2-a39d-4101-ac74-15ab908f887c div.sk-parallel-item:last-child::after {align-self: flex-start;width: 50%;}#sk-2b9a2ed2-a39d-4101-ac74-15ab908f887c div.sk-parallel-item:only-child::after {width: 0;}#sk-2b9a2ed2-a39d-4101-ac74-15ab908f887c div.sk-dashed-wrapped {border: 1px dashed gray;margin: 0.2em;box-sizing: border-box;padding-bottom: 0.1em;background-color: white;position: relative;}#sk-2b9a2ed2-a39d-4101-ac74-15ab908f887c div.sk-label label {font-family: monospace;font-weight: bold;background-color: white;display: inline-block;line-height: 1.2em;}#sk-2b9a2ed2-a39d-4101-ac74-15ab908f887c div.sk-label-container {position: relative;z-index: 2;text-align: center;}#sk-2b9a2ed2-a39d-4101-ac74-15ab908f887c div.sk-container {display: inline-block;position: relative;}</style><div id=\"sk-2b9a2ed2-a39d-4101-ac74-15ab908f887c\" class\"sk-top-container\"><div class=\"sk-container\"><div class=\"sk-item\"><div class=\"sk-estimator sk-toggleable\"><input class=\"sk-toggleable__control sk-hidden--visually\" id=\"76cee1d3-7d19-43a6-94e5-6bd1ca0baca7\" type=\"checkbox\" checked><label class=\"sk-toggleable__label\" for=\"76cee1d3-7d19-43a6-94e5-6bd1ca0baca7\">DummyRegressor</label><div class=\"sk-toggleable__content\"><pre>DummyRegressor()</pre></div></div></div></div></div>"
      ],
      "text/plain": [
       "DummyRegressor()"
      ]
     },
     "execution_count": 269,
     "metadata": {},
     "output_type": "execute_result"
    }
   ],
   "source": [
    "dummyr.fit(X_train, y_train)"
   ]
  },
  {
   "cell_type": "code",
   "execution_count": 270,
   "id": "1c7acf61",
   "metadata": {},
   "outputs": [],
   "source": [
    "# Baseline to beat\n",
    "y_pred = dummyr.predict(X_test)"
   ]
  },
  {
   "cell_type": "code",
   "execution_count": 271,
   "id": "2516e214",
   "metadata": {},
   "outputs": [
    {
     "data": {
      "text/plain": [
       "(279,)"
      ]
     },
     "execution_count": 271,
     "metadata": {},
     "output_type": "execute_result"
    }
   ],
   "source": [
    "y_pred.shape"
   ]
  },
  {
   "cell_type": "code",
   "execution_count": 272,
   "id": "05a0b058",
   "metadata": {},
   "outputs": [
    {
     "data": {
      "text/plain": [
       "8.189105659648446"
      ]
     },
     "execution_count": 272,
     "metadata": {},
     "output_type": "execute_result"
    }
   ],
   "source": [
    "mae_baseline = mean_absolute_error(y_test, y_pred)\n",
    "mae_baseline"
   ]
  },
  {
   "cell_type": "markdown",
   "id": "fc28c509",
   "metadata": {},
   "source": [
    "### Linear model with entire data set"
   ]
  },
  {
   "cell_type": "code",
   "execution_count": 297,
   "id": "5f43764a",
   "metadata": {},
   "outputs": [],
   "source": [
    "data_df1 = data_df1[data_df1.tso < 80]"
   ]
  },
  {
   "cell_type": "code",
   "execution_count": 298,
   "id": "fc5465ee",
   "metadata": {},
   "outputs": [],
   "source": [
    "data_df1 = data_df1.fillna(0)"
   ]
  },
  {
   "cell_type": "code",
   "execution_count": 299,
   "id": "c7503d18",
   "metadata": {},
   "outputs": [],
   "source": [
    "#data_df1['tso']"
   ]
  },
  {
   "cell_type": "code",
   "execution_count": 300,
   "id": "096ccaa5",
   "metadata": {},
   "outputs": [
    {
     "ename": "KeyError",
     "evalue": "('waistgirthm', 'waist_girth2')",
     "output_type": "error",
     "traceback": [
      "\u001b[0;31m---------------------------------------------------------------------------\u001b[0m",
      "\u001b[0;31mKeyError\u001b[0m                                  Traceback (most recent call last)",
      "\u001b[0;32m~/.pyenv/versions/3.8.6/envs/dreamteam/lib/python3.8/site-packages/pandas/core/indexes/base.py\u001b[0m in \u001b[0;36mget_loc\u001b[0;34m(self, key, method, tolerance)\u001b[0m\n\u001b[1;32m   3360\u001b[0m             \u001b[0;32mtry\u001b[0m\u001b[0;34m:\u001b[0m\u001b[0;34m\u001b[0m\u001b[0;34m\u001b[0m\u001b[0m\n\u001b[0;32m-> 3361\u001b[0;31m                 \u001b[0;32mreturn\u001b[0m \u001b[0mself\u001b[0m\u001b[0;34m.\u001b[0m\u001b[0m_engine\u001b[0m\u001b[0;34m.\u001b[0m\u001b[0mget_loc\u001b[0m\u001b[0;34m(\u001b[0m\u001b[0mcasted_key\u001b[0m\u001b[0;34m)\u001b[0m\u001b[0;34m\u001b[0m\u001b[0;34m\u001b[0m\u001b[0m\n\u001b[0m\u001b[1;32m   3362\u001b[0m             \u001b[0;32mexcept\u001b[0m \u001b[0mKeyError\u001b[0m \u001b[0;32mas\u001b[0m \u001b[0merr\u001b[0m\u001b[0;34m:\u001b[0m\u001b[0;34m\u001b[0m\u001b[0;34m\u001b[0m\u001b[0m\n",
      "\u001b[0;32m~/.pyenv/versions/3.8.6/envs/dreamteam/lib/python3.8/site-packages/pandas/_libs/index.pyx\u001b[0m in \u001b[0;36mpandas._libs.index.IndexEngine.get_loc\u001b[0;34m()\u001b[0m\n",
      "\u001b[0;32m~/.pyenv/versions/3.8.6/envs/dreamteam/lib/python3.8/site-packages/pandas/_libs/index.pyx\u001b[0m in \u001b[0;36mpandas._libs.index.IndexEngine.get_loc\u001b[0;34m()\u001b[0m\n",
      "\u001b[0;32mpandas/_libs/hashtable_class_helper.pxi\u001b[0m in \u001b[0;36mpandas._libs.hashtable.PyObjectHashTable.get_item\u001b[0;34m()\u001b[0m\n",
      "\u001b[0;32mpandas/_libs/hashtable_class_helper.pxi\u001b[0m in \u001b[0;36mpandas._libs.hashtable.PyObjectHashTable.get_item\u001b[0;34m()\u001b[0m\n",
      "\u001b[0;31mKeyError\u001b[0m: ('waistgirthm', 'waist_girth2')",
      "\nThe above exception was the direct cause of the following exception:\n",
      "\u001b[0;31mKeyError\u001b[0m                                  Traceback (most recent call last)",
      "\u001b[0;32m/tmp/ipykernel_2102/1623572481.py\u001b[0m in \u001b[0;36m<module>\u001b[0;34m\u001b[0m\n\u001b[1;32m      1\u001b[0m \u001b[0my\u001b[0m \u001b[0;34m=\u001b[0m \u001b[0mdata_df1\u001b[0m\u001b[0;34m.\u001b[0m\u001b[0mtso\u001b[0m\u001b[0;34m\u001b[0m\u001b[0;34m\u001b[0m\u001b[0m\n\u001b[0;32m----> 2\u001b[0;31m \u001b[0mX\u001b[0m \u001b[0;34m=\u001b[0m \u001b[0mdata_df1\u001b[0m\u001b[0;34m[\u001b[0m\u001b[0;34m'waistgirthm'\u001b[0m\u001b[0;34m,\u001b[0m\u001b[0;34m'waist_girth2'\u001b[0m \u001b[0;34m]\u001b[0m\u001b[0;34m\u001b[0m\u001b[0;34m\u001b[0m\u001b[0m\n\u001b[0m\u001b[1;32m      3\u001b[0m \u001b[0;31m#X = data_df1.drop('tso', axis=1)\u001b[0m\u001b[0;34m\u001b[0m\u001b[0;34m\u001b[0m\u001b[0;34m\u001b[0m\u001b[0m\n\u001b[1;32m      4\u001b[0m \u001b[0;31m#X = data_df1.drop(targets, axis=1)\u001b[0m\u001b[0;34m\u001b[0m\u001b[0;34m\u001b[0m\u001b[0;34m\u001b[0m\u001b[0m\n\u001b[1;32m      5\u001b[0m \u001b[0;31m#X = data_df1.drop(categoricals, axis=1)\u001b[0m\u001b[0;34m\u001b[0m\u001b[0;34m\u001b[0m\u001b[0;34m\u001b[0m\u001b[0m\n",
      "\u001b[0;32m~/.pyenv/versions/3.8.6/envs/dreamteam/lib/python3.8/site-packages/pandas/core/frame.py\u001b[0m in \u001b[0;36m__getitem__\u001b[0;34m(self, key)\u001b[0m\n\u001b[1;32m   3453\u001b[0m             \u001b[0;32mif\u001b[0m \u001b[0mself\u001b[0m\u001b[0;34m.\u001b[0m\u001b[0mcolumns\u001b[0m\u001b[0;34m.\u001b[0m\u001b[0mnlevels\u001b[0m \u001b[0;34m>\u001b[0m \u001b[0;36m1\u001b[0m\u001b[0;34m:\u001b[0m\u001b[0;34m\u001b[0m\u001b[0;34m\u001b[0m\u001b[0m\n\u001b[1;32m   3454\u001b[0m                 \u001b[0;32mreturn\u001b[0m \u001b[0mself\u001b[0m\u001b[0;34m.\u001b[0m\u001b[0m_getitem_multilevel\u001b[0m\u001b[0;34m(\u001b[0m\u001b[0mkey\u001b[0m\u001b[0;34m)\u001b[0m\u001b[0;34m\u001b[0m\u001b[0;34m\u001b[0m\u001b[0m\n\u001b[0;32m-> 3455\u001b[0;31m             \u001b[0mindexer\u001b[0m \u001b[0;34m=\u001b[0m \u001b[0mself\u001b[0m\u001b[0;34m.\u001b[0m\u001b[0mcolumns\u001b[0m\u001b[0;34m.\u001b[0m\u001b[0mget_loc\u001b[0m\u001b[0;34m(\u001b[0m\u001b[0mkey\u001b[0m\u001b[0;34m)\u001b[0m\u001b[0;34m\u001b[0m\u001b[0;34m\u001b[0m\u001b[0m\n\u001b[0m\u001b[1;32m   3456\u001b[0m             \u001b[0;32mif\u001b[0m \u001b[0mis_integer\u001b[0m\u001b[0;34m(\u001b[0m\u001b[0mindexer\u001b[0m\u001b[0;34m)\u001b[0m\u001b[0;34m:\u001b[0m\u001b[0;34m\u001b[0m\u001b[0;34m\u001b[0m\u001b[0m\n\u001b[1;32m   3457\u001b[0m                 \u001b[0mindexer\u001b[0m \u001b[0;34m=\u001b[0m \u001b[0;34m[\u001b[0m\u001b[0mindexer\u001b[0m\u001b[0;34m]\u001b[0m\u001b[0;34m\u001b[0m\u001b[0;34m\u001b[0m\u001b[0m\n",
      "\u001b[0;32m~/.pyenv/versions/3.8.6/envs/dreamteam/lib/python3.8/site-packages/pandas/core/indexes/base.py\u001b[0m in \u001b[0;36mget_loc\u001b[0;34m(self, key, method, tolerance)\u001b[0m\n\u001b[1;32m   3361\u001b[0m                 \u001b[0;32mreturn\u001b[0m \u001b[0mself\u001b[0m\u001b[0;34m.\u001b[0m\u001b[0m_engine\u001b[0m\u001b[0;34m.\u001b[0m\u001b[0mget_loc\u001b[0m\u001b[0;34m(\u001b[0m\u001b[0mcasted_key\u001b[0m\u001b[0;34m)\u001b[0m\u001b[0;34m\u001b[0m\u001b[0;34m\u001b[0m\u001b[0m\n\u001b[1;32m   3362\u001b[0m             \u001b[0;32mexcept\u001b[0m \u001b[0mKeyError\u001b[0m \u001b[0;32mas\u001b[0m \u001b[0merr\u001b[0m\u001b[0;34m:\u001b[0m\u001b[0;34m\u001b[0m\u001b[0;34m\u001b[0m\u001b[0m\n\u001b[0;32m-> 3363\u001b[0;31m                 \u001b[0;32mraise\u001b[0m \u001b[0mKeyError\u001b[0m\u001b[0;34m(\u001b[0m\u001b[0mkey\u001b[0m\u001b[0;34m)\u001b[0m \u001b[0;32mfrom\u001b[0m \u001b[0merr\u001b[0m\u001b[0;34m\u001b[0m\u001b[0;34m\u001b[0m\u001b[0m\n\u001b[0m\u001b[1;32m   3364\u001b[0m \u001b[0;34m\u001b[0m\u001b[0m\n\u001b[1;32m   3365\u001b[0m         \u001b[0;32mif\u001b[0m \u001b[0mis_scalar\u001b[0m\u001b[0;34m(\u001b[0m\u001b[0mkey\u001b[0m\u001b[0;34m)\u001b[0m \u001b[0;32mand\u001b[0m \u001b[0misna\u001b[0m\u001b[0;34m(\u001b[0m\u001b[0mkey\u001b[0m\u001b[0;34m)\u001b[0m \u001b[0;32mand\u001b[0m \u001b[0;32mnot\u001b[0m \u001b[0mself\u001b[0m\u001b[0;34m.\u001b[0m\u001b[0mhasnans\u001b[0m\u001b[0;34m:\u001b[0m\u001b[0;34m\u001b[0m\u001b[0;34m\u001b[0m\u001b[0m\n",
      "\u001b[0;31mKeyError\u001b[0m: ('waistgirthm', 'waist_girth2')"
     ]
    }
   ],
   "source": [
    "y = data_df1.tso\n",
    "X = data_df1['waistgirthm','waist_girth2' ]\n",
    "#X = data_df1.drop('tso', axis=1)\n",
    "#X = data_df1.drop(targets, axis=1)\n",
    "#X = data_df1.drop(categoricals, axis=1)"
   ]
  },
  {
   "cell_type": "code",
   "execution_count": 301,
   "id": "14da4dc3",
   "metadata": {},
   "outputs": [],
   "source": [
    "X_train, X_test, y_train, y_test = train_test_split(X,y, test_size=0.25, random_state=1)"
   ]
  },
  {
   "cell_type": "code",
   "execution_count": 302,
   "id": "61c5a078",
   "metadata": {},
   "outputs": [],
   "source": [
    "scaler = MinMaxScaler()"
   ]
  },
  {
   "cell_type": "code",
   "execution_count": 303,
   "id": "58cb2f01",
   "metadata": {},
   "outputs": [],
   "source": [
    "linreg = LinearRegression()"
   ]
  },
  {
   "cell_type": "code",
   "execution_count": 304,
   "id": "d2a340c7",
   "metadata": {},
   "outputs": [],
   "source": [
    "pipe = Pipeline([('scaler', scaler),\n",
    "                ('linereg', linreg)])"
   ]
  },
  {
   "cell_type": "code",
   "execution_count": 305,
   "id": "954c0558",
   "metadata": {},
   "outputs": [
    {
     "ename": "ValueError",
     "evalue": "Expected 2D array, got 1D array instead:\narray=[134.  116.  122.3 111.3  92.   95.5 109.  112.   92.   77.   93.5  78.8\n 112.  117.5 141.  112.  115.5 104.   87.   95.3  74.8  91.8  84.8 108.\n 138.   94.   87.3  94.8  91.   74.   95.  104.3 130.  139.5  95.3  97.\n 115.   98.   85.   78.  119.   91.8 103.5 142.  104.   87.   73.  120.\n 101.  114.  104.5 116.3  69.   90.  106.  112.  114.5 122.5 117.  100.3\n 102.3  99.3  83.8  82.5  92.3 126.3 114.   95.   93.5  99.  110.  103.5\n  96.8  98.   94.3  79.   88.   97.5  86.   79.8  77.   95.3  94.   93.5\n  90.  117.  109.3 110.3 102.5 126.   98.5  76.  117.5 108.  109.  126.5\n  82.3 105.8  96.5  81.8  86.  112.  117.  112.5  97.  117.3  99.  103.\n  87.3  90.8  89.3 114.   76.   89.3  83.   94.   72.5  83.  107.   85.5\n  92.  101.5  82.  112.   88.   65.  114.  106.  112.  105.5 109.3 100.5\n  96.5 100.   77.   83.5 153.  107.  105.5  86.8  99.8  58.   80.  111.\n 113.8  89.   89.  104.  113.3  82.  133.8 101.3  90.8  80.  101.5 100.5\n  94.5 106.   86.  105.5 102.  100.3 109.3  89.5  88.3  83.8  85.   87.\n  75.8  85.   90.   96.  119.8 113.3  58.   96.   70.3 102.8  90.8 101.3\n 142.  102.  122.3  69.5  99.   94.   88.5 104.5 115.   93.  103.  105.\n  99.   89.   87.5  94.   89.3  83.   92.   80.  108.3  71.   84.   96.\n  96.  103.  115.5 125.  102.   79.5 100.   87.  101.  114.3 124.3  94.8\n 130.   90.3  89.5  87.5  86.   95.8  71.  121.5  72.  116.   95.  101.\n 111.  106.  126.  100.  111.5 101.5 113.8  94.5  68.3  89.  111.  100.\n  82.8  88.  141.   88.8  86.3  83.3 128.5 105.3  95.  119.3 109.  126.\n 120.  105.   94.5 104.5  98.  142.8 109.  107.8  77.5 124.   96.  122.\n 111.5  83.  107.   76.5  97.3  85.8 160.   97.5 118.8  93.8 107.5  79.\n  94.8  90.8  74.  106.8 101.8 146.  131.8  90.  120.   74.5 104.  108.3\n 108.  108.   73.5  86.3 104.  101.5 113.   90.3  91.5 117.3  70.3 107.3\n  92.  108.   92.3 108.   83.8 128.  105.  124.5 100.  127.   95.  118.\n  98.   87.   90.5 107.3 115.   93.  107.   86.5 102.   89.  121.   89.\n  96.   99.8 123.   90.   93.8  86.3 111.  104.   97.5  82.   75.5  91.3\n  95.5 123.  103.8  88.  143.   93.  128.   90.8 121.8 115.   97.  119.\n  82.8 118.   91.  102.8 100.3  93.8 107.8  92.  120.5 116.  106.8 112.8\n  63.  112.8 113.   94.5 121.   95.3  89.3 125.5 133.  100.  127.  119.\n  79.  144.  109.5 104.5 104.   79.  102.5  86.   74.8  73.   98.5  78.5\n 115.8 103.   98.   87.   97.3 157.   87.  126.   84.8  96.8  85.  103.3\n  96.  107.3 107.   91.8 116.  125.   91.5  96.   75.5 125.   90.3  95.8\n  87.8  95.3 155.  100.   98.   93.  112.5  95.5  78.5 112.5  69.3  76.\n 111.   98.  101.   84.3 112.3 133.5  96.8 102.  115.5  94.5  94.   96.\n 110.8 113.8 112.  107.5 103.   89.   91.   83.5  85.  101.5 101.5  86.5\n 132.  112.   81.5  82.  114.  117.5 109.  100.5  67.  119.5 122.   85.3\n 104.   94.3 123.3 133.  134.  139.3  90.5 131.  109.  107.  126.8  80.\n 126.5 129.5 111.8  79.8  94.   98.8 116.5  76.  108.5 112.  117.  119.3\n  85.3  77.5  83.  104.   97.   80.8  80.5 101.   98.  111.3 141.   99.\n  81.  107.3 123.   71.  115.3 109.5 107.5  97.3  87.   79.  133.  130.3\n  92.3  95.   97.  110.3 101.3  98.   81.   93.3  98.  112.3  89.   87.\n 106.   88.3 114.   96.   88.   90.3  95.5  78.3 110.8  87.  105.  114.3\n  99.   95.5  87.  155.  103.   69.5 120.5  79.  132.   85.5  96.   86.5\n 133.   75.5 100.8  87.   88.5 100.  107.  106.   94.   66.   69.  108.\n  95.3 108.   93.  148.3  84.  101.8  98.5  89.  104.   90.5 105.3  94.5\n 112.3  94.   91.  121.   93.8  76.3  89.  101.   97.8 114.3  94.5 108.5\n  95.  117.  108.3 101.5 112.3 115.   72.  122.5 142.  100.5 109.3  96.\n 105.  112.   91.5 105.  108.   83.   88.  110.  120.8  96.8 122.  100.3\n 107.3 113.  114.8  79.   77.3  86.   83.   96.  104.   98.   96.   96.\n 128.5  86.5 103.   92.  105.   97.3 137.  102.   89.8  80.8  95.   77.\n 109.   90.   93.3  81.  110.  103.   87.3 102.8 104.5 109.8 138.8 119.\n 125.5 110.  112.   85.5 126.5  90.   90.3 109.   86.   92.   93.  102.\n 112.5 108.5 130.   74.   83.8 110.8  90.  113.  121.   92.3 104.   90.3\n  83.3 111.  106.   90.8  88.  107.5 135.5  87.   81.3 133.8  78.8  74.\n 100.3  76.3 118.3  96.3 113.   95.  128.  127.  111.8  87.  108.5 135.8\n  92.  112.   82.8 102.8  93.5 116.   92.  106.  110.8 104.5 121.   87.\n 113.3 105.3 117.8  85.   81.   92.8  91.  127.3  94.8  99.5 109.5  93.\n  98.  115.8  80.   92.   83.  116.5 143.   95.5 107.   80.8  84.   98.5\n  86.  120.5  88.5  92.5  97.3  90.  114.   91.   87.3  99.5  88.   82.\n  79.3 109.5 101.   86.3 110.8  78.   95.5 118.5 124.5 115.5  94.3 108.5\n 117.  100.  106.5 105.8 106.3  91.  126.   71.   74.   81.   79.3  79.5\n 114.   96.8 100.   81.5  74.  108.   93.5  95.  102.   87.  107.8 130.\n  89.   85.  125.5  96.3 118.8 131.5  94.  135.3 101.  135.  108.   91.\n  99.  121.   99.5 123.3 107.3 107.   97.  109.   99.   65.8 103.8  78.\n  93.8  90.   78.   82.   86.   70.   92.   84.5  78.5  97.3  90.   93.\n  84.  110.5 128.  112.  129.3  75.5 111.   87.  112.8 102.   91.3  84.8\n 117.3  87.   72.  108.  123.3 104.  103.  105.   89.   96.5  94.5  94.\n 120.3 104.   99.  103.5  96.5  85.5 137.3].\nReshape your data either using array.reshape(-1, 1) if your data has a single feature or array.reshape(1, -1) if it contains a single sample.",
     "output_type": "error",
     "traceback": [
      "\u001b[0;31m---------------------------------------------------------------------------\u001b[0m",
      "\u001b[0;31mValueError\u001b[0m                                Traceback (most recent call last)",
      "\u001b[0;32m/tmp/ipykernel_2102/1090681029.py\u001b[0m in \u001b[0;36m<module>\u001b[0;34m\u001b[0m\n\u001b[0;32m----> 1\u001b[0;31m \u001b[0mpipe\u001b[0m\u001b[0;34m.\u001b[0m\u001b[0mfit\u001b[0m\u001b[0;34m(\u001b[0m\u001b[0mX_train\u001b[0m\u001b[0;34m,\u001b[0m \u001b[0my_train\u001b[0m\u001b[0;34m)\u001b[0m\u001b[0;34m\u001b[0m\u001b[0;34m\u001b[0m\u001b[0m\n\u001b[0m",
      "\u001b[0;32m~/.pyenv/versions/3.8.6/envs/dreamteam/lib/python3.8/site-packages/sklearn/pipeline.py\u001b[0m in \u001b[0;36mfit\u001b[0;34m(self, X, y, **fit_params)\u001b[0m\n\u001b[1;32m    339\u001b[0m         \"\"\"\n\u001b[1;32m    340\u001b[0m         \u001b[0mfit_params_steps\u001b[0m \u001b[0;34m=\u001b[0m \u001b[0mself\u001b[0m\u001b[0;34m.\u001b[0m\u001b[0m_check_fit_params\u001b[0m\u001b[0;34m(\u001b[0m\u001b[0;34m**\u001b[0m\u001b[0mfit_params\u001b[0m\u001b[0;34m)\u001b[0m\u001b[0;34m\u001b[0m\u001b[0;34m\u001b[0m\u001b[0m\n\u001b[0;32m--> 341\u001b[0;31m         \u001b[0mXt\u001b[0m \u001b[0;34m=\u001b[0m \u001b[0mself\u001b[0m\u001b[0;34m.\u001b[0m\u001b[0m_fit\u001b[0m\u001b[0;34m(\u001b[0m\u001b[0mX\u001b[0m\u001b[0;34m,\u001b[0m \u001b[0my\u001b[0m\u001b[0;34m,\u001b[0m \u001b[0;34m**\u001b[0m\u001b[0mfit_params_steps\u001b[0m\u001b[0;34m)\u001b[0m\u001b[0;34m\u001b[0m\u001b[0;34m\u001b[0m\u001b[0m\n\u001b[0m\u001b[1;32m    342\u001b[0m         with _print_elapsed_time('Pipeline',\n\u001b[1;32m    343\u001b[0m                                  self._log_message(len(self.steps) - 1)):\n",
      "\u001b[0;32m~/.pyenv/versions/3.8.6/envs/dreamteam/lib/python3.8/site-packages/sklearn/pipeline.py\u001b[0m in \u001b[0;36m_fit\u001b[0;34m(self, X, y, **fit_params_steps)\u001b[0m\n\u001b[1;32m    301\u001b[0m                 \u001b[0mcloned_transformer\u001b[0m \u001b[0;34m=\u001b[0m \u001b[0mclone\u001b[0m\u001b[0;34m(\u001b[0m\u001b[0mtransformer\u001b[0m\u001b[0;34m)\u001b[0m\u001b[0;34m\u001b[0m\u001b[0;34m\u001b[0m\u001b[0m\n\u001b[1;32m    302\u001b[0m             \u001b[0;31m# Fit or load from cache the current transformer\u001b[0m\u001b[0;34m\u001b[0m\u001b[0;34m\u001b[0m\u001b[0;34m\u001b[0m\u001b[0m\n\u001b[0;32m--> 303\u001b[0;31m             X, fitted_transformer = fit_transform_one_cached(\n\u001b[0m\u001b[1;32m    304\u001b[0m                 \u001b[0mcloned_transformer\u001b[0m\u001b[0;34m,\u001b[0m \u001b[0mX\u001b[0m\u001b[0;34m,\u001b[0m \u001b[0my\u001b[0m\u001b[0;34m,\u001b[0m \u001b[0;32mNone\u001b[0m\u001b[0;34m,\u001b[0m\u001b[0;34m\u001b[0m\u001b[0;34m\u001b[0m\u001b[0m\n\u001b[1;32m    305\u001b[0m                 \u001b[0mmessage_clsname\u001b[0m\u001b[0;34m=\u001b[0m\u001b[0;34m'Pipeline'\u001b[0m\u001b[0;34m,\u001b[0m\u001b[0;34m\u001b[0m\u001b[0;34m\u001b[0m\u001b[0m\n",
      "\u001b[0;32m~/.pyenv/versions/3.8.6/envs/dreamteam/lib/python3.8/site-packages/joblib/memory.py\u001b[0m in \u001b[0;36m__call__\u001b[0;34m(self, *args, **kwargs)\u001b[0m\n\u001b[1;32m    350\u001b[0m \u001b[0;34m\u001b[0m\u001b[0m\n\u001b[1;32m    351\u001b[0m     \u001b[0;32mdef\u001b[0m \u001b[0m__call__\u001b[0m\u001b[0;34m(\u001b[0m\u001b[0mself\u001b[0m\u001b[0;34m,\u001b[0m \u001b[0;34m*\u001b[0m\u001b[0margs\u001b[0m\u001b[0;34m,\u001b[0m \u001b[0;34m**\u001b[0m\u001b[0mkwargs\u001b[0m\u001b[0;34m)\u001b[0m\u001b[0;34m:\u001b[0m\u001b[0;34m\u001b[0m\u001b[0;34m\u001b[0m\u001b[0m\n\u001b[0;32m--> 352\u001b[0;31m         \u001b[0;32mreturn\u001b[0m \u001b[0mself\u001b[0m\u001b[0;34m.\u001b[0m\u001b[0mfunc\u001b[0m\u001b[0;34m(\u001b[0m\u001b[0;34m*\u001b[0m\u001b[0margs\u001b[0m\u001b[0;34m,\u001b[0m \u001b[0;34m**\u001b[0m\u001b[0mkwargs\u001b[0m\u001b[0;34m)\u001b[0m\u001b[0;34m\u001b[0m\u001b[0;34m\u001b[0m\u001b[0m\n\u001b[0m\u001b[1;32m    353\u001b[0m \u001b[0;34m\u001b[0m\u001b[0m\n\u001b[1;32m    354\u001b[0m     \u001b[0;32mdef\u001b[0m \u001b[0mcall_and_shelve\u001b[0m\u001b[0;34m(\u001b[0m\u001b[0mself\u001b[0m\u001b[0;34m,\u001b[0m \u001b[0;34m*\u001b[0m\u001b[0margs\u001b[0m\u001b[0;34m,\u001b[0m \u001b[0;34m**\u001b[0m\u001b[0mkwargs\u001b[0m\u001b[0;34m)\u001b[0m\u001b[0;34m:\u001b[0m\u001b[0;34m\u001b[0m\u001b[0;34m\u001b[0m\u001b[0m\n",
      "\u001b[0;32m~/.pyenv/versions/3.8.6/envs/dreamteam/lib/python3.8/site-packages/sklearn/pipeline.py\u001b[0m in \u001b[0;36m_fit_transform_one\u001b[0;34m(transformer, X, y, weight, message_clsname, message, **fit_params)\u001b[0m\n\u001b[1;32m    752\u001b[0m     \u001b[0;32mwith\u001b[0m \u001b[0m_print_elapsed_time\u001b[0m\u001b[0;34m(\u001b[0m\u001b[0mmessage_clsname\u001b[0m\u001b[0;34m,\u001b[0m \u001b[0mmessage\u001b[0m\u001b[0;34m)\u001b[0m\u001b[0;34m:\u001b[0m\u001b[0;34m\u001b[0m\u001b[0;34m\u001b[0m\u001b[0m\n\u001b[1;32m    753\u001b[0m         \u001b[0;32mif\u001b[0m \u001b[0mhasattr\u001b[0m\u001b[0;34m(\u001b[0m\u001b[0mtransformer\u001b[0m\u001b[0;34m,\u001b[0m \u001b[0;34m'fit_transform'\u001b[0m\u001b[0;34m)\u001b[0m\u001b[0;34m:\u001b[0m\u001b[0;34m\u001b[0m\u001b[0;34m\u001b[0m\u001b[0m\n\u001b[0;32m--> 754\u001b[0;31m             \u001b[0mres\u001b[0m \u001b[0;34m=\u001b[0m \u001b[0mtransformer\u001b[0m\u001b[0;34m.\u001b[0m\u001b[0mfit_transform\u001b[0m\u001b[0;34m(\u001b[0m\u001b[0mX\u001b[0m\u001b[0;34m,\u001b[0m \u001b[0my\u001b[0m\u001b[0;34m,\u001b[0m \u001b[0;34m**\u001b[0m\u001b[0mfit_params\u001b[0m\u001b[0;34m)\u001b[0m\u001b[0;34m\u001b[0m\u001b[0;34m\u001b[0m\u001b[0m\n\u001b[0m\u001b[1;32m    755\u001b[0m         \u001b[0;32melse\u001b[0m\u001b[0;34m:\u001b[0m\u001b[0;34m\u001b[0m\u001b[0;34m\u001b[0m\u001b[0m\n\u001b[1;32m    756\u001b[0m             \u001b[0mres\u001b[0m \u001b[0;34m=\u001b[0m \u001b[0mtransformer\u001b[0m\u001b[0;34m.\u001b[0m\u001b[0mfit\u001b[0m\u001b[0;34m(\u001b[0m\u001b[0mX\u001b[0m\u001b[0;34m,\u001b[0m \u001b[0my\u001b[0m\u001b[0;34m,\u001b[0m \u001b[0;34m**\u001b[0m\u001b[0mfit_params\u001b[0m\u001b[0;34m)\u001b[0m\u001b[0;34m.\u001b[0m\u001b[0mtransform\u001b[0m\u001b[0;34m(\u001b[0m\u001b[0mX\u001b[0m\u001b[0;34m)\u001b[0m\u001b[0;34m\u001b[0m\u001b[0;34m\u001b[0m\u001b[0m\n",
      "\u001b[0;32m~/.pyenv/versions/3.8.6/envs/dreamteam/lib/python3.8/site-packages/sklearn/base.py\u001b[0m in \u001b[0;36mfit_transform\u001b[0;34m(self, X, y, **fit_params)\u001b[0m\n\u001b[1;32m    700\u001b[0m         \u001b[0;32melse\u001b[0m\u001b[0;34m:\u001b[0m\u001b[0;34m\u001b[0m\u001b[0;34m\u001b[0m\u001b[0m\n\u001b[1;32m    701\u001b[0m             \u001b[0;31m# fit method of arity 2 (supervised transformation)\u001b[0m\u001b[0;34m\u001b[0m\u001b[0;34m\u001b[0m\u001b[0;34m\u001b[0m\u001b[0m\n\u001b[0;32m--> 702\u001b[0;31m             \u001b[0;32mreturn\u001b[0m \u001b[0mself\u001b[0m\u001b[0;34m.\u001b[0m\u001b[0mfit\u001b[0m\u001b[0;34m(\u001b[0m\u001b[0mX\u001b[0m\u001b[0;34m,\u001b[0m \u001b[0my\u001b[0m\u001b[0;34m,\u001b[0m \u001b[0;34m**\u001b[0m\u001b[0mfit_params\u001b[0m\u001b[0;34m)\u001b[0m\u001b[0;34m.\u001b[0m\u001b[0mtransform\u001b[0m\u001b[0;34m(\u001b[0m\u001b[0mX\u001b[0m\u001b[0;34m)\u001b[0m\u001b[0;34m\u001b[0m\u001b[0;34m\u001b[0m\u001b[0m\n\u001b[0m\u001b[1;32m    703\u001b[0m \u001b[0;34m\u001b[0m\u001b[0m\n\u001b[1;32m    704\u001b[0m \u001b[0;34m\u001b[0m\u001b[0m\n",
      "\u001b[0;32m~/.pyenv/versions/3.8.6/envs/dreamteam/lib/python3.8/site-packages/sklearn/preprocessing/_data.py\u001b[0m in \u001b[0;36mfit\u001b[0;34m(self, X, y)\u001b[0m\n\u001b[1;32m    361\u001b[0m         \u001b[0;31m# Reset internal state before fitting\u001b[0m\u001b[0;34m\u001b[0m\u001b[0;34m\u001b[0m\u001b[0;34m\u001b[0m\u001b[0m\n\u001b[1;32m    362\u001b[0m         \u001b[0mself\u001b[0m\u001b[0;34m.\u001b[0m\u001b[0m_reset\u001b[0m\u001b[0;34m(\u001b[0m\u001b[0;34m)\u001b[0m\u001b[0;34m\u001b[0m\u001b[0;34m\u001b[0m\u001b[0m\n\u001b[0;32m--> 363\u001b[0;31m         \u001b[0;32mreturn\u001b[0m \u001b[0mself\u001b[0m\u001b[0;34m.\u001b[0m\u001b[0mpartial_fit\u001b[0m\u001b[0;34m(\u001b[0m\u001b[0mX\u001b[0m\u001b[0;34m,\u001b[0m \u001b[0my\u001b[0m\u001b[0;34m)\u001b[0m\u001b[0;34m\u001b[0m\u001b[0;34m\u001b[0m\u001b[0m\n\u001b[0m\u001b[1;32m    364\u001b[0m \u001b[0;34m\u001b[0m\u001b[0m\n\u001b[1;32m    365\u001b[0m     \u001b[0;32mdef\u001b[0m \u001b[0mpartial_fit\u001b[0m\u001b[0;34m(\u001b[0m\u001b[0mself\u001b[0m\u001b[0;34m,\u001b[0m \u001b[0mX\u001b[0m\u001b[0;34m,\u001b[0m \u001b[0my\u001b[0m\u001b[0;34m=\u001b[0m\u001b[0;32mNone\u001b[0m\u001b[0;34m)\u001b[0m\u001b[0;34m:\u001b[0m\u001b[0;34m\u001b[0m\u001b[0;34m\u001b[0m\u001b[0m\n",
      "\u001b[0;32m~/.pyenv/versions/3.8.6/envs/dreamteam/lib/python3.8/site-packages/sklearn/preprocessing/_data.py\u001b[0m in \u001b[0;36mpartial_fit\u001b[0;34m(self, X, y)\u001b[0m\n\u001b[1;32m    394\u001b[0m \u001b[0;34m\u001b[0m\u001b[0m\n\u001b[1;32m    395\u001b[0m         \u001b[0mfirst_pass\u001b[0m \u001b[0;34m=\u001b[0m \u001b[0;32mnot\u001b[0m \u001b[0mhasattr\u001b[0m\u001b[0;34m(\u001b[0m\u001b[0mself\u001b[0m\u001b[0;34m,\u001b[0m \u001b[0;34m'n_samples_seen_'\u001b[0m\u001b[0;34m)\u001b[0m\u001b[0;34m\u001b[0m\u001b[0;34m\u001b[0m\u001b[0m\n\u001b[0;32m--> 396\u001b[0;31m         X = self._validate_data(X, reset=first_pass,\n\u001b[0m\u001b[1;32m    397\u001b[0m                                 \u001b[0mestimator\u001b[0m\u001b[0;34m=\u001b[0m\u001b[0mself\u001b[0m\u001b[0;34m,\u001b[0m \u001b[0mdtype\u001b[0m\u001b[0;34m=\u001b[0m\u001b[0mFLOAT_DTYPES\u001b[0m\u001b[0;34m,\u001b[0m\u001b[0;34m\u001b[0m\u001b[0;34m\u001b[0m\u001b[0m\n\u001b[1;32m    398\u001b[0m                                 force_all_finite=\"allow-nan\")\n",
      "\u001b[0;32m~/.pyenv/versions/3.8.6/envs/dreamteam/lib/python3.8/site-packages/sklearn/base.py\u001b[0m in \u001b[0;36m_validate_data\u001b[0;34m(self, X, y, reset, validate_separately, **check_params)\u001b[0m\n\u001b[1;32m    419\u001b[0m             \u001b[0mout\u001b[0m \u001b[0;34m=\u001b[0m \u001b[0mX\u001b[0m\u001b[0;34m\u001b[0m\u001b[0;34m\u001b[0m\u001b[0m\n\u001b[1;32m    420\u001b[0m         \u001b[0;32melif\u001b[0m \u001b[0misinstance\u001b[0m\u001b[0;34m(\u001b[0m\u001b[0my\u001b[0m\u001b[0;34m,\u001b[0m \u001b[0mstr\u001b[0m\u001b[0;34m)\u001b[0m \u001b[0;32mand\u001b[0m \u001b[0my\u001b[0m \u001b[0;34m==\u001b[0m \u001b[0;34m'no_validation'\u001b[0m\u001b[0;34m:\u001b[0m\u001b[0;34m\u001b[0m\u001b[0;34m\u001b[0m\u001b[0m\n\u001b[0;32m--> 421\u001b[0;31m             \u001b[0mX\u001b[0m \u001b[0;34m=\u001b[0m \u001b[0mcheck_array\u001b[0m\u001b[0;34m(\u001b[0m\u001b[0mX\u001b[0m\u001b[0;34m,\u001b[0m \u001b[0;34m**\u001b[0m\u001b[0mcheck_params\u001b[0m\u001b[0;34m)\u001b[0m\u001b[0;34m\u001b[0m\u001b[0;34m\u001b[0m\u001b[0m\n\u001b[0m\u001b[1;32m    422\u001b[0m             \u001b[0mout\u001b[0m \u001b[0;34m=\u001b[0m \u001b[0mX\u001b[0m\u001b[0;34m\u001b[0m\u001b[0;34m\u001b[0m\u001b[0m\n\u001b[1;32m    423\u001b[0m         \u001b[0;32melse\u001b[0m\u001b[0;34m:\u001b[0m\u001b[0;34m\u001b[0m\u001b[0;34m\u001b[0m\u001b[0m\n",
      "\u001b[0;32m~/.pyenv/versions/3.8.6/envs/dreamteam/lib/python3.8/site-packages/sklearn/utils/validation.py\u001b[0m in \u001b[0;36minner_f\u001b[0;34m(*args, **kwargs)\u001b[0m\n\u001b[1;32m     61\u001b[0m             \u001b[0mextra_args\u001b[0m \u001b[0;34m=\u001b[0m \u001b[0mlen\u001b[0m\u001b[0;34m(\u001b[0m\u001b[0margs\u001b[0m\u001b[0;34m)\u001b[0m \u001b[0;34m-\u001b[0m \u001b[0mlen\u001b[0m\u001b[0;34m(\u001b[0m\u001b[0mall_args\u001b[0m\u001b[0;34m)\u001b[0m\u001b[0;34m\u001b[0m\u001b[0;34m\u001b[0m\u001b[0m\n\u001b[1;32m     62\u001b[0m             \u001b[0;32mif\u001b[0m \u001b[0mextra_args\u001b[0m \u001b[0;34m<=\u001b[0m \u001b[0;36m0\u001b[0m\u001b[0;34m:\u001b[0m\u001b[0;34m\u001b[0m\u001b[0;34m\u001b[0m\u001b[0m\n\u001b[0;32m---> 63\u001b[0;31m                 \u001b[0;32mreturn\u001b[0m \u001b[0mf\u001b[0m\u001b[0;34m(\u001b[0m\u001b[0;34m*\u001b[0m\u001b[0margs\u001b[0m\u001b[0;34m,\u001b[0m \u001b[0;34m**\u001b[0m\u001b[0mkwargs\u001b[0m\u001b[0;34m)\u001b[0m\u001b[0;34m\u001b[0m\u001b[0;34m\u001b[0m\u001b[0m\n\u001b[0m\u001b[1;32m     64\u001b[0m \u001b[0;34m\u001b[0m\u001b[0m\n\u001b[1;32m     65\u001b[0m             \u001b[0;31m# extra_args > 0\u001b[0m\u001b[0;34m\u001b[0m\u001b[0;34m\u001b[0m\u001b[0;34m\u001b[0m\u001b[0m\n",
      "\u001b[0;32m~/.pyenv/versions/3.8.6/envs/dreamteam/lib/python3.8/site-packages/sklearn/utils/validation.py\u001b[0m in \u001b[0;36mcheck_array\u001b[0;34m(array, accept_sparse, accept_large_sparse, dtype, order, copy, force_all_finite, ensure_2d, allow_nd, ensure_min_samples, ensure_min_features, estimator)\u001b[0m\n\u001b[1;32m    692\u001b[0m             \u001b[0;31m# If input is 1D raise error\u001b[0m\u001b[0;34m\u001b[0m\u001b[0;34m\u001b[0m\u001b[0;34m\u001b[0m\u001b[0m\n\u001b[1;32m    693\u001b[0m             \u001b[0;32mif\u001b[0m \u001b[0marray\u001b[0m\u001b[0;34m.\u001b[0m\u001b[0mndim\u001b[0m \u001b[0;34m==\u001b[0m \u001b[0;36m1\u001b[0m\u001b[0;34m:\u001b[0m\u001b[0;34m\u001b[0m\u001b[0;34m\u001b[0m\u001b[0m\n\u001b[0;32m--> 694\u001b[0;31m                 raise ValueError(\n\u001b[0m\u001b[1;32m    695\u001b[0m                     \u001b[0;34m\"Expected 2D array, got 1D array instead:\\narray={}.\\n\"\u001b[0m\u001b[0;34m\u001b[0m\u001b[0;34m\u001b[0m\u001b[0m\n\u001b[1;32m    696\u001b[0m                     \u001b[0;34m\"Reshape your data either using array.reshape(-1, 1) if \"\u001b[0m\u001b[0;34m\u001b[0m\u001b[0;34m\u001b[0m\u001b[0m\n",
      "\u001b[0;31mValueError\u001b[0m: Expected 2D array, got 1D array instead:\narray=[134.  116.  122.3 111.3  92.   95.5 109.  112.   92.   77.   93.5  78.8\n 112.  117.5 141.  112.  115.5 104.   87.   95.3  74.8  91.8  84.8 108.\n 138.   94.   87.3  94.8  91.   74.   95.  104.3 130.  139.5  95.3  97.\n 115.   98.   85.   78.  119.   91.8 103.5 142.  104.   87.   73.  120.\n 101.  114.  104.5 116.3  69.   90.  106.  112.  114.5 122.5 117.  100.3\n 102.3  99.3  83.8  82.5  92.3 126.3 114.   95.   93.5  99.  110.  103.5\n  96.8  98.   94.3  79.   88.   97.5  86.   79.8  77.   95.3  94.   93.5\n  90.  117.  109.3 110.3 102.5 126.   98.5  76.  117.5 108.  109.  126.5\n  82.3 105.8  96.5  81.8  86.  112.  117.  112.5  97.  117.3  99.  103.\n  87.3  90.8  89.3 114.   76.   89.3  83.   94.   72.5  83.  107.   85.5\n  92.  101.5  82.  112.   88.   65.  114.  106.  112.  105.5 109.3 100.5\n  96.5 100.   77.   83.5 153.  107.  105.5  86.8  99.8  58.   80.  111.\n 113.8  89.   89.  104.  113.3  82.  133.8 101.3  90.8  80.  101.5 100.5\n  94.5 106.   86.  105.5 102.  100.3 109.3  89.5  88.3  83.8  85.   87.\n  75.8  85.   90.   96.  119.8 113.3  58.   96.   70.3 102.8  90.8 101.3\n 142.  102.  122.3  69.5  99.   94.   88.5 104.5 115.   93.  103.  105.\n  99.   89.   87.5  94.   89.3  83.   92.   80.  108.3  71.   84.   96.\n  96.  103.  115.5 125.  102.   79.5 100.   87.  101.  114.3 124.3  94.8\n 130.   90.3  89.5  87.5  86.   95.8  71.  121.5  72.  116.   95.  101.\n 111.  106.  126.  100.  111.5 101.5 113.8  94.5  68.3  89.  111.  100.\n  82.8  88.  141.   88.8  86.3  83.3 128.5 105.3  95.  119.3 109.  126.\n 120.  105.   94.5 104.5  98.  142.8 109.  107.8  77.5 124.   96.  122.\n 111.5  83.  107.   76.5  97.3  85.8 160.   97.5 118.8  93.8 107.5  79.\n  94.8  90.8  74.  106.8 101.8 146.  131.8  90.  120.   74.5 104.  108.3\n 108.  108.   73.5  86.3 104.  101.5 113.   90.3  91.5 117.3  70.3 107.3\n  92.  108.   92.3 108.   83.8 128.  105.  124.5 100.  127.   95.  118.\n  98.   87.   90.5 107.3 115.   93.  107.   86.5 102.   89.  121.   89.\n  96.   99.8 123.   90.   93.8  86.3 111.  104.   97.5  82.   75.5  91.3\n  95.5 123.  103.8  88.  143.   93.  128.   90.8 121.8 115.   97.  119.\n  82.8 118.   91.  102.8 100.3  93.8 107.8  92.  120.5 116.  106.8 112.8\n  63.  112.8 113.   94.5 121.   95.3  89.3 125.5 133.  100.  127.  119.\n  79.  144.  109.5 104.5 104.   79.  102.5  86.   74.8  73.   98.5  78.5\n 115.8 103.   98.   87.   97.3 157.   87.  126.   84.8  96.8  85.  103.3\n  96.  107.3 107.   91.8 116.  125.   91.5  96.   75.5 125.   90.3  95.8\n  87.8  95.3 155.  100.   98.   93.  112.5  95.5  78.5 112.5  69.3  76.\n 111.   98.  101.   84.3 112.3 133.5  96.8 102.  115.5  94.5  94.   96.\n 110.8 113.8 112.  107.5 103.   89.   91.   83.5  85.  101.5 101.5  86.5\n 132.  112.   81.5  82.  114.  117.5 109.  100.5  67.  119.5 122.   85.3\n 104.   94.3 123.3 133.  134.  139.3  90.5 131.  109.  107.  126.8  80.\n 126.5 129.5 111.8  79.8  94.   98.8 116.5  76.  108.5 112.  117.  119.3\n  85.3  77.5  83.  104.   97.   80.8  80.5 101.   98.  111.3 141.   99.\n  81.  107.3 123.   71.  115.3 109.5 107.5  97.3  87.   79.  133.  130.3\n  92.3  95.   97.  110.3 101.3  98.   81.   93.3  98.  112.3  89.   87.\n 106.   88.3 114.   96.   88.   90.3  95.5  78.3 110.8  87.  105.  114.3\n  99.   95.5  87.  155.  103.   69.5 120.5  79.  132.   85.5  96.   86.5\n 133.   75.5 100.8  87.   88.5 100.  107.  106.   94.   66.   69.  108.\n  95.3 108.   93.  148.3  84.  101.8  98.5  89.  104.   90.5 105.3  94.5\n 112.3  94.   91.  121.   93.8  76.3  89.  101.   97.8 114.3  94.5 108.5\n  95.  117.  108.3 101.5 112.3 115.   72.  122.5 142.  100.5 109.3  96.\n 105.  112.   91.5 105.  108.   83.   88.  110.  120.8  96.8 122.  100.3\n 107.3 113.  114.8  79.   77.3  86.   83.   96.  104.   98.   96.   96.\n 128.5  86.5 103.   92.  105.   97.3 137.  102.   89.8  80.8  95.   77.\n 109.   90.   93.3  81.  110.  103.   87.3 102.8 104.5 109.8 138.8 119.\n 125.5 110.  112.   85.5 126.5  90.   90.3 109.   86.   92.   93.  102.\n 112.5 108.5 130.   74.   83.8 110.8  90.  113.  121.   92.3 104.   90.3\n  83.3 111.  106.   90.8  88.  107.5 135.5  87.   81.3 133.8  78.8  74.\n 100.3  76.3 118.3  96.3 113.   95.  128.  127.  111.8  87.  108.5 135.8\n  92.  112.   82.8 102.8  93.5 116.   92.  106.  110.8 104.5 121.   87.\n 113.3 105.3 117.8  85.   81.   92.8  91.  127.3  94.8  99.5 109.5  93.\n  98.  115.8  80.   92.   83.  116.5 143.   95.5 107.   80.8  84.   98.5\n  86.  120.5  88.5  92.5  97.3  90.  114.   91.   87.3  99.5  88.   82.\n  79.3 109.5 101.   86.3 110.8  78.   95.5 118.5 124.5 115.5  94.3 108.5\n 117.  100.  106.5 105.8 106.3  91.  126.   71.   74.   81.   79.3  79.5\n 114.   96.8 100.   81.5  74.  108.   93.5  95.  102.   87.  107.8 130.\n  89.   85.  125.5  96.3 118.8 131.5  94.  135.3 101.  135.  108.   91.\n  99.  121.   99.5 123.3 107.3 107.   97.  109.   99.   65.8 103.8  78.\n  93.8  90.   78.   82.   86.   70.   92.   84.5  78.5  97.3  90.   93.\n  84.  110.5 128.  112.  129.3  75.5 111.   87.  112.8 102.   91.3  84.8\n 117.3  87.   72.  108.  123.3 104.  103.  105.   89.   96.5  94.5  94.\n 120.3 104.   99.  103.5  96.5  85.5 137.3].\nReshape your data either using array.reshape(-1, 1) if your data has a single feature or array.reshape(1, -1) if it contains a single sample."
     ]
    }
   ],
   "source": [
    " pipe.fit(X_train, y_train)"
   ]
  },
  {
   "cell_type": "code",
   "execution_count": 306,
   "id": "9b48794e",
   "metadata": {},
   "outputs": [
    {
     "ename": "NotFittedError",
     "evalue": "This MinMaxScaler instance is not fitted yet. Call 'fit' with appropriate arguments before using this estimator.",
     "output_type": "error",
     "traceback": [
      "\u001b[0;31m---------------------------------------------------------------------------\u001b[0m",
      "\u001b[0;31mNotFittedError\u001b[0m                            Traceback (most recent call last)",
      "\u001b[0;32m/tmp/ipykernel_2102/3644400487.py\u001b[0m in \u001b[0;36m<module>\u001b[0;34m\u001b[0m\n\u001b[0;32m----> 1\u001b[0;31m \u001b[0my_pred_lin\u001b[0m \u001b[0;34m=\u001b[0m \u001b[0mpipe\u001b[0m\u001b[0;34m.\u001b[0m\u001b[0mpredict\u001b[0m\u001b[0;34m(\u001b[0m\u001b[0mX_test\u001b[0m\u001b[0;34m)\u001b[0m\u001b[0;34m\u001b[0m\u001b[0;34m\u001b[0m\u001b[0m\n\u001b[0m",
      "\u001b[0;32m~/.pyenv/versions/3.8.6/envs/dreamteam/lib/python3.8/site-packages/sklearn/utils/metaestimators.py\u001b[0m in \u001b[0;36m<lambda>\u001b[0;34m(*args, **kwargs)\u001b[0m\n\u001b[1;32m    118\u001b[0m \u001b[0;34m\u001b[0m\u001b[0m\n\u001b[1;32m    119\u001b[0m         \u001b[0;31m# lambda, but not partial, allows help() to work with update_wrapper\u001b[0m\u001b[0;34m\u001b[0m\u001b[0;34m\u001b[0m\u001b[0;34m\u001b[0m\u001b[0m\n\u001b[0;32m--> 120\u001b[0;31m         \u001b[0mout\u001b[0m \u001b[0;34m=\u001b[0m \u001b[0;32mlambda\u001b[0m \u001b[0;34m*\u001b[0m\u001b[0margs\u001b[0m\u001b[0;34m,\u001b[0m \u001b[0;34m**\u001b[0m\u001b[0mkwargs\u001b[0m\u001b[0;34m:\u001b[0m \u001b[0mself\u001b[0m\u001b[0;34m.\u001b[0m\u001b[0mfn\u001b[0m\u001b[0;34m(\u001b[0m\u001b[0mobj\u001b[0m\u001b[0;34m,\u001b[0m \u001b[0;34m*\u001b[0m\u001b[0margs\u001b[0m\u001b[0;34m,\u001b[0m \u001b[0;34m**\u001b[0m\u001b[0mkwargs\u001b[0m\u001b[0;34m)\u001b[0m\u001b[0;34m\u001b[0m\u001b[0;34m\u001b[0m\u001b[0m\n\u001b[0m\u001b[1;32m    121\u001b[0m         \u001b[0;31m# update the docstring of the returned function\u001b[0m\u001b[0;34m\u001b[0m\u001b[0;34m\u001b[0m\u001b[0;34m\u001b[0m\u001b[0m\n\u001b[1;32m    122\u001b[0m         \u001b[0mupdate_wrapper\u001b[0m\u001b[0;34m(\u001b[0m\u001b[0mout\u001b[0m\u001b[0;34m,\u001b[0m \u001b[0mself\u001b[0m\u001b[0;34m.\u001b[0m\u001b[0mfn\u001b[0m\u001b[0;34m)\u001b[0m\u001b[0;34m\u001b[0m\u001b[0;34m\u001b[0m\u001b[0m\n",
      "\u001b[0;32m~/.pyenv/versions/3.8.6/envs/dreamteam/lib/python3.8/site-packages/sklearn/pipeline.py\u001b[0m in \u001b[0;36mpredict\u001b[0;34m(self, X, **predict_params)\u001b[0m\n\u001b[1;32m    416\u001b[0m         \u001b[0mXt\u001b[0m \u001b[0;34m=\u001b[0m \u001b[0mX\u001b[0m\u001b[0;34m\u001b[0m\u001b[0;34m\u001b[0m\u001b[0m\n\u001b[1;32m    417\u001b[0m         \u001b[0;32mfor\u001b[0m \u001b[0m_\u001b[0m\u001b[0;34m,\u001b[0m \u001b[0mname\u001b[0m\u001b[0;34m,\u001b[0m \u001b[0mtransform\u001b[0m \u001b[0;32min\u001b[0m \u001b[0mself\u001b[0m\u001b[0;34m.\u001b[0m\u001b[0m_iter\u001b[0m\u001b[0;34m(\u001b[0m\u001b[0mwith_final\u001b[0m\u001b[0;34m=\u001b[0m\u001b[0;32mFalse\u001b[0m\u001b[0;34m)\u001b[0m\u001b[0;34m:\u001b[0m\u001b[0;34m\u001b[0m\u001b[0;34m\u001b[0m\u001b[0m\n\u001b[0;32m--> 418\u001b[0;31m             \u001b[0mXt\u001b[0m \u001b[0;34m=\u001b[0m \u001b[0mtransform\u001b[0m\u001b[0;34m.\u001b[0m\u001b[0mtransform\u001b[0m\u001b[0;34m(\u001b[0m\u001b[0mXt\u001b[0m\u001b[0;34m)\u001b[0m\u001b[0;34m\u001b[0m\u001b[0;34m\u001b[0m\u001b[0m\n\u001b[0m\u001b[1;32m    419\u001b[0m         \u001b[0;32mreturn\u001b[0m \u001b[0mself\u001b[0m\u001b[0;34m.\u001b[0m\u001b[0msteps\u001b[0m\u001b[0;34m[\u001b[0m\u001b[0;34m-\u001b[0m\u001b[0;36m1\u001b[0m\u001b[0;34m]\u001b[0m\u001b[0;34m[\u001b[0m\u001b[0;34m-\u001b[0m\u001b[0;36m1\u001b[0m\u001b[0;34m]\u001b[0m\u001b[0;34m.\u001b[0m\u001b[0mpredict\u001b[0m\u001b[0;34m(\u001b[0m\u001b[0mXt\u001b[0m\u001b[0;34m,\u001b[0m \u001b[0;34m**\u001b[0m\u001b[0mpredict_params\u001b[0m\u001b[0;34m)\u001b[0m\u001b[0;34m\u001b[0m\u001b[0;34m\u001b[0m\u001b[0m\n\u001b[1;32m    420\u001b[0m \u001b[0;34m\u001b[0m\u001b[0m\n",
      "\u001b[0;32m~/.pyenv/versions/3.8.6/envs/dreamteam/lib/python3.8/site-packages/sklearn/preprocessing/_data.py\u001b[0m in \u001b[0;36mtransform\u001b[0;34m(self, X)\u001b[0m\n\u001b[1;32m    430\u001b[0m             \u001b[0mTransformed\u001b[0m \u001b[0mdata\u001b[0m\u001b[0;34m.\u001b[0m\u001b[0;34m\u001b[0m\u001b[0;34m\u001b[0m\u001b[0m\n\u001b[1;32m    431\u001b[0m         \"\"\"\n\u001b[0;32m--> 432\u001b[0;31m         \u001b[0mcheck_is_fitted\u001b[0m\u001b[0;34m(\u001b[0m\u001b[0mself\u001b[0m\u001b[0;34m)\u001b[0m\u001b[0;34m\u001b[0m\u001b[0;34m\u001b[0m\u001b[0m\n\u001b[0m\u001b[1;32m    433\u001b[0m \u001b[0;34m\u001b[0m\u001b[0m\n\u001b[1;32m    434\u001b[0m         X = self._validate_data(X, copy=self.copy, dtype=FLOAT_DTYPES,\n",
      "\u001b[0;32m~/.pyenv/versions/3.8.6/envs/dreamteam/lib/python3.8/site-packages/sklearn/utils/validation.py\u001b[0m in \u001b[0;36minner_f\u001b[0;34m(*args, **kwargs)\u001b[0m\n\u001b[1;32m     61\u001b[0m             \u001b[0mextra_args\u001b[0m \u001b[0;34m=\u001b[0m \u001b[0mlen\u001b[0m\u001b[0;34m(\u001b[0m\u001b[0margs\u001b[0m\u001b[0;34m)\u001b[0m \u001b[0;34m-\u001b[0m \u001b[0mlen\u001b[0m\u001b[0;34m(\u001b[0m\u001b[0mall_args\u001b[0m\u001b[0;34m)\u001b[0m\u001b[0;34m\u001b[0m\u001b[0;34m\u001b[0m\u001b[0m\n\u001b[1;32m     62\u001b[0m             \u001b[0;32mif\u001b[0m \u001b[0mextra_args\u001b[0m \u001b[0;34m<=\u001b[0m \u001b[0;36m0\u001b[0m\u001b[0;34m:\u001b[0m\u001b[0;34m\u001b[0m\u001b[0;34m\u001b[0m\u001b[0m\n\u001b[0;32m---> 63\u001b[0;31m                 \u001b[0;32mreturn\u001b[0m \u001b[0mf\u001b[0m\u001b[0;34m(\u001b[0m\u001b[0;34m*\u001b[0m\u001b[0margs\u001b[0m\u001b[0;34m,\u001b[0m \u001b[0;34m**\u001b[0m\u001b[0mkwargs\u001b[0m\u001b[0;34m)\u001b[0m\u001b[0;34m\u001b[0m\u001b[0;34m\u001b[0m\u001b[0m\n\u001b[0m\u001b[1;32m     64\u001b[0m \u001b[0;34m\u001b[0m\u001b[0m\n\u001b[1;32m     65\u001b[0m             \u001b[0;31m# extra_args > 0\u001b[0m\u001b[0;34m\u001b[0m\u001b[0;34m\u001b[0m\u001b[0;34m\u001b[0m\u001b[0m\n",
      "\u001b[0;32m~/.pyenv/versions/3.8.6/envs/dreamteam/lib/python3.8/site-packages/sklearn/utils/validation.py\u001b[0m in \u001b[0;36mcheck_is_fitted\u001b[0;34m(estimator, attributes, msg, all_or_any)\u001b[0m\n\u001b[1;32m   1096\u001b[0m \u001b[0;34m\u001b[0m\u001b[0m\n\u001b[1;32m   1097\u001b[0m     \u001b[0;32mif\u001b[0m \u001b[0;32mnot\u001b[0m \u001b[0mattrs\u001b[0m\u001b[0;34m:\u001b[0m\u001b[0;34m\u001b[0m\u001b[0;34m\u001b[0m\u001b[0m\n\u001b[0;32m-> 1098\u001b[0;31m         \u001b[0;32mraise\u001b[0m \u001b[0mNotFittedError\u001b[0m\u001b[0;34m(\u001b[0m\u001b[0mmsg\u001b[0m \u001b[0;34m%\u001b[0m \u001b[0;34m{\u001b[0m\u001b[0;34m'name'\u001b[0m\u001b[0;34m:\u001b[0m \u001b[0mtype\u001b[0m\u001b[0;34m(\u001b[0m\u001b[0mestimator\u001b[0m\u001b[0;34m)\u001b[0m\u001b[0;34m.\u001b[0m\u001b[0m__name__\u001b[0m\u001b[0;34m}\u001b[0m\u001b[0;34m)\u001b[0m\u001b[0;34m\u001b[0m\u001b[0;34m\u001b[0m\u001b[0m\n\u001b[0m\u001b[1;32m   1099\u001b[0m \u001b[0;34m\u001b[0m\u001b[0m\n\u001b[1;32m   1100\u001b[0m \u001b[0;34m\u001b[0m\u001b[0m\n",
      "\u001b[0;31mNotFittedError\u001b[0m: This MinMaxScaler instance is not fitted yet. Call 'fit' with appropriate arguments before using this estimator."
     ]
    }
   ],
   "source": [
    "y_pred_lin = pipe.predict(X_test)"
   ]
  },
  {
   "cell_type": "code",
   "execution_count": 307,
   "id": "70c5c3fd",
   "metadata": {},
   "outputs": [
    {
     "data": {
      "text/plain": [
       "8.41569248725072"
      ]
     },
     "execution_count": 307,
     "metadata": {},
     "output_type": "execute_result"
    }
   ],
   "source": [
    "mae_baseline = mean_absolute_error(y_test, y_pred_lin)\n",
    "mae_baseline"
   ]
  },
  {
   "cell_type": "markdown",
   "id": "c0b80522",
   "metadata": {},
   "source": [
    "### Feature permutation"
   ]
  },
  {
   "cell_type": "code",
   "execution_count": 109,
   "id": "8dabf571",
   "metadata": {},
   "outputs": [],
   "source": [
    "from sklearn.inspection import permutation_importance\n",
    "\n",
    "lin_model = LinearRegression().fit(X_train, y_train)"
   ]
  },
  {
   "cell_type": "code",
   "execution_count": 110,
   "id": "d37faa51",
   "metadata": {},
   "outputs": [],
   "source": [
    "per_score = permutation_importance(lin_model,X_train, y_train, n_repeats=10)"
   ]
  },
  {
   "cell_type": "code",
   "execution_count": 130,
   "id": "5960042b",
   "metadata": {},
   "outputs": [
    {
     "data": {
      "text/plain": [
       "(60,)"
      ]
     },
     "execution_count": 130,
     "metadata": {},
     "output_type": "execute_result"
    }
   ],
   "source": [
    "type(per_score.importances)\n",
    "per_score.importances_mean.shape"
   ]
  },
  {
   "cell_type": "code",
   "execution_count": 129,
   "id": "b72565a1",
   "metadata": {},
   "outputs": [],
   "source": [
    "importance_df = pd.DataFrame(np.vstack((X_train.columns, per_score.importances_mean)).T)"
   ]
  },
  {
   "cell_type": "code",
   "execution_count": 131,
   "id": "8bba57cb",
   "metadata": {},
   "outputs": [],
   "source": [
    "importance_df.columns=['feature','score decrease']"
   ]
  },
  {
   "cell_type": "code",
   "execution_count": 166,
   "id": "478ee3f9",
   "metadata": {},
   "outputs": [
    {
     "data": {
      "text/html": [
       "<div>\n",
       "<style scoped>\n",
       "    .dataframe tbody tr th:only-of-type {\n",
       "        vertical-align: middle;\n",
       "    }\n",
       "\n",
       "    .dataframe tbody tr th {\n",
       "        vertical-align: top;\n",
       "    }\n",
       "\n",
       "    .dataframe thead th {\n",
       "        text-align: right;\n",
       "    }\n",
       "</style>\n",
       "<table border=\"1\" class=\"dataframe\">\n",
       "  <thead>\n",
       "    <tr style=\"text-align: right;\">\n",
       "      <th></th>\n",
       "      <th>feature</th>\n",
       "      <th>score decrease</th>\n",
       "    </tr>\n",
       "  </thead>\n",
       "  <tbody>\n",
       "    <tr>\n",
       "      <th>24</th>\n",
       "      <td>waistgirthm</td>\n",
       "      <td>157.573212</td>\n",
       "    </tr>\n",
       "    <tr>\n",
       "      <th>13</th>\n",
       "      <td>waist_girth2</td>\n",
       "      <td>64.864476</td>\n",
       "    </tr>\n",
       "    <tr>\n",
       "      <th>22</th>\n",
       "      <td>hipgirthm</td>\n",
       "      <td>39.17611</td>\n",
       "    </tr>\n",
       "    <tr>\n",
       "      <th>12</th>\n",
       "      <td>waist_girth1</td>\n",
       "      <td>11.970586</td>\n",
       "    </tr>\n",
       "    <tr>\n",
       "      <th>15</th>\n",
       "      <td>hip_girth2</td>\n",
       "      <td>9.883946</td>\n",
       "    </tr>\n",
       "  </tbody>\n",
       "</table>\n",
       "</div>"
      ],
      "text/plain": [
       "         feature score decrease\n",
       "24   waistgirthm     157.573212\n",
       "13  waist_girth2      64.864476\n",
       "22     hipgirthm       39.17611\n",
       "12  waist_girth1      11.970586\n",
       "15    hip_girth2       9.883946"
      ]
     },
     "execution_count": 166,
     "metadata": {},
     "output_type": "execute_result"
    }
   ],
   "source": [
    "importance_df.sort_values(by='score decrease', ascending=False).head()"
   ]
  },
  {
   "cell_type": "markdown",
   "id": "3e5a41e3",
   "metadata": {},
   "source": [
    "### Linear Model with reduced X"
   ]
  },
  {
   "cell_type": "code",
   "execution_count": 143,
   "id": "43f6be4f",
   "metadata": {},
   "outputs": [],
   "source": [
    "y = data_df1.tso\n",
    "X = data_df1[['waistgirthm','waist_girth2']]"
   ]
  },
  {
   "cell_type": "code",
   "execution_count": 144,
   "id": "e0796285",
   "metadata": {},
   "outputs": [],
   "source": [
    "X_train, X_test, y_train, y_test = train_test_split(X,y, test_size=0.25, random_state=1)"
   ]
  },
  {
   "cell_type": "code",
   "execution_count": 145,
   "id": "502efee4",
   "metadata": {},
   "outputs": [],
   "source": [
    "scaler = RobustScaler()"
   ]
  },
  {
   "cell_type": "code",
   "execution_count": 146,
   "id": "0dd8410c",
   "metadata": {},
   "outputs": [],
   "source": [
    "linreg = LinearRegression()"
   ]
  },
  {
   "cell_type": "code",
   "execution_count": 147,
   "id": "9e911c65",
   "metadata": {},
   "outputs": [],
   "source": [
    "pipe = Pipeline([('scaler', scaler),\n",
    "                ('linereg', linreg)])"
   ]
  },
  {
   "cell_type": "code",
   "execution_count": 148,
   "id": "30ce0287",
   "metadata": {},
   "outputs": [
    {
     "data": {
      "text/html": [
       "<style>#sk-8788a410-36e3-4a8f-a001-0b24b7da6966 {color: black;background-color: white;}#sk-8788a410-36e3-4a8f-a001-0b24b7da6966 pre{padding: 0;}#sk-8788a410-36e3-4a8f-a001-0b24b7da6966 div.sk-toggleable {background-color: white;}#sk-8788a410-36e3-4a8f-a001-0b24b7da6966 label.sk-toggleable__label {cursor: pointer;display: block;width: 100%;margin-bottom: 0;padding: 0.2em 0.3em;box-sizing: border-box;text-align: center;}#sk-8788a410-36e3-4a8f-a001-0b24b7da6966 div.sk-toggleable__content {max-height: 0;max-width: 0;overflow: hidden;text-align: left;background-color: #f0f8ff;}#sk-8788a410-36e3-4a8f-a001-0b24b7da6966 div.sk-toggleable__content pre {margin: 0.2em;color: black;border-radius: 0.25em;background-color: #f0f8ff;}#sk-8788a410-36e3-4a8f-a001-0b24b7da6966 input.sk-toggleable__control:checked~div.sk-toggleable__content {max-height: 200px;max-width: 100%;overflow: auto;}#sk-8788a410-36e3-4a8f-a001-0b24b7da6966 div.sk-estimator input.sk-toggleable__control:checked~label.sk-toggleable__label {background-color: #d4ebff;}#sk-8788a410-36e3-4a8f-a001-0b24b7da6966 div.sk-label input.sk-toggleable__control:checked~label.sk-toggleable__label {background-color: #d4ebff;}#sk-8788a410-36e3-4a8f-a001-0b24b7da6966 input.sk-hidden--visually {border: 0;clip: rect(1px 1px 1px 1px);clip: rect(1px, 1px, 1px, 1px);height: 1px;margin: -1px;overflow: hidden;padding: 0;position: absolute;width: 1px;}#sk-8788a410-36e3-4a8f-a001-0b24b7da6966 div.sk-estimator {font-family: monospace;background-color: #f0f8ff;margin: 0.25em 0.25em;border: 1px dotted black;border-radius: 0.25em;box-sizing: border-box;}#sk-8788a410-36e3-4a8f-a001-0b24b7da6966 div.sk-estimator:hover {background-color: #d4ebff;}#sk-8788a410-36e3-4a8f-a001-0b24b7da6966 div.sk-parallel-item::after {content: \"\";width: 100%;border-bottom: 1px solid gray;flex-grow: 1;}#sk-8788a410-36e3-4a8f-a001-0b24b7da6966 div.sk-label:hover label.sk-toggleable__label {background-color: #d4ebff;}#sk-8788a410-36e3-4a8f-a001-0b24b7da6966 div.sk-serial::before {content: \"\";position: absolute;border-left: 1px solid gray;box-sizing: border-box;top: 2em;bottom: 0;left: 50%;}#sk-8788a410-36e3-4a8f-a001-0b24b7da6966 div.sk-serial {display: flex;flex-direction: column;align-items: center;background-color: white;}#sk-8788a410-36e3-4a8f-a001-0b24b7da6966 div.sk-item {z-index: 1;}#sk-8788a410-36e3-4a8f-a001-0b24b7da6966 div.sk-parallel {display: flex;align-items: stretch;justify-content: center;background-color: white;}#sk-8788a410-36e3-4a8f-a001-0b24b7da6966 div.sk-parallel-item {display: flex;flex-direction: column;position: relative;background-color: white;}#sk-8788a410-36e3-4a8f-a001-0b24b7da6966 div.sk-parallel-item:first-child::after {align-self: flex-end;width: 50%;}#sk-8788a410-36e3-4a8f-a001-0b24b7da6966 div.sk-parallel-item:last-child::after {align-self: flex-start;width: 50%;}#sk-8788a410-36e3-4a8f-a001-0b24b7da6966 div.sk-parallel-item:only-child::after {width: 0;}#sk-8788a410-36e3-4a8f-a001-0b24b7da6966 div.sk-dashed-wrapped {border: 1px dashed gray;margin: 0.2em;box-sizing: border-box;padding-bottom: 0.1em;background-color: white;position: relative;}#sk-8788a410-36e3-4a8f-a001-0b24b7da6966 div.sk-label label {font-family: monospace;font-weight: bold;background-color: white;display: inline-block;line-height: 1.2em;}#sk-8788a410-36e3-4a8f-a001-0b24b7da6966 div.sk-label-container {position: relative;z-index: 2;text-align: center;}#sk-8788a410-36e3-4a8f-a001-0b24b7da6966 div.sk-container {display: inline-block;position: relative;}</style><div id=\"sk-8788a410-36e3-4a8f-a001-0b24b7da6966\" class\"sk-top-container\"><div class=\"sk-container\"><div class=\"sk-item sk-dashed-wrapped\"><div class=\"sk-label-container\"><div class=\"sk-label sk-toggleable\"><input class=\"sk-toggleable__control sk-hidden--visually\" id=\"538fe7dc-d7be-4cb2-9ede-55704eba3b0b\" type=\"checkbox\" ><label class=\"sk-toggleable__label\" for=\"538fe7dc-d7be-4cb2-9ede-55704eba3b0b\">Pipeline</label><div class=\"sk-toggleable__content\"><pre>Pipeline(steps=[('scaler', RobustScaler()), ('linereg', LinearRegression())])</pre></div></div></div><div class=\"sk-serial\"><div class=\"sk-item\"><div class=\"sk-estimator sk-toggleable\"><input class=\"sk-toggleable__control sk-hidden--visually\" id=\"dda34b01-f2ec-4125-8f84-0894f999e9d2\" type=\"checkbox\" ><label class=\"sk-toggleable__label\" for=\"dda34b01-f2ec-4125-8f84-0894f999e9d2\">RobustScaler</label><div class=\"sk-toggleable__content\"><pre>RobustScaler()</pre></div></div></div><div class=\"sk-item\"><div class=\"sk-estimator sk-toggleable\"><input class=\"sk-toggleable__control sk-hidden--visually\" id=\"e24bb342-ee70-422f-884d-ff9f95a8924d\" type=\"checkbox\" ><label class=\"sk-toggleable__label\" for=\"e24bb342-ee70-422f-884d-ff9f95a8924d\">LinearRegression</label><div class=\"sk-toggleable__content\"><pre>LinearRegression()</pre></div></div></div></div></div></div></div>"
      ],
      "text/plain": [
       "Pipeline(steps=[('scaler', RobustScaler()), ('linereg', LinearRegression())])"
      ]
     },
     "execution_count": 148,
     "metadata": {},
     "output_type": "execute_result"
    }
   ],
   "source": [
    " pipe.fit(X_train, y_train)"
   ]
  },
  {
   "cell_type": "code",
   "execution_count": 149,
   "id": "89959ae7",
   "metadata": {},
   "outputs": [
    {
     "data": {
      "text/plain": [
       "-2.484422778616038"
      ]
     },
     "execution_count": 149,
     "metadata": {},
     "output_type": "execute_result"
    }
   ],
   "source": [
    "pipe.score(X_test, y_test)"
   ]
  },
  {
   "cell_type": "markdown",
   "id": "d6a234cc",
   "metadata": {},
   "source": [
    "### Ridge model"
   ]
  },
  {
   "cell_type": "code",
   "execution_count": 159,
   "id": "5c5a77df",
   "metadata": {},
   "outputs": [],
   "source": [
    "from sklearn.linear_model import Ridge, Lasso, LinearRegression"
   ]
  },
  {
   "cell_type": "code",
   "execution_count": 160,
   "id": "00170cff",
   "metadata": {},
   "outputs": [],
   "source": [
    "y = data_df1.tso\n",
    "X = data_df1.drop('tso', axis=1)\n",
    "X = data_df1.drop(targets, axis=1)\n",
    "X = data_df1.drop(categoricals, axis=1)"
   ]
  },
  {
   "cell_type": "code",
   "execution_count": 161,
   "id": "516d5ef9",
   "metadata": {},
   "outputs": [],
   "source": [
    "X_train, X_test, y_train, y_test = train_test_split(X,y, test_size=0.25, random_state=1)"
   ]
  },
  {
   "cell_type": "code",
   "execution_count": 162,
   "id": "55a15bb6",
   "metadata": {},
   "outputs": [],
   "source": [
    "linreg = LinearRegression().fit(X_train, y_train)\n",
    "ridge = Ridge(alpha=0.2).fit(X_train, y_train)\n",
    "lasso = Lasso(alpha=0.2).fit(X_train, y_train)\n",
    "\n"
   ]
  },
  {
   "cell_type": "code",
   "execution_count": 163,
   "id": "b6b4e3cf",
   "metadata": {},
   "outputs": [],
   "source": [
    "coefs = pd.DataFrame({\n",
    "    \"coef_linreg\": pd.Series(linreg.coef_, index = X.columns),\n",
    "    \"coef_ridge\": pd.Series(ridge.coef_, index = X.columns),\n",
    "    \"coef_lasso\": pd.Series(lasso.coef_, index= X.columns)})\\\n",
    "\n"
   ]
  },
  {
   "cell_type": "code",
   "execution_count": 164,
   "id": "2b7688d2",
   "metadata": {},
   "outputs": [
    {
     "data": {
      "text/html": [
       "<style type=\"text/css\">\n",
       "#T_2fed3_row0_col0, #T_2fed3_row0_col1, #T_2fed3_row0_col2, #T_2fed3_row1_col2, #T_2fed3_row2_col0, #T_2fed3_row2_col1, #T_2fed3_row2_col2, #T_2fed3_row3_col0, #T_2fed3_row3_col1, #T_2fed3_row3_col2, #T_2fed3_row4_col0, #T_2fed3_row4_col1, #T_2fed3_row4_col2, #T_2fed3_row5_col0, #T_2fed3_row5_col1, #T_2fed3_row5_col2, #T_2fed3_row6_col0, #T_2fed3_row6_col1, #T_2fed3_row6_col2, #T_2fed3_row7_col0, #T_2fed3_row7_col1, #T_2fed3_row7_col2, #T_2fed3_row8_col0, #T_2fed3_row8_col1, #T_2fed3_row8_col2, #T_2fed3_row9_col0, #T_2fed3_row9_col1, #T_2fed3_row9_col2, #T_2fed3_row10_col0, #T_2fed3_row10_col1, #T_2fed3_row10_col2, #T_2fed3_row11_col0, #T_2fed3_row11_col1, #T_2fed3_row11_col2, #T_2fed3_row12_col1, #T_2fed3_row12_col2, #T_2fed3_row13_col2, #T_2fed3_row14_col2, #T_2fed3_row15_col2, #T_2fed3_row16_col2, #T_2fed3_row17_col0, #T_2fed3_row17_col1, #T_2fed3_row17_col2, #T_2fed3_row18_col0, #T_2fed3_row18_col1, #T_2fed3_row18_col2, #T_2fed3_row19_col0, #T_2fed3_row19_col1, #T_2fed3_row19_col2, #T_2fed3_row20_col0, #T_2fed3_row20_col1, #T_2fed3_row20_col2, #T_2fed3_row21_col0, #T_2fed3_row21_col1, #T_2fed3_row21_col2, #T_2fed3_row22_col2, #T_2fed3_row23_col0, #T_2fed3_row23_col1, #T_2fed3_row23_col2, #T_2fed3_row24_col2, #T_2fed3_row25_col2, #T_2fed3_row26_col0, #T_2fed3_row26_col1, #T_2fed3_row26_col2, #T_2fed3_row27_col0, #T_2fed3_row27_col1, #T_2fed3_row27_col2, #T_2fed3_row28_col0, #T_2fed3_row28_col1, #T_2fed3_row28_col2, #T_2fed3_row29_col0, #T_2fed3_row29_col1, #T_2fed3_row29_col2, #T_2fed3_row30_col0, #T_2fed3_row30_col1, #T_2fed3_row30_col2, #T_2fed3_row31_col0, #T_2fed3_row31_col1, #T_2fed3_row31_col2, #T_2fed3_row32_col0, #T_2fed3_row32_col1, #T_2fed3_row32_col2, #T_2fed3_row33_col0, #T_2fed3_row33_col1, #T_2fed3_row33_col2, #T_2fed3_row34_col0, #T_2fed3_row34_col1, #T_2fed3_row34_col2, #T_2fed3_row35_col0, #T_2fed3_row35_col1, #T_2fed3_row35_col2, #T_2fed3_row36_col0, #T_2fed3_row36_col1, #T_2fed3_row36_col2, #T_2fed3_row37_col0, #T_2fed3_row37_col1, #T_2fed3_row37_col2, #T_2fed3_row38_col0, #T_2fed3_row38_col1, #T_2fed3_row38_col2, #T_2fed3_row39_col0, #T_2fed3_row39_col1, #T_2fed3_row39_col2, #T_2fed3_row40_col0, #T_2fed3_row40_col1, #T_2fed3_row40_col2, #T_2fed3_row41_col0, #T_2fed3_row41_col1, #T_2fed3_row41_col2, #T_2fed3_row42_col0, #T_2fed3_row42_col1, #T_2fed3_row42_col2, #T_2fed3_row43_col0, #T_2fed3_row43_col1, #T_2fed3_row43_col2, #T_2fed3_row45_col2, #T_2fed3_row46_col0, #T_2fed3_row46_col1, #T_2fed3_row46_col2, #T_2fed3_row47_col2, #T_2fed3_row48_col0, #T_2fed3_row48_col1, #T_2fed3_row48_col2, #T_2fed3_row49_col0, #T_2fed3_row49_col1, #T_2fed3_row49_col2, #T_2fed3_row50_col0, #T_2fed3_row50_col1, #T_2fed3_row50_col2, #T_2fed3_row51_col0, #T_2fed3_row51_col1, #T_2fed3_row51_col2, #T_2fed3_row52_col0, #T_2fed3_row52_col1, #T_2fed3_row52_col2, #T_2fed3_row53_col0, #T_2fed3_row53_col1, #T_2fed3_row53_col2, #T_2fed3_row54_col0, #T_2fed3_row54_col1, #T_2fed3_row54_col2, #T_2fed3_row55_col0, #T_2fed3_row55_col1, #T_2fed3_row55_col2, #T_2fed3_row56_col0, #T_2fed3_row56_col1, #T_2fed3_row56_col2, #T_2fed3_row57_col0, #T_2fed3_row57_col1, #T_2fed3_row57_col2, #T_2fed3_row58_col0, #T_2fed3_row58_col1, #T_2fed3_row58_col2, #T_2fed3_row59_col0, #T_2fed3_row59_col1, #T_2fed3_row59_col2 {\n",
       "  color: red;\n",
       "}\n",
       "#T_2fed3_row1_col0, #T_2fed3_row1_col1, #T_2fed3_row12_col0, #T_2fed3_row13_col0, #T_2fed3_row13_col1, #T_2fed3_row14_col0, #T_2fed3_row14_col1, #T_2fed3_row15_col0, #T_2fed3_row15_col1, #T_2fed3_row16_col0, #T_2fed3_row16_col1, #T_2fed3_row22_col0, #T_2fed3_row22_col1, #T_2fed3_row24_col0, #T_2fed3_row24_col1, #T_2fed3_row25_col0, #T_2fed3_row25_col1, #T_2fed3_row44_col0, #T_2fed3_row44_col1, #T_2fed3_row44_col2, #T_2fed3_row45_col0, #T_2fed3_row45_col1, #T_2fed3_row47_col0, #T_2fed3_row47_col1 {\n",
       "  color: black;\n",
       "}\n",
       "</style>\n",
       "<table id=\"T_2fed3_\">\n",
       "  <thead>\n",
       "    <tr>\n",
       "      <th class=\"blank level0\" >&nbsp;</th>\n",
       "      <th class=\"col_heading level0 col0\" >coef_linreg</th>\n",
       "      <th class=\"col_heading level0 col1\" >coef_ridge</th>\n",
       "      <th class=\"col_heading level0 col2\" >coef_lasso</th>\n",
       "    </tr>\n",
       "  </thead>\n",
       "  <tbody>\n",
       "    <tr>\n",
       "      <th id=\"T_2fed3_level0_row0\" class=\"row_heading level0 row0\" >age</th>\n",
       "      <td id=\"T_2fed3_row0_col0\" class=\"data row0 col0\" >0</td>\n",
       "      <td id=\"T_2fed3_row0_col1\" class=\"data row0 col1\" >0</td>\n",
       "      <td id=\"T_2fed3_row0_col2\" class=\"data row0 col2\" >0</td>\n",
       "    </tr>\n",
       "    <tr>\n",
       "      <th id=\"T_2fed3_level0_row1\" class=\"row_heading level0 row1\" >creatinine</th>\n",
       "      <td id=\"T_2fed3_row1_col0\" class=\"data row1 col0\" >2</td>\n",
       "      <td id=\"T_2fed3_row1_col1\" class=\"data row1 col1\" >2</td>\n",
       "      <td id=\"T_2fed3_row1_col2\" class=\"data row1 col2\" >0</td>\n",
       "    </tr>\n",
       "    <tr>\n",
       "      <th id=\"T_2fed3_level0_row2\" class=\"row_heading level0 row2\" >glucose</th>\n",
       "      <td id=\"T_2fed3_row2_col0\" class=\"data row2 col0\" >0</td>\n",
       "      <td id=\"T_2fed3_row2_col1\" class=\"data row2 col1\" >0</td>\n",
       "      <td id=\"T_2fed3_row2_col2\" class=\"data row2 col2\" >0</td>\n",
       "    </tr>\n",
       "    <tr>\n",
       "      <th id=\"T_2fed3_level0_row3\" class=\"row_heading level0 row3\" >hdl</th>\n",
       "      <td id=\"T_2fed3_row3_col0\" class=\"data row3 col0\" >0</td>\n",
       "      <td id=\"T_2fed3_row3_col1\" class=\"data row3 col1\" >0</td>\n",
       "      <td id=\"T_2fed3_row3_col2\" class=\"data row3 col2\" >0</td>\n",
       "    </tr>\n",
       "    <tr>\n",
       "      <th id=\"T_2fed3_level0_row4\" class=\"row_heading level0 row4\" >ldl</th>\n",
       "      <td id=\"T_2fed3_row4_col0\" class=\"data row4 col0\" >0</td>\n",
       "      <td id=\"T_2fed3_row4_col1\" class=\"data row4 col1\" >0</td>\n",
       "      <td id=\"T_2fed3_row4_col2\" class=\"data row4 col2\" >0</td>\n",
       "    </tr>\n",
       "    <tr>\n",
       "      <th id=\"T_2fed3_level0_row5\" class=\"row_heading level0 row5\" >total_cholesterol</th>\n",
       "      <td id=\"T_2fed3_row5_col0\" class=\"data row5 col0\" >0</td>\n",
       "      <td id=\"T_2fed3_row5_col1\" class=\"data row5 col1\" >0</td>\n",
       "      <td id=\"T_2fed3_row5_col2\" class=\"data row5 col2\" >0</td>\n",
       "    </tr>\n",
       "    <tr>\n",
       "      <th id=\"T_2fed3_level0_row6\" class=\"row_heading level0 row6\" >triglycerides</th>\n",
       "      <td id=\"T_2fed3_row6_col0\" class=\"data row6 col0\" >0</td>\n",
       "      <td id=\"T_2fed3_row6_col1\" class=\"data row6 col1\" >0</td>\n",
       "      <td id=\"T_2fed3_row6_col2\" class=\"data row6 col2\" >0</td>\n",
       "    </tr>\n",
       "    <tr>\n",
       "      <th id=\"T_2fed3_level0_row7\" class=\"row_heading level0 row7\" >uric_acid</th>\n",
       "      <td id=\"T_2fed3_row7_col0\" class=\"data row7 col0\" >0</td>\n",
       "      <td id=\"T_2fed3_row7_col1\" class=\"data row7 col1\" >0</td>\n",
       "      <td id=\"T_2fed3_row7_col2\" class=\"data row7 col2\" >0</td>\n",
       "    </tr>\n",
       "    <tr>\n",
       "      <th id=\"T_2fed3_level0_row8\" class=\"row_heading level0 row8\" >heightcm</th>\n",
       "      <td id=\"T_2fed3_row8_col0\" class=\"data row8 col0\" >0</td>\n",
       "      <td id=\"T_2fed3_row8_col1\" class=\"data row8 col1\" >0</td>\n",
       "      <td id=\"T_2fed3_row8_col2\" class=\"data row8 col2\" >0</td>\n",
       "    </tr>\n",
       "    <tr>\n",
       "      <th id=\"T_2fed3_level0_row9\" class=\"row_heading level0 row9\" >weightkg</th>\n",
       "      <td id=\"T_2fed3_row9_col0\" class=\"data row9 col0\" >0</td>\n",
       "      <td id=\"T_2fed3_row9_col1\" class=\"data row9 col1\" >0</td>\n",
       "      <td id=\"T_2fed3_row9_col2\" class=\"data row9 col2\" >0</td>\n",
       "    </tr>\n",
       "    <tr>\n",
       "      <th id=\"T_2fed3_level0_row10\" class=\"row_heading level0 row10\" >bmi</th>\n",
       "      <td id=\"T_2fed3_row10_col0\" class=\"data row10 col0\" >0</td>\n",
       "      <td id=\"T_2fed3_row10_col1\" class=\"data row10 col1\" >0</td>\n",
       "      <td id=\"T_2fed3_row10_col2\" class=\"data row10 col2\" >0</td>\n",
       "    </tr>\n",
       "    <tr>\n",
       "      <th id=\"T_2fed3_level0_row11\" class=\"row_heading level0 row11\" >headcm</th>\n",
       "      <td id=\"T_2fed3_row11_col0\" class=\"data row11 col0\" >0</td>\n",
       "      <td id=\"T_2fed3_row11_col1\" class=\"data row11 col1\" >0</td>\n",
       "      <td id=\"T_2fed3_row11_col2\" class=\"data row11 col2\" >0</td>\n",
       "    </tr>\n",
       "    <tr>\n",
       "      <th id=\"T_2fed3_level0_row12\" class=\"row_heading level0 row12\" >waist_girth1</th>\n",
       "      <td id=\"T_2fed3_row12_col0\" class=\"data row12 col0\" >2</td>\n",
       "      <td id=\"T_2fed3_row12_col1\" class=\"data row12 col1\" >0</td>\n",
       "      <td id=\"T_2fed3_row12_col2\" class=\"data row12 col2\" >0</td>\n",
       "    </tr>\n",
       "    <tr>\n",
       "      <th id=\"T_2fed3_level0_row13\" class=\"row_heading level0 row13\" >waist_girth2</th>\n",
       "      <td id=\"T_2fed3_row13_col0\" class=\"data row13 col0\" >5</td>\n",
       "      <td id=\"T_2fed3_row13_col1\" class=\"data row13 col1\" >2</td>\n",
       "      <td id=\"T_2fed3_row13_col2\" class=\"data row13 col2\" >0</td>\n",
       "    </tr>\n",
       "    <tr>\n",
       "      <th id=\"T_2fed3_level0_row14\" class=\"row_heading level0 row14\" >hip_girth1</th>\n",
       "      <td id=\"T_2fed3_row14_col0\" class=\"data row14 col0\" >-1</td>\n",
       "      <td id=\"T_2fed3_row14_col1\" class=\"data row14 col1\" >-1</td>\n",
       "      <td id=\"T_2fed3_row14_col2\" class=\"data row14 col2\" >0</td>\n",
       "    </tr>\n",
       "    <tr>\n",
       "      <th id=\"T_2fed3_level0_row15\" class=\"row_heading level0 row15\" >hip_girth2</th>\n",
       "      <td id=\"T_2fed3_row15_col0\" class=\"data row15 col0\" >-2</td>\n",
       "      <td id=\"T_2fed3_row15_col1\" class=\"data row15 col1\" >-1</td>\n",
       "      <td id=\"T_2fed3_row15_col2\" class=\"data row15 col2\" >0</td>\n",
       "    </tr>\n",
       "    <tr>\n",
       "      <th id=\"T_2fed3_level0_row16\" class=\"row_heading level0 row16\" >neck_girth1</th>\n",
       "      <td id=\"T_2fed3_row16_col0\" class=\"data row16 col0\" >-1</td>\n",
       "      <td id=\"T_2fed3_row16_col1\" class=\"data row16 col1\" >-1</td>\n",
       "      <td id=\"T_2fed3_row16_col2\" class=\"data row16 col2\" >0</td>\n",
       "    </tr>\n",
       "    <tr>\n",
       "      <th id=\"T_2fed3_level0_row17\" class=\"row_heading level0 row17\" >neck_girth2</th>\n",
       "      <td id=\"T_2fed3_row17_col0\" class=\"data row17 col0\" >0</td>\n",
       "      <td id=\"T_2fed3_row17_col1\" class=\"data row17 col1\" >0</td>\n",
       "      <td id=\"T_2fed3_row17_col2\" class=\"data row17 col2\" >0</td>\n",
       "    </tr>\n",
       "    <tr>\n",
       "      <th id=\"T_2fed3_level0_row18\" class=\"row_heading level0 row18\" >sit_sys1</th>\n",
       "      <td id=\"T_2fed3_row18_col0\" class=\"data row18 col0\" >0</td>\n",
       "      <td id=\"T_2fed3_row18_col1\" class=\"data row18 col1\" >0</td>\n",
       "      <td id=\"T_2fed3_row18_col2\" class=\"data row18 col2\" >0</td>\n",
       "    </tr>\n",
       "    <tr>\n",
       "      <th id=\"T_2fed3_level0_row19\" class=\"row_heading level0 row19\" >sit_dia1</th>\n",
       "      <td id=\"T_2fed3_row19_col0\" class=\"data row19 col0\" >0</td>\n",
       "      <td id=\"T_2fed3_row19_col1\" class=\"data row19 col1\" >0</td>\n",
       "      <td id=\"T_2fed3_row19_col2\" class=\"data row19 col2\" >0</td>\n",
       "    </tr>\n",
       "    <tr>\n",
       "      <th id=\"T_2fed3_level0_row20\" class=\"row_heading level0 row20\" >sit_sys2</th>\n",
       "      <td id=\"T_2fed3_row20_col0\" class=\"data row20 col0\" >0</td>\n",
       "      <td id=\"T_2fed3_row20_col1\" class=\"data row20 col1\" >0</td>\n",
       "      <td id=\"T_2fed3_row20_col2\" class=\"data row20 col2\" >0</td>\n",
       "    </tr>\n",
       "    <tr>\n",
       "      <th id=\"T_2fed3_level0_row21\" class=\"row_heading level0 row21\" >sit_dia2</th>\n",
       "      <td id=\"T_2fed3_row21_col0\" class=\"data row21 col0\" >0</td>\n",
       "      <td id=\"T_2fed3_row21_col1\" class=\"data row21 col1\" >0</td>\n",
       "      <td id=\"T_2fed3_row21_col2\" class=\"data row21 col2\" >0</td>\n",
       "    </tr>\n",
       "    <tr>\n",
       "      <th id=\"T_2fed3_level0_row22\" class=\"row_heading level0 row22\" >hipgirthm</th>\n",
       "      <td id=\"T_2fed3_row22_col0\" class=\"data row22 col0\" >4</td>\n",
       "      <td id=\"T_2fed3_row22_col1\" class=\"data row22 col1\" >2</td>\n",
       "      <td id=\"T_2fed3_row22_col2\" class=\"data row22 col2\" >0</td>\n",
       "    </tr>\n",
       "    <tr>\n",
       "      <th id=\"T_2fed3_level0_row23\" class=\"row_heading level0 row23\" >neckgirthm</th>\n",
       "      <td id=\"T_2fed3_row23_col0\" class=\"data row23 col0\" >0</td>\n",
       "      <td id=\"T_2fed3_row23_col1\" class=\"data row23 col1\" >0</td>\n",
       "      <td id=\"T_2fed3_row23_col2\" class=\"data row23 col2\" >0</td>\n",
       "    </tr>\n",
       "    <tr>\n",
       "      <th id=\"T_2fed3_level0_row24\" class=\"row_heading level0 row24\" >waistgirthm</th>\n",
       "      <td id=\"T_2fed3_row24_col0\" class=\"data row24 col0\" >-7</td>\n",
       "      <td id=\"T_2fed3_row24_col1\" class=\"data row24 col1\" >-3</td>\n",
       "      <td id=\"T_2fed3_row24_col2\" class=\"data row24 col2\" >0</td>\n",
       "    </tr>\n",
       "    <tr>\n",
       "      <th id=\"T_2fed3_level0_row25\" class=\"row_heading level0 row25\" >waisthip</th>\n",
       "      <td id=\"T_2fed3_row25_col0\" class=\"data row25 col0\" >67</td>\n",
       "      <td id=\"T_2fed3_row25_col1\" class=\"data row25 col1\" >20</td>\n",
       "      <td id=\"T_2fed3_row25_col2\" class=\"data row25 col2\" >0</td>\n",
       "    </tr>\n",
       "    <tr>\n",
       "      <th id=\"T_2fed3_level0_row26\" class=\"row_heading level0 row26\" >sitsysm</th>\n",
       "      <td id=\"T_2fed3_row26_col0\" class=\"data row26 col0\" >0</td>\n",
       "      <td id=\"T_2fed3_row26_col1\" class=\"data row26 col1\" >0</td>\n",
       "      <td id=\"T_2fed3_row26_col2\" class=\"data row26 col2\" >0</td>\n",
       "    </tr>\n",
       "    <tr>\n",
       "      <th id=\"T_2fed3_level0_row27\" class=\"row_heading level0 row27\" >sitdiam</th>\n",
       "      <td id=\"T_2fed3_row27_col0\" class=\"data row27 col0\" >0</td>\n",
       "      <td id=\"T_2fed3_row27_col1\" class=\"data row27 col1\" >0</td>\n",
       "      <td id=\"T_2fed3_row27_col2\" class=\"data row27 col2\" >0</td>\n",
       "    </tr>\n",
       "    <tr>\n",
       "      <th id=\"T_2fed3_level0_row28\" class=\"row_heading level0 row28\" >zung_score</th>\n",
       "      <td id=\"T_2fed3_row28_col0\" class=\"data row28 col0\" >0</td>\n",
       "      <td id=\"T_2fed3_row28_col1\" class=\"data row28 col1\" >0</td>\n",
       "      <td id=\"T_2fed3_row28_col2\" class=\"data row28 col2\" >0</td>\n",
       "    </tr>\n",
       "    <tr>\n",
       "      <th id=\"T_2fed3_level0_row29\" class=\"row_heading level0 row29\" >zung_index</th>\n",
       "      <td id=\"T_2fed3_row29_col0\" class=\"data row29 col0\" >0</td>\n",
       "      <td id=\"T_2fed3_row29_col1\" class=\"data row29 col1\" >0</td>\n",
       "      <td id=\"T_2fed3_row29_col2\" class=\"data row29 col2\" >0</td>\n",
       "    </tr>\n",
       "    <tr>\n",
       "      <th id=\"T_2fed3_level0_row30\" class=\"row_heading level0 row30\" >state</th>\n",
       "      <td id=\"T_2fed3_row30_col0\" class=\"data row30 col0\" >0</td>\n",
       "      <td id=\"T_2fed3_row30_col1\" class=\"data row30 col1\" >0</td>\n",
       "      <td id=\"T_2fed3_row30_col2\" class=\"data row30 col2\" >0</td>\n",
       "    </tr>\n",
       "    <tr>\n",
       "      <th id=\"T_2fed3_level0_row31\" class=\"row_heading level0 row31\" >trait</th>\n",
       "      <td id=\"T_2fed3_row31_col0\" class=\"data row31 col0\" >0</td>\n",
       "      <td id=\"T_2fed3_row31_col1\" class=\"data row31 col1\" >0</td>\n",
       "      <td id=\"T_2fed3_row31_col2\" class=\"data row31 col2\" >0</td>\n",
       "    </tr>\n",
       "    <tr>\n",
       "      <th id=\"T_2fed3_level0_row32\" class=\"row_heading level0 row32\" >cans_cola</th>\n",
       "      <td id=\"T_2fed3_row32_col0\" class=\"data row32 col0\" >0</td>\n",
       "      <td id=\"T_2fed3_row32_col1\" class=\"data row32 col1\" >0</td>\n",
       "      <td id=\"T_2fed3_row32_col2\" class=\"data row32 col2\" >0</td>\n",
       "    </tr>\n",
       "    <tr>\n",
       "      <th id=\"T_2fed3_level0_row33\" class=\"row_heading level0 row33\" >cups_coffee</th>\n",
       "      <td id=\"T_2fed3_row33_col0\" class=\"data row33 col0\" >0</td>\n",
       "      <td id=\"T_2fed3_row33_col1\" class=\"data row33 col1\" >0</td>\n",
       "      <td id=\"T_2fed3_row33_col2\" class=\"data row33 col2\" >0</td>\n",
       "    </tr>\n",
       "    <tr>\n",
       "      <th id=\"T_2fed3_level0_row34\" class=\"row_heading level0 row34\" >caffeine</th>\n",
       "      <td id=\"T_2fed3_row34_col0\" class=\"data row34 col0\" >0</td>\n",
       "      <td id=\"T_2fed3_row34_col1\" class=\"data row34 col1\" >0</td>\n",
       "      <td id=\"T_2fed3_row34_col2\" class=\"data row34 col2\" >0</td>\n",
       "    </tr>\n",
       "    <tr>\n",
       "      <th id=\"T_2fed3_level0_row35\" class=\"row_heading level0 row35\" >beer_week</th>\n",
       "      <td id=\"T_2fed3_row35_col0\" class=\"data row35 col0\" >0</td>\n",
       "      <td id=\"T_2fed3_row35_col1\" class=\"data row35 col1\" >0</td>\n",
       "      <td id=\"T_2fed3_row35_col2\" class=\"data row35 col2\" >0</td>\n",
       "    </tr>\n",
       "    <tr>\n",
       "      <th id=\"T_2fed3_level0_row36\" class=\"row_heading level0 row36\" >wine_week</th>\n",
       "      <td id=\"T_2fed3_row36_col0\" class=\"data row36 col0\" >0</td>\n",
       "      <td id=\"T_2fed3_row36_col1\" class=\"data row36 col1\" >0</td>\n",
       "      <td id=\"T_2fed3_row36_col2\" class=\"data row36 col2\" >0</td>\n",
       "    </tr>\n",
       "    <tr>\n",
       "      <th id=\"T_2fed3_level0_row37\" class=\"row_heading level0 row37\" >hard_week</th>\n",
       "      <td id=\"T_2fed3_row37_col0\" class=\"data row37 col0\" >0</td>\n",
       "      <td id=\"T_2fed3_row37_col1\" class=\"data row37 col1\" >0</td>\n",
       "      <td id=\"T_2fed3_row37_col2\" class=\"data row37 col2\" >0</td>\n",
       "    </tr>\n",
       "    <tr>\n",
       "      <th id=\"T_2fed3_level0_row38\" class=\"row_heading level0 row38\" >alcohol_wk</th>\n",
       "      <td id=\"T_2fed3_row38_col0\" class=\"data row38 col0\" >0</td>\n",
       "      <td id=\"T_2fed3_row38_col1\" class=\"data row38 col1\" >0</td>\n",
       "      <td id=\"T_2fed3_row38_col2\" class=\"data row38 col2\" >0</td>\n",
       "    </tr>\n",
       "    <tr>\n",
       "      <th id=\"T_2fed3_level0_row39\" class=\"row_heading level0 row39\" >bowls_day</th>\n",
       "      <td id=\"T_2fed3_row39_col0\" class=\"data row39 col0\" >0</td>\n",
       "      <td id=\"T_2fed3_row39_col1\" class=\"data row39 col1\" >0</td>\n",
       "      <td id=\"T_2fed3_row39_col2\" class=\"data row39 col2\" >0</td>\n",
       "    </tr>\n",
       "    <tr>\n",
       "      <th id=\"T_2fed3_level0_row40\" class=\"row_heading level0 row40\" >packs_week</th>\n",
       "      <td id=\"T_2fed3_row40_col0\" class=\"data row40 col0\" >0</td>\n",
       "      <td id=\"T_2fed3_row40_col1\" class=\"data row40 col1\" >0</td>\n",
       "      <td id=\"T_2fed3_row40_col2\" class=\"data row40 col2\" >0</td>\n",
       "    </tr>\n",
       "    <tr>\n",
       "      <th id=\"T_2fed3_level0_row41\" class=\"row_heading level0 row41\" >cigars_day</th>\n",
       "      <td id=\"T_2fed3_row41_col0\" class=\"data row41 col0\" >0</td>\n",
       "      <td id=\"T_2fed3_row41_col1\" class=\"data row41 col1\" >0</td>\n",
       "      <td id=\"T_2fed3_row41_col2\" class=\"data row41 col2\" >0</td>\n",
       "    </tr>\n",
       "    <tr>\n",
       "      <th id=\"T_2fed3_level0_row42\" class=\"row_heading level0 row42\" >smoke_years</th>\n",
       "      <td id=\"T_2fed3_row42_col0\" class=\"data row42 col0\" >0</td>\n",
       "      <td id=\"T_2fed3_row42_col1\" class=\"data row42 col1\" >0</td>\n",
       "      <td id=\"T_2fed3_row42_col2\" class=\"data row42 col2\" >0</td>\n",
       "    </tr>\n",
       "    <tr>\n",
       "      <th id=\"T_2fed3_level0_row43\" class=\"row_heading level0 row43\" >pack_years</th>\n",
       "      <td id=\"T_2fed3_row43_col0\" class=\"data row43 col0\" >0</td>\n",
       "      <td id=\"T_2fed3_row43_col1\" class=\"data row43 col1\" >0</td>\n",
       "      <td id=\"T_2fed3_row43_col2\" class=\"data row43 col2\" >0</td>\n",
       "    </tr>\n",
       "    <tr>\n",
       "      <th id=\"T_2fed3_level0_row44\" class=\"row_heading level0 row44\" >eval_general</th>\n",
       "      <td id=\"T_2fed3_row44_col0\" class=\"data row44 col0\" >5</td>\n",
       "      <td id=\"T_2fed3_row44_col1\" class=\"data row44 col1\" >5</td>\n",
       "      <td id=\"T_2fed3_row44_col2\" class=\"data row44 col2\" >5</td>\n",
       "    </tr>\n",
       "    <tr>\n",
       "      <th id=\"T_2fed3_level0_row45\" class=\"row_heading level0 row45\" >eval_life</th>\n",
       "      <td id=\"T_2fed3_row45_col0\" class=\"data row45 col0\" >-1</td>\n",
       "      <td id=\"T_2fed3_row45_col1\" class=\"data row45 col1\" >-1</td>\n",
       "      <td id=\"T_2fed3_row45_col2\" class=\"data row45 col2\" >0</td>\n",
       "    </tr>\n",
       "    <tr>\n",
       "      <th id=\"T_2fed3_level0_row46\" class=\"row_heading level0 row46\" >eval_health</th>\n",
       "      <td id=\"T_2fed3_row46_col0\" class=\"data row46 col0\" >0</td>\n",
       "      <td id=\"T_2fed3_row46_col1\" class=\"data row46 col1\" >0</td>\n",
       "      <td id=\"T_2fed3_row46_col2\" class=\"data row46 col2\" >0</td>\n",
       "    </tr>\n",
       "    <tr>\n",
       "      <th id=\"T_2fed3_level0_row47\" class=\"row_heading level0 row47\" >workday</th>\n",
       "      <td id=\"T_2fed3_row47_col0\" class=\"data row47 col0\" >-1</td>\n",
       "      <td id=\"T_2fed3_row47_col1\" class=\"data row47 col1\" >-1</td>\n",
       "      <td id=\"T_2fed3_row47_col2\" class=\"data row47 col2\" >0</td>\n",
       "    </tr>\n",
       "    <tr>\n",
       "      <th id=\"T_2fed3_level0_row48\" class=\"row_heading level0 row48\" >weekend</th>\n",
       "      <td id=\"T_2fed3_row48_col0\" class=\"data row48 col0\" >0</td>\n",
       "      <td id=\"T_2fed3_row48_col1\" class=\"data row48 col1\" >0</td>\n",
       "      <td id=\"T_2fed3_row48_col2\" class=\"data row48 col2\" >0</td>\n",
       "    </tr>\n",
       "    <tr>\n",
       "      <th id=\"T_2fed3_level0_row49\" class=\"row_heading level0 row49\" >naps</th>\n",
       "      <td id=\"T_2fed3_row49_col0\" class=\"data row49 col0\" >0</td>\n",
       "      <td id=\"T_2fed3_row49_col1\" class=\"data row49 col1\" >0</td>\n",
       "      <td id=\"T_2fed3_row49_col2\" class=\"data row49 col2\" >0</td>\n",
       "    </tr>\n",
       "    <tr>\n",
       "      <th id=\"T_2fed3_level0_row50\" class=\"row_heading level0 row50\" >snore_freq</th>\n",
       "      <td id=\"T_2fed3_row50_col0\" class=\"data row50 col0\" >0</td>\n",
       "      <td id=\"T_2fed3_row50_col1\" class=\"data row50 col1\" >0</td>\n",
       "      <td id=\"T_2fed3_row50_col2\" class=\"data row50 col2\" >0</td>\n",
       "    </tr>\n",
       "    <tr>\n",
       "      <th id=\"T_2fed3_level0_row51\" class=\"row_heading level0 row51\" >snore_vol</th>\n",
       "      <td id=\"T_2fed3_row51_col0\" class=\"data row51 col0\" >0</td>\n",
       "      <td id=\"T_2fed3_row51_col1\" class=\"data row51 col1\" >0</td>\n",
       "      <td id=\"T_2fed3_row51_col2\" class=\"data row51 col2\" >0</td>\n",
       "    </tr>\n",
       "    <tr>\n",
       "      <th id=\"T_2fed3_level0_row52\" class=\"row_heading level0 row52\" >choke_freq</th>\n",
       "      <td id=\"T_2fed3_row52_col0\" class=\"data row52 col0\" >0</td>\n",
       "      <td id=\"T_2fed3_row52_col1\" class=\"data row52 col1\" >0</td>\n",
       "      <td id=\"T_2fed3_row52_col2\" class=\"data row52 col2\" >0</td>\n",
       "    </tr>\n",
       "    <tr>\n",
       "      <th id=\"T_2fed3_level0_row53\" class=\"row_heading level0 row53\" >apnea_freq</th>\n",
       "      <td id=\"T_2fed3_row53_col0\" class=\"data row53 col0\" >0</td>\n",
       "      <td id=\"T_2fed3_row53_col1\" class=\"data row53 col1\" >0</td>\n",
       "      <td id=\"T_2fed3_row53_col2\" class=\"data row53 col2\" >0</td>\n",
       "    </tr>\n",
       "    <tr>\n",
       "      <th id=\"T_2fed3_level0_row54\" class=\"row_heading level0 row54\" >awake_freq</th>\n",
       "      <td id=\"T_2fed3_row54_col0\" class=\"data row54 col0\" >0</td>\n",
       "      <td id=\"T_2fed3_row54_col1\" class=\"data row54 col1\" >0</td>\n",
       "      <td id=\"T_2fed3_row54_col2\" class=\"data row54 col2\" >0</td>\n",
       "    </tr>\n",
       "    <tr>\n",
       "      <th id=\"T_2fed3_level0_row55\" class=\"row_heading level0 row55\" >ho_score</th>\n",
       "      <td id=\"T_2fed3_row55_col0\" class=\"data row55 col0\" >0</td>\n",
       "      <td id=\"T_2fed3_row55_col1\" class=\"data row55 col1\" >0</td>\n",
       "      <td id=\"T_2fed3_row55_col2\" class=\"data row55 col2\" >0</td>\n",
       "    </tr>\n",
       "    <tr>\n",
       "      <th id=\"T_2fed3_level0_row56\" class=\"row_heading level0 row56\" >num_pregnancies</th>\n",
       "      <td id=\"T_2fed3_row56_col0\" class=\"data row56 col0\" >0</td>\n",
       "      <td id=\"T_2fed3_row56_col1\" class=\"data row56 col1\" >0</td>\n",
       "      <td id=\"T_2fed3_row56_col2\" class=\"data row56 col2\" >0</td>\n",
       "    </tr>\n",
       "    <tr>\n",
       "      <th id=\"T_2fed3_level0_row57\" class=\"row_heading level0 row57\" >ahi</th>\n",
       "      <td id=\"T_2fed3_row57_col0\" class=\"data row57 col0\" >0</td>\n",
       "      <td id=\"T_2fed3_row57_col1\" class=\"data row57 col1\" >0</td>\n",
       "      <td id=\"T_2fed3_row57_col2\" class=\"data row57 col2\" >0</td>\n",
       "    </tr>\n",
       "    <tr>\n",
       "      <th id=\"T_2fed3_level0_row58\" class=\"row_heading level0 row58\" >minsao2tst</th>\n",
       "      <td id=\"T_2fed3_row58_col0\" class=\"data row58 col0\" >0</td>\n",
       "      <td id=\"T_2fed3_row58_col1\" class=\"data row58 col1\" >0</td>\n",
       "      <td id=\"T_2fed3_row58_col2\" class=\"data row58 col2\" >0</td>\n",
       "    </tr>\n",
       "    <tr>\n",
       "      <th id=\"T_2fed3_level0_row59\" class=\"row_heading level0 row59\" >ptstl90</th>\n",
       "      <td id=\"T_2fed3_row59_col0\" class=\"data row59 col0\" >0</td>\n",
       "      <td id=\"T_2fed3_row59_col1\" class=\"data row59 col1\" >0</td>\n",
       "      <td id=\"T_2fed3_row59_col2\" class=\"data row59 col2\" >0</td>\n",
       "    </tr>\n",
       "  </tbody>\n",
       "</table>\n"
      ],
      "text/plain": [
       "<pandas.io.formats.style.Styler at 0x7fd0d4b8e250>"
      ]
     },
     "execution_count": 164,
     "metadata": {},
     "output_type": "execute_result"
    }
   ],
   "source": [
    "coefs\\\n",
    "    .applymap(lambda x: int(x))\\\n",
    "    .style.applymap(lambda x: 'color: red' if x == 0 else 'color: black')"
   ]
  },
  {
   "cell_type": "code",
   "execution_count": null,
   "id": "90a49ee8",
   "metadata": {},
   "outputs": [],
   "source": []
  },
  {
   "cell_type": "code",
   "execution_count": null,
   "id": "94440ff9",
   "metadata": {},
   "outputs": [],
   "source": []
  },
  {
   "cell_type": "markdown",
   "id": "af6017d2",
   "metadata": {},
   "source": [
    "## ac - TSO Linear Regression w/o Pipe"
   ]
  },
  {
   "cell_type": "code",
   "execution_count": 35,
   "id": "0020ca43",
   "metadata": {},
   "outputs": [],
   "source": [
    "y = data_df1.tso\n",
    "X = data_df1[high_val_features]\n"
   ]
  },
  {
   "cell_type": "code",
   "execution_count": 36,
   "id": "454c9c0d",
   "metadata": {},
   "outputs": [
    {
     "data": {
      "text/plain": [
       "Index(['age', 'weightkg', 'bmi', 'neck_girth1', 'sit_sys1', 'sit_dia1',\n",
       "       'zung_score', 'zung_index', 'state', 'trait', 'caffeine', 'hard_week',\n",
       "       'alcohol_wk', 'bowls_day', 'packs_week', 'cigars_day', 'smoke_years',\n",
       "       'pack_years', 'eval_general', 'eval_life', 'eval_health', 'workday',\n",
       "       'weekend', 'snore_freq', 'snore_vol', 'choke_freq', 'apnea_freq'],\n",
       "      dtype='object')"
      ]
     },
     "execution_count": 36,
     "metadata": {},
     "output_type": "execute_result"
    }
   ],
   "source": [
    "X.columns"
   ]
  },
  {
   "cell_type": "code",
   "execution_count": 37,
   "id": "91d0c030",
   "metadata": {},
   "outputs": [],
   "source": [
    "X_train, X_test, y_train, y_test = train_test_split(X,y, test_size=0.25, random_state=1)"
   ]
  },
  {
   "cell_type": "code",
   "execution_count": 38,
   "id": "5a763c61",
   "metadata": {},
   "outputs": [
    {
     "data": {
      "text/plain": [
       "15.623515439429928"
      ]
     },
     "execution_count": 38,
     "metadata": {},
     "output_type": "execute_result"
    }
   ],
   "source": [
    "y_train.mean()"
   ]
  },
  {
   "cell_type": "code",
   "execution_count": 39,
   "id": "e9ee7e0c",
   "metadata": {},
   "outputs": [],
   "source": [
    "#X_train.select_dtypes(include=['float64', 'int64'])\n"
   ]
  },
  {
   "cell_type": "code",
   "execution_count": 40,
   "id": "8e600558",
   "metadata": {},
   "outputs": [
    {
     "data": {
      "text/plain": [
       "Index(['age', 'weightkg', 'bmi', 'neck_girth1', 'sit_sys1', 'sit_dia1',\n",
       "       'zung_score', 'zung_index', 'state', 'trait', 'caffeine', 'hard_week',\n",
       "       'alcohol_wk', 'bowls_day', 'packs_week', 'cigars_day', 'smoke_years',\n",
       "       'pack_years', 'eval_general', 'eval_life', 'eval_health', 'workday',\n",
       "       'weekend', 'snore_freq', 'snore_vol', 'choke_freq', 'apnea_freq'],\n",
       "      dtype='object')"
      ]
     },
     "execution_count": 40,
     "metadata": {},
     "output_type": "execute_result"
    }
   ],
   "source": [
    "X_train.columns"
   ]
  },
  {
   "cell_type": "code",
   "execution_count": 41,
   "id": "2aae4fc2",
   "metadata": {},
   "outputs": [],
   "source": [
    "scaler = StandardScaler()\n",
    "X_train_scaled = scaler.fit_transform(X_train)\n",
    "X_test_scaled = scaler.transform(X_test)"
   ]
  },
  {
   "cell_type": "code",
   "execution_count": 42,
   "id": "633e80aa",
   "metadata": {},
   "outputs": [
    {
     "data": {
      "text/html": [
       "<div>\n",
       "<style scoped>\n",
       "    .dataframe tbody tr th:only-of-type {\n",
       "        vertical-align: middle;\n",
       "    }\n",
       "\n",
       "    .dataframe tbody tr th {\n",
       "        vertical-align: top;\n",
       "    }\n",
       "\n",
       "    .dataframe thead th {\n",
       "        text-align: right;\n",
       "    }\n",
       "</style>\n",
       "<table border=\"1\" class=\"dataframe\">\n",
       "  <thead>\n",
       "    <tr style=\"text-align: right;\">\n",
       "      <th></th>\n",
       "      <th>age</th>\n",
       "      <th>weightkg</th>\n",
       "      <th>bmi</th>\n",
       "      <th>neck_girth1</th>\n",
       "      <th>sit_sys1</th>\n",
       "      <th>sit_dia1</th>\n",
       "      <th>zung_score</th>\n",
       "      <th>zung_index</th>\n",
       "      <th>state</th>\n",
       "      <th>trait</th>\n",
       "      <th>...</th>\n",
       "      <th>pack_years</th>\n",
       "      <th>eval_general</th>\n",
       "      <th>eval_life</th>\n",
       "      <th>eval_health</th>\n",
       "      <th>workday</th>\n",
       "      <th>weekend</th>\n",
       "      <th>snore_freq</th>\n",
       "      <th>snore_vol</th>\n",
       "      <th>choke_freq</th>\n",
       "      <th>apnea_freq</th>\n",
       "    </tr>\n",
       "  </thead>\n",
       "  <tbody>\n",
       "    <tr>\n",
       "      <th>0</th>\n",
       "      <td>-0.530477</td>\n",
       "      <td>-0.407288</td>\n",
       "      <td>0.162589</td>\n",
       "      <td>-1.153137</td>\n",
       "      <td>-0.953750</td>\n",
       "      <td>0.179758</td>\n",
       "      <td>-1.167563</td>\n",
       "      <td>-1.167563</td>\n",
       "      <td>-0.912022</td>\n",
       "      <td>-1.066675</td>\n",
       "      <td>...</td>\n",
       "      <td>-0.510135</td>\n",
       "      <td>-0.646451</td>\n",
       "      <td>-1.479021</td>\n",
       "      <td>-1.577682</td>\n",
       "      <td>-0.966179</td>\n",
       "      <td>0.243632</td>\n",
       "      <td>-0.811809</td>\n",
       "      <td>-1.000153</td>\n",
       "      <td>-0.474293</td>\n",
       "      <td>-0.704626</td>\n",
       "    </tr>\n",
       "    <tr>\n",
       "      <th>1</th>\n",
       "      <td>-0.652649</td>\n",
       "      <td>-0.770514</td>\n",
       "      <td>-0.459621</td>\n",
       "      <td>-0.917957</td>\n",
       "      <td>0.614015</td>\n",
       "      <td>1.765678</td>\n",
       "      <td>-0.162801</td>\n",
       "      <td>-0.162801</td>\n",
       "      <td>0.907382</td>\n",
       "      <td>0.178510</td>\n",
       "      <td>...</td>\n",
       "      <td>-0.510135</td>\n",
       "      <td>0.674694</td>\n",
       "      <td>-0.057405</td>\n",
       "      <td>0.807252</td>\n",
       "      <td>-0.022209</td>\n",
       "      <td>-0.597684</td>\n",
       "      <td>2.267215</td>\n",
       "      <td>1.706569</td>\n",
       "      <td>1.625993</td>\n",
       "      <td>-0.704626</td>\n",
       "    </tr>\n",
       "    <tr>\n",
       "      <th>2</th>\n",
       "      <td>1.179934</td>\n",
       "      <td>2.319261</td>\n",
       "      <td>1.393182</td>\n",
       "      <td>1.669025</td>\n",
       "      <td>1.940585</td>\n",
       "      <td>0.972718</td>\n",
       "      <td>0.554886</td>\n",
       "      <td>0.554886</td>\n",
       "      <td>-0.657840</td>\n",
       "      <td>-0.613881</td>\n",
       "      <td>...</td>\n",
       "      <td>0.592172</td>\n",
       "      <td>-0.646451</td>\n",
       "      <td>-0.057405</td>\n",
       "      <td>-0.385215</td>\n",
       "      <td>0.921761</td>\n",
       "      <td>0.243632</td>\n",
       "      <td>-0.371949</td>\n",
       "      <td>1.706569</td>\n",
       "      <td>-0.774333</td>\n",
       "      <td>-0.704626</td>\n",
       "    </tr>\n",
       "    <tr>\n",
       "      <th>3</th>\n",
       "      <td>-0.286132</td>\n",
       "      <td>0.078585</td>\n",
       "      <td>-0.349006</td>\n",
       "      <td>0.610714</td>\n",
       "      <td>0.614015</td>\n",
       "      <td>-0.613202</td>\n",
       "      <td>2.707948</td>\n",
       "      <td>2.707948</td>\n",
       "      <td>0.679957</td>\n",
       "      <td>1.989688</td>\n",
       "      <td>...</td>\n",
       "      <td>1.458270</td>\n",
       "      <td>1.995840</td>\n",
       "      <td>-0.057405</td>\n",
       "      <td>-0.385215</td>\n",
       "      <td>-1.438164</td>\n",
       "      <td>-1.439001</td>\n",
       "      <td>-0.811809</td>\n",
       "      <td>0.014868</td>\n",
       "      <td>-0.474293</td>\n",
       "      <td>1.583879</td>\n",
       "    </tr>\n",
       "    <tr>\n",
       "      <th>4</th>\n",
       "      <td>1.912966</td>\n",
       "      <td>0.455962</td>\n",
       "      <td>-0.141602</td>\n",
       "      <td>0.845895</td>\n",
       "      <td>-0.471361</td>\n",
       "      <td>-2.000882</td>\n",
       "      <td>0.124274</td>\n",
       "      <td>0.124274</td>\n",
       "      <td>-0.778242</td>\n",
       "      <td>0.404907</td>\n",
       "      <td>...</td>\n",
       "      <td>-0.510135</td>\n",
       "      <td>1.995840</td>\n",
       "      <td>1.364211</td>\n",
       "      <td>0.807252</td>\n",
       "      <td>-0.966179</td>\n",
       "      <td>-0.597684</td>\n",
       "      <td>0.507773</td>\n",
       "      <td>-0.323473</td>\n",
       "      <td>-0.774333</td>\n",
       "      <td>-0.704626</td>\n",
       "    </tr>\n",
       "    <tr>\n",
       "      <th>...</th>\n",
       "      <td>...</td>\n",
       "      <td>...</td>\n",
       "      <td>...</td>\n",
       "      <td>...</td>\n",
       "      <td>...</td>\n",
       "      <td>...</td>\n",
       "      <td>...</td>\n",
       "      <td>...</td>\n",
       "      <td>...</td>\n",
       "      <td>...</td>\n",
       "      <td>...</td>\n",
       "      <td>...</td>\n",
       "      <td>...</td>\n",
       "      <td>...</td>\n",
       "      <td>...</td>\n",
       "      <td>...</td>\n",
       "      <td>...</td>\n",
       "      <td>...</td>\n",
       "      <td>...</td>\n",
       "      <td>...</td>\n",
       "      <td>...</td>\n",
       "    </tr>\n",
       "    <tr>\n",
       "      <th>837</th>\n",
       "      <td>-0.896993</td>\n",
       "      <td>1.210716</td>\n",
       "      <td>0.425300</td>\n",
       "      <td>1.198665</td>\n",
       "      <td>-0.833153</td>\n",
       "      <td>0.774478</td>\n",
       "      <td>0.698424</td>\n",
       "      <td>0.698424</td>\n",
       "      <td>0.492665</td>\n",
       "      <td>0.178510</td>\n",
       "      <td>...</td>\n",
       "      <td>-0.510135</td>\n",
       "      <td>0.674694</td>\n",
       "      <td>1.364211</td>\n",
       "      <td>0.807252</td>\n",
       "      <td>-0.022209</td>\n",
       "      <td>-1.439001</td>\n",
       "      <td>0.067912</td>\n",
       "      <td>-0.661813</td>\n",
       "      <td>-0.774333</td>\n",
       "      <td>-0.704626</td>\n",
       "    </tr>\n",
       "    <tr>\n",
       "      <th>838</th>\n",
       "      <td>-0.652649</td>\n",
       "      <td>-1.053547</td>\n",
       "      <td>-0.777639</td>\n",
       "      <td>-0.330006</td>\n",
       "      <td>-0.953750</td>\n",
       "      <td>-1.604402</td>\n",
       "      <td>-0.449876</td>\n",
       "      <td>-0.449876</td>\n",
       "      <td>-0.631084</td>\n",
       "      <td>0.518106</td>\n",
       "      <td>...</td>\n",
       "      <td>-0.510135</td>\n",
       "      <td>0.674694</td>\n",
       "      <td>-0.057405</td>\n",
       "      <td>-0.385215</td>\n",
       "      <td>-0.022209</td>\n",
       "      <td>0.243632</td>\n",
       "      <td>0.507773</td>\n",
       "      <td>-0.323473</td>\n",
       "      <td>-0.774333</td>\n",
       "      <td>-0.704626</td>\n",
       "    </tr>\n",
       "    <tr>\n",
       "      <th>839</th>\n",
       "      <td>1.057761</td>\n",
       "      <td>0.573892</td>\n",
       "      <td>0.314685</td>\n",
       "      <td>0.963485</td>\n",
       "      <td>-0.350763</td>\n",
       "      <td>-0.018482</td>\n",
       "      <td>-0.449876</td>\n",
       "      <td>-0.449876</td>\n",
       "      <td>-0.631084</td>\n",
       "      <td>-1.066675</td>\n",
       "      <td>...</td>\n",
       "      <td>-0.510135</td>\n",
       "      <td>-0.646451</td>\n",
       "      <td>-1.479021</td>\n",
       "      <td>0.807252</td>\n",
       "      <td>-0.966179</td>\n",
       "      <td>-1.439001</td>\n",
       "      <td>-0.371949</td>\n",
       "      <td>-0.661813</td>\n",
       "      <td>1.625993</td>\n",
       "      <td>1.583879</td>\n",
       "    </tr>\n",
       "    <tr>\n",
       "      <th>840</th>\n",
       "      <td>0.446901</td>\n",
       "      <td>-0.794100</td>\n",
       "      <td>-0.805293</td>\n",
       "      <td>-0.447597</td>\n",
       "      <td>0.131626</td>\n",
       "      <td>-0.414962</td>\n",
       "      <td>-1.167563</td>\n",
       "      <td>-1.167563</td>\n",
       "      <td>-0.912022</td>\n",
       "      <td>-0.727079</td>\n",
       "      <td>...</td>\n",
       "      <td>-0.510135</td>\n",
       "      <td>-0.646451</td>\n",
       "      <td>-0.057405</td>\n",
       "      <td>-0.385215</td>\n",
       "      <td>-0.022209</td>\n",
       "      <td>0.243632</td>\n",
       "      <td>-0.811809</td>\n",
       "      <td>-0.661813</td>\n",
       "      <td>-0.774333</td>\n",
       "      <td>-0.704626</td>\n",
       "    </tr>\n",
       "    <tr>\n",
       "      <th>841</th>\n",
       "      <td>-1.630026</td>\n",
       "      <td>0.054999</td>\n",
       "      <td>-0.418140</td>\n",
       "      <td>0.493124</td>\n",
       "      <td>-0.350763</td>\n",
       "      <td>-0.018482</td>\n",
       "      <td>1.272574</td>\n",
       "      <td>1.272574</td>\n",
       "      <td>0.345508</td>\n",
       "      <td>2.895277</td>\n",
       "      <td>...</td>\n",
       "      <td>-0.392030</td>\n",
       "      <td>0.674694</td>\n",
       "      <td>1.364211</td>\n",
       "      <td>0.807252</td>\n",
       "      <td>0.449776</td>\n",
       "      <td>0.243632</td>\n",
       "      <td>-0.811809</td>\n",
       "      <td>-0.661813</td>\n",
       "      <td>-0.774333</td>\n",
       "      <td>-0.704626</td>\n",
       "    </tr>\n",
       "  </tbody>\n",
       "</table>\n",
       "<p>842 rows × 27 columns</p>\n",
       "</div>"
      ],
      "text/plain": [
       "          age  weightkg       bmi  neck_girth1  sit_sys1  sit_dia1  \\\n",
       "0   -0.530477 -0.407288  0.162589    -1.153137 -0.953750  0.179758   \n",
       "1   -0.652649 -0.770514 -0.459621    -0.917957  0.614015  1.765678   \n",
       "2    1.179934  2.319261  1.393182     1.669025  1.940585  0.972718   \n",
       "3   -0.286132  0.078585 -0.349006     0.610714  0.614015 -0.613202   \n",
       "4    1.912966  0.455962 -0.141602     0.845895 -0.471361 -2.000882   \n",
       "..        ...       ...       ...          ...       ...       ...   \n",
       "837 -0.896993  1.210716  0.425300     1.198665 -0.833153  0.774478   \n",
       "838 -0.652649 -1.053547 -0.777639    -0.330006 -0.953750 -1.604402   \n",
       "839  1.057761  0.573892  0.314685     0.963485 -0.350763 -0.018482   \n",
       "840  0.446901 -0.794100 -0.805293    -0.447597  0.131626 -0.414962   \n",
       "841 -1.630026  0.054999 -0.418140     0.493124 -0.350763 -0.018482   \n",
       "\n",
       "     zung_score  zung_index     state     trait  ...  pack_years  \\\n",
       "0     -1.167563   -1.167563 -0.912022 -1.066675  ...   -0.510135   \n",
       "1     -0.162801   -0.162801  0.907382  0.178510  ...   -0.510135   \n",
       "2      0.554886    0.554886 -0.657840 -0.613881  ...    0.592172   \n",
       "3      2.707948    2.707948  0.679957  1.989688  ...    1.458270   \n",
       "4      0.124274    0.124274 -0.778242  0.404907  ...   -0.510135   \n",
       "..          ...         ...       ...       ...  ...         ...   \n",
       "837    0.698424    0.698424  0.492665  0.178510  ...   -0.510135   \n",
       "838   -0.449876   -0.449876 -0.631084  0.518106  ...   -0.510135   \n",
       "839   -0.449876   -0.449876 -0.631084 -1.066675  ...   -0.510135   \n",
       "840   -1.167563   -1.167563 -0.912022 -0.727079  ...   -0.510135   \n",
       "841    1.272574    1.272574  0.345508  2.895277  ...   -0.392030   \n",
       "\n",
       "     eval_general  eval_life  eval_health   workday   weekend  snore_freq  \\\n",
       "0       -0.646451  -1.479021    -1.577682 -0.966179  0.243632   -0.811809   \n",
       "1        0.674694  -0.057405     0.807252 -0.022209 -0.597684    2.267215   \n",
       "2       -0.646451  -0.057405    -0.385215  0.921761  0.243632   -0.371949   \n",
       "3        1.995840  -0.057405    -0.385215 -1.438164 -1.439001   -0.811809   \n",
       "4        1.995840   1.364211     0.807252 -0.966179 -0.597684    0.507773   \n",
       "..            ...        ...          ...       ...       ...         ...   \n",
       "837      0.674694   1.364211     0.807252 -0.022209 -1.439001    0.067912   \n",
       "838      0.674694  -0.057405    -0.385215 -0.022209  0.243632    0.507773   \n",
       "839     -0.646451  -1.479021     0.807252 -0.966179 -1.439001   -0.371949   \n",
       "840     -0.646451  -0.057405    -0.385215 -0.022209  0.243632   -0.811809   \n",
       "841      0.674694   1.364211     0.807252  0.449776  0.243632   -0.811809   \n",
       "\n",
       "     snore_vol  choke_freq  apnea_freq  \n",
       "0    -1.000153   -0.474293   -0.704626  \n",
       "1     1.706569    1.625993   -0.704626  \n",
       "2     1.706569   -0.774333   -0.704626  \n",
       "3     0.014868   -0.474293    1.583879  \n",
       "4    -0.323473   -0.774333   -0.704626  \n",
       "..         ...         ...         ...  \n",
       "837  -0.661813   -0.774333   -0.704626  \n",
       "838  -0.323473   -0.774333   -0.704626  \n",
       "839  -0.661813    1.625993    1.583879  \n",
       "840  -0.661813   -0.774333   -0.704626  \n",
       "841  -0.661813   -0.774333   -0.704626  \n",
       "\n",
       "[842 rows x 27 columns]"
      ]
     },
     "execution_count": 42,
     "metadata": {},
     "output_type": "execute_result"
    }
   ],
   "source": [
    "pd.DataFrame(X_train_scaled, columns=X_train.columns)"
   ]
  },
  {
   "cell_type": "code",
   "execution_count": 43,
   "id": "7c1fcf59",
   "metadata": {},
   "outputs": [
    {
     "data": {
      "text/plain": [
       "(150.0, 0.0, 15.518254674977738)"
      ]
     },
     "execution_count": 43,
     "metadata": {},
     "output_type": "execute_result"
    }
   ],
   "source": [
    "data_df1.tso.max(),data_df1.tso.min(), data_df1.tso.mean()"
   ]
  },
  {
   "cell_type": "code",
   "execution_count": 44,
   "id": "7ec7ded6",
   "metadata": {},
   "outputs": [],
   "source": [
    "model = LinearRegression()"
   ]
  },
  {
   "cell_type": "code",
   "execution_count": 45,
   "id": "8c0a2c20",
   "metadata": {},
   "outputs": [
    {
     "data": {
      "text/html": [
       "<style>#sk-17c8b611-e4ee-46b7-909d-b6a45e98e20f {color: black;background-color: white;}#sk-17c8b611-e4ee-46b7-909d-b6a45e98e20f pre{padding: 0;}#sk-17c8b611-e4ee-46b7-909d-b6a45e98e20f div.sk-toggleable {background-color: white;}#sk-17c8b611-e4ee-46b7-909d-b6a45e98e20f label.sk-toggleable__label {cursor: pointer;display: block;width: 100%;margin-bottom: 0;padding: 0.2em 0.3em;box-sizing: border-box;text-align: center;}#sk-17c8b611-e4ee-46b7-909d-b6a45e98e20f div.sk-toggleable__content {max-height: 0;max-width: 0;overflow: hidden;text-align: left;background-color: #f0f8ff;}#sk-17c8b611-e4ee-46b7-909d-b6a45e98e20f div.sk-toggleable__content pre {margin: 0.2em;color: black;border-radius: 0.25em;background-color: #f0f8ff;}#sk-17c8b611-e4ee-46b7-909d-b6a45e98e20f input.sk-toggleable__control:checked~div.sk-toggleable__content {max-height: 200px;max-width: 100%;overflow: auto;}#sk-17c8b611-e4ee-46b7-909d-b6a45e98e20f div.sk-estimator input.sk-toggleable__control:checked~label.sk-toggleable__label {background-color: #d4ebff;}#sk-17c8b611-e4ee-46b7-909d-b6a45e98e20f div.sk-label input.sk-toggleable__control:checked~label.sk-toggleable__label {background-color: #d4ebff;}#sk-17c8b611-e4ee-46b7-909d-b6a45e98e20f input.sk-hidden--visually {border: 0;clip: rect(1px 1px 1px 1px);clip: rect(1px, 1px, 1px, 1px);height: 1px;margin: -1px;overflow: hidden;padding: 0;position: absolute;width: 1px;}#sk-17c8b611-e4ee-46b7-909d-b6a45e98e20f div.sk-estimator {font-family: monospace;background-color: #f0f8ff;margin: 0.25em 0.25em;border: 1px dotted black;border-radius: 0.25em;box-sizing: border-box;}#sk-17c8b611-e4ee-46b7-909d-b6a45e98e20f div.sk-estimator:hover {background-color: #d4ebff;}#sk-17c8b611-e4ee-46b7-909d-b6a45e98e20f div.sk-parallel-item::after {content: \"\";width: 100%;border-bottom: 1px solid gray;flex-grow: 1;}#sk-17c8b611-e4ee-46b7-909d-b6a45e98e20f div.sk-label:hover label.sk-toggleable__label {background-color: #d4ebff;}#sk-17c8b611-e4ee-46b7-909d-b6a45e98e20f div.sk-serial::before {content: \"\";position: absolute;border-left: 1px solid gray;box-sizing: border-box;top: 2em;bottom: 0;left: 50%;}#sk-17c8b611-e4ee-46b7-909d-b6a45e98e20f div.sk-serial {display: flex;flex-direction: column;align-items: center;background-color: white;}#sk-17c8b611-e4ee-46b7-909d-b6a45e98e20f div.sk-item {z-index: 1;}#sk-17c8b611-e4ee-46b7-909d-b6a45e98e20f div.sk-parallel {display: flex;align-items: stretch;justify-content: center;background-color: white;}#sk-17c8b611-e4ee-46b7-909d-b6a45e98e20f div.sk-parallel-item {display: flex;flex-direction: column;position: relative;background-color: white;}#sk-17c8b611-e4ee-46b7-909d-b6a45e98e20f div.sk-parallel-item:first-child::after {align-self: flex-end;width: 50%;}#sk-17c8b611-e4ee-46b7-909d-b6a45e98e20f div.sk-parallel-item:last-child::after {align-self: flex-start;width: 50%;}#sk-17c8b611-e4ee-46b7-909d-b6a45e98e20f div.sk-parallel-item:only-child::after {width: 0;}#sk-17c8b611-e4ee-46b7-909d-b6a45e98e20f div.sk-dashed-wrapped {border: 1px dashed gray;margin: 0.2em;box-sizing: border-box;padding-bottom: 0.1em;background-color: white;position: relative;}#sk-17c8b611-e4ee-46b7-909d-b6a45e98e20f div.sk-label label {font-family: monospace;font-weight: bold;background-color: white;display: inline-block;line-height: 1.2em;}#sk-17c8b611-e4ee-46b7-909d-b6a45e98e20f div.sk-label-container {position: relative;z-index: 2;text-align: center;}#sk-17c8b611-e4ee-46b7-909d-b6a45e98e20f div.sk-container {display: inline-block;position: relative;}</style><div id=\"sk-17c8b611-e4ee-46b7-909d-b6a45e98e20f\" class\"sk-top-container\"><div class=\"sk-container\"><div class=\"sk-item\"><div class=\"sk-estimator sk-toggleable\"><input class=\"sk-toggleable__control sk-hidden--visually\" id=\"2e43c1e0-2586-4e4a-a842-4296961a2f73\" type=\"checkbox\" checked><label class=\"sk-toggleable__label\" for=\"2e43c1e0-2586-4e4a-a842-4296961a2f73\">LinearRegression</label><div class=\"sk-toggleable__content\"><pre>LinearRegression()</pre></div></div></div></div></div>"
      ],
      "text/plain": [
       "LinearRegression()"
      ]
     },
     "execution_count": 45,
     "metadata": {},
     "output_type": "execute_result"
    }
   ],
   "source": [
    "model.fit(X_train_scaled, y_train)"
   ]
  },
  {
   "cell_type": "code",
   "execution_count": 46,
   "id": "3b23d9a3",
   "metadata": {},
   "outputs": [
    {
     "data": {
      "text/plain": [
       "-0.17505267985339001"
      ]
     },
     "execution_count": 46,
     "metadata": {},
     "output_type": "execute_result"
    }
   ],
   "source": [
    "model.score(X_test_scaled, y_test)"
   ]
  },
  {
   "cell_type": "code",
   "execution_count": 48,
   "id": "ec7e0b81",
   "metadata": {},
   "outputs": [],
   "source": [
    "#model.predict(X_test)\n",
    "#model.coef_"
   ]
  },
  {
   "cell_type": "markdown",
   "id": "0fcfd97f",
   "metadata": {},
   "source": [
    "## ac - Linear Regression with Cross validation\n"
   ]
  },
  {
   "cell_type": "code",
   "execution_count": 49,
   "id": "eeed117f",
   "metadata": {},
   "outputs": [],
   "source": [
    "y = data_df1.tso\n",
    "X = data_df1.drop('tso', axis=1)"
   ]
  },
  {
   "cell_type": "code",
   "execution_count": 50,
   "id": "19035de4",
   "metadata": {},
   "outputs": [],
   "source": [
    "y = data_df1.tso\n",
    "X = data_df1.drop(targets, axis=1)\n",
    "X = data_df1.drop(categoricals, axis=1)"
   ]
  },
  {
   "cell_type": "code",
   "execution_count": 51,
   "id": "73038abe",
   "metadata": {},
   "outputs": [
    {
     "data": {
      "text/plain": [
       "-10.643965624552504"
      ]
     },
     "execution_count": 51,
     "metadata": {},
     "output_type": "execute_result"
    }
   ],
   "source": [
    "cv_results = cross_validate(LinearRegression(), X,y, cv=5, scoring='neg_mean_absolute_error')\n",
    "cv_results['test_score'].mean()"
   ]
  },
  {
   "cell_type": "code",
   "execution_count": 52,
   "id": "ce80c986",
   "metadata": {},
   "outputs": [],
   "source": [
    "X_train, X_test, y_train, y_test = train_test_split(X,y, test_size=0.25, random_state=1)"
   ]
  },
  {
   "cell_type": "code",
   "execution_count": 53,
   "id": "374441bd",
   "metadata": {},
   "outputs": [],
   "source": [
    "scaler = StandardScaler()\n",
    "X_train_scaled = scaler.fit_transform(X_train)"
   ]
  },
  {
   "cell_type": "code",
   "execution_count": 54,
   "id": "04f508ae",
   "metadata": {},
   "outputs": [],
   "source": [
    "model = LinearRegression()"
   ]
  },
  {
   "cell_type": "code",
   "execution_count": 55,
   "id": "0c519cd6",
   "metadata": {},
   "outputs": [],
   "source": [
    "#cv_results = cross_validate(model, X_train_scaled,y_train, cv=5)"
   ]
  },
  {
   "cell_type": "code",
   "execution_count": 56,
   "id": "418ac55e",
   "metadata": {},
   "outputs": [
    {
     "data": {
      "text/plain": [
       "-10.643965624552504"
      ]
     },
     "execution_count": 56,
     "metadata": {},
     "output_type": "execute_result"
    }
   ],
   "source": [
    "cv_results['test_score'].mean()"
   ]
  },
  {
   "cell_type": "code",
   "execution_count": null,
   "id": "98bcb1f2",
   "metadata": {},
   "outputs": [],
   "source": []
  }
 ],
 "metadata": {
  "kernelspec": {
   "display_name": "Python 3 (ipykernel)",
   "language": "python",
   "name": "python3"
  },
  "language_info": {
   "codemirror_mode": {
    "name": "ipython",
    "version": 3
   },
   "file_extension": ".py",
   "mimetype": "text/x-python",
   "name": "python",
   "nbconvert_exporter": "python",
   "pygments_lexer": "ipython3",
   "version": "3.8.6"
  },
  "toc": {
   "base_numbering": 1,
   "nav_menu": {},
   "number_sections": true,
   "sideBar": true,
   "skip_h1_title": false,
   "title_cell": "Table of Contents",
   "title_sidebar": "Contents",
   "toc_cell": false,
   "toc_position": {},
   "toc_section_display": true,
   "toc_window_display": false
  }
 },
 "nbformat": 4,
 "nbformat_minor": 5
}
