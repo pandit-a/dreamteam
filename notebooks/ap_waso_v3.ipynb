{
 "cells": [
  {
   "cell_type": "code",
   "execution_count": 1,
   "id": "5fe98889",
   "metadata": {},
   "outputs": [],
   "source": [
    "##Generic imports\n",
    "\n",
    "import pandas as pd\n",
    "import numpy as np\n",
    "import matplotlib.pyplot as plt\n",
    "%matplotlib inline\n",
    "import seaborn as sns"
   ]
  },
  {
   "cell_type": "code",
   "execution_count": 2,
   "id": "337f2f52",
   "metadata": {},
   "outputs": [],
   "source": [
    "%load_ext autoreload\n",
    "%autoreload"
   ]
  },
  {
   "cell_type": "code",
   "execution_count": 3,
   "id": "d9c799dc",
   "metadata": {},
   "outputs": [],
   "source": [
    "##Script specific imports for feature encoding\n",
    "\n",
    "from sklearn.preprocessing import OneHotEncoder, LabelBinarizer\n",
    "from sklearn.compose import ColumnTransformer\n",
    "from sklearn.pipeline import Pipeline\n",
    "from sklearn import set_config\n",
    "set_config(display='diagram')"
   ]
  },
  {
   "cell_type": "code",
   "execution_count": 4,
   "id": "8f818c2e",
   "metadata": {},
   "outputs": [],
   "source": [
    "from sklearn.compose import ColumnTransformer\n",
    "from sklearn.pipeline import Pipeline\n",
    "from sklearn.impute import SimpleImputer\n",
    "from sklearn.preprocessing import StandardScaler, RobustScaler\n",
    "from sklearn.model_selection import train_test_split, cross_validate\n",
    "from sklearn.linear_model import LinearRegression, Ridge, Lasso"
   ]
  },
  {
   "cell_type": "code",
   "execution_count": 5,
   "id": "f6df1a78",
   "metadata": {},
   "outputs": [],
   "source": [
    "from sklearn.ensemble import RandomForestClassifier\n",
    "from sklearn.datasets import make_classification"
   ]
  },
  {
   "cell_type": "code",
   "execution_count": 6,
   "id": "1c873f89",
   "metadata": {},
   "outputs": [],
   "source": [
    "import statsmodels.api as sm"
   ]
  },
  {
   "cell_type": "code",
   "execution_count": 10,
   "id": "d41a2ffc",
   "metadata": {},
   "outputs": [
    {
     "ename": "ImportError",
     "evalue": "cannot import name 'clean_data' from 'dreamteam.getdata' (/Users/anand/.pyenv/versions/3.8.6/envs/dreamteam/lib/python3.8/site-packages/dreamteam/getdata.py)",
     "output_type": "error",
     "traceback": [
      "\u001b[0;31m---------------------------------------------------------------------------\u001b[0m",
      "\u001b[0;31mImportError\u001b[0m                               Traceback (most recent call last)",
      "\u001b[0;32m/var/folders/yx/t49t5b3n7ss0xd5ghm8hplpm0000gn/T/ipykernel_2776/3303442292.py\u001b[0m in \u001b[0;36m<module>\u001b[0;34m\u001b[0m\n\u001b[1;32m      1\u001b[0m \u001b[0;32mfrom\u001b[0m \u001b[0mdreamteam\u001b[0m\u001b[0;34m.\u001b[0m\u001b[0mgetdata\u001b[0m \u001b[0;32mimport\u001b[0m \u001b[0mget_data\u001b[0m\u001b[0;34m\u001b[0m\u001b[0;34m\u001b[0m\u001b[0m\n\u001b[0;32m----> 2\u001b[0;31m \u001b[0;32mfrom\u001b[0m \u001b[0mdreamteam\u001b[0m\u001b[0;34m.\u001b[0m\u001b[0mgetdata\u001b[0m \u001b[0;32mimport\u001b[0m \u001b[0mclean_data\u001b[0m\u001b[0;34m\u001b[0m\u001b[0;34m\u001b[0m\u001b[0m\n\u001b[0m",
      "\u001b[0;31mImportError\u001b[0m: cannot import name 'clean_data' from 'dreamteam.getdata' (/Users/anand/.pyenv/versions/3.8.6/envs/dreamteam/lib/python3.8/site-packages/dreamteam/getdata.py)"
     ]
    }
   ],
   "source": [
    "from dreamteam.getdata import get_data\n",
    "from dreamteam.getdata import clean_data"
   ]
  },
  {
   "cell_type": "code",
   "execution_count": 9,
   "id": "53be99f2",
   "metadata": {},
   "outputs": [
    {
     "ename": "TypeError",
     "evalue": "get_data() missing 1 required positional argument: 'self'",
     "output_type": "error",
     "traceback": [
      "\u001b[0;31m---------------------------------------------------------------------------\u001b[0m",
      "\u001b[0;31mTypeError\u001b[0m                                 Traceback (most recent call last)",
      "\u001b[0;32m/var/folders/yx/t49t5b3n7ss0xd5ghm8hplpm0000gn/T/ipykernel_2776/1559051035.py\u001b[0m in \u001b[0;36m<module>\u001b[0;34m\u001b[0m\n\u001b[0;32m----> 1\u001b[0;31m \u001b[0mget_data\u001b[0m\u001b[0;34m(\u001b[0m\u001b[0;34m)\u001b[0m\u001b[0;34m\u001b[0m\u001b[0;34m\u001b[0m\u001b[0m\n\u001b[0m",
      "\u001b[0;31mTypeError\u001b[0m: get_data() missing 1 required positional argument: 'self'"
     ]
    }
   ],
   "source": [
    "get_data()"
   ]
  },
  {
   "cell_type": "code",
   "execution_count": null,
   "id": "3f25074c",
   "metadata": {},
   "outputs": [],
   "source": []
  },
  {
   "cell_type": "code",
   "execution_count": 2380,
   "id": "fc1ade2c",
   "metadata": {},
   "outputs": [],
   "source": [
    "file = r'/Users/anand/Documents/Sleep/WSC - variable cross-check_sparse.xlsx'\n",
    "data = r'/Users/anand/Documents/Sleep/wsc-dataset-0.2.0.csv'"
   ]
  },
  {
   "cell_type": "code",
   "execution_count": 2381,
   "id": "92ad0df0",
   "metadata": {},
   "outputs": [],
   "source": [
    "df = pd.read_excel(file)\n",
    "data_df = pd.read_csv(data)"
   ]
  },
  {
   "cell_type": "code",
   "execution_count": 2382,
   "id": "bed831ed",
   "metadata": {},
   "outputs": [],
   "source": [
    "pd.set_option('display.max_columns', None)\n",
    "#data_df.head()"
   ]
  },
  {
   "cell_type": "code",
   "execution_count": 2383,
   "id": "6a0dd846",
   "metadata": {},
   "outputs": [],
   "source": [
    "deleted = df[df['Proposed Removal'] == 'R']\n",
    "deleted_cols = deleted.iloc[:, 0]"
   ]
  },
  {
   "cell_type": "code",
   "execution_count": 2384,
   "id": "618a8db4",
   "metadata": {},
   "outputs": [],
   "source": [
    "data_df = data_df.drop(deleted_cols.to_list(), axis=1)"
   ]
  },
  {
   "cell_type": "code",
   "execution_count": 2385,
   "id": "7a426bed",
   "metadata": {},
   "outputs": [],
   "source": [
    "\n",
    "#data_df.drop_duplicates('wsc_id', inplace=True)\n",
    "data_df.set_index('wsc_id', inplace=True)\n",
    "##data_df.fillna(0, inplace=True)"
   ]
  },
  {
   "cell_type": "code",
   "execution_count": 2386,
   "id": "3fa3ed9e",
   "metadata": {},
   "outputs": [],
   "source": [
    "data_df.nasal_cong_none.replace({np.nan:0,'Y':1}, inplace=True)\n",
    "data_df.num_pregnancies.replace({np.nan:0}, inplace=True)\n",
    "data_df.packs_week.replace({np.nan:0}, inplace=True)\n",
    "data_df.pack_years.replace({np.nan:0}, inplace=True)"
   ]
  },
  {
   "cell_type": "code",
   "execution_count": 2387,
   "id": "6f24b99b",
   "metadata": {},
   "outputs": [],
   "source": [
    "objlist = []\n",
    "\n",
    "for n in data_df.dtypes[data_df.dtypes == 'object'].index:\n",
    "    objlist.append(n)"
   ]
  },
  {
   "cell_type": "code",
   "execution_count": 2388,
   "id": "eab4a804",
   "metadata": {},
   "outputs": [],
   "source": [
    "## Binariser -  should work if nans are present or not...\n",
    "\n",
    "for i,v in enumerate(objlist):\n",
    "    \n",
    "    ##columns with 2 variables eg. [N,Y] or [M,F]\n",
    "    \n",
    "    if len(data_df[v].unique()) == 2:\n",
    "        ##print(data_df[v].unique(),v)\n",
    "        data_df[objlist[i]].replace\\\n",
    "        ({data_df[objlist[i]].unique()[0]:0,data_df[objlist[i]].unique()[1]:1}, inplace=True)\n",
    "        \n",
    "    #### ALL columns with 3 variables - which appear like [N,Y,nan]\n",
    "    if len(data_df[v].unique()) == 3:\n",
    "        ##print(data_df[v].unique(),v)\n",
    "        data_df[objlist[i]].replace\\\n",
    "        ({'N':0,'Y':1}, inplace=True)"
   ]
  },
  {
   "cell_type": "code",
   "execution_count": 2389,
   "id": "126dad91",
   "metadata": {},
   "outputs": [],
   "source": [
    "#### ONE HOT ENCODER SCRIPT\n",
    "\n",
    "ohe = OneHotEncoder(handle_unknown='ignore',sparse=False)\n",
    "\n",
    "\n",
    "## Only variables which need OHE\n",
    "X1 = data_df[['thyroid_problem']]\n",
    "X2 = data_df[['hormone_therapy']]\n",
    "\n",
    "##fit transform, extract column names, make dataframe with column names, drop nan row\n",
    "\n",
    "X1t = ohe.fit_transform(X1)\n",
    "colnames = list(ohe.get_feature_names())\n",
    "X1df = pd.DataFrame(X1t, columns = colnames)\n",
    "X1df.drop(columns = 'x0_nan', inplace=True)\n",
    "X1df.index = data_df.index\n",
    "\n",
    "X2t = ohe.fit_transform(X2)\n",
    "colnames = list(ohe.get_feature_names())\n",
    "X2df = pd.DataFrame(X2t, columns = colnames)\n",
    "X2df.drop(columns = 'x0_nan', inplace=True)\n",
    "X2df.index = data_df.index\n",
    "\n",
    "frames = [data_df, X1df, X2df]\n",
    "data_df = pd.concat(frames, axis = 1)\n",
    "\n",
    "##drop original row names\n",
    "\n",
    "data_df.drop(columns = ['thyroid_problem','hormone_therapy'], inplace=True)"
   ]
  },
  {
   "cell_type": "code",
   "execution_count": 2390,
   "id": "6f3ad254",
   "metadata": {},
   "outputs": [
    {
     "data": {
      "text/plain": [
       "<AxesSubplot:>"
      ]
     },
     "execution_count": 2390,
     "metadata": {},
     "output_type": "execute_result"
    },
    {
     "data": {
      "image/png": "[encoded data removed]",
      "text/plain": [
       "<Figure size 432x288 with 1 Axes>"
      ]
     },
     "metadata": {
      "needs_background": "light"
     },
     "output_type": "display_data"
    }
   ],
   "source": [
    "data_df.age.hist()"
   ]
  },
  {
   "cell_type": "markdown",
   "id": "442b722d",
   "metadata": {},
   "source": [
    "# Age restrictions"
   ]
  },
  {
   "cell_type": "code",
   "execution_count": 2275,
   "id": "a86de0f4",
   "metadata": {},
   "outputs": [],
   "source": [
    "\n",
    "\n",
    "#data_df.drop(index = data_df[(data_df.age > 65)].index, inplace=True)"
   ]
  },
  {
   "cell_type": "code",
   "execution_count": 2379,
   "id": "e2da8c97",
   "metadata": {},
   "outputs": [
    {
     "data": {
      "text/plain": [
       "669"
      ]
     },
     "execution_count": 2379,
     "metadata": {},
     "output_type": "execute_result"
    }
   ],
   "source": [
    "len(data_df[(data_df.age > 65)])"
   ]
  },
  {
   "cell_type": "markdown",
   "id": "bfd9332a",
   "metadata": {},
   "source": [
    "# Process y"
   ]
  },
  {
   "cell_type": "code",
   "execution_count": 2276,
   "id": "375f315c",
   "metadata": {},
   "outputs": [],
   "source": [
    "targs = ['sleep_latency','tst', 'tst_rem', 'tst_nrem', 'tso', 'totsleep', 'ess','p_eval_sleep', 'a_eval_slept', 'a_eval_hour',\n",
    "       'a_eval_sleep', 'ps_eds','se', 'waso','sleepiness', 'workday', 'weekend', 'ps_diff', 'ps_diff', 'ps_backsleep','ps_wakerepeat','ps_wakeup','ps_eds']"
   ]
  },
  {
   "cell_type": "code",
   "execution_count": 2277,
   "id": "def46482",
   "metadata": {},
   "outputs": [],
   "source": [
    "imputenum = SimpleImputer(strategy = 'median')\n",
    "data_df[targs] = imputenum.fit_transform(data_df[targs])\n"
   ]
  },
  {
   "cell_type": "markdown",
   "id": "98039569",
   "metadata": {},
   "source": [
    "# process X"
   ]
  },
  {
   "cell_type": "code",
   "execution_count": 2278,
   "id": "f0a1f644",
   "metadata": {},
   "outputs": [
    {
     "data": {
      "text/plain": [
       "(1519, 65)"
      ]
     },
     "execution_count": 2278,
     "metadata": {},
     "output_type": "execute_result"
    }
   ],
   "source": [
    "X = data_df.drop(columns = targs)\n",
    "cols= X.columns\n",
    "X.shape"
   ]
  },
  {
   "cell_type": "code",
   "execution_count": 2279,
   "id": "360e4e6c",
   "metadata": {},
   "outputs": [],
   "source": [
    "#### Scaling numerical features - categorical features and targets removed from this listt\n",
    "\n",
    "numeric_features = ['hdl', 'ldl','total_cholesterol', 'triglycerides', 'weightkg',\n",
    "       'hipgirthm', 'neckgirthm', 'waistgirthm', 'waisthip',\n",
    "       'sitsysm', 'sitdiam','packs_week', 'pack_years',\n",
    "       'naps', 'snore_freq',\n",
    "       'num_pregnancies','age', 'heightcm',\n",
    "       'caffeine', 'alcohol_wk','eval_general', 'eval_life','eval_health', \n",
    "       'snore_vol', 'choke_freq',\n",
    "       'apnea_freq', 'awake_freq']"
   ]
  },
  {
   "cell_type": "code",
   "execution_count": 2280,
   "id": "018ccb9c",
   "metadata": {},
   "outputs": [],
   "source": [
    "categoric = data_df.drop(columns = targs)\n",
    "categoric.drop(columns = numeric_features, inplace=True)\n",
    "#categoric.drop(columns =['waso', 'wsc_vst'], inplace=True)"
   ]
  },
  {
   "cell_type": "code",
   "execution_count": 2281,
   "id": "7c3cd1dc",
   "metadata": {},
   "outputs": [],
   "source": [
    "categorical_features = categoric.columns"
   ]
  },
  {
   "cell_type": "code",
   "execution_count": 2282,
   "id": "d6e6664e",
   "metadata": {},
   "outputs": [],
   "source": [
    "categorical_transformer = Pipeline(steps=[\n",
    "    ('imputer', SimpleImputer(strategy='median'))])"
   ]
  },
  {
   "cell_type": "code",
   "execution_count": 2283,
   "id": "0ea34259",
   "metadata": {},
   "outputs": [],
   "source": [
    "numeric_transformer = Pipeline(steps=[\n",
    "    ('imputer', SimpleImputer(strategy='mean')),\n",
    "    ('scaler', RobustScaler())])"
   ]
  },
  {
   "cell_type": "code",
   "execution_count": 2284,
   "id": "85258b33",
   "metadata": {},
   "outputs": [],
   "source": [
    "preprocessor = ColumnTransformer(\n",
    "    transformers=[\n",
    "        ('num', numeric_transformer, numeric_features),\\\n",
    "        ('cat', categorical_transformer, categorical_features)])"
   ]
  },
  {
   "cell_type": "code",
   "execution_count": 2285,
   "id": "9e1a41f7",
   "metadata": {},
   "outputs": [],
   "source": [
    "prepipe = Pipeline(steps=[('preprocessor', preprocessor)])"
   ]
  },
  {
   "cell_type": "code",
   "execution_count": 2286,
   "id": "2b4e6c13",
   "metadata": {},
   "outputs": [],
   "source": [
    "pipe = Pipeline(steps=[('preprocessor', preprocessor),('regression', LinearRegression())])"
   ]
  },
  {
   "cell_type": "code",
   "execution_count": 2287,
   "id": "c77f1fce",
   "metadata": {},
   "outputs": [],
   "source": [
    "X = prepipe.fit_transform(X)"
   ]
  },
  {
   "cell_type": "code",
   "execution_count": 2288,
   "id": "62b1fc48",
   "metadata": {},
   "outputs": [
    {
     "data": {
      "text/plain": [
       "(1519, 65)"
      ]
     },
     "execution_count": 2288,
     "metadata": {},
     "output_type": "execute_result"
    }
   ],
   "source": [
    "X.shape"
   ]
  },
  {
   "cell_type": "code",
   "execution_count": 2289,
   "id": "cbc78e34",
   "metadata": {},
   "outputs": [],
   "source": [
    "X = pd.DataFrame(X, columns = cols)"
   ]
  },
  {
   "cell_type": "code",
   "execution_count": 2290,
   "id": "1cfcee00",
   "metadata": {},
   "outputs": [],
   "source": [
    "X.drop(columns = ['wsc_vst'], inplace=True)"
   ]
  },
  {
   "cell_type": "code",
   "execution_count": 2291,
   "id": "9a198238",
   "metadata": {},
   "outputs": [],
   "source": [
    "balance_cutoff = 0.975\n",
    "imbalanced_classes = []\n",
    "for col in X.columns:\n",
    "    _ = X.columns.get_loc(col)\n",
    "    if X.iloc[:, _].value_counts(normalize=True).head(1).values > balance_cutoff:\n",
    "        imbalanced_classes.append((col, X.iloc[:, _].value_counts(normalize=True).head(1).values.astype(float)))"
   ]
  },
  {
   "cell_type": "code",
   "execution_count": 2292,
   "id": "3311bfd5",
   "metadata": {},
   "outputs": [],
   "source": [
    "imbalanced_list = []\n",
    "for classes in imbalanced_classes:\n",
    "    imbalanced_list.append(classes[0])"
   ]
  },
  {
   "cell_type": "code",
   "execution_count": 2293,
   "id": "586bde6a",
   "metadata": {},
   "outputs": [
    {
     "data": {
      "text/plain": [
       "['diabetes_ynd',\n",
       " 'apnea',\n",
       " 'androgen_med',\n",
       " 'stimulants_med',\n",
       " 'x0_Hyperthyroid',\n",
       " 'x0_Infection',\n",
       " 'x0_Nodule',\n",
       " 'x0_Thyroid Cancer',\n",
       " 'x0_Unknown']"
      ]
     },
     "execution_count": 2293,
     "metadata": {},
     "output_type": "execute_result"
    }
   ],
   "source": [
    "imbalanced_list"
   ]
  },
  {
   "cell_type": "code",
   "execution_count": 2294,
   "id": "6a6a4230",
   "metadata": {},
   "outputs": [],
   "source": [
    "X.drop(imbalanced_list, axis=1, inplace=True)"
   ]
  },
  {
   "cell_type": "code",
   "execution_count": 2295,
   "id": "b6ef963e",
   "metadata": {},
   "outputs": [
    {
     "data": {
      "text/plain": [
       "(1519, 86)"
      ]
     },
     "execution_count": 2295,
     "metadata": {},
     "output_type": "execute_result"
    }
   ],
   "source": [
    "data_df.shape"
   ]
  },
  {
   "cell_type": "code",
   "execution_count": 2348,
   "id": "b79c593e",
   "metadata": {},
   "outputs": [],
   "source": [
    "waso = data_df.waso\n",
    "waso = waso.reset_index(drop=True)\n",
    "waso[(waso <= 48)] = 0\n",
    "waso[(waso > 48)] = 1\n"
   ]
  },
  {
   "cell_type": "code",
   "execution_count": 2357,
   "id": "fea545ca",
   "metadata": {},
   "outputs": [],
   "source": [
    "waso = data_df.waso\n",
    "waso = waso.reset_index(drop=True)\n",
    "\n",
    "a = 41\n",
    "b = 73\n",
    "\n",
    "waso[(waso < a) | (waso > b)] = 1\n",
    "waso[(waso >= a) & (waso <= b)] = 0"
   ]
  },
  {
   "cell_type": "code",
   "execution_count": 2296,
   "id": "a81fd3de",
   "metadata": {},
   "outputs": [],
   "source": [
    "se = data_df.se\n",
    "se = se.reset_index(drop=True)\n",
    "\n",
    "a = 81\n",
    "b = 87\n",
    "\n",
    "se[(se < a) | (se > b)] = 1\n",
    "se[(se >= a) & (se <= b)] = 0"
   ]
  },
  {
   "cell_type": "code",
   "execution_count": 2304,
   "id": "4fe7de57",
   "metadata": {},
   "outputs": [],
   "source": [
    "tst = data_df.tst\n",
    "tst = tst.reset_index(drop=True)\n",
    "a = 358\n",
    "b = 402\n",
    "\n",
    "tst[(tst < a) | (tst > b)] = 1\n",
    "tst[(tst >= a) & (tst <= b)] = 0"
   ]
  },
  {
   "cell_type": "code",
   "execution_count": 1548,
   "id": "8109ba35",
   "metadata": {},
   "outputs": [],
   "source": [
    "tso = data_df.tso\n",
    "tso = tso.reset_index(drop=True)\n",
    "\n",
    "a = 13.7\n",
    "b = 17\n",
    "\n",
    "tso[(tso < a) | (tso > b)] = 1\n",
    "tso[(tso >= a) & (tso <= b)] = 0"
   ]
  },
  {
   "cell_type": "code",
   "execution_count": 2358,
   "id": "c6d700ad",
   "metadata": {},
   "outputs": [
    {
     "data": {
      "text/plain": [
       "((1519,), <AxesSubplot:>)"
      ]
     },
     "execution_count": 2358,
     "metadata": {},
     "output_type": "execute_result"
    },
    {
     "data": {
      "image/png": "[encoded data removed]",
      "text/plain": [
       "<Figure size 432x288 with 1 Axes>"
      ]
     },
     "metadata": {
      "needs_background": "light"
     },
     "output_type": "display_data"
    }
   ],
   "source": [
    "y = waso\n",
    "y = y.reset_index(drop=True)\n",
    "y.shape, y.hist()"
   ]
  },
  {
   "cell_type": "code",
   "execution_count": 2359,
   "id": "509d087d",
   "metadata": {},
   "outputs": [],
   "source": [
    "X_train, X_test, y_train, y_test = train_test_split(X, y, test_size=0.15,\n",
    "                                                    random_state=42)"
   ]
  },
  {
   "cell_type": "code",
   "execution_count": 2360,
   "id": "c08563ea",
   "metadata": {},
   "outputs": [],
   "source": [
    "y_train = y_train.astype('int')"
   ]
  },
  {
   "cell_type": "code",
   "execution_count": 2361,
   "id": "783b2731",
   "metadata": {},
   "outputs": [
    {
     "data": {
      "text/plain": [
       "1    844\n",
       "0    447\n",
       "Name: waso, dtype: int64"
      ]
     },
     "execution_count": 2361,
     "metadata": {},
     "output_type": "execute_result"
    }
   ],
   "source": [
    "y_train.value_counts()"
   ]
  },
  {
   "cell_type": "code",
   "execution_count": 2362,
   "id": "6c84ffe9",
   "metadata": {},
   "outputs": [],
   "source": [
    "#model1 = LogisticRegression(penalty = 'l1', solver = 'liblinear')\n",
    "model1 = LogisticRegression()"
   ]
  },
  {
   "cell_type": "code",
   "execution_count": 2363,
   "id": "db62cf05",
   "metadata": {},
   "outputs": [],
   "source": [
    "model1 = RandomForestClassifier()"
   ]
  },
  {
   "cell_type": "code",
   "execution_count": 2364,
   "id": "f46ef9d6",
   "metadata": {},
   "outputs": [
    {
     "data": {
      "text/plain": [
       "(0.6522163359372661,\n",
       " 0.9466892082276699,\n",
       " 0.6641758972705611,\n",
       " 0.7806575041501498)"
      ]
     },
     "execution_count": 2364,
     "metadata": {},
     "output_type": "execute_result"
    }
   ],
   "source": [
    "cv_results = cross_validate(model1, X_train, y_train, cv=5, scoring=['accuracy', 'recall', 'precision', 'f1'])\n",
    "sorted(cv_results.keys())\n",
    "cv_results['test_accuracy'].mean(), cv_results['test_recall'].mean(), cv_results['test_precision'].mean(), cv_results['test_f1'].mean()"
   ]
  },
  {
   "cell_type": "code",
   "execution_count": 2365,
   "id": "7909010f",
   "metadata": {},
   "outputs": [],
   "source": [
    "from sklearn.dummy import DummyClassifier\n",
    "from sklearn.metrics import mean_absolute_error, accuracy_score, recall_score"
   ]
  },
  {
   "cell_type": "code",
   "execution_count": 2366,
   "id": "6c67887a",
   "metadata": {},
   "outputs": [
    {
     "data": {
      "text/plain": [
       "(0.6491228070175439, 0.9666666666666667)"
      ]
     },
     "execution_count": 2366,
     "metadata": {},
     "output_type": "execute_result"
    }
   ],
   "source": [
    "model1.fit(X_train, y_train)\n",
    "accuracy_score(y_test, model1.predict(X_test)), recall_score(y_test, model1.predict(X_test))"
   ]
  },
  {
   "cell_type": "code",
   "execution_count": 1414,
   "id": "6e92fdd9",
   "metadata": {},
   "outputs": [
    {
     "data": {
      "text/html": [
       "<style>#sk-6022d5c4-be4f-470f-88a8-51d7e4d3bdaf {color: black;background-color: white;}#sk-6022d5c4-be4f-470f-88a8-51d7e4d3bdaf pre{padding: 0;}#sk-6022d5c4-be4f-470f-88a8-51d7e4d3bdaf div.sk-toggleable {background-color: white;}#sk-6022d5c4-be4f-470f-88a8-51d7e4d3bdaf label.sk-toggleable__label {cursor: pointer;display: block;width: 100%;margin-bottom: 0;padding: 0.2em 0.3em;box-sizing: border-box;text-align: center;}#sk-6022d5c4-be4f-470f-88a8-51d7e4d3bdaf div.sk-toggleable__content {max-height: 0;max-width: 0;overflow: hidden;text-align: left;background-color: #f0f8ff;}#sk-6022d5c4-be4f-470f-88a8-51d7e4d3bdaf div.sk-toggleable__content pre {margin: 0.2em;color: black;border-radius: 0.25em;background-color: #f0f8ff;}#sk-6022d5c4-be4f-470f-88a8-51d7e4d3bdaf input.sk-toggleable__control:checked~div.sk-toggleable__content {max-height: 200px;max-width: 100%;overflow: auto;}#sk-6022d5c4-be4f-470f-88a8-51d7e4d3bdaf div.sk-estimator input.sk-toggleable__control:checked~label.sk-toggleable__label {background-color: #d4ebff;}#sk-6022d5c4-be4f-470f-88a8-51d7e4d3bdaf div.sk-label input.sk-toggleable__control:checked~label.sk-toggleable__label {background-color: #d4ebff;}#sk-6022d5c4-be4f-470f-88a8-51d7e4d3bdaf input.sk-hidden--visually {border: 0;clip: rect(1px 1px 1px 1px);clip: rect(1px, 1px, 1px, 1px);height: 1px;margin: -1px;overflow: hidden;padding: 0;position: absolute;width: 1px;}#sk-6022d5c4-be4f-470f-88a8-51d7e4d3bdaf div.sk-estimator {font-family: monospace;background-color: #f0f8ff;margin: 0.25em 0.25em;border: 1px dotted black;border-radius: 0.25em;box-sizing: border-box;}#sk-6022d5c4-be4f-470f-88a8-51d7e4d3bdaf div.sk-estimator:hover {background-color: #d4ebff;}#sk-6022d5c4-be4f-470f-88a8-51d7e4d3bdaf div.sk-parallel-item::after {content: \"\";width: 100%;border-bottom: 1px solid gray;flex-grow: 1;}#sk-6022d5c4-be4f-470f-88a8-51d7e4d3bdaf div.sk-label:hover label.sk-toggleable__label {background-color: #d4ebff;}#sk-6022d5c4-be4f-470f-88a8-51d7e4d3bdaf div.sk-serial::before {content: \"\";position: absolute;border-left: 1px solid gray;box-sizing: border-box;top: 2em;bottom: 0;left: 50%;}#sk-6022d5c4-be4f-470f-88a8-51d7e4d3bdaf div.sk-serial {display: flex;flex-direction: column;align-items: center;background-color: white;}#sk-6022d5c4-be4f-470f-88a8-51d7e4d3bdaf div.sk-item {z-index: 1;}#sk-6022d5c4-be4f-470f-88a8-51d7e4d3bdaf div.sk-parallel {display: flex;align-items: stretch;justify-content: center;background-color: white;}#sk-6022d5c4-be4f-470f-88a8-51d7e4d3bdaf div.sk-parallel-item {display: flex;flex-direction: column;position: relative;background-color: white;}#sk-6022d5c4-be4f-470f-88a8-51d7e4d3bdaf div.sk-parallel-item:first-child::after {align-self: flex-end;width: 50%;}#sk-6022d5c4-be4f-470f-88a8-51d7e4d3bdaf div.sk-parallel-item:last-child::after {align-self: flex-start;width: 50%;}#sk-6022d5c4-be4f-470f-88a8-51d7e4d3bdaf div.sk-parallel-item:only-child::after {width: 0;}#sk-6022d5c4-be4f-470f-88a8-51d7e4d3bdaf div.sk-dashed-wrapped {border: 1px dashed gray;margin: 0.2em;box-sizing: border-box;padding-bottom: 0.1em;background-color: white;position: relative;}#sk-6022d5c4-be4f-470f-88a8-51d7e4d3bdaf div.sk-label label {font-family: monospace;font-weight: bold;background-color: white;display: inline-block;line-height: 1.2em;}#sk-6022d5c4-be4f-470f-88a8-51d7e4d3bdaf div.sk-label-container {position: relative;z-index: 2;text-align: center;}#sk-6022d5c4-be4f-470f-88a8-51d7e4d3bdaf div.sk-container {display: inline-block;position: relative;}</style><div id=\"sk-6022d5c4-be4f-470f-88a8-51d7e4d3bdaf\" class\"sk-top-container\"><div class=\"sk-container\"><div class=\"sk-item\"><div class=\"sk-estimator sk-toggleable\"><input class=\"sk-toggleable__control sk-hidden--visually\" id=\"6a69026c-494b-4be4-a894-84dc8d336fa7\" type=\"checkbox\" checked><label class=\"sk-toggleable__label\" for=\"6a69026c-494b-4be4-a894-84dc8d336fa7\">DummyClassifier</label><div class=\"sk-toggleable__content\"><pre>DummyClassifier()</pre></div></div></div></div></div>"
      ],
      "text/plain": [
       "DummyClassifier()"
      ]
     },
     "execution_count": 1414,
     "metadata": {},
     "output_type": "execute_result"
    }
   ],
   "source": [
    "dummy = DummyClassifier(strategy = \"prior\")\n",
    "dummy.fit(X_train, y_train)\n"
   ]
  },
  {
   "cell_type": "code",
   "execution_count": 1415,
   "id": "aee8c608",
   "metadata": {},
   "outputs": [
    {
     "data": {
      "text/plain": [
       "(0.7928994082840237, 1.0)"
      ]
     },
     "execution_count": 1415,
     "metadata": {},
     "output_type": "execute_result"
    }
   ],
   "source": [
    "accuracy_score(y_test, dummy.predict(X_test)), recall_score(y_test, dummy.predict(X_test))"
   ]
  },
  {
   "cell_type": "code",
   "execution_count": 1662,
   "id": "e9f0becd",
   "metadata": {},
   "outputs": [
    {
     "data": {
      "text/plain": [
       "['sex',\n",
       " 'age',\n",
       " 'race',\n",
       " 'education_survey1',\n",
       " 'hdl',\n",
       " 'ldl',\n",
       " 'total_cholesterol',\n",
       " 'triglycerides',\n",
       " 'heightcm',\n",
       " 'weightkg',\n",
       " 'hipgirthm',\n",
       " 'neckgirthm',\n",
       " 'waistgirthm',\n",
       " 'waisthip',\n",
       " 'sitsysm',\n",
       " 'sitdiam',\n",
       " 'cups_coffee',\n",
       " 'caffeine',\n",
       " 'alcohol_wk',\n",
       " 'packs_week',\n",
       " 'pack_years',\n",
       " 'eval_general',\n",
       " 'eval_life',\n",
       " 'eval_health',\n",
       " 'naps',\n",
       " 'snore_freq',\n",
       " 'snore_vol',\n",
       " 'choke_freq',\n",
       " 'apnea_freq',\n",
       " 'awake_freq',\n",
       " 'nasal_cong_none',\n",
       " 'any_cvd',\n",
       " 'hypertension_ynd',\n",
       " 'stroke_ynd',\n",
       " 'asthma_ynd',\n",
       " 'thyroid_ynd',\n",
       " 'arthritis_ynd',\n",
       " 'emphysema_ynd',\n",
       " 'menopausal_status',\n",
       " 'num_pregnancies',\n",
       " 'asthma_med',\n",
       " 'cholesterol_med',\n",
       " 'depression_med',\n",
       " 'htn_med',\n",
       " 'decongestants_med',\n",
       " 'antihistamines_med',\n",
       " 'anxiety_med',\n",
       " 'diabetes_med',\n",
       " 'sedative_med',\n",
       " 'thyroid_med',\n",
       " 'x0_Hypothyroid',\n",
       " 'x0_C',\n",
       " 'x0_N',\n",
       " 'x0_P']"
      ]
     },
     "execution_count": 1662,
     "metadata": {},
     "output_type": "execute_result"
    }
   ],
   "source": [
    "X_train.columns.to_list()"
   ]
  },
  {
   "cell_type": "markdown",
   "id": "b55f9463",
   "metadata": {
    "heading_collapsed": true
   },
   "source": [
    "# Modelling"
   ]
  },
  {
   "cell_type": "code",
   "execution_count": 681,
   "id": "397d1574",
   "metadata": {
    "hidden": true
   },
   "outputs": [
    {
     "data": {
      "text/plain": [
       "<AxesSubplot:>"
      ]
     },
     "execution_count": 681,
     "metadata": {},
     "output_type": "execute_result"
    },
    {
     "data": {
      "image/png": "[encoded data removed]",
      "text/plain": [
       "<Figure size 432x288 with 1 Axes>"
      ]
     },
     "metadata": {
      "needs_background": "light"
     },
     "output_type": "display_data"
    }
   ],
   "source": [
    "y_train.hist()"
   ]
  },
  {
   "cell_type": "code",
   "execution_count": 682,
   "id": "bbb736c7",
   "metadata": {
    "hidden": true
   },
   "outputs": [],
   "source": [
    "Xtrain, Xval, ytrain, yval = train_test_split(X_train, y_train, test_size=0.33)"
   ]
  },
  {
   "cell_type": "code",
   "execution_count": 683,
   "id": "0805f38d",
   "metadata": {
    "hidden": true
   },
   "outputs": [],
   "source": [
    "from sklearn.preprocessing import KBinsDiscretizer\n",
    "from sklearn.linear_model import LogisticRegression\n",
    "from sklearn.model_selection import cross_val_score\n",
    "from sklearn.metrics import f1_score\n",
    "##, recall_score, precision_score, accuracy_score"
   ]
  },
  {
   "cell_type": "code",
   "execution_count": 698,
   "id": "640cff51",
   "metadata": {
    "hidden": true
   },
   "outputs": [],
   "source": []
  },
  {
   "cell_type": "code",
   "execution_count": 685,
   "id": "499ac8f4",
   "metadata": {
    "hidden": true
   },
   "outputs": [
    {
     "data": {
      "text/plain": [
       "['fit_time', 'score_time', 'test_neg_mean_absolute_error']"
      ]
     },
     "execution_count": 685,
     "metadata": {},
     "output_type": "execute_result"
    }
   ],
   "source": [
    "cv_results = cross_validate(model1, Xtrain, ytrain, cv=5, scoring=['neg_mean_absolute_error'])\n",
    "sorted(cv_results.keys())"
   ]
  },
  {
   "cell_type": "code",
   "execution_count": 686,
   "id": "ce8ac0f8",
   "metadata": {
    "hidden": true
   },
   "outputs": [
    {
     "data": {
      "text/plain": [
       "-0.7982318017472406"
      ]
     },
     "execution_count": 686,
     "metadata": {},
     "output_type": "execute_result"
    }
   ],
   "source": [
    "cv_results['test_neg_mean_absolute_error'].mean()"
   ]
  },
  {
   "cell_type": "code",
   "execution_count": null,
   "id": "30e1306d",
   "metadata": {
    "hidden": true
   },
   "outputs": [],
   "source": []
  },
  {
   "cell_type": "code",
   "execution_count": null,
   "id": "44e1fcd4",
   "metadata": {
    "hidden": true
   },
   "outputs": [],
   "source": []
  },
  {
   "cell_type": "code",
   "execution_count": null,
   "id": "053326e5",
   "metadata": {
    "hidden": true
   },
   "outputs": [],
   "source": []
  },
  {
   "cell_type": "code",
   "execution_count": null,
   "id": "970e09d9",
   "metadata": {
    "hidden": true
   },
   "outputs": [],
   "source": []
  },
  {
   "cell_type": "code",
   "execution_count": null,
   "id": "05b8a04b",
   "metadata": {
    "hidden": true
   },
   "outputs": [],
   "source": []
  },
  {
   "cell_type": "code",
   "execution_count": null,
   "id": "0d065969",
   "metadata": {
    "hidden": true
   },
   "outputs": [],
   "source": []
  },
  {
   "cell_type": "code",
   "execution_count": null,
   "id": "4a240086",
   "metadata": {
    "hidden": true
   },
   "outputs": [],
   "source": [
    "model = LogisticRegression(multi_class='ovr', max_iter = 1000)"
   ]
  },
  {
   "cell_type": "code",
   "execution_count": null,
   "id": "8f7856ca",
   "metadata": {
    "hidden": true
   },
   "outputs": [],
   "source": [
    "model.fit(Xtrain_tr, ytrainbin_tr)\n",
    "ypred = model.predict(Xtrain_te)"
   ]
  },
  {
   "cell_type": "code",
   "execution_count": null,
   "id": "1a891e02",
   "metadata": {
    "hidden": true
   },
   "outputs": [],
   "source": []
  },
  {
   "cell_type": "code",
   "execution_count": null,
   "id": "12ec5d01",
   "metadata": {
    "hidden": true
   },
   "outputs": [],
   "source": []
  },
  {
   "cell_type": "code",
   "execution_count": 117,
   "id": "f83bdeed",
   "metadata": {
    "hidden": true
   },
   "outputs": [],
   "source": []
  },
  {
   "cell_type": "code",
   "execution_count": 118,
   "id": "4d3a4146",
   "metadata": {
    "hidden": true
   },
   "outputs": [],
   "source": [
    "dummy = DummyRegressor(strategy='mean')"
   ]
  },
  {
   "cell_type": "code",
   "execution_count": 119,
   "id": "2fc2c7a0",
   "metadata": {
    "hidden": true
   },
   "outputs": [
    {
     "data": {
      "text/html": [
       "<style>#sk-ce1fe6ab-427b-470e-acd9-f4c454110f7c {color: black;background-color: white;}#sk-ce1fe6ab-427b-470e-acd9-f4c454110f7c pre{padding: 0;}#sk-ce1fe6ab-427b-470e-acd9-f4c454110f7c div.sk-toggleable {background-color: white;}#sk-ce1fe6ab-427b-470e-acd9-f4c454110f7c label.sk-toggleable__label {cursor: pointer;display: block;width: 100%;margin-bottom: 0;padding: 0.2em 0.3em;box-sizing: border-box;text-align: center;}#sk-ce1fe6ab-427b-470e-acd9-f4c454110f7c div.sk-toggleable__content {max-height: 0;max-width: 0;overflow: hidden;text-align: left;background-color: #f0f8ff;}#sk-ce1fe6ab-427b-470e-acd9-f4c454110f7c div.sk-toggleable__content pre {margin: 0.2em;color: black;border-radius: 0.25em;background-color: #f0f8ff;}#sk-ce1fe6ab-427b-470e-acd9-f4c454110f7c input.sk-toggleable__control:checked~div.sk-toggleable__content {max-height: 200px;max-width: 100%;overflow: auto;}#sk-ce1fe6ab-427b-470e-acd9-f4c454110f7c div.sk-estimator input.sk-toggleable__control:checked~label.sk-toggleable__label {background-color: #d4ebff;}#sk-ce1fe6ab-427b-470e-acd9-f4c454110f7c div.sk-label input.sk-toggleable__control:checked~label.sk-toggleable__label {background-color: #d4ebff;}#sk-ce1fe6ab-427b-470e-acd9-f4c454110f7c input.sk-hidden--visually {border: 0;clip: rect(1px 1px 1px 1px);clip: rect(1px, 1px, 1px, 1px);height: 1px;margin: -1px;overflow: hidden;padding: 0;position: absolute;width: 1px;}#sk-ce1fe6ab-427b-470e-acd9-f4c454110f7c div.sk-estimator {font-family: monospace;background-color: #f0f8ff;margin: 0.25em 0.25em;border: 1px dotted black;border-radius: 0.25em;box-sizing: border-box;}#sk-ce1fe6ab-427b-470e-acd9-f4c454110f7c div.sk-estimator:hover {background-color: #d4ebff;}#sk-ce1fe6ab-427b-470e-acd9-f4c454110f7c div.sk-parallel-item::after {content: \"\";width: 100%;border-bottom: 1px solid gray;flex-grow: 1;}#sk-ce1fe6ab-427b-470e-acd9-f4c454110f7c div.sk-label:hover label.sk-toggleable__label {background-color: #d4ebff;}#sk-ce1fe6ab-427b-470e-acd9-f4c454110f7c div.sk-serial::before {content: \"\";position: absolute;border-left: 1px solid gray;box-sizing: border-box;top: 2em;bottom: 0;left: 50%;}#sk-ce1fe6ab-427b-470e-acd9-f4c454110f7c div.sk-serial {display: flex;flex-direction: column;align-items: center;background-color: white;}#sk-ce1fe6ab-427b-470e-acd9-f4c454110f7c div.sk-item {z-index: 1;}#sk-ce1fe6ab-427b-470e-acd9-f4c454110f7c div.sk-parallel {display: flex;align-items: stretch;justify-content: center;background-color: white;}#sk-ce1fe6ab-427b-470e-acd9-f4c454110f7c div.sk-parallel-item {display: flex;flex-direction: column;position: relative;background-color: white;}#sk-ce1fe6ab-427b-470e-acd9-f4c454110f7c div.sk-parallel-item:first-child::after {align-self: flex-end;width: 50%;}#sk-ce1fe6ab-427b-470e-acd9-f4c454110f7c div.sk-parallel-item:last-child::after {align-self: flex-start;width: 50%;}#sk-ce1fe6ab-427b-470e-acd9-f4c454110f7c div.sk-parallel-item:only-child::after {width: 0;}#sk-ce1fe6ab-427b-470e-acd9-f4c454110f7c div.sk-dashed-wrapped {border: 1px dashed gray;margin: 0.2em;box-sizing: border-box;padding-bottom: 0.1em;background-color: white;position: relative;}#sk-ce1fe6ab-427b-470e-acd9-f4c454110f7c div.sk-label label {font-family: monospace;font-weight: bold;background-color: white;display: inline-block;line-height: 1.2em;}#sk-ce1fe6ab-427b-470e-acd9-f4c454110f7c div.sk-label-container {position: relative;z-index: 2;text-align: center;}#sk-ce1fe6ab-427b-470e-acd9-f4c454110f7c div.sk-container {display: inline-block;position: relative;}</style><div id=\"sk-ce1fe6ab-427b-470e-acd9-f4c454110f7c\" class\"sk-top-container\"><div class=\"sk-container\"><div class=\"sk-item\"><div class=\"sk-estimator sk-toggleable\"><input class=\"sk-toggleable__control sk-hidden--visually\" id=\"b940e329-0934-4332-aea6-735a3d0a8b7b\" type=\"checkbox\" checked><label class=\"sk-toggleable__label\" for=\"b940e329-0934-4332-aea6-735a3d0a8b7b\">DummyRegressor</label><div class=\"sk-toggleable__content\"><pre>DummyRegressor()</pre></div></div></div></div></div>"
      ],
      "text/plain": [
       "DummyRegressor()"
      ]
     },
     "execution_count": 119,
     "metadata": {},
     "output_type": "execute_result"
    }
   ],
   "source": [
    "dummy.fit(Xtrain, ytrain)"
   ]
  },
  {
   "cell_type": "code",
   "execution_count": 120,
   "id": "548d91f9",
   "metadata": {
    "hidden": true
   },
   "outputs": [
    {
     "data": {
      "text/plain": [
       "-0.0036763961072932005"
      ]
     },
     "execution_count": 120,
     "metadata": {},
     "output_type": "execute_result"
    }
   ],
   "source": [
    "dummy.score(Xval, yval)"
   ]
  },
  {
   "cell_type": "code",
   "execution_count": 121,
   "id": "0eb0d2dc",
   "metadata": {
    "hidden": true
   },
   "outputs": [
    {
     "data": {
      "text/plain": [
       "47.29975706088383"
      ]
     },
     "execution_count": 121,
     "metadata": {},
     "output_type": "execute_result"
    }
   ],
   "source": [
    "mean_absolute_error(yval, dummy.predict(Xval))"
   ]
  },
  {
   "cell_type": "code",
   "execution_count": 89,
   "id": "e4423356",
   "metadata": {
    "hidden": true
   },
   "outputs": [
    {
     "data": {
      "text/plain": [
       "(315, 111)"
      ]
     },
     "execution_count": 89,
     "metadata": {},
     "output_type": "execute_result"
    }
   ],
   "source": []
  },
  {
   "cell_type": "code",
   "execution_count": null,
   "id": "5b4abf8c",
   "metadata": {
    "hidden": true
   },
   "outputs": [],
   "source": []
  },
  {
   "cell_type": "markdown",
   "id": "06c3faad",
   "metadata": {
    "heading_collapsed": true
   },
   "source": [
    "# Random non-used code"
   ]
  },
  {
   "cell_type": "code",
   "execution_count": null,
   "id": "d105bcf3",
   "metadata": {
    "hidden": true
   },
   "outputs": [],
   "source": [
    "#WASO parameters\n",
    "\n",
    "\n",
    "data_df['se_targ'] = 0\n",
    "\n",
    "#35-49\n",
    "age1 = 35\n",
    "age2 = 49\n",
    "a1 = 83\n",
    "a2 = 87\n",
    "\n",
    "#50-64\n",
    "age3 = 50\n",
    "age4 = 64\n",
    "b1 = 81\n",
    "b2 = 85\n",
    "\n",
    "#65+\n",
    "age5 = 65\n",
    "c1 = 73\n",
    "c2 = 82\n",
    "\n",
    "\n",
    "data_df.se_targ[(data_df['age'] >= age1) & (data_df['age'] <= age2)\\\n",
    "        & (data_df['se'] < a1) | (data_df['se'] > a2)] = 1\n",
    "\n",
    "data_df.se_targ[(data_df['age'] >= age1) & (data_df['age'] <= age2)\\\n",
    "        & (data_df['se'] >= a1) | (data_df['se'] <= a2)] = 0\n",
    "\n",
    "data_df.se_targ[(data_df['age'] >= age3) & (data_df['age'] <= age4)\\\n",
    "        & (data_df['se'] < b1) | (data_df['se'] > b2)] = 1\n",
    "\n",
    "data_df.se_targ[(data_df['age'] >= age3) & (data_df['age'] <= age4)\\\n",
    "        & (data_df['se'] >= b1) | (data_df['se'] <= b2)] = 0\n",
    "\n",
    "data_df.se_targ[(data_df['age'] >= age5)\\\n",
    "        & (data_df['se'] < c1) | (data_df['se'] > c2)] = 1\n",
    "\n",
    "data_df.se_targ[(data_df['age'] >= age5)\\\n",
    "        & (data_df['se'] >= c1) | (data_df['se'] <= c2)] = 0"
   ]
  }
 ],
 "metadata": {
  "kernelspec": {
   "display_name": "Python 3 (ipykernel)",
   "language": "python",
   "name": "python3"
  },
  "language_info": {
   "codemirror_mode": {
    "name": "ipython",
    "version": 3
   },
   "file_extension": ".py",
   "mimetype": "text/x-python",
   "name": "python",
   "nbconvert_exporter": "python",
   "pygments_lexer": "ipython3",
   "version": "3.8.6"
  },
  "toc": {
   "base_numbering": 1,
   "nav_menu": {},
   "number_sections": true,
   "sideBar": true,
   "skip_h1_title": false,
   "title_cell": "Table of Contents",
   "title_sidebar": "Contents",
   "toc_cell": false,
   "toc_position": {},
   "toc_section_display": true,
   "toc_window_display": true
  }
 },
 "nbformat": 4,
 "nbformat_minor": 5
}
