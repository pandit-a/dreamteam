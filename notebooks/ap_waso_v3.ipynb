{
 "cells": [
  {
   "cell_type": "code",
   "execution_count": 1,
   "id": "5fe98889",
   "metadata": {},
   "outputs": [],
   "source": [
    "##Generic imports\n",
    "\n",
    "import pandas as pd\n",
    "import numpy as np\n",
    "import matplotlib.pyplot as plt\n",
    "%matplotlib inline\n",
    "import seaborn as sns"
   ]
  },
  {
   "cell_type": "code",
   "execution_count": 83,
   "id": "d9c799dc",
   "metadata": {},
   "outputs": [],
   "source": [
    "##Script specific imports for feature encoding\n",
    "\n",
    "from sklearn.preprocessing import OneHotEncoder, LabelBinarizer\n",
    "from sklearn.compose import ColumnTransformer\n",
    "from sklearn.pipeline import Pipeline\n",
    "from sklearn import set_config\n",
    "set_config(display='diagram')"
   ]
  },
  {
   "cell_type": "code",
   "execution_count": 4,
   "id": "8f818c2e",
   "metadata": {},
   "outputs": [],
   "source": [
    "from sklearn.compose import ColumnTransformer\n",
    "from sklearn.pipeline import Pipeline\n",
    "from sklearn.impute import SimpleImputer\n",
    "from sklearn.preprocessing import StandardScaler, RobustScaler\n",
    "from sklearn.model_selection import train_test_split, cross_validate\n",
    "from sklearn.linear_model import LinearRegression, Ridge, Lasso, LogisticRegression"
   ]
  },
  {
   "cell_type": "code",
   "execution_count": 5,
   "id": "f6df1a78",
   "metadata": {},
   "outputs": [],
   "source": [
    "from sklearn.ensemble import RandomForestClassifier\n",
    "from sklearn.datasets import make_classification"
   ]
  },
  {
   "cell_type": "code",
   "execution_count": 6,
   "id": "1c873f89",
   "metadata": {},
   "outputs": [],
   "source": [
    "import statsmodels.api as sm\n",
    "import joblib"
   ]
  },
  {
   "cell_type": "code",
   "execution_count": 118,
   "id": "ae940c2f",
   "metadata": {},
   "outputs": [
    {
     "name": "stdout",
     "output_type": "stream",
     "text": [
      "The autoreload extension is already loaded. To reload it, use:\n",
      "  %reload_ext autoreload\n"
     ]
    }
   ],
   "source": [
    "%load_ext autoreload\n",
    "%autoreload\n",
    "%reload_ext autoreload"
   ]
  },
  {
   "cell_type": "code",
   "execution_count": 119,
   "id": "9e0cf526",
   "metadata": {},
   "outputs": [],
   "source": [
    "from dreamteam.getdata import get_data, clean_data, preproc_gen, preproc_x, preproc_y"
   ]
  },
  {
   "cell_type": "code",
   "execution_count": 122,
   "id": "4628780e",
   "metadata": {},
   "outputs": [],
   "source": [
    "df, data_df = get_data()\n",
    "data_df = clean_data(df, data_df, 75, duplicates = True)\n",
    "data_df, targs = preproc_gen(data_df)\n",
    "X = preproc_x(data_df, targs, 0.975)\n",
    "y = preproc_y(data_df, 'se', 85, 95)"
   ]
  },
  {
   "cell_type": "code",
   "execution_count": 124,
   "id": "f421f852",
   "metadata": {},
   "outputs": [
    {
     "data": {
      "text/html": [
       "<div>\n",
       "<style scoped>\n",
       "    .dataframe tbody tr th:only-of-type {\n",
       "        vertical-align: middle;\n",
       "    }\n",
       "\n",
       "    .dataframe tbody tr th {\n",
       "        vertical-align: top;\n",
       "    }\n",
       "\n",
       "    .dataframe thead th {\n",
       "        text-align: right;\n",
       "    }\n",
       "</style>\n",
       "<table border=\"1\" class=\"dataframe\">\n",
       "  <thead>\n",
       "    <tr style=\"text-align: right;\">\n",
       "      <th></th>\n",
       "      <th>sex</th>\n",
       "      <th>age</th>\n",
       "      <th>race</th>\n",
       "      <th>education_survey1</th>\n",
       "      <th>hdl</th>\n",
       "      <th>ldl</th>\n",
       "      <th>total_cholesterol</th>\n",
       "      <th>triglycerides</th>\n",
       "      <th>heightcm</th>\n",
       "      <th>weightkg</th>\n",
       "      <th>...</th>\n",
       "      <th>decongestants_med</th>\n",
       "      <th>antihistamines_med</th>\n",
       "      <th>anxiety_med</th>\n",
       "      <th>diabetes_med</th>\n",
       "      <th>sedative_med</th>\n",
       "      <th>thyroid_med</th>\n",
       "      <th>x0_Hypothyroid</th>\n",
       "      <th>x0_C</th>\n",
       "      <th>x0_N</th>\n",
       "      <th>x0_P</th>\n",
       "    </tr>\n",
       "  </thead>\n",
       "  <tbody>\n",
       "    <tr>\n",
       "      <th>0</th>\n",
       "      <td>0.834812</td>\n",
       "      <td>0.673372</td>\n",
       "      <td>0.131343</td>\n",
       "      <td>-0.087032</td>\n",
       "      <td>-0.592163</td>\n",
       "      <td>0.188679</td>\n",
       "      <td>-0.355556</td>\n",
       "      <td>0.248082</td>\n",
       "      <td>-0.60</td>\n",
       "      <td>0.153846</td>\n",
       "      <td>...</td>\n",
       "      <td>0.0</td>\n",
       "      <td>0.0</td>\n",
       "      <td>0.0</td>\n",
       "      <td>0.0</td>\n",
       "      <td>0.0</td>\n",
       "      <td>0.0</td>\n",
       "      <td>0.0</td>\n",
       "      <td>0.0</td>\n",
       "      <td>0.0</td>\n",
       "      <td>0.0</td>\n",
       "    </tr>\n",
       "    <tr>\n",
       "      <th>1</th>\n",
       "      <td>0.715765</td>\n",
       "      <td>0.448882</td>\n",
       "      <td>0.716418</td>\n",
       "      <td>0.087032</td>\n",
       "      <td>-0.348331</td>\n",
       "      <td>0.094340</td>\n",
       "      <td>0.044444</td>\n",
       "      <td>0.606869</td>\n",
       "      <td>-0.35</td>\n",
       "      <td>0.384615</td>\n",
       "      <td>...</td>\n",
       "      <td>0.0</td>\n",
       "      <td>0.0</td>\n",
       "      <td>0.0</td>\n",
       "      <td>0.0</td>\n",
       "      <td>0.0</td>\n",
       "      <td>0.0</td>\n",
       "      <td>0.0</td>\n",
       "      <td>0.0</td>\n",
       "      <td>0.0</td>\n",
       "      <td>0.0</td>\n",
       "    </tr>\n",
       "    <tr>\n",
       "      <th>2</th>\n",
       "      <td>0.191955</td>\n",
       "      <td>0.550923</td>\n",
       "      <td>-0.107463</td>\n",
       "      <td>-0.522193</td>\n",
       "      <td>0.000000</td>\n",
       "      <td>-1.320755</td>\n",
       "      <td>-0.844444</td>\n",
       "      <td>-1.168798</td>\n",
       "      <td>0.30</td>\n",
       "      <td>0.538462</td>\n",
       "      <td>...</td>\n",
       "      <td>0.0</td>\n",
       "      <td>1.0</td>\n",
       "      <td>0.0</td>\n",
       "      <td>0.0</td>\n",
       "      <td>0.0</td>\n",
       "      <td>0.0</td>\n",
       "      <td>0.0</td>\n",
       "      <td>0.0</td>\n",
       "      <td>1.0</td>\n",
       "      <td>0.0</td>\n",
       "    </tr>\n",
       "    <tr>\n",
       "      <th>3</th>\n",
       "      <td>1.453860</td>\n",
       "      <td>2.040719</td>\n",
       "      <td>-0.525373</td>\n",
       "      <td>-0.696258</td>\n",
       "      <td>-0.058055</td>\n",
       "      <td>-0.981132</td>\n",
       "      <td>-1.088889</td>\n",
       "      <td>-1.495433</td>\n",
       "      <td>0.00</td>\n",
       "      <td>0.538462</td>\n",
       "      <td>...</td>\n",
       "      <td>0.0</td>\n",
       "      <td>1.0</td>\n",
       "      <td>0.0</td>\n",
       "      <td>0.0</td>\n",
       "      <td>0.0</td>\n",
       "      <td>0.0</td>\n",
       "      <td>0.0</td>\n",
       "      <td>0.0</td>\n",
       "      <td>1.0</td>\n",
       "      <td>0.0</td>\n",
       "    </tr>\n",
       "    <tr>\n",
       "      <th>4</th>\n",
       "      <td>0.763384</td>\n",
       "      <td>0.326433</td>\n",
       "      <td>-0.489552</td>\n",
       "      <td>0.957354</td>\n",
       "      <td>2.351234</td>\n",
       "      <td>0.188679</td>\n",
       "      <td>1.911111</td>\n",
       "      <td>0.383997</td>\n",
       "      <td>0.90</td>\n",
       "      <td>1.000000</td>\n",
       "      <td>...</td>\n",
       "      <td>0.0</td>\n",
       "      <td>0.0</td>\n",
       "      <td>0.0</td>\n",
       "      <td>0.0</td>\n",
       "      <td>0.0</td>\n",
       "      <td>1.0</td>\n",
       "      <td>1.0</td>\n",
       "      <td>1.0</td>\n",
       "      <td>0.0</td>\n",
       "      <td>0.0</td>\n",
       "    </tr>\n",
       "    <tr>\n",
       "      <th>...</th>\n",
       "      <td>...</td>\n",
       "      <td>...</td>\n",
       "      <td>...</td>\n",
       "      <td>...</td>\n",
       "      <td>...</td>\n",
       "      <td>...</td>\n",
       "      <td>...</td>\n",
       "      <td>...</td>\n",
       "      <td>...</td>\n",
       "      <td>...</td>\n",
       "      <td>...</td>\n",
       "      <td>...</td>\n",
       "      <td>...</td>\n",
       "      <td>...</td>\n",
       "      <td>...</td>\n",
       "      <td>...</td>\n",
       "      <td>...</td>\n",
       "      <td>...</td>\n",
       "      <td>...</td>\n",
       "      <td>...</td>\n",
       "      <td>...</td>\n",
       "    </tr>\n",
       "    <tr>\n",
       "      <th>2365</th>\n",
       "      <td>-0.022331</td>\n",
       "      <td>0.265209</td>\n",
       "      <td>0.859701</td>\n",
       "      <td>-0.922541</td>\n",
       "      <td>-0.696662</td>\n",
       "      <td>-0.283019</td>\n",
       "      <td>-0.800000</td>\n",
       "      <td>-0.392766</td>\n",
       "      <td>0.20</td>\n",
       "      <td>0.153846</td>\n",
       "      <td>...</td>\n",
       "      <td>0.0</td>\n",
       "      <td>0.0</td>\n",
       "      <td>0.0</td>\n",
       "      <td>0.0</td>\n",
       "      <td>0.0</td>\n",
       "      <td>0.0</td>\n",
       "      <td>0.0</td>\n",
       "      <td>0.0</td>\n",
       "      <td>1.0</td>\n",
       "      <td>0.0</td>\n",
       "    </tr>\n",
       "    <tr>\n",
       "      <th>2366</th>\n",
       "      <td>0.334812</td>\n",
       "      <td>0.918270</td>\n",
       "      <td>1.528358</td>\n",
       "      <td>-0.800696</td>\n",
       "      <td>-0.493469</td>\n",
       "      <td>-0.566038</td>\n",
       "      <td>-0.511111</td>\n",
       "      <td>-0.134819</td>\n",
       "      <td>0.70</td>\n",
       "      <td>0.384615</td>\n",
       "      <td>...</td>\n",
       "      <td>0.0</td>\n",
       "      <td>0.0</td>\n",
       "      <td>0.0</td>\n",
       "      <td>0.0</td>\n",
       "      <td>0.0</td>\n",
       "      <td>0.0</td>\n",
       "      <td>0.0</td>\n",
       "      <td>0.0</td>\n",
       "      <td>0.0</td>\n",
       "      <td>0.0</td>\n",
       "    </tr>\n",
       "    <tr>\n",
       "      <th>2367</th>\n",
       "      <td>0.382431</td>\n",
       "      <td>0.510107</td>\n",
       "      <td>-0.441791</td>\n",
       "      <td>-0.905135</td>\n",
       "      <td>-1.085631</td>\n",
       "      <td>-0.660377</td>\n",
       "      <td>-0.755556</td>\n",
       "      <td>0.172086</td>\n",
       "      <td>-0.35</td>\n",
       "      <td>-0.384615</td>\n",
       "      <td>...</td>\n",
       "      <td>0.0</td>\n",
       "      <td>0.0</td>\n",
       "      <td>0.0</td>\n",
       "      <td>0.0</td>\n",
       "      <td>0.0</td>\n",
       "      <td>0.0</td>\n",
       "      <td>0.0</td>\n",
       "      <td>0.0</td>\n",
       "      <td>0.0</td>\n",
       "      <td>0.0</td>\n",
       "    </tr>\n",
       "    <tr>\n",
       "      <th>2368</th>\n",
       "      <td>0.501479</td>\n",
       "      <td>0.265209</td>\n",
       "      <td>-0.931343</td>\n",
       "      <td>-0.887728</td>\n",
       "      <td>-0.783745</td>\n",
       "      <td>-0.849057</td>\n",
       "      <td>-0.088889</td>\n",
       "      <td>0.958349</td>\n",
       "      <td>-0.50</td>\n",
       "      <td>-0.230769</td>\n",
       "      <td>...</td>\n",
       "      <td>0.0</td>\n",
       "      <td>0.0</td>\n",
       "      <td>0.0</td>\n",
       "      <td>0.0</td>\n",
       "      <td>0.0</td>\n",
       "      <td>0.0</td>\n",
       "      <td>0.0</td>\n",
       "      <td>0.0</td>\n",
       "      <td>0.0</td>\n",
       "      <td>0.0</td>\n",
       "    </tr>\n",
       "    <tr>\n",
       "      <th>2369</th>\n",
       "      <td>-0.069950</td>\n",
       "      <td>-0.326628</td>\n",
       "      <td>-0.597015</td>\n",
       "      <td>-0.870322</td>\n",
       "      <td>-0.928882</td>\n",
       "      <td>-0.471698</td>\n",
       "      <td>-0.653333</td>\n",
       "      <td>0.145049</td>\n",
       "      <td>-0.15</td>\n",
       "      <td>-0.923077</td>\n",
       "      <td>...</td>\n",
       "      <td>0.0</td>\n",
       "      <td>0.0</td>\n",
       "      <td>0.0</td>\n",
       "      <td>0.0</td>\n",
       "      <td>0.0</td>\n",
       "      <td>0.0</td>\n",
       "      <td>0.0</td>\n",
       "      <td>0.0</td>\n",
       "      <td>0.0</td>\n",
       "      <td>0.0</td>\n",
       "    </tr>\n",
       "  </tbody>\n",
       "</table>\n",
       "<p>2370 rows × 54 columns</p>\n",
       "</div>"
      ],
      "text/plain": [
       "           sex       age      race  education_survey1       hdl       ldl  \\\n",
       "0     0.834812  0.673372  0.131343          -0.087032 -0.592163  0.188679   \n",
       "1     0.715765  0.448882  0.716418           0.087032 -0.348331  0.094340   \n",
       "2     0.191955  0.550923 -0.107463          -0.522193  0.000000 -1.320755   \n",
       "3     1.453860  2.040719 -0.525373          -0.696258 -0.058055 -0.981132   \n",
       "4     0.763384  0.326433 -0.489552           0.957354  2.351234  0.188679   \n",
       "...        ...       ...       ...                ...       ...       ...   \n",
       "2365 -0.022331  0.265209  0.859701          -0.922541 -0.696662 -0.283019   \n",
       "2366  0.334812  0.918270  1.528358          -0.800696 -0.493469 -0.566038   \n",
       "2367  0.382431  0.510107 -0.441791          -0.905135 -1.085631 -0.660377   \n",
       "2368  0.501479  0.265209 -0.931343          -0.887728 -0.783745 -0.849057   \n",
       "2369 -0.069950 -0.326628 -0.597015          -0.870322 -0.928882 -0.471698   \n",
       "\n",
       "      total_cholesterol  triglycerides  heightcm  weightkg  ...  \\\n",
       "0             -0.355556       0.248082     -0.60  0.153846  ...   \n",
       "1              0.044444       0.606869     -0.35  0.384615  ...   \n",
       "2             -0.844444      -1.168798      0.30  0.538462  ...   \n",
       "3             -1.088889      -1.495433      0.00  0.538462  ...   \n",
       "4              1.911111       0.383997      0.90  1.000000  ...   \n",
       "...                 ...            ...       ...       ...  ...   \n",
       "2365          -0.800000      -0.392766      0.20  0.153846  ...   \n",
       "2366          -0.511111      -0.134819      0.70  0.384615  ...   \n",
       "2367          -0.755556       0.172086     -0.35 -0.384615  ...   \n",
       "2368          -0.088889       0.958349     -0.50 -0.230769  ...   \n",
       "2369          -0.653333       0.145049     -0.15 -0.923077  ...   \n",
       "\n",
       "      decongestants_med  antihistamines_med  anxiety_med  diabetes_med  \\\n",
       "0                   0.0                 0.0          0.0           0.0   \n",
       "1                   0.0                 0.0          0.0           0.0   \n",
       "2                   0.0                 1.0          0.0           0.0   \n",
       "3                   0.0                 1.0          0.0           0.0   \n",
       "4                   0.0                 0.0          0.0           0.0   \n",
       "...                 ...                 ...          ...           ...   \n",
       "2365                0.0                 0.0          0.0           0.0   \n",
       "2366                0.0                 0.0          0.0           0.0   \n",
       "2367                0.0                 0.0          0.0           0.0   \n",
       "2368                0.0                 0.0          0.0           0.0   \n",
       "2369                0.0                 0.0          0.0           0.0   \n",
       "\n",
       "      sedative_med  thyroid_med  x0_Hypothyroid  x0_C  x0_N  x0_P  \n",
       "0              0.0          0.0             0.0   0.0   0.0   0.0  \n",
       "1              0.0          0.0             0.0   0.0   0.0   0.0  \n",
       "2              0.0          0.0             0.0   0.0   1.0   0.0  \n",
       "3              0.0          0.0             0.0   0.0   1.0   0.0  \n",
       "4              0.0          1.0             1.0   1.0   0.0   0.0  \n",
       "...            ...          ...             ...   ...   ...   ...  \n",
       "2365           0.0          0.0             0.0   0.0   1.0   0.0  \n",
       "2366           0.0          0.0             0.0   0.0   0.0   0.0  \n",
       "2367           0.0          0.0             0.0   0.0   0.0   0.0  \n",
       "2368           0.0          0.0             0.0   0.0   0.0   0.0  \n",
       "2369           0.0          0.0             0.0   0.0   0.0   0.0  \n",
       "\n",
       "[2370 rows x 54 columns]"
      ]
     },
     "execution_count": 124,
     "metadata": {},
     "output_type": "execute_result"
    }
   ],
   "source": [
    "X"
   ]
  },
  {
   "cell_type": "code",
   "execution_count": 75,
   "id": "68ae399f",
   "metadata": {},
   "outputs": [
    {
     "ename": "NameError",
     "evalue": "name 'Pipeline' is not defined",
     "output_type": "error",
     "traceback": [
      "\u001b[0;31m---------------------------------------------------------------------------\u001b[0m",
      "\u001b[0;31mNameError\u001b[0m                                 Traceback (most recent call last)",
      "\u001b[0;32m/var/folders/yx/t49t5b3n7ss0xd5ghm8hplpm0000gn/T/ipykernel_5240/3755942640.py\u001b[0m in \u001b[0;36m<module>\u001b[0;34m\u001b[0m\n\u001b[0;32m----> 1\u001b[0;31m \u001b[0mpreproc_x\u001b[0m\u001b[0;34m(\u001b[0m\u001b[0mdata_df\u001b[0m\u001b[0;34m,\u001b[0m \u001b[0mtargs\u001b[0m\u001b[0;34m,\u001b[0m \u001b[0;36m0.9\u001b[0m\u001b[0;34m)\u001b[0m\u001b[0;34m\u001b[0m\u001b[0;34m\u001b[0m\u001b[0m\n\u001b[0m",
      "\u001b[0;32m~/code/pandit-a/dreamteam/dreamteam/getdata.py\u001b[0m in \u001b[0;36mpreproc_x\u001b[0;34m(data_df, targs, balthresh)\u001b[0m\n\u001b[1;32m    138\u001b[0m     \u001b[0;34m\"categorical transformer\"\u001b[0m\u001b[0;34m\u001b[0m\u001b[0;34m\u001b[0m\u001b[0m\n\u001b[1;32m    139\u001b[0m \u001b[0;34m\u001b[0m\u001b[0m\n\u001b[0;32m--> 140\u001b[0;31m     categorical_transformer = Pipeline(\n\u001b[0m\u001b[1;32m    141\u001b[0m         steps=[('imputer', SimpleImputer(strategy='median'))])\n\u001b[1;32m    142\u001b[0m \u001b[0;34m\u001b[0m\u001b[0m\n",
      "\u001b[0;31mNameError\u001b[0m: name 'Pipeline' is not defined"
     ]
    }
   ],
   "source": [
    "\n",
    "preproc_x(data_df, targs, 0.9)"
   ]
  },
  {
   "cell_type": "code",
   "execution_count": 61,
   "id": "94dadc74",
   "metadata": {},
   "outputs": [],
   "source": [
    "data_df = preproc_xandy(data_df, 'waso')"
   ]
  },
  {
   "cell_type": "code",
   "execution_count": 62,
   "id": "813c7bac",
   "metadata": {},
   "outputs": [
    {
     "data": {
      "text/html": [
       "<div>\n",
       "<style scoped>\n",
       "    .dataframe tbody tr th:only-of-type {\n",
       "        vertical-align: middle;\n",
       "    }\n",
       "\n",
       "    .dataframe tbody tr th {\n",
       "        vertical-align: top;\n",
       "    }\n",
       "\n",
       "    .dataframe thead th {\n",
       "        text-align: right;\n",
       "    }\n",
       "</style>\n",
       "<table border=\"1\" class=\"dataframe\">\n",
       "  <thead>\n",
       "    <tr style=\"text-align: right;\">\n",
       "      <th></th>\n",
       "      <th>wsc_vst</th>\n",
       "      <th>sex</th>\n",
       "      <th>age</th>\n",
       "      <th>race</th>\n",
       "      <th>education_survey1</th>\n",
       "      <th>hdl</th>\n",
       "      <th>ldl</th>\n",
       "      <th>total_cholesterol</th>\n",
       "      <th>triglycerides</th>\n",
       "      <th>heightcm</th>\n",
       "      <th>...</th>\n",
       "      <th>waso</th>\n",
       "      <th>x0_Hyperthyroid</th>\n",
       "      <th>x0_Hypothyroid</th>\n",
       "      <th>x0_Infection</th>\n",
       "      <th>x0_Nodule</th>\n",
       "      <th>x0_Thyroid Cancer</th>\n",
       "      <th>x0_Unknown</th>\n",
       "      <th>x0_C</th>\n",
       "      <th>x0_N</th>\n",
       "      <th>x0_P</th>\n",
       "    </tr>\n",
       "    <tr>\n",
       "      <th>wsc_id</th>\n",
       "      <th></th>\n",
       "      <th></th>\n",
       "      <th></th>\n",
       "      <th></th>\n",
       "      <th></th>\n",
       "      <th></th>\n",
       "      <th></th>\n",
       "      <th></th>\n",
       "      <th></th>\n",
       "      <th></th>\n",
       "      <th></th>\n",
       "      <th></th>\n",
       "      <th></th>\n",
       "      <th></th>\n",
       "      <th></th>\n",
       "      <th></th>\n",
       "      <th></th>\n",
       "      <th></th>\n",
       "      <th></th>\n",
       "      <th></th>\n",
       "      <th></th>\n",
       "    </tr>\n",
       "  </thead>\n",
       "  <tbody>\n",
       "    <tr>\n",
       "      <th>10119</th>\n",
       "      <td>1</td>\n",
       "      <td>0</td>\n",
       "      <td>52</td>\n",
       "      <td>5</td>\n",
       "      <td>6.0</td>\n",
       "      <td>52.0</td>\n",
       "      <td>149.0</td>\n",
       "      <td>228.0</td>\n",
       "      <td>137.0</td>\n",
       "      <td>176</td>\n",
       "      <td>...</td>\n",
       "      <td>65.0</td>\n",
       "      <td>0.0</td>\n",
       "      <td>0.0</td>\n",
       "      <td>0.0</td>\n",
       "      <td>0.0</td>\n",
       "      <td>0.0</td>\n",
       "      <td>0.0</td>\n",
       "      <td>0.0</td>\n",
       "      <td>0.0</td>\n",
       "      <td>0.0</td>\n",
       "    </tr>\n",
       "    <tr>\n",
       "      <th>10119</th>\n",
       "      <td>2</td>\n",
       "      <td>0</td>\n",
       "      <td>58</td>\n",
       "      <td>5</td>\n",
       "      <td>6.0</td>\n",
       "      <td>36.0</td>\n",
       "      <td>144.0</td>\n",
       "      <td>217.0</td>\n",
       "      <td>186.0</td>\n",
       "      <td>178</td>\n",
       "      <td>...</td>\n",
       "      <td>27.0</td>\n",
       "      <td>0.0</td>\n",
       "      <td>0.0</td>\n",
       "      <td>0.0</td>\n",
       "      <td>0.0</td>\n",
       "      <td>0.0</td>\n",
       "      <td>0.0</td>\n",
       "      <td>0.0</td>\n",
       "      <td>0.0</td>\n",
       "      <td>0.0</td>\n",
       "    </tr>\n",
       "    <tr>\n",
       "      <th>10191</th>\n",
       "      <td>1</td>\n",
       "      <td>1</td>\n",
       "      <td>50</td>\n",
       "      <td>5</td>\n",
       "      <td>5.0</td>\n",
       "      <td>77.0</td>\n",
       "      <td>122.0</td>\n",
       "      <td>222.0</td>\n",
       "      <td>117.0</td>\n",
       "      <td>170</td>\n",
       "      <td>...</td>\n",
       "      <td>44.0</td>\n",
       "      <td>0.0</td>\n",
       "      <td>0.0</td>\n",
       "      <td>0.0</td>\n",
       "      <td>0.0</td>\n",
       "      <td>0.0</td>\n",
       "      <td>0.0</td>\n",
       "      <td>0.0</td>\n",
       "      <td>1.0</td>\n",
       "      <td>0.0</td>\n",
       "    </tr>\n",
       "    <tr>\n",
       "      <th>10191</th>\n",
       "      <td>2</td>\n",
       "      <td>1</td>\n",
       "      <td>53</td>\n",
       "      <td>5</td>\n",
       "      <td>5.0</td>\n",
       "      <td>104.0</td>\n",
       "      <td>175.0</td>\n",
       "      <td>295.0</td>\n",
       "      <td>82.0</td>\n",
       "      <td>168</td>\n",
       "      <td>...</td>\n",
       "      <td>62.5</td>\n",
       "      <td>0.0</td>\n",
       "      <td>0.0</td>\n",
       "      <td>0.0</td>\n",
       "      <td>0.0</td>\n",
       "      <td>0.0</td>\n",
       "      <td>0.0</td>\n",
       "      <td>0.0</td>\n",
       "      <td>1.0</td>\n",
       "      <td>0.0</td>\n",
       "    </tr>\n",
       "    <tr>\n",
       "      <th>10198</th>\n",
       "      <td>1</td>\n",
       "      <td>1</td>\n",
       "      <td>57</td>\n",
       "      <td>5</td>\n",
       "      <td>4.0</td>\n",
       "      <td>48.0</td>\n",
       "      <td>146.0</td>\n",
       "      <td>211.0</td>\n",
       "      <td>85.0</td>\n",
       "      <td>157</td>\n",
       "      <td>...</td>\n",
       "      <td>58.0</td>\n",
       "      <td>0.0</td>\n",
       "      <td>1.0</td>\n",
       "      <td>0.0</td>\n",
       "      <td>0.0</td>\n",
       "      <td>0.0</td>\n",
       "      <td>0.0</td>\n",
       "      <td>1.0</td>\n",
       "      <td>0.0</td>\n",
       "      <td>0.0</td>\n",
       "    </tr>\n",
       "    <tr>\n",
       "      <th>...</th>\n",
       "      <td>...</td>\n",
       "      <td>...</td>\n",
       "      <td>...</td>\n",
       "      <td>...</td>\n",
       "      <td>...</td>\n",
       "      <td>...</td>\n",
       "      <td>...</td>\n",
       "      <td>...</td>\n",
       "      <td>...</td>\n",
       "      <td>...</td>\n",
       "      <td>...</td>\n",
       "      <td>...</td>\n",
       "      <td>...</td>\n",
       "      <td>...</td>\n",
       "      <td>...</td>\n",
       "      <td>...</td>\n",
       "      <td>...</td>\n",
       "      <td>...</td>\n",
       "      <td>...</td>\n",
       "      <td>...</td>\n",
       "      <td>...</td>\n",
       "    </tr>\n",
       "    <tr>\n",
       "      <th>99782</th>\n",
       "      <td>2</td>\n",
       "      <td>1</td>\n",
       "      <td>57</td>\n",
       "      <td>5</td>\n",
       "      <td>3.0</td>\n",
       "      <td>55.0</td>\n",
       "      <td>113.0</td>\n",
       "      <td>208.0</td>\n",
       "      <td>198.0</td>\n",
       "      <td>160</td>\n",
       "      <td>...</td>\n",
       "      <td>48.5</td>\n",
       "      <td>0.0</td>\n",
       "      <td>0.0</td>\n",
       "      <td>0.0</td>\n",
       "      <td>0.0</td>\n",
       "      <td>0.0</td>\n",
       "      <td>0.0</td>\n",
       "      <td>0.0</td>\n",
       "      <td>1.0</td>\n",
       "      <td>0.0</td>\n",
       "    </tr>\n",
       "    <tr>\n",
       "      <th>99782</th>\n",
       "      <td>3</td>\n",
       "      <td>1</td>\n",
       "      <td>62</td>\n",
       "      <td>5</td>\n",
       "      <td>3.0</td>\n",
       "      <td>61.0</td>\n",
       "      <td>128.0</td>\n",
       "      <td>240.0</td>\n",
       "      <td>254.0</td>\n",
       "      <td>162</td>\n",
       "      <td>...</td>\n",
       "      <td>39.0</td>\n",
       "      <td>0.0</td>\n",
       "      <td>0.0</td>\n",
       "      <td>0.0</td>\n",
       "      <td>0.0</td>\n",
       "      <td>0.0</td>\n",
       "      <td>0.0</td>\n",
       "      <td>0.0</td>\n",
       "      <td>0.0</td>\n",
       "      <td>0.0</td>\n",
       "    </tr>\n",
       "    <tr>\n",
       "      <th>99883</th>\n",
       "      <td>1</td>\n",
       "      <td>0</td>\n",
       "      <td>51</td>\n",
       "      <td>5</td>\n",
       "      <td>3.0</td>\n",
       "      <td>72.0</td>\n",
       "      <td>130.0</td>\n",
       "      <td>220.0</td>\n",
       "      <td>89.0</td>\n",
       "      <td>165</td>\n",
       "      <td>...</td>\n",
       "      <td>45.0</td>\n",
       "      <td>0.0</td>\n",
       "      <td>0.0</td>\n",
       "      <td>0.0</td>\n",
       "      <td>0.0</td>\n",
       "      <td>0.0</td>\n",
       "      <td>0.0</td>\n",
       "      <td>0.0</td>\n",
       "      <td>0.0</td>\n",
       "      <td>0.0</td>\n",
       "    </tr>\n",
       "    <tr>\n",
       "      <th>99883</th>\n",
       "      <td>2</td>\n",
       "      <td>0</td>\n",
       "      <td>56</td>\n",
       "      <td>5</td>\n",
       "      <td>3.0</td>\n",
       "      <td>63.0</td>\n",
       "      <td>135.0</td>\n",
       "      <td>208.0</td>\n",
       "      <td>48.0</td>\n",
       "      <td>165</td>\n",
       "      <td>...</td>\n",
       "      <td>99.0</td>\n",
       "      <td>0.0</td>\n",
       "      <td>0.0</td>\n",
       "      <td>0.0</td>\n",
       "      <td>0.0</td>\n",
       "      <td>0.0</td>\n",
       "      <td>0.0</td>\n",
       "      <td>0.0</td>\n",
       "      <td>0.0</td>\n",
       "      <td>0.0</td>\n",
       "    </tr>\n",
       "    <tr>\n",
       "      <th>99883</th>\n",
       "      <td>3</td>\n",
       "      <td>0</td>\n",
       "      <td>60</td>\n",
       "      <td>5</td>\n",
       "      <td>3.0</td>\n",
       "      <td>53.0</td>\n",
       "      <td>111.0</td>\n",
       "      <td>179.0</td>\n",
       "      <td>76.0</td>\n",
       "      <td>164</td>\n",
       "      <td>...</td>\n",
       "      <td>52.5</td>\n",
       "      <td>0.0</td>\n",
       "      <td>0.0</td>\n",
       "      <td>0.0</td>\n",
       "      <td>0.0</td>\n",
       "      <td>0.0</td>\n",
       "      <td>0.0</td>\n",
       "      <td>0.0</td>\n",
       "      <td>0.0</td>\n",
       "      <td>0.0</td>\n",
       "    </tr>\n",
       "  </tbody>\n",
       "</table>\n",
       "<p>2370 rows × 86 columns</p>\n",
       "</div>"
      ],
      "text/plain": [
       "        wsc_vst  sex  age  race  education_survey1    hdl    ldl  \\\n",
       "wsc_id                                                             \n",
       "10119         1    0   52     5                6.0   52.0  149.0   \n",
       "10119         2    0   58     5                6.0   36.0  144.0   \n",
       "10191         1    1   50     5                5.0   77.0  122.0   \n",
       "10191         2    1   53     5                5.0  104.0  175.0   \n",
       "10198         1    1   57     5                4.0   48.0  146.0   \n",
       "...         ...  ...  ...   ...                ...    ...    ...   \n",
       "99782         2    1   57     5                3.0   55.0  113.0   \n",
       "99782         3    1   62     5                3.0   61.0  128.0   \n",
       "99883         1    0   51     5                3.0   72.0  130.0   \n",
       "99883         2    0   56     5                3.0   63.0  135.0   \n",
       "99883         3    0   60     5                3.0   53.0  111.0   \n",
       "\n",
       "        total_cholesterol  triglycerides  heightcm  ...  waso  \\\n",
       "wsc_id                                              ...         \n",
       "10119               228.0          137.0       176  ...  65.0   \n",
       "10119               217.0          186.0       178  ...  27.0   \n",
       "10191               222.0          117.0       170  ...  44.0   \n",
       "10191               295.0           82.0       168  ...  62.5   \n",
       "10198               211.0           85.0       157  ...  58.0   \n",
       "...                   ...            ...       ...  ...   ...   \n",
       "99782               208.0          198.0       160  ...  48.5   \n",
       "99782               240.0          254.0       162  ...  39.0   \n",
       "99883               220.0           89.0       165  ...  45.0   \n",
       "99883               208.0           48.0       165  ...  99.0   \n",
       "99883               179.0           76.0       164  ...  52.5   \n",
       "\n",
       "        x0_Hyperthyroid  x0_Hypothyroid  x0_Infection  x0_Nodule  \\\n",
       "wsc_id                                                             \n",
       "10119               0.0             0.0           0.0        0.0   \n",
       "10119               0.0             0.0           0.0        0.0   \n",
       "10191               0.0             0.0           0.0        0.0   \n",
       "10191               0.0             0.0           0.0        0.0   \n",
       "10198               0.0             1.0           0.0        0.0   \n",
       "...                 ...             ...           ...        ...   \n",
       "99782               0.0             0.0           0.0        0.0   \n",
       "99782               0.0             0.0           0.0        0.0   \n",
       "99883               0.0             0.0           0.0        0.0   \n",
       "99883               0.0             0.0           0.0        0.0   \n",
       "99883               0.0             0.0           0.0        0.0   \n",
       "\n",
       "        x0_Thyroid Cancer  x0_Unknown  x0_C  x0_N  x0_P  \n",
       "wsc_id                                                   \n",
       "10119                 0.0         0.0   0.0   0.0   0.0  \n",
       "10119                 0.0         0.0   0.0   0.0   0.0  \n",
       "10191                 0.0         0.0   0.0   1.0   0.0  \n",
       "10191                 0.0         0.0   0.0   1.0   0.0  \n",
       "10198                 0.0         0.0   1.0   0.0   0.0  \n",
       "...                   ...         ...   ...   ...   ...  \n",
       "99782                 0.0         0.0   0.0   1.0   0.0  \n",
       "99782                 0.0         0.0   0.0   0.0   0.0  \n",
       "99883                 0.0         0.0   0.0   0.0   0.0  \n",
       "99883                 0.0         0.0   0.0   0.0   0.0  \n",
       "99883                 0.0         0.0   0.0   0.0   0.0  \n",
       "\n",
       "[2370 rows x 86 columns]"
      ]
     },
     "execution_count": 62,
     "metadata": {},
     "output_type": "execute_result"
    }
   ],
   "source": [
    "data_df"
   ]
  },
  {
   "cell_type": "code",
   "execution_count": 33,
   "id": "fc1ade2c",
   "metadata": {},
   "outputs": [],
   "source": [
    "file = r'/Users/anand/Documents/Sleep/WSC - variable cross-check_sparse.xlsx'\n",
    "data = r'/Users/anand/Documents/Sleep/wsc-dataset-0.2.0.csv'"
   ]
  },
  {
   "cell_type": "code",
   "execution_count": 56,
   "id": "92ad0df0",
   "metadata": {},
   "outputs": [],
   "source": [
    "df = pd.read_excel(file)\n",
    "data_df = pd.read_csv(data)"
   ]
  },
  {
   "cell_type": "code",
   "execution_count": 57,
   "id": "bed831ed",
   "metadata": {},
   "outputs": [],
   "source": [
    "pd.set_option('display.max_columns', None)\n",
    "#data_df.head()"
   ]
  },
  {
   "cell_type": "code",
   "execution_count": 58,
   "id": "6a0dd846",
   "metadata": {},
   "outputs": [],
   "source": [
    "deleted = df[df['Proposed Removal'] == 'R']\n",
    "deleted_cols = deleted.iloc[:, 0]"
   ]
  },
  {
   "cell_type": "code",
   "execution_count": 59,
   "id": "618a8db4",
   "metadata": {},
   "outputs": [],
   "source": [
    "data_df = data_df.drop(deleted_cols.to_list(), axis=1)"
   ]
  },
  {
   "cell_type": "code",
   "execution_count": 60,
   "id": "7a426bed",
   "metadata": {},
   "outputs": [],
   "source": [
    "\n",
    "#data_df.drop_duplicates('wsc_id', inplace=True)\n",
    "data_df.set_index('wsc_id', inplace=True)\n",
    "##data_df.fillna(0, inplace=True)"
   ]
  },
  {
   "cell_type": "code",
   "execution_count": 61,
   "id": "3fa3ed9e",
   "metadata": {},
   "outputs": [],
   "source": [
    "data_df.nasal_cong_none.replace({np.nan:0,'Y':1}, inplace=True)\n",
    "data_df.num_pregnancies.replace({np.nan:0}, inplace=True)\n",
    "data_df.packs_week.replace({np.nan:0}, inplace=True)\n",
    "data_df.pack_years.replace({np.nan:0}, inplace=True)"
   ]
  },
  {
   "cell_type": "code",
   "execution_count": 62,
   "id": "6f24b99b",
   "metadata": {},
   "outputs": [],
   "source": [
    "objlist = []\n",
    "\n",
    "for n in data_df.dtypes[data_df.dtypes == 'object'].index:\n",
    "    objlist.append(n)"
   ]
  },
  {
   "cell_type": "code",
   "execution_count": 63,
   "id": "eab4a804",
   "metadata": {},
   "outputs": [],
   "source": [
    "## Binariser -  should work if nans are present or not...\n",
    "\n",
    "for i,v in enumerate(objlist):\n",
    "    \n",
    "    ##columns with 2 variables eg. [N,Y] or [M,F]\n",
    "    \n",
    "    if len(data_df[v].unique()) == 2:\n",
    "        ##print(data_df[v].unique(),v)\n",
    "        data_df[objlist[i]].replace\\\n",
    "        ({data_df[objlist[i]].unique()[0]:0,data_df[objlist[i]].unique()[1]:1}, inplace=True)\n",
    "        \n",
    "    #### ALL columns with 3 variables - which appear like [N,Y,nan]\n",
    "    if len(data_df[v].unique()) == 3:\n",
    "        ##print(data_df[v].unique(),v)\n",
    "        data_df[objlist[i]].replace\\\n",
    "        ({'N':0,'Y':1}, inplace=True)"
   ]
  },
  {
   "cell_type": "code",
   "execution_count": 64,
   "id": "126dad91",
   "metadata": {},
   "outputs": [],
   "source": [
    "#### ONE HOT ENCODER SCRIPT\n",
    "\n",
    "ohe = OneHotEncoder(handle_unknown='ignore',sparse=False)\n",
    "\n",
    "\n",
    "## Only variables which need OHE\n",
    "X1 = data_df[['thyroid_problem']]\n",
    "X2 = data_df[['hormone_therapy']]\n",
    "\n",
    "##fit transform, extract column names, make dataframe with column names, drop nan row\n",
    "\n",
    "X1t = ohe.fit_transform(X1)\n",
    "colnames = list(ohe.get_feature_names())\n",
    "X1df = pd.DataFrame(X1t, columns = colnames)\n",
    "X1df.drop(columns = 'x0_nan', inplace=True)\n",
    "X1df.index = data_df.index\n",
    "\n",
    "X2t = ohe.fit_transform(X2)\n",
    "colnames = list(ohe.get_feature_names())\n",
    "X2df = pd.DataFrame(X2t, columns = colnames)\n",
    "X2df.drop(columns = 'x0_nan', inplace=True)\n",
    "X2df.index = data_df.index\n",
    "\n",
    "frames = [data_df, X1df, X2df]\n",
    "data_df = pd.concat(frames, axis = 1)\n",
    "\n",
    "##drop original row names\n",
    "\n",
    "data_df.drop(columns = ['thyroid_problem','hormone_therapy'], inplace=True)"
   ]
  },
  {
   "cell_type": "markdown",
   "id": "442b722d",
   "metadata": {},
   "source": [
    "# Age restrictions"
   ]
  },
  {
   "cell_type": "code",
   "execution_count": 22,
   "id": "a86de0f4",
   "metadata": {},
   "outputs": [],
   "source": [
    "\n",
    "\n",
    "#data_df.drop(index = data_df[(data_df.age > 65)].index, inplace=True)"
   ]
  },
  {
   "cell_type": "code",
   "execution_count": 23,
   "id": "e2da8c97",
   "metadata": {},
   "outputs": [
    {
     "data": {
      "text/plain": [
       "669"
      ]
     },
     "execution_count": 23,
     "metadata": {},
     "output_type": "execute_result"
    }
   ],
   "source": [
    "len(data_df[(data_df.age > 65)])"
   ]
  },
  {
   "cell_type": "markdown",
   "id": "bfd9332a",
   "metadata": {},
   "source": [
    "# Process y"
   ]
  },
  {
   "cell_type": "code",
   "execution_count": 66,
   "id": "375f315c",
   "metadata": {},
   "outputs": [],
   "source": [
    "targs = ['sleep_latency','tst', 'tst_rem', 'tst_nrem', 'tso', 'totsleep', 'ess','p_eval_sleep', 'a_eval_slept', 'a_eval_hour',\n",
    "       'a_eval_sleep', 'ps_eds','se', 'waso','sleepiness', 'workday', 'weekend', 'ps_diff', 'ps_diff', 'ps_backsleep','ps_wakerepeat','ps_wakeup','ps_eds']"
   ]
  },
  {
   "cell_type": "code",
   "execution_count": 67,
   "id": "def46482",
   "metadata": {},
   "outputs": [],
   "source": [
    "imputenum = SimpleImputer(strategy = 'median')\n",
    "data_df[targs] = imputenum.fit_transform(data_df[targs])\n"
   ]
  },
  {
   "cell_type": "markdown",
   "id": "98039569",
   "metadata": {},
   "source": [
    "# process X"
   ]
  },
  {
   "cell_type": "code",
   "execution_count": 102,
   "id": "f0a1f644",
   "metadata": {},
   "outputs": [
    {
     "data": {
      "text/plain": [
       "(2570, 65)"
      ]
     },
     "execution_count": 102,
     "metadata": {},
     "output_type": "execute_result"
    }
   ],
   "source": [
    "X = data_df.drop(columns = targs)\n",
    "cols= X.columns\n",
    "X.shape"
   ]
  },
  {
   "cell_type": "code",
   "execution_count": 103,
   "id": "360e4e6c",
   "metadata": {},
   "outputs": [],
   "source": [
    "#### Scaling numerical features - categorical features and targets removed from this listt\n",
    "\n",
    "numeric_features = ['hdl', 'ldl','total_cholesterol', 'triglycerides', 'weightkg',\n",
    "       'hipgirthm', 'neckgirthm', 'waistgirthm', 'waisthip',\n",
    "       'sitsysm', 'sitdiam','packs_week', 'pack_years',\n",
    "       'naps', 'snore_freq',\n",
    "       'num_pregnancies','age', 'heightcm',\n",
    "       'caffeine', 'alcohol_wk','eval_general', 'eval_life','eval_health', \n",
    "       'snore_vol', 'choke_freq',\n",
    "       'apnea_freq', 'awake_freq']"
   ]
  },
  {
   "cell_type": "code",
   "execution_count": 104,
   "id": "018ccb9c",
   "metadata": {},
   "outputs": [],
   "source": [
    "categoric = data_df.drop(columns = targs)\n",
    "categoric.drop(columns = numeric_features, inplace=True)\n",
    "#categoric.drop(columns =['waso', 'wsc_vst'], inplace=True)"
   ]
  },
  {
   "cell_type": "code",
   "execution_count": 105,
   "id": "7c3cd1dc",
   "metadata": {},
   "outputs": [],
   "source": [
    "categorical_features = categoric.columns"
   ]
  },
  {
   "cell_type": "code",
   "execution_count": 106,
   "id": "d6e6664e",
   "metadata": {},
   "outputs": [],
   "source": [
    "categorical_transformer = Pipeline(steps=[\n",
    "    ('imputer', SimpleImputer(strategy='median'))])"
   ]
  },
  {
   "cell_type": "code",
   "execution_count": 107,
   "id": "0ea34259",
   "metadata": {},
   "outputs": [],
   "source": [
    "numeric_transformer = Pipeline(steps=[\n",
    "    ('imputer', SimpleImputer(strategy='mean')),\n",
    "    ('scaler', RobustScaler())])"
   ]
  },
  {
   "cell_type": "code",
   "execution_count": 108,
   "id": "85258b33",
   "metadata": {},
   "outputs": [],
   "source": [
    "preprocessor = ColumnTransformer(\n",
    "    transformers=[\n",
    "        ('num', numeric_transformer, numeric_features),\\\n",
    "        ('cat', categorical_transformer, categorical_features)])"
   ]
  },
  {
   "cell_type": "code",
   "execution_count": 109,
   "id": "9e1a41f7",
   "metadata": {},
   "outputs": [],
   "source": [
    "prepipe = Pipeline(steps=[('preprocessor', preprocessor)])"
   ]
  },
  {
   "cell_type": "code",
   "execution_count": 110,
   "id": "2b4e6c13",
   "metadata": {},
   "outputs": [],
   "source": [
    "pipe = Pipeline(steps=[('preprocessor', preprocessor),('regression', LinearRegression())])"
   ]
  },
  {
   "cell_type": "code",
   "execution_count": 111,
   "id": "c77f1fce",
   "metadata": {},
   "outputs": [],
   "source": [
    "X = prepipe.fit_transform(X)"
   ]
  },
  {
   "cell_type": "code",
   "execution_count": 113,
   "id": "cbc78e34",
   "metadata": {},
   "outputs": [],
   "source": [
    "X = pd.DataFrame(X, columns = cols)"
   ]
  },
  {
   "cell_type": "code",
   "execution_count": 114,
   "id": "1cfcee00",
   "metadata": {},
   "outputs": [],
   "source": [
    "X.drop(columns = ['wsc_vst'], inplace=True)"
   ]
  },
  {
   "cell_type": "code",
   "execution_count": 80,
   "id": "9a198238",
   "metadata": {},
   "outputs": [],
   "source": [
    "balance_cutoff = 0.975\n",
    "imbalanced_classes = []\n",
    "for col in X.columns:\n",
    "    _ = X.columns.get_loc(col)\n",
    "    if X.iloc[:, _].value_counts(normalize=True).head(1).values > balance_cutoff:\n",
    "        imbalanced_classes.append((col, X.iloc[:, _].value_counts(normalize=True).head(1).values.astype(float)))"
   ]
  },
  {
   "cell_type": "code",
   "execution_count": 81,
   "id": "3311bfd5",
   "metadata": {},
   "outputs": [],
   "source": [
    "imbalanced_list = []\n",
    "for classes in imbalanced_classes:\n",
    "    imbalanced_list.append(classes[0])"
   ]
  },
  {
   "cell_type": "code",
   "execution_count": 82,
   "id": "586bde6a",
   "metadata": {},
   "outputs": [
    {
     "data": {
      "text/plain": [
       "['stroke_ynd',\n",
       " 'emphysema_ynd',\n",
       " 'narcotics_med',\n",
       " 'androgen_med',\n",
       " 'stimulants_med',\n",
       " 'x0_Hyperthyroid',\n",
       " 'x0_Infection',\n",
       " 'x0_Nodule',\n",
       " 'x0_Thyroid Cancer',\n",
       " 'x0_Unknown']"
      ]
     },
     "execution_count": 82,
     "metadata": {},
     "output_type": "execute_result"
    }
   ],
   "source": [
    "imbalanced_list"
   ]
  },
  {
   "cell_type": "code",
   "execution_count": 83,
   "id": "6a6a4230",
   "metadata": {},
   "outputs": [],
   "source": [
    "X.drop(imbalanced_list, axis=1, inplace=True)"
   ]
  },
  {
   "cell_type": "code",
   "execution_count": 105,
   "id": "b6ef963e",
   "metadata": {},
   "outputs": [
    {
     "data": {
      "text/plain": [
       "(2370, 86)"
      ]
     },
     "execution_count": 105,
     "metadata": {},
     "output_type": "execute_result"
    }
   ],
   "source": [
    "data_df.shape"
   ]
  },
  {
   "cell_type": "code",
   "execution_count": 106,
   "id": "b79c593e",
   "metadata": {},
   "outputs": [],
   "source": [
    "waso = data_df.waso\n",
    "waso = waso.reset_index(drop=True)\n",
    "waso[(waso <= 48)] = 0\n",
    "waso[(waso > 48)] = 1\n"
   ]
  },
  {
   "cell_type": "code",
   "execution_count": 107,
   "id": "fea545ca",
   "metadata": {},
   "outputs": [],
   "source": [
    "waso = data_df.waso\n",
    "waso = waso.reset_index(drop=True)\n",
    "\n",
    "a = 41\n",
    "b = 73\n",
    "\n",
    "waso[(waso < a) | (waso > b)] = 1\n",
    "waso[(waso >= a) & (waso <= b)] = 0"
   ]
  },
  {
   "cell_type": "code",
   "execution_count": 108,
   "id": "93037835",
   "metadata": {},
   "outputs": [],
   "source": [
    "target = 'waso'"
   ]
  },
  {
   "cell_type": "code",
   "execution_count": null,
   "id": "8a55dea3",
   "metadata": {},
   "outputs": [],
   "source": [
    "if target == 'waso' or"
   ]
  },
  {
   "cell_type": "code",
   "execution_count": 2296,
   "id": "a81fd3de",
   "metadata": {},
   "outputs": [],
   "source": [
    "se = data_df.se\n",
    "se = se.reset_index(drop=True)\n",
    "\n",
    "a = 81\n",
    "b = 87\n",
    "\n",
    "se[(se < a) | (se > b)] = 1\n",
    "se[(se >= a) & (se <= b)] = 0"
   ]
  },
  {
   "cell_type": "code",
   "execution_count": 2304,
   "id": "4fe7de57",
   "metadata": {},
   "outputs": [],
   "source": [
    "tst = data_df.tst\n",
    "tst = tst.reset_index(drop=True)\n",
    "a = 358\n",
    "b = 402\n",
    "\n",
    "tst[(tst < a) | (tst > b)] = 1\n",
    "tst[(tst >= a) & (tst <= b)] = 0"
   ]
  },
  {
   "cell_type": "code",
   "execution_count": 1548,
   "id": "8109ba35",
   "metadata": {},
   "outputs": [],
   "source": [
    "tso = data_df.tso\n",
    "tso = tso.reset_index(drop=True)\n",
    "\n",
    "a = 13.7\n",
    "b = 17\n",
    "\n",
    "tso[(tso < a) | (tso > b)] = 1\n",
    "tso[(tso >= a) & (tso <= b)] = 0"
   ]
  },
  {
   "cell_type": "code",
   "execution_count": 86,
   "id": "c6d700ad",
   "metadata": {},
   "outputs": [
    {
     "data": {
      "text/plain": [
       "((2570,), <AxesSubplot:>)"
      ]
     },
     "execution_count": 86,
     "metadata": {},
     "output_type": "execute_result"
    },
    {
     "data": {
      "image/png": "[encoded data removed]",
      "text/plain": [
       "<Figure size 432x288 with 1 Axes>"
      ]
     },
     "metadata": {
      "needs_background": "light"
     },
     "output_type": "display_data"
    }
   ],
   "source": [
    "y = waso\n",
    "y = y.reset_index(drop=True)\n",
    "y.shape, y.hist()"
   ]
  },
  {
   "cell_type": "code",
   "execution_count": 118,
   "id": "509d087d",
   "metadata": {},
   "outputs": [],
   "source": [
    "X_train, X_test, y_train, y_test = train_test_split(X, y, test_size=0.15,\n",
    "                                                    random_state=42)"
   ]
  },
  {
   "cell_type": "code",
   "execution_count": 119,
   "id": "c08563ea",
   "metadata": {},
   "outputs": [],
   "source": [
    "y_train = y_train.astype('int')"
   ]
  },
  {
   "cell_type": "code",
   "execution_count": 120,
   "id": "783b2731",
   "metadata": {},
   "outputs": [
    {
     "data": {
      "text/plain": [
       "1    1477\n",
       "0     707\n",
       "Name: waso, dtype: int64"
      ]
     },
     "execution_count": 120,
     "metadata": {},
     "output_type": "execute_result"
    }
   ],
   "source": [
    "y_train.value_counts()"
   ]
  },
  {
   "cell_type": "code",
   "execution_count": 97,
   "id": "6c84ffe9",
   "metadata": {},
   "outputs": [],
   "source": [
    "#model1 = LogisticRegression(penalty = 'l1', solver = 'liblinear')\n",
    "model1 = LogisticRegression()"
   ]
  },
  {
   "cell_type": "code",
   "execution_count": 123,
   "id": "db62cf05",
   "metadata": {},
   "outputs": [],
   "source": [
    "model1 = RandomForestClassifier()"
   ]
  },
  {
   "cell_type": "code",
   "execution_count": 121,
   "id": "06592692",
   "metadata": {},
   "outputs": [
    {
     "data": {
      "text/plain": [
       "sex                  0\n",
       "age                  0\n",
       "race                 0\n",
       "education_survey1    0\n",
       "hdl                  0\n",
       "                    ..\n",
       "x0_Thyroid Cancer    0\n",
       "x0_Unknown           0\n",
       "x0_C                 0\n",
       "x0_N                 0\n",
       "x0_P                 0\n",
       "Length: 64, dtype: int64"
      ]
     },
     "execution_count": 121,
     "metadata": {},
     "output_type": "execute_result"
    }
   ],
   "source": [
    "X_train.isna().sum()"
   ]
  },
  {
   "cell_type": "code",
   "execution_count": 124,
   "id": "f46ef9d6",
   "metadata": {},
   "outputs": [
    {
     "data": {
      "text/plain": [
       "(0.6904719417210757, 0.907226294090701, 0.7131980478868192, 0.7984635839010675)"
      ]
     },
     "execution_count": 124,
     "metadata": {},
     "output_type": "execute_result"
    }
   ],
   "source": [
    "cv_results = cross_validate(model1, X_train, y_train, cv=5, scoring=['accuracy', 'recall', 'precision', 'f1'])\n",
    "sorted(cv_results.keys())\n",
    "cv_results['test_accuracy'].mean(), cv_results['test_recall'].mean(), cv_results['test_precision'].mean(), cv_results['test_f1'].mean()"
   ]
  },
  {
   "cell_type": "code",
   "execution_count": 127,
   "id": "41830a95",
   "metadata": {},
   "outputs": [
    {
     "data": {
      "text/plain": [
       "['practice_waso.sav']"
      ]
     },
     "execution_count": 127,
     "metadata": {},
     "output_type": "execute_result"
    }
   ],
   "source": [
    "filename = 'practice_waso.sav'\n",
    "joblib.dump(model1, filename)"
   ]
  },
  {
   "cell_type": "code",
   "execution_count": 2365,
   "id": "7909010f",
   "metadata": {},
   "outputs": [],
   "source": [
    "from sklearn.dummy import DummyClassifier\n",
    "from sklearn.metrics import mean_absolute_error, accuracy_score, recall_score"
   ]
  },
  {
   "cell_type": "code",
   "execution_count": 2366,
   "id": "6c67887a",
   "metadata": {},
   "outputs": [
    {
     "data": {
      "text/plain": [
       "(0.6491228070175439, 0.9666666666666667)"
      ]
     },
     "execution_count": 2366,
     "metadata": {},
     "output_type": "execute_result"
    }
   ],
   "source": [
    "model1.fit(X_train, y_train)\n",
    "accuracy_score(y_test, model1.predict(X_test)), recall_score(y_test, model1.predict(X_test))"
   ]
  },
  {
   "cell_type": "code",
   "execution_count": 1414,
   "id": "6e92fdd9",
   "metadata": {},
   "outputs": [
    {
     "data": {
      "text/html": [
       "<style>#sk-6022d5c4-be4f-470f-88a8-51d7e4d3bdaf {color: black;background-color: white;}#sk-6022d5c4-be4f-470f-88a8-51d7e4d3bdaf pre{padding: 0;}#sk-6022d5c4-be4f-470f-88a8-51d7e4d3bdaf div.sk-toggleable {background-color: white;}#sk-6022d5c4-be4f-470f-88a8-51d7e4d3bdaf label.sk-toggleable__label {cursor: pointer;display: block;width: 100%;margin-bottom: 0;padding: 0.2em 0.3em;box-sizing: border-box;text-align: center;}#sk-6022d5c4-be4f-470f-88a8-51d7e4d3bdaf div.sk-toggleable__content {max-height: 0;max-width: 0;overflow: hidden;text-align: left;background-color: #f0f8ff;}#sk-6022d5c4-be4f-470f-88a8-51d7e4d3bdaf div.sk-toggleable__content pre {margin: 0.2em;color: black;border-radius: 0.25em;background-color: #f0f8ff;}#sk-6022d5c4-be4f-470f-88a8-51d7e4d3bdaf input.sk-toggleable__control:checked~div.sk-toggleable__content {max-height: 200px;max-width: 100%;overflow: auto;}#sk-6022d5c4-be4f-470f-88a8-51d7e4d3bdaf div.sk-estimator input.sk-toggleable__control:checked~label.sk-toggleable__label {background-color: #d4ebff;}#sk-6022d5c4-be4f-470f-88a8-51d7e4d3bdaf div.sk-label input.sk-toggleable__control:checked~label.sk-toggleable__label {background-color: #d4ebff;}#sk-6022d5c4-be4f-470f-88a8-51d7e4d3bdaf input.sk-hidden--visually {border: 0;clip: rect(1px 1px 1px 1px);clip: rect(1px, 1px, 1px, 1px);height: 1px;margin: -1px;overflow: hidden;padding: 0;position: absolute;width: 1px;}#sk-6022d5c4-be4f-470f-88a8-51d7e4d3bdaf div.sk-estimator {font-family: monospace;background-color: #f0f8ff;margin: 0.25em 0.25em;border: 1px dotted black;border-radius: 0.25em;box-sizing: border-box;}#sk-6022d5c4-be4f-470f-88a8-51d7e4d3bdaf div.sk-estimator:hover {background-color: #d4ebff;}#sk-6022d5c4-be4f-470f-88a8-51d7e4d3bdaf div.sk-parallel-item::after {content: \"\";width: 100%;border-bottom: 1px solid gray;flex-grow: 1;}#sk-6022d5c4-be4f-470f-88a8-51d7e4d3bdaf div.sk-label:hover label.sk-toggleable__label {background-color: #d4ebff;}#sk-6022d5c4-be4f-470f-88a8-51d7e4d3bdaf div.sk-serial::before {content: \"\";position: absolute;border-left: 1px solid gray;box-sizing: border-box;top: 2em;bottom: 0;left: 50%;}#sk-6022d5c4-be4f-470f-88a8-51d7e4d3bdaf div.sk-serial {display: flex;flex-direction: column;align-items: center;background-color: white;}#sk-6022d5c4-be4f-470f-88a8-51d7e4d3bdaf div.sk-item {z-index: 1;}#sk-6022d5c4-be4f-470f-88a8-51d7e4d3bdaf div.sk-parallel {display: flex;align-items: stretch;justify-content: center;background-color: white;}#sk-6022d5c4-be4f-470f-88a8-51d7e4d3bdaf div.sk-parallel-item {display: flex;flex-direction: column;position: relative;background-color: white;}#sk-6022d5c4-be4f-470f-88a8-51d7e4d3bdaf div.sk-parallel-item:first-child::after {align-self: flex-end;width: 50%;}#sk-6022d5c4-be4f-470f-88a8-51d7e4d3bdaf div.sk-parallel-item:last-child::after {align-self: flex-start;width: 50%;}#sk-6022d5c4-be4f-470f-88a8-51d7e4d3bdaf div.sk-parallel-item:only-child::after {width: 0;}#sk-6022d5c4-be4f-470f-88a8-51d7e4d3bdaf div.sk-dashed-wrapped {border: 1px dashed gray;margin: 0.2em;box-sizing: border-box;padding-bottom: 0.1em;background-color: white;position: relative;}#sk-6022d5c4-be4f-470f-88a8-51d7e4d3bdaf div.sk-label label {font-family: monospace;font-weight: bold;background-color: white;display: inline-block;line-height: 1.2em;}#sk-6022d5c4-be4f-470f-88a8-51d7e4d3bdaf div.sk-label-container {position: relative;z-index: 2;text-align: center;}#sk-6022d5c4-be4f-470f-88a8-51d7e4d3bdaf div.sk-container {display: inline-block;position: relative;}</style><div id=\"sk-6022d5c4-be4f-470f-88a8-51d7e4d3bdaf\" class\"sk-top-container\"><div class=\"sk-container\"><div class=\"sk-item\"><div class=\"sk-estimator sk-toggleable\"><input class=\"sk-toggleable__control sk-hidden--visually\" id=\"6a69026c-494b-4be4-a894-84dc8d336fa7\" type=\"checkbox\" checked><label class=\"sk-toggleable__label\" for=\"6a69026c-494b-4be4-a894-84dc8d336fa7\">DummyClassifier</label><div class=\"sk-toggleable__content\"><pre>DummyClassifier()</pre></div></div></div></div></div>"
      ],
      "text/plain": [
       "DummyClassifier()"
      ]
     },
     "execution_count": 1414,
     "metadata": {},
     "output_type": "execute_result"
    }
   ],
   "source": [
    "dummy = DummyClassifier(strategy = \"prior\")\n",
    "dummy.fit(X_train, y_train)\n"
   ]
  },
  {
   "cell_type": "code",
   "execution_count": 1415,
   "id": "aee8c608",
   "metadata": {},
   "outputs": [
    {
     "data": {
      "text/plain": [
       "(0.7928994082840237, 1.0)"
      ]
     },
     "execution_count": 1415,
     "metadata": {},
     "output_type": "execute_result"
    }
   ],
   "source": [
    "accuracy_score(y_test, dummy.predict(X_test)), recall_score(y_test, dummy.predict(X_test))"
   ]
  },
  {
   "cell_type": "code",
   "execution_count": 1662,
   "id": "e9f0becd",
   "metadata": {},
   "outputs": [
    {
     "data": {
      "text/plain": [
       "['sex',\n",
       " 'age',\n",
       " 'race',\n",
       " 'education_survey1',\n",
       " 'hdl',\n",
       " 'ldl',\n",
       " 'total_cholesterol',\n",
       " 'triglycerides',\n",
       " 'heightcm',\n",
       " 'weightkg',\n",
       " 'hipgirthm',\n",
       " 'neckgirthm',\n",
       " 'waistgirthm',\n",
       " 'waisthip',\n",
       " 'sitsysm',\n",
       " 'sitdiam',\n",
       " 'cups_coffee',\n",
       " 'caffeine',\n",
       " 'alcohol_wk',\n",
       " 'packs_week',\n",
       " 'pack_years',\n",
       " 'eval_general',\n",
       " 'eval_life',\n",
       " 'eval_health',\n",
       " 'naps',\n",
       " 'snore_freq',\n",
       " 'snore_vol',\n",
       " 'choke_freq',\n",
       " 'apnea_freq',\n",
       " 'awake_freq',\n",
       " 'nasal_cong_none',\n",
       " 'any_cvd',\n",
       " 'hypertension_ynd',\n",
       " 'stroke_ynd',\n",
       " 'asthma_ynd',\n",
       " 'thyroid_ynd',\n",
       " 'arthritis_ynd',\n",
       " 'emphysema_ynd',\n",
       " 'menopausal_status',\n",
       " 'num_pregnancies',\n",
       " 'asthma_med',\n",
       " 'cholesterol_med',\n",
       " 'depression_med',\n",
       " 'htn_med',\n",
       " 'decongestants_med',\n",
       " 'antihistamines_med',\n",
       " 'anxiety_med',\n",
       " 'diabetes_med',\n",
       " 'sedative_med',\n",
       " 'thyroid_med',\n",
       " 'x0_Hypothyroid',\n",
       " 'x0_C',\n",
       " 'x0_N',\n",
       " 'x0_P']"
      ]
     },
     "execution_count": 1662,
     "metadata": {},
     "output_type": "execute_result"
    }
   ],
   "source": [
    "X_train.columns.to_list()"
   ]
  },
  {
   "cell_type": "markdown",
   "id": "b55f9463",
   "metadata": {
    "heading_collapsed": true
   },
   "source": [
    "# Modelling"
   ]
  },
  {
   "cell_type": "code",
   "execution_count": 681,
   "id": "397d1574",
   "metadata": {
    "hidden": true
   },
   "outputs": [
    {
     "data": {
      "text/plain": [
       "<AxesSubplot:>"
      ]
     },
     "execution_count": 681,
     "metadata": {},
     "output_type": "execute_result"
    },
    {
     "data": {
      "image/png": "[encoded data removed]",
      "text/plain": [
       "<Figure size 432x288 with 1 Axes>"
      ]
     },
     "metadata": {
      "needs_background": "light"
     },
     "output_type": "display_data"
    }
   ],
   "source": [
    "y_train.hist()"
   ]
  },
  {
   "cell_type": "code",
   "execution_count": 682,
   "id": "bbb736c7",
   "metadata": {
    "hidden": true
   },
   "outputs": [],
   "source": [
    "Xtrain, Xval, ytrain, yval = train_test_split(X_train, y_train, test_size=0.33)"
   ]
  },
  {
   "cell_type": "code",
   "execution_count": 683,
   "id": "0805f38d",
   "metadata": {
    "hidden": true
   },
   "outputs": [],
   "source": [
    "from sklearn.preprocessing import KBinsDiscretizer\n",
    "from sklearn.linear_model import LogisticRegression\n",
    "from sklearn.model_selection import cross_val_score\n",
    "from sklearn.metrics import f1_score\n",
    "##, recall_score, precision_score, accuracy_score"
   ]
  },
  {
   "cell_type": "code",
   "execution_count": 698,
   "id": "640cff51",
   "metadata": {
    "hidden": true
   },
   "outputs": [],
   "source": []
  },
  {
   "cell_type": "code",
   "execution_count": 685,
   "id": "499ac8f4",
   "metadata": {
    "hidden": true
   },
   "outputs": [
    {
     "data": {
      "text/plain": [
       "['fit_time', 'score_time', 'test_neg_mean_absolute_error']"
      ]
     },
     "execution_count": 685,
     "metadata": {},
     "output_type": "execute_result"
    }
   ],
   "source": [
    "cv_results = cross_validate(model1, Xtrain, ytrain, cv=5, scoring=['neg_mean_absolute_error'])\n",
    "sorted(cv_results.keys())"
   ]
  },
  {
   "cell_type": "code",
   "execution_count": 686,
   "id": "ce8ac0f8",
   "metadata": {
    "hidden": true
   },
   "outputs": [
    {
     "data": {
      "text/plain": [
       "-0.7982318017472406"
      ]
     },
     "execution_count": 686,
     "metadata": {},
     "output_type": "execute_result"
    }
   ],
   "source": [
    "cv_results['test_neg_mean_absolute_error'].mean()"
   ]
  },
  {
   "cell_type": "code",
   "execution_count": null,
   "id": "30e1306d",
   "metadata": {
    "hidden": true
   },
   "outputs": [],
   "source": []
  },
  {
   "cell_type": "code",
   "execution_count": null,
   "id": "44e1fcd4",
   "metadata": {
    "hidden": true
   },
   "outputs": [],
   "source": []
  },
  {
   "cell_type": "code",
   "execution_count": null,
   "id": "053326e5",
   "metadata": {
    "hidden": true
   },
   "outputs": [],
   "source": []
  },
  {
   "cell_type": "code",
   "execution_count": null,
   "id": "970e09d9",
   "metadata": {
    "hidden": true
   },
   "outputs": [],
   "source": []
  },
  {
   "cell_type": "code",
   "execution_count": null,
   "id": "05b8a04b",
   "metadata": {
    "hidden": true
   },
   "outputs": [],
   "source": []
  },
  {
   "cell_type": "code",
   "execution_count": null,
   "id": "0d065969",
   "metadata": {
    "hidden": true
   },
   "outputs": [],
   "source": []
  },
  {
   "cell_type": "code",
   "execution_count": null,
   "id": "4a240086",
   "metadata": {
    "hidden": true
   },
   "outputs": [],
   "source": [
    "model = LogisticRegression(multi_class='ovr', max_iter = 1000)"
   ]
  },
  {
   "cell_type": "code",
   "execution_count": null,
   "id": "8f7856ca",
   "metadata": {
    "hidden": true
   },
   "outputs": [],
   "source": [
    "model.fit(Xtrain_tr, ytrainbin_tr)\n",
    "ypred = model.predict(Xtrain_te)"
   ]
  },
  {
   "cell_type": "code",
   "execution_count": null,
   "id": "1a891e02",
   "metadata": {
    "hidden": true
   },
   "outputs": [],
   "source": []
  },
  {
   "cell_type": "code",
   "execution_count": null,
   "id": "12ec5d01",
   "metadata": {
    "hidden": true
   },
   "outputs": [],
   "source": []
  },
  {
   "cell_type": "code",
   "execution_count": 117,
   "id": "f83bdeed",
   "metadata": {
    "hidden": true
   },
   "outputs": [],
   "source": []
  },
  {
   "cell_type": "code",
   "execution_count": 118,
   "id": "4d3a4146",
   "metadata": {
    "hidden": true
   },
   "outputs": [],
   "source": [
    "dummy = DummyRegressor(strategy='mean')"
   ]
  },
  {
   "cell_type": "code",
   "execution_count": 119,
   "id": "2fc2c7a0",
   "metadata": {
    "hidden": true
   },
   "outputs": [
    {
     "data": {
      "text/html": [
       "<style>#sk-ce1fe6ab-427b-470e-acd9-f4c454110f7c {color: black;background-color: white;}#sk-ce1fe6ab-427b-470e-acd9-f4c454110f7c pre{padding: 0;}#sk-ce1fe6ab-427b-470e-acd9-f4c454110f7c div.sk-toggleable {background-color: white;}#sk-ce1fe6ab-427b-470e-acd9-f4c454110f7c label.sk-toggleable__label {cursor: pointer;display: block;width: 100%;margin-bottom: 0;padding: 0.2em 0.3em;box-sizing: border-box;text-align: center;}#sk-ce1fe6ab-427b-470e-acd9-f4c454110f7c div.sk-toggleable__content {max-height: 0;max-width: 0;overflow: hidden;text-align: left;background-color: #f0f8ff;}#sk-ce1fe6ab-427b-470e-acd9-f4c454110f7c div.sk-toggleable__content pre {margin: 0.2em;color: black;border-radius: 0.25em;background-color: #f0f8ff;}#sk-ce1fe6ab-427b-470e-acd9-f4c454110f7c input.sk-toggleable__control:checked~div.sk-toggleable__content {max-height: 200px;max-width: 100%;overflow: auto;}#sk-ce1fe6ab-427b-470e-acd9-f4c454110f7c div.sk-estimator input.sk-toggleable__control:checked~label.sk-toggleable__label {background-color: #d4ebff;}#sk-ce1fe6ab-427b-470e-acd9-f4c454110f7c div.sk-label input.sk-toggleable__control:checked~label.sk-toggleable__label {background-color: #d4ebff;}#sk-ce1fe6ab-427b-470e-acd9-f4c454110f7c input.sk-hidden--visually {border: 0;clip: rect(1px 1px 1px 1px);clip: rect(1px, 1px, 1px, 1px);height: 1px;margin: -1px;overflow: hidden;padding: 0;position: absolute;width: 1px;}#sk-ce1fe6ab-427b-470e-acd9-f4c454110f7c div.sk-estimator {font-family: monospace;background-color: #f0f8ff;margin: 0.25em 0.25em;border: 1px dotted black;border-radius: 0.25em;box-sizing: border-box;}#sk-ce1fe6ab-427b-470e-acd9-f4c454110f7c div.sk-estimator:hover {background-color: #d4ebff;}#sk-ce1fe6ab-427b-470e-acd9-f4c454110f7c div.sk-parallel-item::after {content: \"\";width: 100%;border-bottom: 1px solid gray;flex-grow: 1;}#sk-ce1fe6ab-427b-470e-acd9-f4c454110f7c div.sk-label:hover label.sk-toggleable__label {background-color: #d4ebff;}#sk-ce1fe6ab-427b-470e-acd9-f4c454110f7c div.sk-serial::before {content: \"\";position: absolute;border-left: 1px solid gray;box-sizing: border-box;top: 2em;bottom: 0;left: 50%;}#sk-ce1fe6ab-427b-470e-acd9-f4c454110f7c div.sk-serial {display: flex;flex-direction: column;align-items: center;background-color: white;}#sk-ce1fe6ab-427b-470e-acd9-f4c454110f7c div.sk-item {z-index: 1;}#sk-ce1fe6ab-427b-470e-acd9-f4c454110f7c div.sk-parallel {display: flex;align-items: stretch;justify-content: center;background-color: white;}#sk-ce1fe6ab-427b-470e-acd9-f4c454110f7c div.sk-parallel-item {display: flex;flex-direction: column;position: relative;background-color: white;}#sk-ce1fe6ab-427b-470e-acd9-f4c454110f7c div.sk-parallel-item:first-child::after {align-self: flex-end;width: 50%;}#sk-ce1fe6ab-427b-470e-acd9-f4c454110f7c div.sk-parallel-item:last-child::after {align-self: flex-start;width: 50%;}#sk-ce1fe6ab-427b-470e-acd9-f4c454110f7c div.sk-parallel-item:only-child::after {width: 0;}#sk-ce1fe6ab-427b-470e-acd9-f4c454110f7c div.sk-dashed-wrapped {border: 1px dashed gray;margin: 0.2em;box-sizing: border-box;padding-bottom: 0.1em;background-color: white;position: relative;}#sk-ce1fe6ab-427b-470e-acd9-f4c454110f7c div.sk-label label {font-family: monospace;font-weight: bold;background-color: white;display: inline-block;line-height: 1.2em;}#sk-ce1fe6ab-427b-470e-acd9-f4c454110f7c div.sk-label-container {position: relative;z-index: 2;text-align: center;}#sk-ce1fe6ab-427b-470e-acd9-f4c454110f7c div.sk-container {display: inline-block;position: relative;}</style><div id=\"sk-ce1fe6ab-427b-470e-acd9-f4c454110f7c\" class\"sk-top-container\"><div class=\"sk-container\"><div class=\"sk-item\"><div class=\"sk-estimator sk-toggleable\"><input class=\"sk-toggleable__control sk-hidden--visually\" id=\"b940e329-0934-4332-aea6-735a3d0a8b7b\" type=\"checkbox\" checked><label class=\"sk-toggleable__label\" for=\"b940e329-0934-4332-aea6-735a3d0a8b7b\">DummyRegressor</label><div class=\"sk-toggleable__content\"><pre>DummyRegressor()</pre></div></div></div></div></div>"
      ],
      "text/plain": [
       "DummyRegressor()"
      ]
     },
     "execution_count": 119,
     "metadata": {},
     "output_type": "execute_result"
    }
   ],
   "source": [
    "dummy.fit(Xtrain, ytrain)"
   ]
  },
  {
   "cell_type": "code",
   "execution_count": 120,
   "id": "548d91f9",
   "metadata": {
    "hidden": true
   },
   "outputs": [
    {
     "data": {
      "text/plain": [
       "-0.0036763961072932005"
      ]
     },
     "execution_count": 120,
     "metadata": {},
     "output_type": "execute_result"
    }
   ],
   "source": [
    "dummy.score(Xval, yval)"
   ]
  },
  {
   "cell_type": "code",
   "execution_count": 121,
   "id": "0eb0d2dc",
   "metadata": {
    "hidden": true
   },
   "outputs": [
    {
     "data": {
      "text/plain": [
       "47.29975706088383"
      ]
     },
     "execution_count": 121,
     "metadata": {},
     "output_type": "execute_result"
    }
   ],
   "source": [
    "mean_absolute_error(yval, dummy.predict(Xval))"
   ]
  },
  {
   "cell_type": "code",
   "execution_count": 89,
   "id": "e4423356",
   "metadata": {
    "hidden": true
   },
   "outputs": [
    {
     "data": {
      "text/plain": [
       "(315, 111)"
      ]
     },
     "execution_count": 89,
     "metadata": {},
     "output_type": "execute_result"
    }
   ],
   "source": []
  },
  {
   "cell_type": "code",
   "execution_count": null,
   "id": "5b4abf8c",
   "metadata": {
    "hidden": true
   },
   "outputs": [],
   "source": []
  },
  {
   "cell_type": "markdown",
   "id": "06c3faad",
   "metadata": {
    "heading_collapsed": true
   },
   "source": [
    "# Random non-used code"
   ]
  },
  {
   "cell_type": "code",
   "execution_count": null,
   "id": "d105bcf3",
   "metadata": {
    "hidden": true
   },
   "outputs": [],
   "source": [
    "#WASO parameters\n",
    "\n",
    "\n",
    "data_df['se_targ'] = 0\n",
    "\n",
    "#35-49\n",
    "age1 = 35\n",
    "age2 = 49\n",
    "a1 = 83\n",
    "a2 = 87\n",
    "\n",
    "#50-64\n",
    "age3 = 50\n",
    "age4 = 64\n",
    "b1 = 81\n",
    "b2 = 85\n",
    "\n",
    "#65+\n",
    "age5 = 65\n",
    "c1 = 73\n",
    "c2 = 82\n",
    "\n",
    "\n",
    "data_df.se_targ[(data_df['age'] >= age1) & (data_df['age'] <= age2)\\\n",
    "        & (data_df['se'] < a1) | (data_df['se'] > a2)] = 1\n",
    "\n",
    "data_df.se_targ[(data_df['age'] >= age1) & (data_df['age'] <= age2)\\\n",
    "        & (data_df['se'] >= a1) | (data_df['se'] <= a2)] = 0\n",
    "\n",
    "data_df.se_targ[(data_df['age'] >= age3) & (data_df['age'] <= age4)\\\n",
    "        & (data_df['se'] < b1) | (data_df['se'] > b2)] = 1\n",
    "\n",
    "data_df.se_targ[(data_df['age'] >= age3) & (data_df['age'] <= age4)\\\n",
    "        & (data_df['se'] >= b1) | (data_df['se'] <= b2)] = 0\n",
    "\n",
    "data_df.se_targ[(data_df['age'] >= age5)\\\n",
    "        & (data_df['se'] < c1) | (data_df['se'] > c2)] = 1\n",
    "\n",
    "data_df.se_targ[(data_df['age'] >= age5)\\\n",
    "        & (data_df['se'] >= c1) | (data_df['se'] <= c2)] = 0"
   ]
  }
 ],
 "metadata": {
  "kernelspec": {
   "display_name": "Python 3 (ipykernel)",
   "language": "python",
   "name": "python3"
  },
  "language_info": {
   "codemirror_mode": {
    "name": "ipython",
    "version": 3
   },
   "file_extension": ".py",
   "mimetype": "text/x-python",
   "name": "python",
   "nbconvert_exporter": "python",
   "pygments_lexer": "ipython3",
   "version": "3.8.6"
  },
  "toc": {
   "base_numbering": 1,
   "nav_menu": {},
   "number_sections": true,
   "sideBar": true,
   "skip_h1_title": false,
   "title_cell": "Table of Contents",
   "title_sidebar": "Contents",
   "toc_cell": false,
   "toc_position": {},
   "toc_section_display": true,
   "toc_window_display": false
  }
 },
 "nbformat": 4,
 "nbformat_minor": 5
}
